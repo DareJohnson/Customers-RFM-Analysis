{
 "cells": [
  {
   "cell_type": "markdown",
   "metadata": {},
   "source": [
    "<h3> Customer Segmentation: A Brief Overview </h3>\n",
    "\n",
    "Customer segmentation is an important technique in marketing and data analysis that involves dividing a customer base into distinct groups \n",
    "based on shared characteristics or behaviors. By identifying meaningful customer segments, businesses can tailor their marketing strategies, \n",
    "improve customer experiences, and optimize resource allocation.\n",
    "\n",
    "Common Customer Segmentation Techniques include:\n",
    "<li> Machine learning clustering algorithms like k-means, hierarchical clustering, and DBSCAN </li>\n",
    "<li> Value-Based Segmentation (segments customers based on their lifetime value, profitability, or potential revenue generation) </li>\n",
    "<li> RFM (segmenting customers based on three key dimensions Recency, Frequency and Monetary values), </li>\n",
    "etc.\n",
    "\n",
    "In this analysis, RFM approach is used. \n",
    "some of its advantages include:\n",
    "1. Easy Interpretation: RFM scores are intuitive, making it easy for non-technical stakeholders to understand and act upon the findings.\n",
    "2. Identifying High-Value Customers: RFM effectively identifies high-value customers, enabling businesses to prioritize their engagement and retention efforts.\n",
    "3. Personalization: RFM segmentation enables personalized marketing, leading to higher customer satisfaction and improved brand loyalty.\n",
    "4. Segmentation Flexibility: RFM can be adapted to various industries and business models, making it widely applicable.\n",
    "5. Continuous Refinement: RFM analysis can be regularly updated and refined based on the latest customer data and business requirements.\n"
   ]
  },
  {
   "cell_type": "code",
   "execution_count": 2,
   "metadata": {
    "cell_id": "500bcb00b1fb44ce8a2ae3b64ce0fafb",
    "deepnote_cell_type": "code",
    "deepnote_to_be_reexecuted": false,
    "execution_millis": 8402,
    "execution_start": 1687589045958,
    "source_hash": "fd9348aa"
   },
   "outputs": [],
   "source": [
    "# import the necessary libraries\n",
    "import pandas as pd\n",
    "import numpy as np\n",
    "import matplotlib.pyplot as plt\n",
    "import seaborn as sns\n",
    "import datetime\n",
    "import re\n",
    "import warnings\n",
    "warnings.filterwarnings('ignore')\n",
    "sns.set()"
   ]
  },
  {
   "cell_type": "code",
   "execution_count": 3,
   "metadata": {
    "cell_id": "e8d5900e660c4a08a2fb19ef793d615c",
    "deepnote_cell_type": "code",
    "deepnote_to_be_reexecuted": false,
    "execution_millis": 93447,
    "execution_start": 1687589054407,
    "source_hash": "16237aaf"
   },
   "outputs": [],
   "source": [
    "# data source\n",
    "url = 'https://archive.ics.uci.edu/ml/machine-learning-databases/00352/Online%20Retail.xlsx'\n",
    "\n",
    "# save the data in the variable df\n",
    "df = pd.read_excel(url)"
   ]
  },
  {
   "cell_type": "code",
   "execution_count": 4,
   "metadata": {
    "cell_id": "1fd62971bcca4c51962badf5657cedfd",
    "deepnote_cell_type": "code",
    "deepnote_to_be_reexecuted": false,
    "execution_millis": 173,
    "execution_start": 1687589147898,
    "source_hash": "d0c86215"
   },
   "outputs": [
    {
     "data": {
      "application/vnd.deepnote.dataframe.v3+json": {
       "column_count": 8,
       "columns": [
        {
         "dtype": "object",
         "name": "InvoiceNo",
         "stats": {
          "categories": [
           {
            "count": 5,
            "name": "536365"
           }
          ],
          "nan_count": 0,
          "unique_count": 1
         }
        },
        {
         "dtype": "object",
         "name": "StockCode",
         "stats": {
          "categories": [
           {
            "count": 1,
            "name": "85123A"
           },
           {
            "count": 1,
            "name": "71053"
           },
           {
            "count": 3,
            "name": "3 others"
           }
          ],
          "nan_count": 0,
          "unique_count": 5
         }
        },
        {
         "dtype": "object",
         "name": "Description",
         "stats": {
          "categories": [
           {
            "count": 1,
            "name": "WHITE HANGING HEART T-LIGHT HOLDER"
           },
           {
            "count": 1,
            "name": "WHITE METAL LANTERN"
           },
           {
            "count": 3,
            "name": "3 others"
           }
          ],
          "nan_count": 0,
          "unique_count": 5
         }
        },
        {
         "dtype": "int64",
         "name": "Quantity",
         "stats": {
          "histogram": [
           {
            "bin_end": 6.2,
            "bin_start": 6,
            "count": 4
           },
           {
            "bin_end": 6.4,
            "bin_start": 6.2,
            "count": 0
           },
           {
            "bin_end": 6.6,
            "bin_start": 6.4,
            "count": 0
           },
           {
            "bin_end": 6.8,
            "bin_start": 6.6,
            "count": 0
           },
           {
            "bin_end": 7,
            "bin_start": 6.8,
            "count": 0
           },
           {
            "bin_end": 7.2,
            "bin_start": 7,
            "count": 0
           },
           {
            "bin_end": 7.4,
            "bin_start": 7.2,
            "count": 0
           },
           {
            "bin_end": 7.6,
            "bin_start": 7.4,
            "count": 0
           },
           {
            "bin_end": 7.8,
            "bin_start": 7.6,
            "count": 0
           },
           {
            "bin_end": 8,
            "bin_start": 7.8,
            "count": 1
           }
          ],
          "max": "8",
          "min": "6",
          "nan_count": 0,
          "unique_count": 2
         }
        },
        {
         "dtype": "datetime64[ns]",
         "name": "InvoiceDate",
         "stats": {
          "histogram": null,
          "max": "2010-12-01 08:26:00",
          "min": "2010-12-01 08:26:00",
          "nan_count": 0,
          "unique_count": 1
         }
        },
        {
         "dtype": "float64",
         "name": "UnitPrice",
         "stats": {
          "histogram": [
           {
            "bin_end": 2.634,
            "bin_start": 2.55,
            "count": 1
           },
           {
            "bin_end": 2.718,
            "bin_start": 2.634,
            "count": 0
           },
           {
            "bin_end": 2.802,
            "bin_start": 2.718,
            "count": 1
           },
           {
            "bin_end": 2.886,
            "bin_start": 2.802,
            "count": 0
           },
           {
            "bin_end": 2.9699999999999998,
            "bin_start": 2.886,
            "count": 0
           },
           {
            "bin_end": 3.0540000000000003,
            "bin_start": 2.9699999999999998,
            "count": 0
           },
           {
            "bin_end": 3.138,
            "bin_start": 3.0540000000000003,
            "count": 0
           },
           {
            "bin_end": 3.222,
            "bin_start": 3.138,
            "count": 0
           },
           {
            "bin_end": 3.306,
            "bin_start": 3.222,
            "count": 0
           },
           {
            "bin_end": 3.39,
            "bin_start": 3.306,
            "count": 3
           }
          ],
          "max": "3.39",
          "min": "2.55",
          "nan_count": 0,
          "unique_count": 3
         }
        },
        {
         "dtype": "float64",
         "name": "CustomerID",
         "stats": {
          "histogram": [
           {
            "bin_end": 17849.6,
            "bin_start": 17849.5,
            "count": 0
           },
           {
            "bin_end": 17849.7,
            "bin_start": 17849.6,
            "count": 0
           },
           {
            "bin_end": 17849.8,
            "bin_start": 17849.7,
            "count": 0
           },
           {
            "bin_end": 17849.9,
            "bin_start": 17849.8,
            "count": 0
           },
           {
            "bin_end": 17850,
            "bin_start": 17849.9,
            "count": 0
           },
           {
            "bin_end": 17850.1,
            "bin_start": 17850,
            "count": 5
           },
           {
            "bin_end": 17850.2,
            "bin_start": 17850.1,
            "count": 0
           },
           {
            "bin_end": 17850.3,
            "bin_start": 17850.2,
            "count": 0
           },
           {
            "bin_end": 17850.4,
            "bin_start": 17850.3,
            "count": 0
           },
           {
            "bin_end": 17850.5,
            "bin_start": 17850.4,
            "count": 0
           }
          ],
          "max": "17850.0",
          "min": "17850.0",
          "nan_count": 0,
          "unique_count": 1
         }
        },
        {
         "dtype": "object",
         "name": "Country",
         "stats": {
          "categories": [
           {
            "count": 5,
            "name": "United Kingdom"
           }
          ],
          "nan_count": 0,
          "unique_count": 1
         }
        },
        {
         "dtype": "int64",
         "name": "_deepnote_index_column"
        }
       ],
       "row_count": 5,
       "rows": [
        {
         "Country": "United Kingdom",
         "CustomerID": 17850,
         "Description": "WHITE HANGING HEART T-LIGHT HOLDER",
         "InvoiceDate": "2010-12-01 08:26:00",
         "InvoiceNo": "536365",
         "Quantity": 6,
         "StockCode": "85123A",
         "UnitPrice": 2.55,
         "_deepnote_index_column": 0
        },
        {
         "Country": "United Kingdom",
         "CustomerID": 17850,
         "Description": "WHITE METAL LANTERN",
         "InvoiceDate": "2010-12-01 08:26:00",
         "InvoiceNo": "536365",
         "Quantity": 6,
         "StockCode": "71053",
         "UnitPrice": 3.39,
         "_deepnote_index_column": 1
        },
        {
         "Country": "United Kingdom",
         "CustomerID": 17850,
         "Description": "CREAM CUPID HEARTS COAT HANGER",
         "InvoiceDate": "2010-12-01 08:26:00",
         "InvoiceNo": "536365",
         "Quantity": 8,
         "StockCode": "84406B",
         "UnitPrice": 2.75,
         "_deepnote_index_column": 2
        },
        {
         "Country": "United Kingdom",
         "CustomerID": 17850,
         "Description": "KNITTED UNION FLAG HOT WATER BOTTLE",
         "InvoiceDate": "2010-12-01 08:26:00",
         "InvoiceNo": "536365",
         "Quantity": 6,
         "StockCode": "84029G",
         "UnitPrice": 3.39,
         "_deepnote_index_column": 3
        },
        {
         "Country": "United Kingdom",
         "CustomerID": 17850,
         "Description": "RED WOOLLY HOTTIE WHITE HEART.",
         "InvoiceDate": "2010-12-01 08:26:00",
         "InvoiceNo": "536365",
         "Quantity": 6,
         "StockCode": "84029E",
         "UnitPrice": 3.39,
         "_deepnote_index_column": 4
        }
       ]
      },
      "text/html": [
       "<div>\n",
       "<style scoped>\n",
       "    .dataframe tbody tr th:only-of-type {\n",
       "        vertical-align: middle;\n",
       "    }\n",
       "\n",
       "    .dataframe tbody tr th {\n",
       "        vertical-align: top;\n",
       "    }\n",
       "\n",
       "    .dataframe thead th {\n",
       "        text-align: right;\n",
       "    }\n",
       "</style>\n",
       "<table border=\"1\" class=\"dataframe\">\n",
       "  <thead>\n",
       "    <tr style=\"text-align: right;\">\n",
       "      <th></th>\n",
       "      <th>InvoiceNo</th>\n",
       "      <th>StockCode</th>\n",
       "      <th>Description</th>\n",
       "      <th>Quantity</th>\n",
       "      <th>InvoiceDate</th>\n",
       "      <th>UnitPrice</th>\n",
       "      <th>CustomerID</th>\n",
       "      <th>Country</th>\n",
       "    </tr>\n",
       "  </thead>\n",
       "  <tbody>\n",
       "    <tr>\n",
       "      <th>0</th>\n",
       "      <td>536365</td>\n",
       "      <td>85123A</td>\n",
       "      <td>WHITE HANGING HEART T-LIGHT HOLDER</td>\n",
       "      <td>6</td>\n",
       "      <td>2010-12-01 08:26:00</td>\n",
       "      <td>2.55</td>\n",
       "      <td>17850.0</td>\n",
       "      <td>United Kingdom</td>\n",
       "    </tr>\n",
       "    <tr>\n",
       "      <th>1</th>\n",
       "      <td>536365</td>\n",
       "      <td>71053</td>\n",
       "      <td>WHITE METAL LANTERN</td>\n",
       "      <td>6</td>\n",
       "      <td>2010-12-01 08:26:00</td>\n",
       "      <td>3.39</td>\n",
       "      <td>17850.0</td>\n",
       "      <td>United Kingdom</td>\n",
       "    </tr>\n",
       "    <tr>\n",
       "      <th>2</th>\n",
       "      <td>536365</td>\n",
       "      <td>84406B</td>\n",
       "      <td>CREAM CUPID HEARTS COAT HANGER</td>\n",
       "      <td>8</td>\n",
       "      <td>2010-12-01 08:26:00</td>\n",
       "      <td>2.75</td>\n",
       "      <td>17850.0</td>\n",
       "      <td>United Kingdom</td>\n",
       "    </tr>\n",
       "    <tr>\n",
       "      <th>3</th>\n",
       "      <td>536365</td>\n",
       "      <td>84029G</td>\n",
       "      <td>KNITTED UNION FLAG HOT WATER BOTTLE</td>\n",
       "      <td>6</td>\n",
       "      <td>2010-12-01 08:26:00</td>\n",
       "      <td>3.39</td>\n",
       "      <td>17850.0</td>\n",
       "      <td>United Kingdom</td>\n",
       "    </tr>\n",
       "    <tr>\n",
       "      <th>4</th>\n",
       "      <td>536365</td>\n",
       "      <td>84029E</td>\n",
       "      <td>RED WOOLLY HOTTIE WHITE HEART.</td>\n",
       "      <td>6</td>\n",
       "      <td>2010-12-01 08:26:00</td>\n",
       "      <td>3.39</td>\n",
       "      <td>17850.0</td>\n",
       "      <td>United Kingdom</td>\n",
       "    </tr>\n",
       "  </tbody>\n",
       "</table>\n",
       "</div>"
      ],
      "text/plain": [
       "  InvoiceNo StockCode                          Description  Quantity  \\\n",
       "0    536365    85123A   WHITE HANGING HEART T-LIGHT HOLDER         6   \n",
       "1    536365     71053                  WHITE METAL LANTERN         6   \n",
       "2    536365    84406B       CREAM CUPID HEARTS COAT HANGER         8   \n",
       "3    536365    84029G  KNITTED UNION FLAG HOT WATER BOTTLE         6   \n",
       "4    536365    84029E       RED WOOLLY HOTTIE WHITE HEART.         6   \n",
       "\n",
       "          InvoiceDate  UnitPrice  CustomerID         Country  \n",
       "0 2010-12-01 08:26:00       2.55     17850.0  United Kingdom  \n",
       "1 2010-12-01 08:26:00       3.39     17850.0  United Kingdom  \n",
       "2 2010-12-01 08:26:00       2.75     17850.0  United Kingdom  \n",
       "3 2010-12-01 08:26:00       3.39     17850.0  United Kingdom  \n",
       "4 2010-12-01 08:26:00       3.39     17850.0  United Kingdom  "
      ]
     },
     "execution_count": 4,
     "metadata": {},
     "output_type": "execute_result"
    }
   ],
   "source": [
    "# first 5 rows of the data\n",
    "df.head()"
   ]
  },
  {
   "cell_type": "code",
   "execution_count": 5,
   "metadata": {
    "cell_id": "2c56722ea56344279e7e9dcb4b947ac9",
    "deepnote_cell_type": "code",
    "deepnote_to_be_reexecuted": false,
    "execution_millis": 16,
    "execution_start": 1687589148078,
    "scrolled": true,
    "source_hash": "528a8310"
   },
   "outputs": [],
   "source": [
    "# save a copy of the data\n",
    "data_copy = df.copy()"
   ]
  },
  {
   "cell_type": "markdown",
   "metadata": {
    "cell_id": "4cec6e181ab94032b7d0fa9ca931fd8d",
    "deepnote_cell_type": "markdown"
   },
   "source": [
    "."
   ]
  },
  {
   "cell_type": "markdown",
   "metadata": {
    "cell_id": "1b7c34aaa8e5453d86201b6f1f578e04",
    "deepnote_cell_type": "markdown"
   },
   "source": [
    "<h3> Data Cleaning </h3>"
   ]
  },
  {
   "cell_type": "markdown",
   "metadata": {
    "cell_id": "724434f4e6bd4a16aa8b2c9094228844",
    "deepnote_cell_type": "markdown"
   },
   "source": [
    "`"
   ]
  },
  {
   "cell_type": "code",
   "execution_count": 6,
   "metadata": {
    "cell_id": "f11ebcdff13041b3b491822cf22349e2",
    "deepnote_cell_type": "code",
    "deepnote_to_be_reexecuted": false,
    "execution_millis": 4,
    "execution_start": 1687589148097,
    "scrolled": true,
    "source_hash": "8fc6633c"
   },
   "outputs": [
    {
     "name": "stdout",
     "output_type": "stream",
     "text": [
      "Total rows in the dataframe: 541909\n"
     ]
    }
   ],
   "source": [
    "print('Total rows in the dataframe:', len(df))"
   ]
  },
  {
   "cell_type": "code",
   "execution_count": 7,
   "metadata": {
    "cell_id": "b6dd9e6337874f35beaa273e3da392bc",
    "deepnote_cell_type": "code",
    "deepnote_to_be_reexecuted": false,
    "execution_millis": 24,
    "execution_start": 1687589148103,
    "source_hash": "4f51bb00"
   },
   "outputs": [],
   "source": [
    "# Function to check for null values and duplicates\n",
    "def check_data(table):\n",
    "    \"\"\"\n",
    "    Check for NaN and duplicate values in a pandas dataframe.\n",
    "    Returns a dictionary containing the results.\n",
    "    \"\"\"\n",
    "    results = {}\n",
    "\n",
    "    # Check for NaN values\n",
    "    if df.isnull().values.any():\n",
    "        nan_count = df.isnull().sum().sum()\n",
    "        results['NaN'] = f\"{nan_count} NaN values found.\"\n",
    "    else:\n",
    "        results['NaN'] = \"No NaN values found.\"\n",
    "\n",
    "    # Check for duplicate values\n",
    "    if df.duplicated().values.any():\n",
    "        duplicate_count = df.duplicated().sum()\n",
    "        results['Duplicates'] = f\"{duplicate_count} duplicate values found.\"\n",
    "    else:\n",
    "        results['Duplicates'] = \"No duplicate values found.\"\n",
    "\n",
    "    return results"
   ]
  },
  {
   "cell_type": "code",
   "execution_count": 8,
   "metadata": {
    "cell_id": "bf1300b05d304fd19d105974ddfe693b",
    "deepnote_cell_type": "code",
    "deepnote_to_be_reexecuted": false,
    "execution_millis": 702,
    "execution_start": 1687589148173,
    "source_hash": "33d5095b"
   },
   "outputs": [
    {
     "data": {
      "text/plain": [
       "{'NaN': '136534 NaN values found.',\n",
       " 'Duplicates': '5268 duplicate values found.'}"
      ]
     },
     "execution_count": 8,
     "metadata": {},
     "output_type": "execute_result"
    }
   ],
   "source": [
    "# apply the function to the dataframe, df\n",
    "check_data(df)"
   ]
  },
  {
   "cell_type": "code",
   "execution_count": 9,
   "metadata": {
    "cell_id": "cd72e4ceedb149b7a93166514342ce47",
    "deepnote_cell_type": "code",
    "deepnote_to_be_reexecuted": false,
    "execution_millis": 123,
    "execution_start": 1687589148878,
    "scrolled": false,
    "source_hash": "dbda7c6f"
   },
   "outputs": [
    {
     "data": {
      "text/plain": [
       "InvoiceNo           0\n",
       "StockCode           0\n",
       "Description      1454\n",
       "Quantity            0\n",
       "InvoiceDate         0\n",
       "UnitPrice           0\n",
       "CustomerID     135080\n",
       "Country             0\n",
       "dtype: int64"
      ]
     },
     "execution_count": 9,
     "metadata": {},
     "output_type": "execute_result"
    }
   ],
   "source": [
    "# check out the Nan and the columns affected \n",
    "df.isna().sum()"
   ]
  },
  {
   "cell_type": "code",
   "execution_count": 10,
   "metadata": {
    "cell_id": "b9f93c824363458386252ed0dd187798",
    "deepnote_cell_type": "code",
    "deepnote_to_be_reexecuted": false,
    "execution_millis": 53,
    "execution_start": 1687589149007,
    "source_hash": "37d39e9f"
   },
   "outputs": [
    {
     "data": {
      "application/vnd.deepnote.dataframe.v3+json": {
       "column_count": 8,
       "columns": [
        {
         "dtype": "object",
         "name": "InvoiceNo"
        },
        {
         "dtype": "object",
         "name": "StockCode"
        },
        {
         "dtype": "object",
         "name": "Description"
        },
        {
         "dtype": "int64",
         "name": "Quantity"
        },
        {
         "dtype": "datetime64[ns]",
         "name": "InvoiceDate"
        },
        {
         "dtype": "float64",
         "name": "UnitPrice"
        },
        {
         "dtype": "float64",
         "name": "CustomerID"
        },
        {
         "dtype": "object",
         "name": "Country"
        },
        {
         "dtype": "int64",
         "name": "_deepnote_index_column"
        }
       ],
       "row_count": 135080,
       "rows": [
        {
         "Country": "United Kingdom",
         "CustomerID": "nan",
         "Description": "nan",
         "InvoiceDate": "2010-12-01 11:52:00",
         "InvoiceNo": "536414",
         "Quantity": 56,
         "StockCode": "22139",
         "UnitPrice": 0,
         "_deepnote_index_column": 622
        },
        {
         "Country": "United Kingdom",
         "CustomerID": "nan",
         "Description": "DECORATIVE ROSE BATHROOM BOTTLE",
         "InvoiceDate": "2010-12-01 14:32:00",
         "InvoiceNo": "536544",
         "Quantity": 1,
         "StockCode": "21773",
         "UnitPrice": 2.51,
         "_deepnote_index_column": 1443
        },
        {
         "Country": "United Kingdom",
         "CustomerID": "nan",
         "Description": "DECORATIVE CATS BATHROOM BOTTLE",
         "InvoiceDate": "2010-12-01 14:32:00",
         "InvoiceNo": "536544",
         "Quantity": 2,
         "StockCode": "21774",
         "UnitPrice": 2.51,
         "_deepnote_index_column": 1444
        },
        {
         "Country": "United Kingdom",
         "CustomerID": "nan",
         "Description": "POLKADOT RAIN HAT ",
         "InvoiceDate": "2010-12-01 14:32:00",
         "InvoiceNo": "536544",
         "Quantity": 4,
         "StockCode": "21786",
         "UnitPrice": 0.85,
         "_deepnote_index_column": 1445
        },
        {
         "Country": "United Kingdom",
         "CustomerID": "nan",
         "Description": "RAIN PONCHO RETROSPOT",
         "InvoiceDate": "2010-12-01 14:32:00",
         "InvoiceNo": "536544",
         "Quantity": 2,
         "StockCode": "21787",
         "UnitPrice": 1.66,
         "_deepnote_index_column": 1446
        },
        {
         "Country": "United Kingdom",
         "CustomerID": "nan",
         "Description": "VINTAGE SNAP CARDS",
         "InvoiceDate": "2010-12-01 14:32:00",
         "InvoiceNo": "536544",
         "Quantity": 9,
         "StockCode": "21790",
         "UnitPrice": 1.66,
         "_deepnote_index_column": 1447
        },
        {
         "Country": "United Kingdom",
         "CustomerID": "nan",
         "Description": "VINTAGE HEADS AND TAILS CARD GAME ",
         "InvoiceDate": "2010-12-01 14:32:00",
         "InvoiceNo": "536544",
         "Quantity": 2,
         "StockCode": "21791",
         "UnitPrice": 2.51,
         "_deepnote_index_column": 1448
        },
        {
         "Country": "United Kingdom",
         "CustomerID": "nan",
         "Description": "CHRISTMAS TREE DECORATION WITH BELL",
         "InvoiceDate": "2010-12-01 14:32:00",
         "InvoiceNo": "536544",
         "Quantity": 10,
         "StockCode": "21801",
         "UnitPrice": 0.43,
         "_deepnote_index_column": 1449
        },
        {
         "Country": "United Kingdom",
         "CustomerID": "nan",
         "Description": "CHRISTMAS TREE HEART DECORATION",
         "InvoiceDate": "2010-12-01 14:32:00",
         "InvoiceNo": "536544",
         "Quantity": 9,
         "StockCode": "21802",
         "UnitPrice": 0.43,
         "_deepnote_index_column": 1450
        },
        {
         "Country": "United Kingdom",
         "CustomerID": "nan",
         "Description": "CHRISTMAS TREE STAR DECORATION",
         "InvoiceDate": "2010-12-01 14:32:00",
         "InvoiceNo": "536544",
         "Quantity": 11,
         "StockCode": "21803",
         "UnitPrice": 0.43,
         "_deepnote_index_column": 1451
        }
       ]
      },
      "text/html": [
       "<div>\n",
       "<style scoped>\n",
       "    .dataframe tbody tr th:only-of-type {\n",
       "        vertical-align: middle;\n",
       "    }\n",
       "\n",
       "    .dataframe tbody tr th {\n",
       "        vertical-align: top;\n",
       "    }\n",
       "\n",
       "    .dataframe thead th {\n",
       "        text-align: right;\n",
       "    }\n",
       "</style>\n",
       "<table border=\"1\" class=\"dataframe\">\n",
       "  <thead>\n",
       "    <tr style=\"text-align: right;\">\n",
       "      <th></th>\n",
       "      <th>InvoiceNo</th>\n",
       "      <th>StockCode</th>\n",
       "      <th>Description</th>\n",
       "      <th>Quantity</th>\n",
       "      <th>InvoiceDate</th>\n",
       "      <th>UnitPrice</th>\n",
       "      <th>CustomerID</th>\n",
       "      <th>Country</th>\n",
       "    </tr>\n",
       "  </thead>\n",
       "  <tbody>\n",
       "    <tr>\n",
       "      <th>622</th>\n",
       "      <td>536414</td>\n",
       "      <td>22139</td>\n",
       "      <td>NaN</td>\n",
       "      <td>56</td>\n",
       "      <td>2010-12-01 11:52:00</td>\n",
       "      <td>0.00</td>\n",
       "      <td>NaN</td>\n",
       "      <td>United Kingdom</td>\n",
       "    </tr>\n",
       "    <tr>\n",
       "      <th>1443</th>\n",
       "      <td>536544</td>\n",
       "      <td>21773</td>\n",
       "      <td>DECORATIVE ROSE BATHROOM BOTTLE</td>\n",
       "      <td>1</td>\n",
       "      <td>2010-12-01 14:32:00</td>\n",
       "      <td>2.51</td>\n",
       "      <td>NaN</td>\n",
       "      <td>United Kingdom</td>\n",
       "    </tr>\n",
       "    <tr>\n",
       "      <th>1444</th>\n",
       "      <td>536544</td>\n",
       "      <td>21774</td>\n",
       "      <td>DECORATIVE CATS BATHROOM BOTTLE</td>\n",
       "      <td>2</td>\n",
       "      <td>2010-12-01 14:32:00</td>\n",
       "      <td>2.51</td>\n",
       "      <td>NaN</td>\n",
       "      <td>United Kingdom</td>\n",
       "    </tr>\n",
       "    <tr>\n",
       "      <th>1445</th>\n",
       "      <td>536544</td>\n",
       "      <td>21786</td>\n",
       "      <td>POLKADOT RAIN HAT</td>\n",
       "      <td>4</td>\n",
       "      <td>2010-12-01 14:32:00</td>\n",
       "      <td>0.85</td>\n",
       "      <td>NaN</td>\n",
       "      <td>United Kingdom</td>\n",
       "    </tr>\n",
       "    <tr>\n",
       "      <th>1446</th>\n",
       "      <td>536544</td>\n",
       "      <td>21787</td>\n",
       "      <td>RAIN PONCHO RETROSPOT</td>\n",
       "      <td>2</td>\n",
       "      <td>2010-12-01 14:32:00</td>\n",
       "      <td>1.66</td>\n",
       "      <td>NaN</td>\n",
       "      <td>United Kingdom</td>\n",
       "    </tr>\n",
       "    <tr>\n",
       "      <th>...</th>\n",
       "      <td>...</td>\n",
       "      <td>...</td>\n",
       "      <td>...</td>\n",
       "      <td>...</td>\n",
       "      <td>...</td>\n",
       "      <td>...</td>\n",
       "      <td>...</td>\n",
       "      <td>...</td>\n",
       "    </tr>\n",
       "    <tr>\n",
       "      <th>541536</th>\n",
       "      <td>581498</td>\n",
       "      <td>85099B</td>\n",
       "      <td>JUMBO BAG RED RETROSPOT</td>\n",
       "      <td>5</td>\n",
       "      <td>2011-12-09 10:26:00</td>\n",
       "      <td>4.13</td>\n",
       "      <td>NaN</td>\n",
       "      <td>United Kingdom</td>\n",
       "    </tr>\n",
       "    <tr>\n",
       "      <th>541537</th>\n",
       "      <td>581498</td>\n",
       "      <td>85099C</td>\n",
       "      <td>JUMBO  BAG BAROQUE BLACK WHITE</td>\n",
       "      <td>4</td>\n",
       "      <td>2011-12-09 10:26:00</td>\n",
       "      <td>4.13</td>\n",
       "      <td>NaN</td>\n",
       "      <td>United Kingdom</td>\n",
       "    </tr>\n",
       "    <tr>\n",
       "      <th>541538</th>\n",
       "      <td>581498</td>\n",
       "      <td>85150</td>\n",
       "      <td>LADIES &amp; GENTLEMEN METAL SIGN</td>\n",
       "      <td>1</td>\n",
       "      <td>2011-12-09 10:26:00</td>\n",
       "      <td>4.96</td>\n",
       "      <td>NaN</td>\n",
       "      <td>United Kingdom</td>\n",
       "    </tr>\n",
       "    <tr>\n",
       "      <th>541539</th>\n",
       "      <td>581498</td>\n",
       "      <td>85174</td>\n",
       "      <td>S/4 CACTI CANDLES</td>\n",
       "      <td>1</td>\n",
       "      <td>2011-12-09 10:26:00</td>\n",
       "      <td>10.79</td>\n",
       "      <td>NaN</td>\n",
       "      <td>United Kingdom</td>\n",
       "    </tr>\n",
       "    <tr>\n",
       "      <th>541540</th>\n",
       "      <td>581498</td>\n",
       "      <td>DOT</td>\n",
       "      <td>DOTCOM POSTAGE</td>\n",
       "      <td>1</td>\n",
       "      <td>2011-12-09 10:26:00</td>\n",
       "      <td>1714.17</td>\n",
       "      <td>NaN</td>\n",
       "      <td>United Kingdom</td>\n",
       "    </tr>\n",
       "  </tbody>\n",
       "</table>\n",
       "<p>135080 rows × 8 columns</p>\n",
       "</div>"
      ],
      "text/plain": [
       "       InvoiceNo StockCode                      Description  Quantity  \\\n",
       "622       536414     22139                              NaN        56   \n",
       "1443      536544     21773  DECORATIVE ROSE BATHROOM BOTTLE         1   \n",
       "1444      536544     21774  DECORATIVE CATS BATHROOM BOTTLE         2   \n",
       "1445      536544     21786               POLKADOT RAIN HAT          4   \n",
       "1446      536544     21787            RAIN PONCHO RETROSPOT         2   \n",
       "...          ...       ...                              ...       ...   \n",
       "541536    581498    85099B          JUMBO BAG RED RETROSPOT         5   \n",
       "541537    581498    85099C   JUMBO  BAG BAROQUE BLACK WHITE         4   \n",
       "541538    581498     85150    LADIES & GENTLEMEN METAL SIGN         1   \n",
       "541539    581498     85174                S/4 CACTI CANDLES         1   \n",
       "541540    581498       DOT                   DOTCOM POSTAGE         1   \n",
       "\n",
       "               InvoiceDate  UnitPrice  CustomerID         Country  \n",
       "622    2010-12-01 11:52:00       0.00         NaN  United Kingdom  \n",
       "1443   2010-12-01 14:32:00       2.51         NaN  United Kingdom  \n",
       "1444   2010-12-01 14:32:00       2.51         NaN  United Kingdom  \n",
       "1445   2010-12-01 14:32:00       0.85         NaN  United Kingdom  \n",
       "1446   2010-12-01 14:32:00       1.66         NaN  United Kingdom  \n",
       "...                    ...        ...         ...             ...  \n",
       "541536 2011-12-09 10:26:00       4.13         NaN  United Kingdom  \n",
       "541537 2011-12-09 10:26:00       4.13         NaN  United Kingdom  \n",
       "541538 2011-12-09 10:26:00       4.96         NaN  United Kingdom  \n",
       "541539 2011-12-09 10:26:00      10.79         NaN  United Kingdom  \n",
       "541540 2011-12-09 10:26:00    1714.17         NaN  United Kingdom  \n",
       "\n",
       "[135080 rows x 8 columns]"
      ]
     },
     "execution_count": 10,
     "metadata": {},
     "output_type": "execute_result"
    }
   ],
   "source": [
    "# isolating CustomerID column\n",
    "df[df['CustomerID'].isna()]"
   ]
  },
  {
   "cell_type": "markdown",
   "metadata": {
    "cell_id": "7ceaaed39f2f42a6af1d178da42fca19",
    "deepnote_cell_type": "markdown"
   },
   "source": [
    "#### almost nothing can be done with CustomerID column with Nan, considering the RFM approach; "
   ]
  },
  {
   "cell_type": "code",
   "execution_count": 11,
   "metadata": {
    "cell_id": "04d35f4b5ea1419fab6ad0cbe8853940",
    "deepnote_cell_type": "code",
    "deepnote_to_be_reexecuted": false,
    "execution_millis": 94,
    "execution_start": 1687589149067,
    "source_hash": "5d83e2eb"
   },
   "outputs": [],
   "source": [
    "# removing the Customers whose identities are not known\n",
    "df.drop(df[df['CustomerID'].isna()].index, inplace=True)"
   ]
  },
  {
   "cell_type": "code",
   "execution_count": 12,
   "metadata": {
    "cell_id": "d468c8acbfce45deb5f3cd9c15c0f502",
    "deepnote_cell_type": "code",
    "deepnote_to_be_reexecuted": false,
    "execution_millis": 61,
    "execution_start": 1687589149201,
    "source_hash": "bcd2b0af"
   },
   "outputs": [
    {
     "data": {
      "text/plain": [
       "InvoiceNo      0\n",
       "StockCode      0\n",
       "Description    0\n",
       "Quantity       0\n",
       "InvoiceDate    0\n",
       "UnitPrice      0\n",
       "CustomerID     0\n",
       "Country        0\n",
       "dtype: int64"
      ]
     },
     "execution_count": 12,
     "metadata": {},
     "output_type": "execute_result"
    }
   ],
   "source": [
    "# check once more if there are still Nan values in any column\n",
    "df.isna().sum()"
   ]
  },
  {
   "cell_type": "markdown",
   "metadata": {
    "cell_id": "50f5f21859c7488c8db01cd822f83f77",
    "deepnote_cell_type": "markdown"
   },
   "source": [
    "##### evidently, getting rid of CustomerID column with Nan has taken care of Description column with Nan, as well"
   ]
  },
  {
   "cell_type": "markdown",
   "metadata": {
    "cell_id": "f85e2098f7e64ea0be61dfbf036fc61f",
    "deepnote_cell_type": "markdown"
   },
   "source": [
    "`"
   ]
  },
  {
   "cell_type": "code",
   "execution_count": 13,
   "metadata": {
    "cell_id": "997cfe8b6d0d4bbb996675a0e853e786",
    "deepnote_cell_type": "code",
    "deepnote_to_be_reexecuted": false,
    "execution_millis": 193,
    "execution_start": 1687589149306,
    "source_hash": "518dcaed"
   },
   "outputs": [
    {
     "data": {
      "application/vnd.deepnote.dataframe.v3+json": {
       "column_count": 8,
       "columns": [
        {
         "dtype": "object",
         "name": "InvoiceNo",
         "stats": {
          "categories": [
           {
            "count": 12,
            "name": "536412"
           },
           {
            "count": 8,
            "name": "536409"
           }
          ],
          "nan_count": 0,
          "unique_count": 2
         }
        },
        {
         "dtype": "object",
         "name": "StockCode",
         "stats": {
          "categories": [
           {
            "count": 3,
            "name": "21448"
           },
           {
            "count": 2,
            "name": "22111"
           },
           {
            "count": 15,
            "name": "8 others"
           }
          ],
          "nan_count": 0,
          "unique_count": 10
         }
        },
        {
         "dtype": "object",
         "name": "Description",
         "stats": {
          "categories": [
           {
            "count": 3,
            "name": "12 DAISY PEGS IN WOOD BOX"
           },
           {
            "count": 2,
            "name": "SCOTTIE DOG HOT WATER BOTTLE"
           },
           {
            "count": 15,
            "name": "8 others"
           }
          ],
          "nan_count": 0,
          "unique_count": 10
         }
        },
        {
         "dtype": "int64",
         "name": "Quantity",
         "stats": {
          "histogram": [
           {
            "bin_end": 1.1,
            "bin_start": 1,
            "count": 18
           },
           {
            "bin_end": 1.2,
            "bin_start": 1.1,
            "count": 0
           },
           {
            "bin_end": 1.3,
            "bin_start": 1.2,
            "count": 0
           },
           {
            "bin_end": 1.4,
            "bin_start": 1.3,
            "count": 0
           },
           {
            "bin_end": 1.5,
            "bin_start": 1.4,
            "count": 0
           },
           {
            "bin_end": 1.6,
            "bin_start": 1.5,
            "count": 0
           },
           {
            "bin_end": 1.7000000000000002,
            "bin_start": 1.6,
            "count": 0
           },
           {
            "bin_end": 1.8,
            "bin_start": 1.7000000000000002,
            "count": 0
           },
           {
            "bin_end": 1.9,
            "bin_start": 1.8,
            "count": 0
           },
           {
            "bin_end": 2,
            "bin_start": 1.9,
            "count": 2
           }
          ],
          "max": "2",
          "min": "1",
          "nan_count": 0,
          "unique_count": 2
         }
        },
        {
         "dtype": "datetime64[ns]",
         "name": "InvoiceDate",
         "stats": {
          "histogram": [
           {
            "bin_end": 1291203924000000000,
            "bin_start": 1291203900000000000,
            "count": 8
           },
           {
            "bin_end": 1291203948000000000,
            "bin_start": 1291203924000000000,
            "count": 0
           },
           {
            "bin_end": 1291203972000000000,
            "bin_start": 1291203948000000000,
            "count": 0
           },
           {
            "bin_end": 1291203996000000000,
            "bin_start": 1291203972000000000,
            "count": 0
           },
           {
            "bin_end": 1291204020000000000,
            "bin_start": 1291203996000000000,
            "count": 0
           },
           {
            "bin_end": 1291204044000000000,
            "bin_start": 1291204020000000000,
            "count": 0
           },
           {
            "bin_end": 1291204068000000000,
            "bin_start": 1291204044000000000,
            "count": 0
           },
           {
            "bin_end": 1291204092000000000,
            "bin_start": 1291204068000000000,
            "count": 0
           },
           {
            "bin_end": 1291204116000000000,
            "bin_start": 1291204092000000000,
            "count": 0
           },
           {
            "bin_end": 1291204140000000000,
            "bin_start": 1291204116000000000,
            "count": 12
           }
          ],
          "max": "2010-12-01 11:49:00",
          "min": "2010-12-01 11:45:00",
          "nan_count": 0,
          "unique_count": 2
         }
        },
        {
         "dtype": "float64",
         "name": "UnitPrice",
         "stats": {
          "histogram": [
           {
            "bin_end": 1.62,
            "bin_start": 1.25,
            "count": 2
           },
           {
            "bin_end": 1.99,
            "bin_start": 1.62,
            "count": 3
           },
           {
            "bin_end": 2.36,
            "bin_start": 1.99,
            "count": 4
           },
           {
            "bin_end": 2.73,
            "bin_start": 2.36,
            "count": 0
           },
           {
            "bin_end": 3.1,
            "bin_start": 2.73,
            "count": 6
           },
           {
            "bin_end": 3.4699999999999998,
            "bin_start": 3.1,
            "count": 0
           },
           {
            "bin_end": 3.84,
            "bin_start": 3.4699999999999998,
            "count": 3
           },
           {
            "bin_end": 4.21,
            "bin_start": 3.84,
            "count": 0
           },
           {
            "bin_end": 4.58,
            "bin_start": 4.21,
            "count": 0
           },
           {
            "bin_end": 4.95,
            "bin_start": 4.58,
            "count": 2
           }
          ],
          "max": "4.95",
          "min": "1.25",
          "nan_count": 0,
          "unique_count": 6
         }
        },
        {
         "dtype": "float64",
         "name": "CustomerID",
         "stats": {
          "histogram": [
           {
            "bin_end": 17909.2,
            "bin_start": 17908,
            "count": 8
           },
           {
            "bin_end": 17910.4,
            "bin_start": 17909.2,
            "count": 0
           },
           {
            "bin_end": 17911.6,
            "bin_start": 17910.4,
            "count": 0
           },
           {
            "bin_end": 17912.8,
            "bin_start": 17911.6,
            "count": 0
           },
           {
            "bin_end": 17914,
            "bin_start": 17912.8,
            "count": 0
           },
           {
            "bin_end": 17915.2,
            "bin_start": 17914,
            "count": 0
           },
           {
            "bin_end": 17916.4,
            "bin_start": 17915.2,
            "count": 0
           },
           {
            "bin_end": 17917.6,
            "bin_start": 17916.4,
            "count": 0
           },
           {
            "bin_end": 17918.8,
            "bin_start": 17917.6,
            "count": 0
           },
           {
            "bin_end": 17920,
            "bin_start": 17918.8,
            "count": 12
           }
          ],
          "max": "17920.0",
          "min": "17908.0",
          "nan_count": 0,
          "unique_count": 2
         }
        },
        {
         "dtype": "object",
         "name": "Country",
         "stats": {
          "categories": [
           {
            "count": 20,
            "name": "United Kingdom"
           }
          ],
          "nan_count": 0,
          "unique_count": 1
         }
        },
        {
         "dtype": "int64",
         "name": "_deepnote_index_column"
        }
       ],
       "row_count": 20,
       "rows": [
        {
         "Country": "United Kingdom",
         "CustomerID": 17908,
         "Description": "SCOTTIE DOG HOT WATER BOTTLE",
         "InvoiceDate": "2010-12-01 11:45:00",
         "InvoiceNo": "536409",
         "Quantity": 1,
         "StockCode": "22111",
         "UnitPrice": 4.95,
         "_deepnote_index_column": 485
        },
        {
         "Country": "United Kingdom",
         "CustomerID": 17908,
         "Description": "HAND WARMER SCOTTY DOG DESIGN",
         "InvoiceDate": "2010-12-01 11:45:00",
         "InvoiceNo": "536409",
         "Quantity": 1,
         "StockCode": "22866",
         "UnitPrice": 2.1,
         "_deepnote_index_column": 489
        },
        {
         "Country": "United Kingdom",
         "CustomerID": 17908,
         "Description": "UNION JACK FLAG LUGGAGE TAG",
         "InvoiceDate": "2010-12-01 11:45:00",
         "InvoiceNo": "536409",
         "Quantity": 1,
         "StockCode": "21866",
         "UnitPrice": 1.25,
         "_deepnote_index_column": 494
        },
        {
         "Country": "United Kingdom",
         "CustomerID": 17908,
         "Description": "UNION JACK FLAG LUGGAGE TAG",
         "InvoiceDate": "2010-12-01 11:45:00",
         "InvoiceNo": "536409",
         "Quantity": 1,
         "StockCode": "21866",
         "UnitPrice": 1.25,
         "_deepnote_index_column": 517
        },
        {
         "Country": "United Kingdom",
         "CustomerID": 17908,
         "Description": " SET 2 TEA TOWELS I LOVE LONDON ",
         "InvoiceDate": "2010-12-01 11:45:00",
         "InvoiceNo": "536409",
         "Quantity": 1,
         "StockCode": "22900",
         "UnitPrice": 2.95,
         "_deepnote_index_column": 521
        },
        {
         "Country": "United Kingdom",
         "CustomerID": 17908,
         "Description": "HAND WARMER SCOTTY DOG DESIGN",
         "InvoiceDate": "2010-12-01 11:45:00",
         "InvoiceNo": "536409",
         "Quantity": 1,
         "StockCode": "22866",
         "UnitPrice": 2.1,
         "_deepnote_index_column": 527
        },
        {
         "Country": "United Kingdom",
         "CustomerID": 17908,
         "Description": " SET 2 TEA TOWELS I LOVE LONDON ",
         "InvoiceDate": "2010-12-01 11:45:00",
         "InvoiceNo": "536409",
         "Quantity": 1,
         "StockCode": "22900",
         "UnitPrice": 2.95,
         "_deepnote_index_column": 537
        },
        {
         "Country": "United Kingdom",
         "CustomerID": 17908,
         "Description": "SCOTTIE DOG HOT WATER BOTTLE",
         "InvoiceDate": "2010-12-01 11:45:00",
         "InvoiceNo": "536409",
         "Quantity": 1,
         "StockCode": "22111",
         "UnitPrice": 4.95,
         "_deepnote_index_column": 539
        },
        {
         "Country": "United Kingdom",
         "CustomerID": 17920,
         "Description": "ROUND SNACK BOXES SET OF 4 SKULLS",
         "InvoiceDate": "2010-12-01 11:49:00",
         "InvoiceNo": "536412",
         "Quantity": 1,
         "StockCode": "22327",
         "UnitPrice": 2.95,
         "_deepnote_index_column": 548
        },
        {
         "Country": "United Kingdom",
         "CustomerID": 17920,
         "Description": "ROUND SNACK BOXES SET OF 4 SKULLS",
         "InvoiceDate": "2010-12-01 11:49:00",
         "InvoiceNo": "536412",
         "Quantity": 1,
         "StockCode": "22327",
         "UnitPrice": 2.95,
         "_deepnote_index_column": 555
        }
       ]
      },
      "text/html": [
       "<div>\n",
       "<style scoped>\n",
       "    .dataframe tbody tr th:only-of-type {\n",
       "        vertical-align: middle;\n",
       "    }\n",
       "\n",
       "    .dataframe tbody tr th {\n",
       "        vertical-align: top;\n",
       "    }\n",
       "\n",
       "    .dataframe thead th {\n",
       "        text-align: right;\n",
       "    }\n",
       "</style>\n",
       "<table border=\"1\" class=\"dataframe\">\n",
       "  <thead>\n",
       "    <tr style=\"text-align: right;\">\n",
       "      <th></th>\n",
       "      <th>InvoiceNo</th>\n",
       "      <th>StockCode</th>\n",
       "      <th>Description</th>\n",
       "      <th>Quantity</th>\n",
       "      <th>InvoiceDate</th>\n",
       "      <th>UnitPrice</th>\n",
       "      <th>CustomerID</th>\n",
       "      <th>Country</th>\n",
       "    </tr>\n",
       "  </thead>\n",
       "  <tbody>\n",
       "    <tr>\n",
       "      <th>485</th>\n",
       "      <td>536409</td>\n",
       "      <td>22111</td>\n",
       "      <td>SCOTTIE DOG HOT WATER BOTTLE</td>\n",
       "      <td>1</td>\n",
       "      <td>2010-12-01 11:45:00</td>\n",
       "      <td>4.95</td>\n",
       "      <td>17908.0</td>\n",
       "      <td>United Kingdom</td>\n",
       "    </tr>\n",
       "    <tr>\n",
       "      <th>489</th>\n",
       "      <td>536409</td>\n",
       "      <td>22866</td>\n",
       "      <td>HAND WARMER SCOTTY DOG DESIGN</td>\n",
       "      <td>1</td>\n",
       "      <td>2010-12-01 11:45:00</td>\n",
       "      <td>2.10</td>\n",
       "      <td>17908.0</td>\n",
       "      <td>United Kingdom</td>\n",
       "    </tr>\n",
       "    <tr>\n",
       "      <th>494</th>\n",
       "      <td>536409</td>\n",
       "      <td>21866</td>\n",
       "      <td>UNION JACK FLAG LUGGAGE TAG</td>\n",
       "      <td>1</td>\n",
       "      <td>2010-12-01 11:45:00</td>\n",
       "      <td>1.25</td>\n",
       "      <td>17908.0</td>\n",
       "      <td>United Kingdom</td>\n",
       "    </tr>\n",
       "    <tr>\n",
       "      <th>517</th>\n",
       "      <td>536409</td>\n",
       "      <td>21866</td>\n",
       "      <td>UNION JACK FLAG LUGGAGE TAG</td>\n",
       "      <td>1</td>\n",
       "      <td>2010-12-01 11:45:00</td>\n",
       "      <td>1.25</td>\n",
       "      <td>17908.0</td>\n",
       "      <td>United Kingdom</td>\n",
       "    </tr>\n",
       "    <tr>\n",
       "      <th>521</th>\n",
       "      <td>536409</td>\n",
       "      <td>22900</td>\n",
       "      <td>SET 2 TEA TOWELS I LOVE LONDON</td>\n",
       "      <td>1</td>\n",
       "      <td>2010-12-01 11:45:00</td>\n",
       "      <td>2.95</td>\n",
       "      <td>17908.0</td>\n",
       "      <td>United Kingdom</td>\n",
       "    </tr>\n",
       "    <tr>\n",
       "      <th>527</th>\n",
       "      <td>536409</td>\n",
       "      <td>22866</td>\n",
       "      <td>HAND WARMER SCOTTY DOG DESIGN</td>\n",
       "      <td>1</td>\n",
       "      <td>2010-12-01 11:45:00</td>\n",
       "      <td>2.10</td>\n",
       "      <td>17908.0</td>\n",
       "      <td>United Kingdom</td>\n",
       "    </tr>\n",
       "    <tr>\n",
       "      <th>537</th>\n",
       "      <td>536409</td>\n",
       "      <td>22900</td>\n",
       "      <td>SET 2 TEA TOWELS I LOVE LONDON</td>\n",
       "      <td>1</td>\n",
       "      <td>2010-12-01 11:45:00</td>\n",
       "      <td>2.95</td>\n",
       "      <td>17908.0</td>\n",
       "      <td>United Kingdom</td>\n",
       "    </tr>\n",
       "    <tr>\n",
       "      <th>539</th>\n",
       "      <td>536409</td>\n",
       "      <td>22111</td>\n",
       "      <td>SCOTTIE DOG HOT WATER BOTTLE</td>\n",
       "      <td>1</td>\n",
       "      <td>2010-12-01 11:45:00</td>\n",
       "      <td>4.95</td>\n",
       "      <td>17908.0</td>\n",
       "      <td>United Kingdom</td>\n",
       "    </tr>\n",
       "    <tr>\n",
       "      <th>548</th>\n",
       "      <td>536412</td>\n",
       "      <td>22327</td>\n",
       "      <td>ROUND SNACK BOXES SET OF 4 SKULLS</td>\n",
       "      <td>1</td>\n",
       "      <td>2010-12-01 11:49:00</td>\n",
       "      <td>2.95</td>\n",
       "      <td>17920.0</td>\n",
       "      <td>United Kingdom</td>\n",
       "    </tr>\n",
       "    <tr>\n",
       "      <th>555</th>\n",
       "      <td>536412</td>\n",
       "      <td>22327</td>\n",
       "      <td>ROUND SNACK BOXES SET OF 4 SKULLS</td>\n",
       "      <td>1</td>\n",
       "      <td>2010-12-01 11:49:00</td>\n",
       "      <td>2.95</td>\n",
       "      <td>17920.0</td>\n",
       "      <td>United Kingdom</td>\n",
       "    </tr>\n",
       "    <tr>\n",
       "      <th>556</th>\n",
       "      <td>536412</td>\n",
       "      <td>22273</td>\n",
       "      <td>FELTCRAFT DOLL MOLLY</td>\n",
       "      <td>1</td>\n",
       "      <td>2010-12-01 11:49:00</td>\n",
       "      <td>2.95</td>\n",
       "      <td>17920.0</td>\n",
       "      <td>United Kingdom</td>\n",
       "    </tr>\n",
       "    <tr>\n",
       "      <th>565</th>\n",
       "      <td>536412</td>\n",
       "      <td>21448</td>\n",
       "      <td>12 DAISY PEGS IN WOOD BOX</td>\n",
       "      <td>2</td>\n",
       "      <td>2010-12-01 11:49:00</td>\n",
       "      <td>1.65</td>\n",
       "      <td>17920.0</td>\n",
       "      <td>United Kingdom</td>\n",
       "    </tr>\n",
       "    <tr>\n",
       "      <th>569</th>\n",
       "      <td>536412</td>\n",
       "      <td>22749</td>\n",
       "      <td>FELTCRAFT PRINCESS CHARLOTTE DOLL</td>\n",
       "      <td>1</td>\n",
       "      <td>2010-12-01 11:49:00</td>\n",
       "      <td>3.75</td>\n",
       "      <td>17920.0</td>\n",
       "      <td>United Kingdom</td>\n",
       "    </tr>\n",
       "    <tr>\n",
       "      <th>574</th>\n",
       "      <td>536412</td>\n",
       "      <td>22141</td>\n",
       "      <td>CHRISTMAS CRAFT TREE TOP ANGEL</td>\n",
       "      <td>1</td>\n",
       "      <td>2010-12-01 11:49:00</td>\n",
       "      <td>2.10</td>\n",
       "      <td>17920.0</td>\n",
       "      <td>United Kingdom</td>\n",
       "    </tr>\n",
       "    <tr>\n",
       "      <th>578</th>\n",
       "      <td>536412</td>\n",
       "      <td>21448</td>\n",
       "      <td>12 DAISY PEGS IN WOOD BOX</td>\n",
       "      <td>1</td>\n",
       "      <td>2010-12-01 11:49:00</td>\n",
       "      <td>1.65</td>\n",
       "      <td>17920.0</td>\n",
       "      <td>United Kingdom</td>\n",
       "    </tr>\n",
       "    <tr>\n",
       "      <th>587</th>\n",
       "      <td>536412</td>\n",
       "      <td>22273</td>\n",
       "      <td>FELTCRAFT DOLL MOLLY</td>\n",
       "      <td>1</td>\n",
       "      <td>2010-12-01 11:49:00</td>\n",
       "      <td>2.95</td>\n",
       "      <td>17920.0</td>\n",
       "      <td>United Kingdom</td>\n",
       "    </tr>\n",
       "    <tr>\n",
       "      <th>589</th>\n",
       "      <td>536412</td>\n",
       "      <td>22749</td>\n",
       "      <td>FELTCRAFT PRINCESS CHARLOTTE DOLL</td>\n",
       "      <td>1</td>\n",
       "      <td>2010-12-01 11:49:00</td>\n",
       "      <td>3.75</td>\n",
       "      <td>17920.0</td>\n",
       "      <td>United Kingdom</td>\n",
       "    </tr>\n",
       "    <tr>\n",
       "      <th>594</th>\n",
       "      <td>536412</td>\n",
       "      <td>22141</td>\n",
       "      <td>CHRISTMAS CRAFT TREE TOP ANGEL</td>\n",
       "      <td>1</td>\n",
       "      <td>2010-12-01 11:49:00</td>\n",
       "      <td>2.10</td>\n",
       "      <td>17920.0</td>\n",
       "      <td>United Kingdom</td>\n",
       "    </tr>\n",
       "    <tr>\n",
       "      <th>597</th>\n",
       "      <td>536412</td>\n",
       "      <td>22569</td>\n",
       "      <td>FELTCRAFT CUSHION BUTTERFLY</td>\n",
       "      <td>2</td>\n",
       "      <td>2010-12-01 11:49:00</td>\n",
       "      <td>3.75</td>\n",
       "      <td>17920.0</td>\n",
       "      <td>United Kingdom</td>\n",
       "    </tr>\n",
       "    <tr>\n",
       "      <th>598</th>\n",
       "      <td>536412</td>\n",
       "      <td>21448</td>\n",
       "      <td>12 DAISY PEGS IN WOOD BOX</td>\n",
       "      <td>1</td>\n",
       "      <td>2010-12-01 11:49:00</td>\n",
       "      <td>1.65</td>\n",
       "      <td>17920.0</td>\n",
       "      <td>United Kingdom</td>\n",
       "    </tr>\n",
       "  </tbody>\n",
       "</table>\n",
       "</div>"
      ],
      "text/plain": [
       "    InvoiceNo StockCode                        Description  Quantity  \\\n",
       "485    536409     22111       SCOTTIE DOG HOT WATER BOTTLE         1   \n",
       "489    536409     22866      HAND WARMER SCOTTY DOG DESIGN         1   \n",
       "494    536409     21866        UNION JACK FLAG LUGGAGE TAG         1   \n",
       "517    536409     21866        UNION JACK FLAG LUGGAGE TAG         1   \n",
       "521    536409     22900    SET 2 TEA TOWELS I LOVE LONDON          1   \n",
       "527    536409     22866      HAND WARMER SCOTTY DOG DESIGN         1   \n",
       "537    536409     22900    SET 2 TEA TOWELS I LOVE LONDON          1   \n",
       "539    536409     22111       SCOTTIE DOG HOT WATER BOTTLE         1   \n",
       "548    536412     22327  ROUND SNACK BOXES SET OF 4 SKULLS         1   \n",
       "555    536412     22327  ROUND SNACK BOXES SET OF 4 SKULLS         1   \n",
       "556    536412     22273               FELTCRAFT DOLL MOLLY         1   \n",
       "565    536412     21448          12 DAISY PEGS IN WOOD BOX         2   \n",
       "569    536412     22749  FELTCRAFT PRINCESS CHARLOTTE DOLL         1   \n",
       "574    536412     22141     CHRISTMAS CRAFT TREE TOP ANGEL         1   \n",
       "578    536412     21448          12 DAISY PEGS IN WOOD BOX         1   \n",
       "587    536412     22273               FELTCRAFT DOLL MOLLY         1   \n",
       "589    536412     22749  FELTCRAFT PRINCESS CHARLOTTE DOLL         1   \n",
       "594    536412     22141     CHRISTMAS CRAFT TREE TOP ANGEL         1   \n",
       "597    536412     22569        FELTCRAFT CUSHION BUTTERFLY         2   \n",
       "598    536412     21448          12 DAISY PEGS IN WOOD BOX         1   \n",
       "\n",
       "            InvoiceDate  UnitPrice  CustomerID         Country  \n",
       "485 2010-12-01 11:45:00       4.95     17908.0  United Kingdom  \n",
       "489 2010-12-01 11:45:00       2.10     17908.0  United Kingdom  \n",
       "494 2010-12-01 11:45:00       1.25     17908.0  United Kingdom  \n",
       "517 2010-12-01 11:45:00       1.25     17908.0  United Kingdom  \n",
       "521 2010-12-01 11:45:00       2.95     17908.0  United Kingdom  \n",
       "527 2010-12-01 11:45:00       2.10     17908.0  United Kingdom  \n",
       "537 2010-12-01 11:45:00       2.95     17908.0  United Kingdom  \n",
       "539 2010-12-01 11:45:00       4.95     17908.0  United Kingdom  \n",
       "548 2010-12-01 11:49:00       2.95     17920.0  United Kingdom  \n",
       "555 2010-12-01 11:49:00       2.95     17920.0  United Kingdom  \n",
       "556 2010-12-01 11:49:00       2.95     17920.0  United Kingdom  \n",
       "565 2010-12-01 11:49:00       1.65     17920.0  United Kingdom  \n",
       "569 2010-12-01 11:49:00       3.75     17920.0  United Kingdom  \n",
       "574 2010-12-01 11:49:00       2.10     17920.0  United Kingdom  \n",
       "578 2010-12-01 11:49:00       1.65     17920.0  United Kingdom  \n",
       "587 2010-12-01 11:49:00       2.95     17920.0  United Kingdom  \n",
       "589 2010-12-01 11:49:00       3.75     17920.0  United Kingdom  \n",
       "594 2010-12-01 11:49:00       2.10     17920.0  United Kingdom  \n",
       "597 2010-12-01 11:49:00       3.75     17920.0  United Kingdom  \n",
       "598 2010-12-01 11:49:00       1.65     17920.0  United Kingdom  "
      ]
     },
     "execution_count": 13,
     "metadata": {},
     "output_type": "execute_result"
    }
   ],
   "source": [
    "# examine the source of duplicates\n",
    "df[df.duplicated(keep=False)].head(20)"
   ]
  },
  {
   "cell_type": "markdown",
   "metadata": {
    "cell_id": "b16cfd0541144254a7b1b74d8422820d",
    "deepnote_cell_type": "markdown"
   },
   "source": [
    "##### duplicates noticed and flagged are largely because of invoiceNo and invoiceDate by same CustomerID"
   ]
  },
  {
   "cell_type": "markdown",
   "metadata": {
    "cell_id": "e9d166a153904060ae31a9950c84e3e7",
    "deepnote_cell_type": "markdown"
   },
   "source": [
    "`"
   ]
  },
  {
   "cell_type": "code",
   "execution_count": 14,
   "metadata": {
    "cell_id": "9715bd6e620343a9aab6e2e01289ad87",
    "deepnote_cell_type": "code",
    "deepnote_to_be_reexecuted": false,
    "execution_millis": 134,
    "execution_start": 1687589149545,
    "scrolled": true,
    "source_hash": "8dadeccb"
   },
   "outputs": [
    {
     "name": "stdout",
     "output_type": "stream",
     "text": [
      "<class 'pandas.core.frame.DataFrame'>\n",
      "Int64Index: 406829 entries, 0 to 541908\n",
      "Data columns (total 8 columns):\n",
      " #   Column       Non-Null Count   Dtype         \n",
      "---  ------       --------------   -----         \n",
      " 0   InvoiceNo    406829 non-null  object        \n",
      " 1   StockCode    406829 non-null  object        \n",
      " 2   Description  406829 non-null  object        \n",
      " 3   Quantity     406829 non-null  int64         \n",
      " 4   InvoiceDate  406829 non-null  datetime64[ns]\n",
      " 5   UnitPrice    406829 non-null  float64       \n",
      " 6   CustomerID   406829 non-null  float64       \n",
      " 7   Country      406829 non-null  object        \n",
      "dtypes: datetime64[ns](1), float64(2), int64(1), object(4)\n",
      "memory usage: 27.9+ MB\n"
     ]
    }
   ],
   "source": [
    "# dataframe data type information and more\n",
    "df.info()"
   ]
  },
  {
   "cell_type": "code",
   "execution_count": 15,
   "metadata": {
    "cell_id": "19bafd136974423283a697de399e5a50",
    "deepnote_cell_type": "code",
    "deepnote_to_be_reexecuted": false,
    "execution_millis": 21,
    "execution_start": 1687589149658,
    "source_hash": "8c80c72b"
   },
   "outputs": [],
   "source": [
    "# function to clean and normalize the string columns\n",
    "def clean_description(description):\n",
    "    # Convert to lowercase\n",
    "    description = description.lower()\n",
    "    \n",
    "    # Remove leading and trailing whitespace\n",
    "    description = description.strip()\n",
    "    \n",
    "    # Remove special characters\n",
    "    description = re.sub('[^a-zA-Z0-9\\s]', '', description)\n",
    "    \n",
    "    return description"
   ]
  },
  {
   "cell_type": "code",
   "execution_count": 16,
   "metadata": {
    "cell_id": "9c92e4d8a7f448b4b50c3e63d8520a07",
    "deepnote_cell_type": "code",
    "deepnote_to_be_reexecuted": false,
    "execution_millis": 1190,
    "execution_start": 1687589149659,
    "source_hash": "4af29177"
   },
   "outputs": [],
   "source": [
    "# apply the function to Description and Country columns\n",
    "df['Description'] = df['Description'].apply(clean_description)\n",
    "df['Country'] = df['Country'].apply(clean_description)"
   ]
  },
  {
   "cell_type": "code",
   "execution_count": 17,
   "metadata": {
    "cell_id": "3e3c1e0be02c4599a4e158c399a06849",
    "deepnote_cell_type": "code",
    "deepnote_to_be_reexecuted": false,
    "execution_millis": 80,
    "execution_start": 1687589150864,
    "source_hash": "72bce9b9"
   },
   "outputs": [],
   "source": [
    "# Convert InvoiceDate to datetime format, and CustomerID to object format\n",
    "df['InvoiceDate'] = pd.to_datetime(df['InvoiceDate'])\n",
    "df['CustomerID'] = df['CustomerID'].astype('object')"
   ]
  },
  {
   "cell_type": "markdown",
   "metadata": {
    "cell_id": "9660e7de7f8143898174c3ae50db0559",
    "deepnote_cell_type": "markdown"
   },
   "source": [
    "`"
   ]
  },
  {
   "cell_type": "markdown",
   "metadata": {
    "cell_id": "7ffb1601395247edb516c79e8edeb9a8",
    "deepnote_cell_type": "markdown"
   },
   "source": [
    "##### examining the number of unique countries in the Country column"
   ]
  },
  {
   "cell_type": "code",
   "execution_count": 18,
   "metadata": {
    "cell_id": "f8dc7f1a61664edb9c5bf472fd4d2a05",
    "deepnote_cell_type": "code",
    "deepnote_to_be_reexecuted": false,
    "execution_millis": 45,
    "execution_start": 1687589150985,
    "scrolled": true,
    "source_hash": "9e756415"
   },
   "outputs": [
    {
     "name": "stdout",
     "output_type": "stream",
     "text": [
      "Total number of unque countries in the data: 37\n"
     ]
    },
    {
     "data": {
      "text/plain": [
       "array(['united kingdom', 'france', 'australia', 'netherlands', 'germany',\n",
       "       'norway', 'eire', 'switzerland', 'spain', 'poland', 'portugal',\n",
       "       'italy', 'belgium', 'lithuania', 'japan', 'iceland',\n",
       "       'channel islands', 'denmark', 'cyprus', 'sweden', 'austria',\n",
       "       'israel', 'finland', 'greece', 'singapore', 'lebanon',\n",
       "       'united arab emirates', 'saudi arabia', 'czech republic', 'canada',\n",
       "       'unspecified', 'brazil', 'usa', 'european community', 'bahrain',\n",
       "       'malta', 'rsa'], dtype=object)"
      ]
     },
     "execution_count": 18,
     "metadata": {},
     "output_type": "execute_result"
    }
   ],
   "source": [
    "print('Total number of unque countries in the data:', df['Country'].nunique())\n",
    "df['Country'].unique()"
   ]
  },
  {
   "cell_type": "code",
   "execution_count": 19,
   "metadata": {
    "cell_id": "ba4c4662a2644b7da0a1f183cef02896",
    "deepnote_cell_type": "code",
    "deepnote_to_be_reexecuted": false,
    "execution_millis": 56,
    "execution_start": 1687589151073,
    "source_hash": "670f32f4"
   },
   "outputs": [
    {
     "data": {
      "application/vnd.deepnote.dataframe.v3+json": {
       "column_count": 3,
       "columns": [
        {
         "dtype": "datetime64[ns]",
         "name": "min",
         "stats": {
          "histogram": [
           {
            "bin_end": 1293923784000000000,
            "bin_start": 1291191960000000000,
            "count": 23
           },
           {
            "bin_end": 1296655608000000000,
            "bin_start": 1293923784000000000,
            "count": 3
           },
           {
            "bin_end": 1299387432000000000,
            "bin_start": 1296655608000000000,
            "count": 3
           },
           {
            "bin_end": 1302119256000000000,
            "bin_start": 1299387432000000000,
            "count": 1
           },
           {
            "bin_end": 1304851080000000000,
            "bin_start": 1302119256000000000,
            "count": 4
           },
           {
            "bin_end": 1307582904000000000,
            "bin_start": 1304851080000000000,
            "count": 2
           },
           {
            "bin_end": 1310314728000000000,
            "bin_start": 1307582904000000000,
            "count": 0
           },
           {
            "bin_end": 1313046552000000000,
            "bin_start": 1310314728000000000,
            "count": 0
           },
           {
            "bin_end": 1315778376000000000,
            "bin_start": 1313046552000000000,
            "count": 0
           },
           {
            "bin_end": 1318510200000000000,
            "bin_start": 1315778376000000000,
            "count": 1
           }
          ],
          "max": "2011-10-13 12:50:00",
          "min": "2010-12-01 08:26:00",
          "nan_count": 0,
          "unique_count": 37
         }
        },
        {
         "dtype": "datetime64[ns]",
         "name": "max",
         "stats": {
          "histogram": [
           {
            "bin_end": 1294980942000000000,
            "bin_start": 1291819380000000000,
            "count": 1
           },
           {
            "bin_end": 1298142504000000000,
            "bin_start": 1294980942000000000,
            "count": 1
           },
           {
            "bin_end": 1301304066000000000,
            "bin_start": 1298142504000000000,
            "count": 1
           },
           {
            "bin_end": 1304465628000000000,
            "bin_start": 1301304066000000000,
            "count": 1
           },
           {
            "bin_end": 1307627190000000000,
            "bin_start": 1304465628000000000,
            "count": 1
           },
           {
            "bin_end": 1310788752000000000,
            "bin_start": 1307627190000000000,
            "count": 0
           },
           {
            "bin_end": 1313950314000000000,
            "bin_start": 1310788752000000000,
            "count": 1
           },
           {
            "bin_end": 1317111876000000000,
            "bin_start": 1313950314000000000,
            "count": 3
           },
           {
            "bin_end": 1320273438000000000,
            "bin_start": 1317111876000000000,
            "count": 3
           },
           {
            "bin_end": 1323435000000000000,
            "bin_start": 1320273438000000000,
            "count": 25
           }
          ],
          "max": "2011-12-09 12:50:00",
          "min": "2010-12-08 14:43:00",
          "nan_count": 0,
          "unique_count": 37
         }
        },
        {
         "dtype": "timedelta64[ns]",
         "name": "date_interval",
         "stats": {
          "histogram": [
           {
            "bin_end": 3224298000000000,
            "bin_start": 0,
            "count": 6
           },
           {
            "bin_end": 6448596000000000,
            "bin_start": 3224298000000000,
            "count": 0
           },
           {
            "bin_end": 9672894000000000,
            "bin_start": 6448596000000000,
            "count": 1
           },
           {
            "bin_end": 12897192000000000,
            "bin_start": 9672894000000000,
            "count": 1
           },
           {
            "bin_end": 16121490000000000,
            "bin_start": 12897192000000000,
            "count": 2
           },
           {
            "bin_end": 19345788000000000,
            "bin_start": 16121490000000000,
            "count": 1
           },
           {
            "bin_end": 22570086000000000,
            "bin_start": 19345788000000000,
            "count": 1
           },
           {
            "bin_end": 25794384000000000,
            "bin_start": 22570086000000000,
            "count": 3
           },
           {
            "bin_end": 29018682000000000,
            "bin_start": 25794384000000000,
            "count": 1
           },
           {
            "bin_end": 32242980000000000,
            "bin_start": 29018682000000000,
            "count": 21
           }
          ],
          "max": "373 days 04:23:00",
          "min": "0 days 00:00:00",
          "nan_count": 0,
          "unique_count": 35
         }
        },
        {
         "dtype": "object",
         "name": "_deepnote_index_column"
        }
       ],
       "row_count": 37,
       "rows": [
        {
         "_deepnote_index_column": "united kingdom",
         "date_interval": "373 days 04:23:00",
         "max": "2011-12-09 12:49:00",
         "min": "2010-12-01 08:26:00"
        },
        {
         "_deepnote_index_column": "france",
         "date_interval": "373 days 04:05:00",
         "max": "2011-12-09 12:50:00",
         "min": "2010-12-01 08:45:00"
        },
        {
         "_deepnote_index_column": "germany",
         "date_interval": "372 days 23:12:00",
         "max": "2011-12-09 12:16:00",
         "min": "2010-12-01 13:04:00"
        },
        {
         "_deepnote_index_column": "norway",
         "date_interval": "372 days 20:38:00",
         "max": "2011-12-09 10:02:00",
         "min": "2010-12-01 13:24:00"
        },
        {
         "_deepnote_index_column": "eire",
         "date_interval": "372 days 01:49:00",
         "max": "2011-12-08 15:54:00",
         "min": "2010-12-01 14:05:00"
        },
        {
         "_deepnote_index_column": "netherlands",
         "date_interval": "372 days 00:45:00",
         "max": "2011-12-08 12:12:00",
         "min": "2010-12-01 11:27:00"
        },
        {
         "_deepnote_index_column": "belgium",
         "date_interval": "370 days 17:35:00",
         "max": "2011-12-09 10:10:00",
         "min": "2010-12-03 16:35:00"
        },
        {
         "_deepnote_index_column": "spain",
         "date_interval": "369 days 04:45:00",
         "max": "2011-12-07 17:05:00",
         "min": "2010-12-03 12:20:00"
        },
        {
         "_deepnote_index_column": "portugal",
         "date_interval": "369 days 00:42:00",
         "max": "2011-12-07 15:56:00",
         "min": "2010-12-03 15:14:00"
        },
        {
         "_deepnote_index_column": "italy",
         "date_interval": "367 days 17:50:00",
         "max": "2011-12-06 09:35:00",
         "min": "2010-12-03 15:45:00"
        }
       ]
      },
      "text/html": [
       "<div>\n",
       "<style scoped>\n",
       "    .dataframe tbody tr th:only-of-type {\n",
       "        vertical-align: middle;\n",
       "    }\n",
       "\n",
       "    .dataframe tbody tr th {\n",
       "        vertical-align: top;\n",
       "    }\n",
       "\n",
       "    .dataframe thead th {\n",
       "        text-align: right;\n",
       "    }\n",
       "</style>\n",
       "<table border=\"1\" class=\"dataframe\">\n",
       "  <thead>\n",
       "    <tr style=\"text-align: right;\">\n",
       "      <th></th>\n",
       "      <th>min</th>\n",
       "      <th>max</th>\n",
       "      <th>date_interval</th>\n",
       "    </tr>\n",
       "    <tr>\n",
       "      <th>Country</th>\n",
       "      <th></th>\n",
       "      <th></th>\n",
       "      <th></th>\n",
       "    </tr>\n",
       "  </thead>\n",
       "  <tbody>\n",
       "    <tr>\n",
       "      <th>united kingdom</th>\n",
       "      <td>2010-12-01 08:26:00</td>\n",
       "      <td>2011-12-09 12:49:00</td>\n",
       "      <td>373 days 04:23:00</td>\n",
       "    </tr>\n",
       "    <tr>\n",
       "      <th>france</th>\n",
       "      <td>2010-12-01 08:45:00</td>\n",
       "      <td>2011-12-09 12:50:00</td>\n",
       "      <td>373 days 04:05:00</td>\n",
       "    </tr>\n",
       "    <tr>\n",
       "      <th>germany</th>\n",
       "      <td>2010-12-01 13:04:00</td>\n",
       "      <td>2011-12-09 12:16:00</td>\n",
       "      <td>372 days 23:12:00</td>\n",
       "    </tr>\n",
       "    <tr>\n",
       "      <th>norway</th>\n",
       "      <td>2010-12-01 13:24:00</td>\n",
       "      <td>2011-12-09 10:02:00</td>\n",
       "      <td>372 days 20:38:00</td>\n",
       "    </tr>\n",
       "    <tr>\n",
       "      <th>eire</th>\n",
       "      <td>2010-12-01 14:05:00</td>\n",
       "      <td>2011-12-08 15:54:00</td>\n",
       "      <td>372 days 01:49:00</td>\n",
       "    </tr>\n",
       "    <tr>\n",
       "      <th>netherlands</th>\n",
       "      <td>2010-12-01 11:27:00</td>\n",
       "      <td>2011-12-08 12:12:00</td>\n",
       "      <td>372 days 00:45:00</td>\n",
       "    </tr>\n",
       "    <tr>\n",
       "      <th>belgium</th>\n",
       "      <td>2010-12-03 16:35:00</td>\n",
       "      <td>2011-12-09 10:10:00</td>\n",
       "      <td>370 days 17:35:00</td>\n",
       "    </tr>\n",
       "    <tr>\n",
       "      <th>spain</th>\n",
       "      <td>2010-12-03 12:20:00</td>\n",
       "      <td>2011-12-07 17:05:00</td>\n",
       "      <td>369 days 04:45:00</td>\n",
       "    </tr>\n",
       "    <tr>\n",
       "      <th>portugal</th>\n",
       "      <td>2010-12-03 15:14:00</td>\n",
       "      <td>2011-12-07 15:56:00</td>\n",
       "      <td>369 days 00:42:00</td>\n",
       "    </tr>\n",
       "    <tr>\n",
       "      <th>italy</th>\n",
       "      <td>2010-12-03 15:45:00</td>\n",
       "      <td>2011-12-06 09:35:00</td>\n",
       "      <td>367 days 17:50:00</td>\n",
       "    </tr>\n",
       "    <tr>\n",
       "      <th>japan</th>\n",
       "      <td>2010-12-05 15:46:00</td>\n",
       "      <td>2011-12-06 11:40:00</td>\n",
       "      <td>365 days 19:54:00</td>\n",
       "    </tr>\n",
       "    <tr>\n",
       "      <th>iceland</th>\n",
       "      <td>2010-12-07 14:57:00</td>\n",
       "      <td>2011-12-07 15:52:00</td>\n",
       "      <td>365 days 00:55:00</td>\n",
       "    </tr>\n",
       "    <tr>\n",
       "      <th>channel islands</th>\n",
       "      <td>2010-12-09 11:48:00</td>\n",
       "      <td>2011-12-08 11:53:00</td>\n",
       "      <td>364 days 00:05:00</td>\n",
       "    </tr>\n",
       "    <tr>\n",
       "      <th>denmark</th>\n",
       "      <td>2010-12-09 12:05:00</td>\n",
       "      <td>2011-12-05 16:48:00</td>\n",
       "      <td>361 days 04:43:00</td>\n",
       "    </tr>\n",
       "    <tr>\n",
       "      <th>switzerland</th>\n",
       "      <td>2010-12-03 10:36:00</td>\n",
       "      <td>2011-11-29 08:40:00</td>\n",
       "      <td>360 days 22:04:00</td>\n",
       "    </tr>\n",
       "    <tr>\n",
       "      <th>australia</th>\n",
       "      <td>2010-12-01 10:03:00</td>\n",
       "      <td>2011-11-24 12:30:00</td>\n",
       "      <td>358 days 02:27:00</td>\n",
       "    </tr>\n",
       "    <tr>\n",
       "      <th>austria</th>\n",
       "      <td>2010-12-15 11:39:00</td>\n",
       "      <td>2011-12-08 10:26:00</td>\n",
       "      <td>357 days 22:47:00</td>\n",
       "    </tr>\n",
       "    <tr>\n",
       "      <th>sweden</th>\n",
       "      <td>2010-12-14 13:27:00</td>\n",
       "      <td>2011-12-05 16:26:00</td>\n",
       "      <td>356 days 02:59:00</td>\n",
       "    </tr>\n",
       "    <tr>\n",
       "      <th>finland</th>\n",
       "      <td>2010-12-16 19:09:00</td>\n",
       "      <td>2011-12-07 11:27:00</td>\n",
       "      <td>355 days 16:18:00</td>\n",
       "    </tr>\n",
       "    <tr>\n",
       "      <th>cyprus</th>\n",
       "      <td>2010-12-14 12:58:00</td>\n",
       "      <td>2011-12-02 11:21:00</td>\n",
       "      <td>352 days 22:23:00</td>\n",
       "    </tr>\n",
       "    <tr>\n",
       "      <th>poland</th>\n",
       "      <td>2010-12-03 13:40:00</td>\n",
       "      <td>2011-11-18 17:10:00</td>\n",
       "      <td>350 days 03:30:00</td>\n",
       "    </tr>\n",
       "    <tr>\n",
       "      <th>greece</th>\n",
       "      <td>2011-01-24 11:39:00</td>\n",
       "      <td>2011-12-06 09:56:00</td>\n",
       "      <td>315 days 22:17:00</td>\n",
       "    </tr>\n",
       "    <tr>\n",
       "      <th>israel</th>\n",
       "      <td>2010-12-15 14:42:00</td>\n",
       "      <td>2011-10-04 14:55:00</td>\n",
       "      <td>293 days 00:13:00</td>\n",
       "    </tr>\n",
       "    <tr>\n",
       "      <th>singapore</th>\n",
       "      <td>2011-01-25 13:26:00</td>\n",
       "      <td>2011-10-19 11:18:00</td>\n",
       "      <td>266 days 21:52:00</td>\n",
       "    </tr>\n",
       "    <tr>\n",
       "      <th>czech republic</th>\n",
       "      <td>2011-02-28 08:43:00</td>\n",
       "      <td>2011-11-18 15:45:00</td>\n",
       "      <td>263 days 07:02:00</td>\n",
       "    </tr>\n",
       "    <tr>\n",
       "      <th>usa</th>\n",
       "      <td>2011-04-19 16:19:00</td>\n",
       "      <td>2011-12-08 10:14:00</td>\n",
       "      <td>232 days 17:55:00</td>\n",
       "    </tr>\n",
       "    <tr>\n",
       "      <th>united arab emirates</th>\n",
       "      <td>2011-02-14 12:46:00</td>\n",
       "      <td>2011-09-22 13:00:00</td>\n",
       "      <td>220 days 00:14:00</td>\n",
       "    </tr>\n",
       "    <tr>\n",
       "      <th>malta</th>\n",
       "      <td>2011-06-08 08:31:00</td>\n",
       "      <td>2011-12-01 09:34:00</td>\n",
       "      <td>176 days 01:03:00</td>\n",
       "    </tr>\n",
       "    <tr>\n",
       "      <th>canada</th>\n",
       "      <td>2011-03-14 13:53:00</td>\n",
       "      <td>2011-08-25 11:27:00</td>\n",
       "      <td>163 days 21:34:00</td>\n",
       "    </tr>\n",
       "    <tr>\n",
       "      <th>unspecified</th>\n",
       "      <td>2011-04-11 13:29:00</td>\n",
       "      <td>2011-08-22 13:32:00</td>\n",
       "      <td>133 days 00:03:00</td>\n",
       "    </tr>\n",
       "    <tr>\n",
       "      <th>european community</th>\n",
       "      <td>2011-04-26 10:54:00</td>\n",
       "      <td>2011-07-21 10:24:00</td>\n",
       "      <td>85 days 23:30:00</td>\n",
       "    </tr>\n",
       "    <tr>\n",
       "      <th>bahrain</th>\n",
       "      <td>2011-05-09 13:49:00</td>\n",
       "      <td>2011-05-19 17:47:00</td>\n",
       "      <td>10 days 03:58:00</td>\n",
       "    </tr>\n",
       "    <tr>\n",
       "      <th>saudi arabia</th>\n",
       "      <td>2011-02-24 10:34:00</td>\n",
       "      <td>2011-03-03 11:43:00</td>\n",
       "      <td>7 days 01:09:00</td>\n",
       "    </tr>\n",
       "    <tr>\n",
       "      <th>lithuania</th>\n",
       "      <td>2010-12-05 12:00:00</td>\n",
       "      <td>2010-12-08 14:43:00</td>\n",
       "      <td>3 days 02:43:00</td>\n",
       "    </tr>\n",
       "    <tr>\n",
       "      <th>rsa</th>\n",
       "      <td>2011-10-13 12:50:00</td>\n",
       "      <td>2011-10-13 12:50:00</td>\n",
       "      <td>0 days 00:00:00</td>\n",
       "    </tr>\n",
       "    <tr>\n",
       "      <th>lebanon</th>\n",
       "      <td>2011-01-27 10:19:00</td>\n",
       "      <td>2011-01-27 10:19:00</td>\n",
       "      <td>0 days 00:00:00</td>\n",
       "    </tr>\n",
       "    <tr>\n",
       "      <th>brazil</th>\n",
       "      <td>2011-04-15 10:25:00</td>\n",
       "      <td>2011-04-15 10:25:00</td>\n",
       "      <td>0 days 00:00:00</td>\n",
       "    </tr>\n",
       "  </tbody>\n",
       "</table>\n",
       "</div>"
      ],
      "text/plain": [
       "                                     min                 max     date_interval\n",
       "Country                                                                       \n",
       "united kingdom       2010-12-01 08:26:00 2011-12-09 12:49:00 373 days 04:23:00\n",
       "france               2010-12-01 08:45:00 2011-12-09 12:50:00 373 days 04:05:00\n",
       "germany              2010-12-01 13:04:00 2011-12-09 12:16:00 372 days 23:12:00\n",
       "norway               2010-12-01 13:24:00 2011-12-09 10:02:00 372 days 20:38:00\n",
       "eire                 2010-12-01 14:05:00 2011-12-08 15:54:00 372 days 01:49:00\n",
       "netherlands          2010-12-01 11:27:00 2011-12-08 12:12:00 372 days 00:45:00\n",
       "belgium              2010-12-03 16:35:00 2011-12-09 10:10:00 370 days 17:35:00\n",
       "spain                2010-12-03 12:20:00 2011-12-07 17:05:00 369 days 04:45:00\n",
       "portugal             2010-12-03 15:14:00 2011-12-07 15:56:00 369 days 00:42:00\n",
       "italy                2010-12-03 15:45:00 2011-12-06 09:35:00 367 days 17:50:00\n",
       "japan                2010-12-05 15:46:00 2011-12-06 11:40:00 365 days 19:54:00\n",
       "iceland              2010-12-07 14:57:00 2011-12-07 15:52:00 365 days 00:55:00\n",
       "channel islands      2010-12-09 11:48:00 2011-12-08 11:53:00 364 days 00:05:00\n",
       "denmark              2010-12-09 12:05:00 2011-12-05 16:48:00 361 days 04:43:00\n",
       "switzerland          2010-12-03 10:36:00 2011-11-29 08:40:00 360 days 22:04:00\n",
       "australia            2010-12-01 10:03:00 2011-11-24 12:30:00 358 days 02:27:00\n",
       "austria              2010-12-15 11:39:00 2011-12-08 10:26:00 357 days 22:47:00\n",
       "sweden               2010-12-14 13:27:00 2011-12-05 16:26:00 356 days 02:59:00\n",
       "finland              2010-12-16 19:09:00 2011-12-07 11:27:00 355 days 16:18:00\n",
       "cyprus               2010-12-14 12:58:00 2011-12-02 11:21:00 352 days 22:23:00\n",
       "poland               2010-12-03 13:40:00 2011-11-18 17:10:00 350 days 03:30:00\n",
       "greece               2011-01-24 11:39:00 2011-12-06 09:56:00 315 days 22:17:00\n",
       "israel               2010-12-15 14:42:00 2011-10-04 14:55:00 293 days 00:13:00\n",
       "singapore            2011-01-25 13:26:00 2011-10-19 11:18:00 266 days 21:52:00\n",
       "czech republic       2011-02-28 08:43:00 2011-11-18 15:45:00 263 days 07:02:00\n",
       "usa                  2011-04-19 16:19:00 2011-12-08 10:14:00 232 days 17:55:00\n",
       "united arab emirates 2011-02-14 12:46:00 2011-09-22 13:00:00 220 days 00:14:00\n",
       "malta                2011-06-08 08:31:00 2011-12-01 09:34:00 176 days 01:03:00\n",
       "canada               2011-03-14 13:53:00 2011-08-25 11:27:00 163 days 21:34:00\n",
       "unspecified          2011-04-11 13:29:00 2011-08-22 13:32:00 133 days 00:03:00\n",
       "european community   2011-04-26 10:54:00 2011-07-21 10:24:00  85 days 23:30:00\n",
       "bahrain              2011-05-09 13:49:00 2011-05-19 17:47:00  10 days 03:58:00\n",
       "saudi arabia         2011-02-24 10:34:00 2011-03-03 11:43:00   7 days 01:09:00\n",
       "lithuania            2010-12-05 12:00:00 2010-12-08 14:43:00   3 days 02:43:00\n",
       "rsa                  2011-10-13 12:50:00 2011-10-13 12:50:00   0 days 00:00:00\n",
       "lebanon              2011-01-27 10:19:00 2011-01-27 10:19:00   0 days 00:00:00\n",
       "brazil               2011-04-15 10:25:00 2011-04-15 10:25:00   0 days 00:00:00"
      ]
     },
     "execution_count": 19,
     "metadata": {},
     "output_type": "execute_result"
    }
   ],
   "source": [
    "# checking for the min and max date of countries in their transactions\n",
    "# Group data by Country and find the first and last dates\n",
    "country_dates = df.groupby('Country')['InvoiceDate'].agg(['min', 'max'])\n",
    "\n",
    "country_dates['date_interval'] = (country_dates[min] - country_dates[max])\n",
    "\n",
    "country_dates.sort_values(by='date_interval', ascending=False)"
   ]
  },
  {
   "cell_type": "markdown",
   "metadata": {
    "cell_id": "8f2c993dbfa7477394df38aa7e39a28f",
    "deepnote_cell_type": "markdown"
   },
   "source": [
    "##### As seen, not all countries have up to minimum of 6 months of InvoiceDate"
   ]
  },
  {
   "cell_type": "markdown",
   "metadata": {
    "cell_id": "acc8d29f4c7d4cd3a2de8b93e652e6d3",
    "deepnote_cell_type": "markdown"
   },
   "source": [
    "##### The decision is to only work with countries with more than 6 months of invoiceDate interval, and to sieve out countries with InvoiceDate of minimum of 6 months (An alternative is to find the country which have been consistent for the past 6 months till date)"
   ]
  },
  {
   "cell_type": "markdown",
   "metadata": {
    "cell_id": "9cfe27cb9eff4b478d9621a39515376d",
    "deepnote_cell_type": "markdown"
   },
   "source": [
    "`"
   ]
  },
  {
   "cell_type": "code",
   "execution_count": 20,
   "metadata": {
    "cell_id": "4d7d0685a00a449ebdbc19aeffa4d6a3",
    "deepnote_cell_type": "code",
    "deepnote_to_be_reexecuted": false,
    "execution_millis": 6,
    "execution_start": 1687589151148,
    "source_hash": "cfee7d1f"
   },
   "outputs": [
    {
     "data": {
      "text/plain": [
       "(406829, 8)"
      ]
     },
     "execution_count": 20,
     "metadata": {},
     "output_type": "execute_result"
    }
   ],
   "source": [
    "# number of columns and rows before removing countries with less than 6 months transactions interval\n",
    "df.shape"
   ]
  },
  {
   "cell_type": "code",
   "execution_count": 21,
   "metadata": {
    "cell_id": "29c996675af64a46ba603c1b27bb78b1",
    "deepnote_cell_type": "code",
    "deepnote_to_be_reexecuted": false,
    "execution_millis": 6,
    "execution_start": 1687589151157,
    "source_hash": "4662b9d6"
   },
   "outputs": [
    {
     "name": "stdout",
     "output_type": "stream",
     "text": [
      "Countries with a minimum 6 months interval:\n",
      "['australia', 'austria', 'belgium', 'channel islands', 'cyprus', 'czech republic', 'denmark', 'eire', 'finland', 'france', 'germany', 'greece', 'iceland', 'israel', 'italy', 'japan', 'netherlands', 'norway', 'poland', 'portugal', 'singapore', 'spain', 'sweden', 'switzerland', 'united arab emirates', 'united kingdom', 'usa']\n",
      "\n",
      "\n",
      "Total number of countries: 27\n"
     ]
    }
   ],
   "source": [
    "# Group data by Country and find the first and last dates\n",
    "#country_dates = df.groupby('Country')['InvoiceDate'].agg(['min', 'max'])\n",
    "\n",
    "# Filter countries with less than 6 months interval\n",
    "filtered_countries = country_dates[country_dates['max'] - country_dates['min'] >= pd.Timedelta(days=180)]\n",
    "\n",
    "# Get the list of filtered countries\n",
    "filtered_country_list = filtered_countries.index.tolist()\n",
    "\n",
    "# Print the list of filtered countries\n",
    "print(\"Countries with a minimum 6 months interval:\")\n",
    "print(filtered_country_list)\n",
    "print('\\n')\n",
    "print('Total number of countries:',len(filtered_country_list))"
   ]
  },
  {
   "cell_type": "code",
   "execution_count": 22,
   "metadata": {
    "cell_id": "2e6acc1c27514a959fdc9df3e898b94c",
    "deepnote_cell_type": "code",
    "deepnote_to_be_reexecuted": false,
    "execution_millis": 125,
    "execution_start": 1687589151202,
    "source_hash": "9941baee"
   },
   "outputs": [
    {
     "name": "stdout",
     "output_type": "stream",
     "text": [
      "(406049, 8)\n"
     ]
    }
   ],
   "source": [
    "# filter the df based on the filtered countries\n",
    "df = df[df['Country'].isin(filtered_country_list)]\n",
    "\n",
    "# print the filtered DataFrame\n",
    "print(df.shape)"
   ]
  },
  {
   "cell_type": "markdown",
   "metadata": {
    "cell_id": "6ac68ac76a394819b08f5b1989ca7778",
    "deepnote_cell_type": "markdown"
   },
   "source": [
    "`"
   ]
  },
  {
   "cell_type": "code",
   "execution_count": 23,
   "metadata": {
    "cell_id": "c991b7bed5e04983881665720f0f6e93",
    "deepnote_cell_type": "code",
    "deepnote_to_be_reexecuted": false,
    "execution_millis": 15,
    "execution_start": 1687589151357,
    "source_hash": "e9da8319"
   },
   "outputs": [
    {
     "data": {
      "text/plain": [
       "array(['united kingdom', 'france', 'australia', 'netherlands', 'germany',\n",
       "       'norway', 'eire', 'switzerland', 'spain', 'poland', 'portugal',\n",
       "       'italy', 'belgium', 'japan', 'iceland', 'channel islands',\n",
       "       'denmark', 'cyprus', 'sweden', 'austria', 'israel', 'finland',\n",
       "       'greece', 'singapore', 'united arab emirates', 'czech republic',\n",
       "       'usa'], dtype=object)"
      ]
     },
     "execution_count": 23,
     "metadata": {},
     "output_type": "execute_result"
    }
   ],
   "source": [
    "# check the country\n",
    "df['Country'].unique()"
   ]
  },
  {
   "cell_type": "markdown",
   "metadata": {
    "cell_id": "2d4e67878d954a6086cf9697af5787b9",
    "deepnote_cell_type": "markdown"
   },
   "source": [
    "`"
   ]
  },
  {
   "cell_type": "code",
   "execution_count": 24,
   "metadata": {
    "cell_id": "ab89d0cb829b4587b93f979e39bafed6",
    "deepnote_cell_type": "code",
    "deepnote_to_be_reexecuted": false,
    "execution_millis": 79,
    "execution_start": 1687589151379,
    "source_hash": "825e9f39"
   },
   "outputs": [
    {
     "data": {
      "application/vnd.deepnote.dataframe.v3+json": {
       "column_count": 2,
       "columns": [
        {
         "dtype": "float64",
         "name": "Quantity",
         "stats": {
          "histogram": [
           {
            "bin_end": -32290.6,
            "bin_start": -80995,
            "count": 1
           },
           {
            "bin_end": 16413.800000000003,
            "bin_start": -32290.6,
            "count": 5
           },
           {
            "bin_end": 65118.20000000001,
            "bin_start": 16413.800000000003,
            "count": 0
           },
           {
            "bin_end": 113822.6,
            "bin_start": 65118.20000000001,
            "count": 1
           },
           {
            "bin_end": 162527,
            "bin_start": 113822.6,
            "count": 0
           },
           {
            "bin_end": 211231.40000000002,
            "bin_start": 162527,
            "count": 0
           },
           {
            "bin_end": 259935.8,
            "bin_start": 211231.40000000002,
            "count": 0
           },
           {
            "bin_end": 308640.2,
            "bin_start": 259935.8,
            "count": 0
           },
           {
            "bin_end": 357344.60000000003,
            "bin_start": 308640.2,
            "count": 0
           },
           {
            "bin_end": 406049,
            "bin_start": 357344.60000000003,
            "count": 1
           }
          ],
          "max": "406049.0",
          "min": "-80995.0",
          "nan_count": 0,
          "unique_count": 8
         }
        },
        {
         "dtype": "float64",
         "name": "UnitPrice",
         "stats": {
          "histogram": [
           {
            "bin_end": 40604.9,
            "bin_start": 0,
            "count": 7
           },
           {
            "bin_end": 81209.8,
            "bin_start": 40604.9,
            "count": 0
           },
           {
            "bin_end": 121814.70000000001,
            "bin_start": 81209.8,
            "count": 0
           },
           {
            "bin_end": 162419.6,
            "bin_start": 121814.70000000001,
            "count": 0
           },
           {
            "bin_end": 203024.5,
            "bin_start": 162419.6,
            "count": 0
           },
           {
            "bin_end": 243629.40000000002,
            "bin_start": 203024.5,
            "count": 0
           },
           {
            "bin_end": 284234.3,
            "bin_start": 243629.40000000002,
            "count": 0
           },
           {
            "bin_end": 324839.2,
            "bin_start": 284234.3,
            "count": 0
           },
           {
            "bin_end": 365444.10000000003,
            "bin_start": 324839.2,
            "count": 0
           },
           {
            "bin_end": 406049,
            "bin_start": 365444.10000000003,
            "count": 1
           }
          ],
          "max": "406049.0",
          "min": "0.0",
          "nan_count": 0,
          "unique_count": 8
         }
        },
        {
         "dtype": "object",
         "name": "_deepnote_index_column"
        }
       ],
       "row_count": 8,
       "rows": [
        {
         "Quantity": 406049,
         "UnitPrice": 406049,
         "_deepnote_index_column": "count"
        },
        {
         "Quantity": 12.064588263977992,
         "UnitPrice": 3.458530088733133,
         "_deepnote_index_column": "mean"
        },
        {
         "Quantity": 248.9301714611621,
         "UnitPrice": 69.37604873761707,
         "_deepnote_index_column": "std"
        },
        {
         "Quantity": -80995,
         "UnitPrice": 0,
         "_deepnote_index_column": "min"
        },
        {
         "Quantity": 2,
         "UnitPrice": 1.25,
         "_deepnote_index_column": "25%"
        },
        {
         "Quantity": 5,
         "UnitPrice": 1.95,
         "_deepnote_index_column": "50%"
        },
        {
         "Quantity": 12,
         "UnitPrice": 3.75,
         "_deepnote_index_column": "75%"
        },
        {
         "Quantity": 80995,
         "UnitPrice": 38970,
         "_deepnote_index_column": "max"
        }
       ]
      },
      "text/html": [
       "<div>\n",
       "<style scoped>\n",
       "    .dataframe tbody tr th:only-of-type {\n",
       "        vertical-align: middle;\n",
       "    }\n",
       "\n",
       "    .dataframe tbody tr th {\n",
       "        vertical-align: top;\n",
       "    }\n",
       "\n",
       "    .dataframe thead th {\n",
       "        text-align: right;\n",
       "    }\n",
       "</style>\n",
       "<table border=\"1\" class=\"dataframe\">\n",
       "  <thead>\n",
       "    <tr style=\"text-align: right;\">\n",
       "      <th></th>\n",
       "      <th>Quantity</th>\n",
       "      <th>UnitPrice</th>\n",
       "    </tr>\n",
       "  </thead>\n",
       "  <tbody>\n",
       "    <tr>\n",
       "      <th>count</th>\n",
       "      <td>406049.000000</td>\n",
       "      <td>406049.000000</td>\n",
       "    </tr>\n",
       "    <tr>\n",
       "      <th>mean</th>\n",
       "      <td>12.064588</td>\n",
       "      <td>3.458530</td>\n",
       "    </tr>\n",
       "    <tr>\n",
       "      <th>std</th>\n",
       "      <td>248.930171</td>\n",
       "      <td>69.376049</td>\n",
       "    </tr>\n",
       "    <tr>\n",
       "      <th>min</th>\n",
       "      <td>-80995.000000</td>\n",
       "      <td>0.000000</td>\n",
       "    </tr>\n",
       "    <tr>\n",
       "      <th>25%</th>\n",
       "      <td>2.000000</td>\n",
       "      <td>1.250000</td>\n",
       "    </tr>\n",
       "    <tr>\n",
       "      <th>50%</th>\n",
       "      <td>5.000000</td>\n",
       "      <td>1.950000</td>\n",
       "    </tr>\n",
       "    <tr>\n",
       "      <th>75%</th>\n",
       "      <td>12.000000</td>\n",
       "      <td>3.750000</td>\n",
       "    </tr>\n",
       "    <tr>\n",
       "      <th>max</th>\n",
       "      <td>80995.000000</td>\n",
       "      <td>38970.000000</td>\n",
       "    </tr>\n",
       "  </tbody>\n",
       "</table>\n",
       "</div>"
      ],
      "text/plain": [
       "            Quantity      UnitPrice\n",
       "count  406049.000000  406049.000000\n",
       "mean       12.064588       3.458530\n",
       "std       248.930171      69.376049\n",
       "min    -80995.000000       0.000000\n",
       "25%         2.000000       1.250000\n",
       "50%         5.000000       1.950000\n",
       "75%        12.000000       3.750000\n",
       "max     80995.000000   38970.000000"
      ]
     },
     "execution_count": 24,
     "metadata": {},
     "output_type": "execute_result"
    }
   ],
   "source": [
    "# statistics of Quality and UnitPrice columns\n",
    "df.describe()"
   ]
  },
  {
   "cell_type": "markdown",
   "metadata": {
    "cell_id": "bdb5aeae2caa4b0b98416988f7e14f4d",
    "deepnote_cell_type": "markdown"
   },
   "source": [
    "##### Based on df.info(), we need to examine why Quantity column has some negative number, UnitPrice column has 0.0  and the maximum values in both case"
   ]
  },
  {
   "cell_type": "code",
   "execution_count": 25,
   "metadata": {
    "cell_id": "287b1661ec894206a9047d398d35c22b",
    "deepnote_cell_type": "code",
    "deepnote_to_be_reexecuted": false,
    "execution_millis": 142,
    "execution_start": 1687589151463,
    "source_hash": "82c810bc"
   },
   "outputs": [
    {
     "data": {
      "application/vnd.deepnote.dataframe.v3+json": {
       "column_count": 8,
       "columns": [
        {
         "dtype": "object",
         "name": "InvoiceNo",
         "stats": {
          "categories": [
           {
            "count": 101,
            "name": "C570867"
           },
           {
            "count": 57,
            "name": "C560540"
           },
           {
            "count": 8730,
            "name": "3645 others"
           }
          ],
          "nan_count": 0,
          "unique_count": 3647
         }
        },
        {
         "dtype": "object",
         "name": "StockCode",
         "stats": {
          "categories": [
           {
            "count": 181,
            "name": "22423"
           },
           {
            "count": 175,
            "name": "M"
           },
           {
            "count": 8532,
            "name": "1918 others"
           }
          ],
          "nan_count": 0,
          "unique_count": 1920
         }
        },
        {
         "dtype": "object",
         "name": "Description",
         "stats": {
          "categories": [
           {
            "count": 181,
            "name": "regency cakestand 3 tier"
           },
           {
            "count": 175,
            "name": "manual"
           },
           {
            "count": 8532,
            "name": "1941 others"
           }
          ],
          "nan_count": 0,
          "unique_count": 1943
         }
        },
        {
         "dtype": "int64",
         "name": "Quantity",
         "stats": {
          "histogram": [
           {
            "bin_end": -72895.6,
            "bin_start": -80995,
            "count": 2
           },
           {
            "bin_end": -64796.2,
            "bin_start": -72895.6,
            "count": 0
           },
           {
            "bin_end": -56696.8,
            "bin_start": -64796.2,
            "count": 0
           },
           {
            "bin_end": -48597.4,
            "bin_start": -56696.8,
            "count": 0
           },
           {
            "bin_end": -40498,
            "bin_start": -48597.4,
            "count": 0
           },
           {
            "bin_end": -32398.600000000006,
            "bin_start": -40498,
            "count": 0
           },
           {
            "bin_end": -24299.200000000004,
            "bin_start": -32398.600000000006,
            "count": 0
           },
           {
            "bin_end": -16199.800000000003,
            "bin_start": -24299.200000000004,
            "count": 0
           },
           {
            "bin_end": -8100.400000000009,
            "bin_start": -16199.800000000003,
            "count": 1
           },
           {
            "bin_end": -1,
            "bin_start": -8100.400000000009,
            "count": 8885
           }
          ],
          "max": "-1",
          "min": "-80995",
          "nan_count": 0,
          "unique_count": 134
         }
        },
        {
         "dtype": "datetime64[ns]",
         "name": "InvoiceDate",
         "stats": {
          "histogram": [
           {
            "bin_end": 1294420002000000000,
            "bin_start": 1291196460000000000,
            "count": 861
           },
           {
            "bin_end": 1297643544000000000,
            "bin_start": 1294420002000000000,
            "count": 790
           },
           {
            "bin_end": 1300867086000000000,
            "bin_start": 1297643544000000000,
            "count": 576
           },
           {
            "bin_end": 1304090628000000000,
            "bin_start": 1300867086000000000,
            "count": 776
           },
           {
            "bin_end": 1307314170000000000,
            "bin_start": 1304090628000000000,
            "count": 676
           },
           {
            "bin_end": 1310537712000000000,
            "bin_start": 1307314170000000000,
            "count": 795
           },
           {
            "bin_end": 1313761254000000000,
            "bin_start": 1310537712000000000,
            "count": 816
           },
           {
            "bin_end": 1316984796000000000,
            "bin_start": 1313761254000000000,
            "count": 871
           },
           {
            "bin_end": 1320208338000000000,
            "bin_start": 1316984796000000000,
            "count": 1369
           },
           {
            "bin_end": 1323431880000000000,
            "bin_start": 1320208338000000000,
            "count": 1358
           }
          ],
          "max": "2011-12-09 11:58:00",
          "min": "2010-12-01 09:41:00",
          "nan_count": 0,
          "unique_count": 3579
         }
        },
        {
         "dtype": "float64",
         "name": "UnitPrice",
         "stats": {
          "histogram": [
           {
            "bin_end": 3897.009,
            "bin_start": 0.01,
            "count": 8882
           },
           {
            "bin_end": 7794.008,
            "bin_start": 3897.009,
            "count": 4
           },
           {
            "bin_end": 11691.007,
            "bin_start": 7794.008,
            "count": 1
           },
           {
            "bin_end": 15588.006,
            "bin_start": 11691.007,
            "count": 0
           },
           {
            "bin_end": 19485.004999999997,
            "bin_start": 15588.006,
            "count": 0
           },
           {
            "bin_end": 23382.003999999997,
            "bin_start": 19485.004999999997,
            "count": 0
           },
           {
            "bin_end": 27279.002999999997,
            "bin_start": 23382.003999999997,
            "count": 0
           },
           {
            "bin_end": 31176.001999999997,
            "bin_start": 27279.002999999997,
            "count": 0
           },
           {
            "bin_end": 35073.001,
            "bin_start": 31176.001999999997,
            "count": 0
           },
           {
            "bin_end": 38970,
            "bin_start": 35073.001,
            "count": 1
           }
          ],
          "max": "38970.0",
          "min": "0.01",
          "nan_count": 0,
          "unique_count": 376
         }
        },
        {
         "dtype": "object",
         "name": "CustomerID",
         "stats": {
          "categories": [
           {
            "count": 226,
            "name": "14911.0"
           },
           {
            "count": 136,
            "name": "17841.0"
           },
           {
            "count": 8526,
            "name": "1584 others"
           }
          ],
          "nan_count": 0,
          "unique_count": 1586
         }
        },
        {
         "dtype": "object",
         "name": "Country",
         "stats": {
          "categories": [
           {
            "count": 7533,
            "name": "united kingdom"
           },
           {
            "count": 453,
            "name": "germany"
           },
           {
            "count": 902,
            "name": "23 others"
           }
          ],
          "nan_count": 0,
          "unique_count": 25
         }
        },
        {
         "dtype": "int64",
         "name": "_deepnote_index_column"
        }
       ],
       "row_count": 8888,
       "rows": [
        {
         "Country": "united kingdom",
         "CustomerID": "14527.0",
         "Description": "discount",
         "InvoiceDate": "2010-12-01 09:41:00",
         "InvoiceNo": "C536379",
         "Quantity": -1,
         "StockCode": "D",
         "UnitPrice": 27.5,
         "_deepnote_index_column": 141
        },
        {
         "Country": "united kingdom",
         "CustomerID": "15311.0",
         "Description": "set of 3 coloured  flying ducks",
         "InvoiceDate": "2010-12-01 09:49:00",
         "InvoiceNo": "C536383",
         "Quantity": -1,
         "StockCode": "35004C",
         "UnitPrice": 4.65,
         "_deepnote_index_column": 154
        },
        {
         "Country": "united kingdom",
         "CustomerID": "17548.0",
         "Description": "plasters in tin circus parade",
         "InvoiceDate": "2010-12-01 10:24:00",
         "InvoiceNo": "C536391",
         "Quantity": -12,
         "StockCode": "22556",
         "UnitPrice": 1.65,
         "_deepnote_index_column": 235
        },
        {
         "Country": "united kingdom",
         "CustomerID": "17548.0",
         "Description": "pack of 12 pink paisley tissues",
         "InvoiceDate": "2010-12-01 10:24:00",
         "InvoiceNo": "C536391",
         "Quantity": -24,
         "StockCode": "21984",
         "UnitPrice": 0.29,
         "_deepnote_index_column": 236
        },
        {
         "Country": "united kingdom",
         "CustomerID": "17548.0",
         "Description": "pack of 12 blue paisley tissues",
         "InvoiceDate": "2010-12-01 10:24:00",
         "InvoiceNo": "C536391",
         "Quantity": -24,
         "StockCode": "21983",
         "UnitPrice": 0.29,
         "_deepnote_index_column": 237
        },
        {
         "Country": "united kingdom",
         "CustomerID": "17548.0",
         "Description": "pack of 12 red retrospot tissues",
         "InvoiceDate": "2010-12-01 10:24:00",
         "InvoiceNo": "C536391",
         "Quantity": -24,
         "StockCode": "21980",
         "UnitPrice": 0.29,
         "_deepnote_index_column": 238
        },
        {
         "Country": "united kingdom",
         "CustomerID": "17548.0",
         "Description": "chick grey hot water bottle",
         "InvoiceDate": "2010-12-01 10:24:00",
         "InvoiceNo": "C536391",
         "Quantity": -12,
         "StockCode": "21484",
         "UnitPrice": 3.45,
         "_deepnote_index_column": 239
        },
        {
         "Country": "united kingdom",
         "CustomerID": "17548.0",
         "Description": "plasters in tin vintage paisley",
         "InvoiceDate": "2010-12-01 10:24:00",
         "InvoiceNo": "C536391",
         "Quantity": -12,
         "StockCode": "22557",
         "UnitPrice": 1.65,
         "_deepnote_index_column": 240
        },
        {
         "Country": "united kingdom",
         "CustomerID": "17548.0",
         "Description": "plasters in tin skulls",
         "InvoiceDate": "2010-12-01 10:24:00",
         "InvoiceNo": "C536391",
         "Quantity": -24,
         "StockCode": "22553",
         "UnitPrice": 1.65,
         "_deepnote_index_column": 241
        },
        {
         "Country": "united kingdom",
         "CustomerID": "17897.0",
         "Description": "jam making set with jars",
         "InvoiceDate": "2010-12-01 12:38:00",
         "InvoiceNo": "C536506",
         "Quantity": -6,
         "StockCode": "22960",
         "UnitPrice": 4.25,
         "_deepnote_index_column": 939
        }
       ]
      },
      "text/html": [
       "<div>\n",
       "<style scoped>\n",
       "    .dataframe tbody tr th:only-of-type {\n",
       "        vertical-align: middle;\n",
       "    }\n",
       "\n",
       "    .dataframe tbody tr th {\n",
       "        vertical-align: top;\n",
       "    }\n",
       "\n",
       "    .dataframe thead th {\n",
       "        text-align: right;\n",
       "    }\n",
       "</style>\n",
       "<table border=\"1\" class=\"dataframe\">\n",
       "  <thead>\n",
       "    <tr style=\"text-align: right;\">\n",
       "      <th></th>\n",
       "      <th>InvoiceNo</th>\n",
       "      <th>StockCode</th>\n",
       "      <th>Description</th>\n",
       "      <th>Quantity</th>\n",
       "      <th>InvoiceDate</th>\n",
       "      <th>UnitPrice</th>\n",
       "      <th>CustomerID</th>\n",
       "      <th>Country</th>\n",
       "    </tr>\n",
       "  </thead>\n",
       "  <tbody>\n",
       "    <tr>\n",
       "      <th>141</th>\n",
       "      <td>C536379</td>\n",
       "      <td>D</td>\n",
       "      <td>discount</td>\n",
       "      <td>-1</td>\n",
       "      <td>2010-12-01 09:41:00</td>\n",
       "      <td>27.50</td>\n",
       "      <td>14527.0</td>\n",
       "      <td>united kingdom</td>\n",
       "    </tr>\n",
       "    <tr>\n",
       "      <th>154</th>\n",
       "      <td>C536383</td>\n",
       "      <td>35004C</td>\n",
       "      <td>set of 3 coloured  flying ducks</td>\n",
       "      <td>-1</td>\n",
       "      <td>2010-12-01 09:49:00</td>\n",
       "      <td>4.65</td>\n",
       "      <td>15311.0</td>\n",
       "      <td>united kingdom</td>\n",
       "    </tr>\n",
       "    <tr>\n",
       "      <th>235</th>\n",
       "      <td>C536391</td>\n",
       "      <td>22556</td>\n",
       "      <td>plasters in tin circus parade</td>\n",
       "      <td>-12</td>\n",
       "      <td>2010-12-01 10:24:00</td>\n",
       "      <td>1.65</td>\n",
       "      <td>17548.0</td>\n",
       "      <td>united kingdom</td>\n",
       "    </tr>\n",
       "    <tr>\n",
       "      <th>236</th>\n",
       "      <td>C536391</td>\n",
       "      <td>21984</td>\n",
       "      <td>pack of 12 pink paisley tissues</td>\n",
       "      <td>-24</td>\n",
       "      <td>2010-12-01 10:24:00</td>\n",
       "      <td>0.29</td>\n",
       "      <td>17548.0</td>\n",
       "      <td>united kingdom</td>\n",
       "    </tr>\n",
       "    <tr>\n",
       "      <th>237</th>\n",
       "      <td>C536391</td>\n",
       "      <td>21983</td>\n",
       "      <td>pack of 12 blue paisley tissues</td>\n",
       "      <td>-24</td>\n",
       "      <td>2010-12-01 10:24:00</td>\n",
       "      <td>0.29</td>\n",
       "      <td>17548.0</td>\n",
       "      <td>united kingdom</td>\n",
       "    </tr>\n",
       "    <tr>\n",
       "      <th>...</th>\n",
       "      <td>...</td>\n",
       "      <td>...</td>\n",
       "      <td>...</td>\n",
       "      <td>...</td>\n",
       "      <td>...</td>\n",
       "      <td>...</td>\n",
       "      <td>...</td>\n",
       "      <td>...</td>\n",
       "    </tr>\n",
       "    <tr>\n",
       "      <th>540449</th>\n",
       "      <td>C581490</td>\n",
       "      <td>23144</td>\n",
       "      <td>zinc tlight holder stars small</td>\n",
       "      <td>-11</td>\n",
       "      <td>2011-12-09 09:57:00</td>\n",
       "      <td>0.83</td>\n",
       "      <td>14397.0</td>\n",
       "      <td>united kingdom</td>\n",
       "    </tr>\n",
       "    <tr>\n",
       "      <th>541541</th>\n",
       "      <td>C581499</td>\n",
       "      <td>M</td>\n",
       "      <td>manual</td>\n",
       "      <td>-1</td>\n",
       "      <td>2011-12-09 10:28:00</td>\n",
       "      <td>224.69</td>\n",
       "      <td>15498.0</td>\n",
       "      <td>united kingdom</td>\n",
       "    </tr>\n",
       "    <tr>\n",
       "      <th>541715</th>\n",
       "      <td>C581568</td>\n",
       "      <td>21258</td>\n",
       "      <td>victorian sewing box large</td>\n",
       "      <td>-5</td>\n",
       "      <td>2011-12-09 11:57:00</td>\n",
       "      <td>10.95</td>\n",
       "      <td>15311.0</td>\n",
       "      <td>united kingdom</td>\n",
       "    </tr>\n",
       "    <tr>\n",
       "      <th>541716</th>\n",
       "      <td>C581569</td>\n",
       "      <td>84978</td>\n",
       "      <td>hanging heart jar tlight holder</td>\n",
       "      <td>-1</td>\n",
       "      <td>2011-12-09 11:58:00</td>\n",
       "      <td>1.25</td>\n",
       "      <td>17315.0</td>\n",
       "      <td>united kingdom</td>\n",
       "    </tr>\n",
       "    <tr>\n",
       "      <th>541717</th>\n",
       "      <td>C581569</td>\n",
       "      <td>20979</td>\n",
       "      <td>36 pencils tube red retrospot</td>\n",
       "      <td>-5</td>\n",
       "      <td>2011-12-09 11:58:00</td>\n",
       "      <td>1.25</td>\n",
       "      <td>17315.0</td>\n",
       "      <td>united kingdom</td>\n",
       "    </tr>\n",
       "  </tbody>\n",
       "</table>\n",
       "<p>8888 rows × 8 columns</p>\n",
       "</div>"
      ],
      "text/plain": [
       "       InvoiceNo StockCode                      Description  Quantity  \\\n",
       "141      C536379         D                         discount        -1   \n",
       "154      C536383    35004C  set of 3 coloured  flying ducks        -1   \n",
       "235      C536391     22556    plasters in tin circus parade       -12   \n",
       "236      C536391     21984  pack of 12 pink paisley tissues       -24   \n",
       "237      C536391     21983  pack of 12 blue paisley tissues       -24   \n",
       "...          ...       ...                              ...       ...   \n",
       "540449   C581490     23144   zinc tlight holder stars small       -11   \n",
       "541541   C581499         M                           manual        -1   \n",
       "541715   C581568     21258       victorian sewing box large        -5   \n",
       "541716   C581569     84978  hanging heart jar tlight holder        -1   \n",
       "541717   C581569     20979    36 pencils tube red retrospot        -5   \n",
       "\n",
       "               InvoiceDate  UnitPrice CustomerID         Country  \n",
       "141    2010-12-01 09:41:00      27.50    14527.0  united kingdom  \n",
       "154    2010-12-01 09:49:00       4.65    15311.0  united kingdom  \n",
       "235    2010-12-01 10:24:00       1.65    17548.0  united kingdom  \n",
       "236    2010-12-01 10:24:00       0.29    17548.0  united kingdom  \n",
       "237    2010-12-01 10:24:00       0.29    17548.0  united kingdom  \n",
       "...                    ...        ...        ...             ...  \n",
       "540449 2011-12-09 09:57:00       0.83    14397.0  united kingdom  \n",
       "541541 2011-12-09 10:28:00     224.69    15498.0  united kingdom  \n",
       "541715 2011-12-09 11:57:00      10.95    15311.0  united kingdom  \n",
       "541716 2011-12-09 11:58:00       1.25    17315.0  united kingdom  \n",
       "541717 2011-12-09 11:58:00       1.25    17315.0  united kingdom  \n",
       "\n",
       "[8888 rows x 8 columns]"
      ]
     },
     "execution_count": 25,
     "metadata": {},
     "output_type": "execute_result"
    }
   ],
   "source": [
    "df[df['Quantity'] < 0]"
   ]
  },
  {
   "cell_type": "code",
   "execution_count": 26,
   "metadata": {
    "cell_id": "899e126798954e7db35c77fa768c4d73",
    "deepnote_cell_type": "code",
    "deepnote_to_be_reexecuted": false,
    "execution_millis": 127,
    "execution_start": 1687589151614,
    "source_hash": "d454e91e"
   },
   "outputs": [
    {
     "data": {
      "application/vnd.deepnote.dataframe.v3+json": {
       "column_count": 8,
       "columns": [
        {
         "dtype": "object",
         "name": "InvoiceNo",
         "stats": {
          "categories": [],
          "nan_count": 0,
          "unique_count": 0
         }
        },
        {
         "dtype": "object",
         "name": "StockCode",
         "stats": {
          "categories": [],
          "nan_count": 0,
          "unique_count": 0
         }
        },
        {
         "dtype": "object",
         "name": "Description",
         "stats": {
          "categories": [],
          "nan_count": 0,
          "unique_count": 0
         }
        },
        {
         "dtype": "int64",
         "name": "Quantity",
         "stats": {
          "histogram": [
           {
            "bin_end": 0.1,
            "bin_start": 0,
            "count": 0
           },
           {
            "bin_end": 0.2,
            "bin_start": 0.1,
            "count": 0
           },
           {
            "bin_end": 0.30000000000000004,
            "bin_start": 0.2,
            "count": 0
           },
           {
            "bin_end": 0.4,
            "bin_start": 0.30000000000000004,
            "count": 0
           },
           {
            "bin_end": 0.5,
            "bin_start": 0.4,
            "count": 0
           },
           {
            "bin_end": 0.6000000000000001,
            "bin_start": 0.5,
            "count": 0
           },
           {
            "bin_end": 0.7000000000000001,
            "bin_start": 0.6000000000000001,
            "count": 0
           },
           {
            "bin_end": 0.8,
            "bin_start": 0.7000000000000001,
            "count": 0
           },
           {
            "bin_end": 0.9,
            "bin_start": 0.8,
            "count": 0
           },
           {
            "bin_end": 1,
            "bin_start": 0.9,
            "count": 0
           }
          ],
          "max": null,
          "min": null,
          "nan_count": 0,
          "unique_count": 0
         }
        },
        {
         "dtype": "datetime64[ns]",
         "name": "InvoiceDate",
         "stats": {
          "histogram": [
           {
            "bin_end": 0.1,
            "bin_start": 0,
            "count": 0
           },
           {
            "bin_end": 0.2,
            "bin_start": 0.1,
            "count": 0
           },
           {
            "bin_end": 0.30000000000000004,
            "bin_start": 0.2,
            "count": 0
           },
           {
            "bin_end": 0.4,
            "bin_start": 0.30000000000000004,
            "count": 0
           },
           {
            "bin_end": 0.5,
            "bin_start": 0.4,
            "count": 0
           },
           {
            "bin_end": 0.6000000000000001,
            "bin_start": 0.5,
            "count": 0
           },
           {
            "bin_end": 0.7000000000000001,
            "bin_start": 0.6000000000000001,
            "count": 0
           },
           {
            "bin_end": 0.8,
            "bin_start": 0.7000000000000001,
            "count": 0
           },
           {
            "bin_end": 0.9,
            "bin_start": 0.8,
            "count": 0
           },
           {
            "bin_end": 1,
            "bin_start": 0.9,
            "count": 0
           }
          ],
          "max": null,
          "min": null,
          "nan_count": 0,
          "unique_count": 0
         }
        },
        {
         "dtype": "float64",
         "name": "UnitPrice",
         "stats": {
          "histogram": [
           {
            "bin_end": 0.1,
            "bin_start": 0,
            "count": 0
           },
           {
            "bin_end": 0.2,
            "bin_start": 0.1,
            "count": 0
           },
           {
            "bin_end": 0.30000000000000004,
            "bin_start": 0.2,
            "count": 0
           },
           {
            "bin_end": 0.4,
            "bin_start": 0.30000000000000004,
            "count": 0
           },
           {
            "bin_end": 0.5,
            "bin_start": 0.4,
            "count": 0
           },
           {
            "bin_end": 0.6000000000000001,
            "bin_start": 0.5,
            "count": 0
           },
           {
            "bin_end": 0.7000000000000001,
            "bin_start": 0.6000000000000001,
            "count": 0
           },
           {
            "bin_end": 0.8,
            "bin_start": 0.7000000000000001,
            "count": 0
           },
           {
            "bin_end": 0.9,
            "bin_start": 0.8,
            "count": 0
           },
           {
            "bin_end": 1,
            "bin_start": 0.9,
            "count": 0
           }
          ],
          "max": null,
          "min": null,
          "nan_count": 0,
          "unique_count": 0
         }
        },
        {
         "dtype": "object",
         "name": "CustomerID",
         "stats": {
          "categories": [],
          "nan_count": 0,
          "unique_count": 0
         }
        },
        {
         "dtype": "object",
         "name": "Country",
         "stats": {
          "categories": [],
          "nan_count": 0,
          "unique_count": 0
         }
        },
        {
         "dtype": "int64",
         "name": "_deepnote_index_column"
        }
       ],
       "row_count": 0,
       "rows": []
      },
      "text/html": [
       "<div>\n",
       "<style scoped>\n",
       "    .dataframe tbody tr th:only-of-type {\n",
       "        vertical-align: middle;\n",
       "    }\n",
       "\n",
       "    .dataframe tbody tr th {\n",
       "        vertical-align: top;\n",
       "    }\n",
       "\n",
       "    .dataframe thead th {\n",
       "        text-align: right;\n",
       "    }\n",
       "</style>\n",
       "<table border=\"1\" class=\"dataframe\">\n",
       "  <thead>\n",
       "    <tr style=\"text-align: right;\">\n",
       "      <th></th>\n",
       "      <th>InvoiceNo</th>\n",
       "      <th>StockCode</th>\n",
       "      <th>Description</th>\n",
       "      <th>Quantity</th>\n",
       "      <th>InvoiceDate</th>\n",
       "      <th>UnitPrice</th>\n",
       "      <th>CustomerID</th>\n",
       "      <th>Country</th>\n",
       "    </tr>\n",
       "  </thead>\n",
       "  <tbody>\n",
       "  </tbody>\n",
       "</table>\n",
       "</div>"
      ],
      "text/plain": [
       "Empty DataFrame\n",
       "Columns: [InvoiceNo, StockCode, Description, Quantity, InvoiceDate, UnitPrice, CustomerID, Country]\n",
       "Index: []"
      ]
     },
     "execution_count": 26,
     "metadata": {},
     "output_type": "execute_result"
    }
   ],
   "source": [
    "# -ve Quantity can't be explained, it has to be removed... we don't have enough information as to why \n",
    "df.drop(df[df['Quantity'] < 0].index, inplace=True)\n",
    "\n",
    "# check again where we have \n",
    "df[df['Quantity'] < 0]"
   ]
  },
  {
   "cell_type": "markdown",
   "metadata": {
    "cell_id": "e15d01641fe84b91b50ecbf077cf84e7",
    "deepnote_cell_type": "markdown"
   },
   "source": [
    "`"
   ]
  },
  {
   "cell_type": "code",
   "execution_count": 27,
   "metadata": {
    "cell_id": "5d7075f80d7142d399cf9fa58991c946",
    "deepnote_cell_type": "code",
    "deepnote_to_be_reexecuted": false,
    "execution_millis": 4,
    "execution_start": 1687589151750,
    "source_hash": "91b0190c"
   },
   "outputs": [
    {
     "data": {
      "text/plain": [
       "(397161, 8)"
      ]
     },
     "execution_count": 27,
     "metadata": {},
     "output_type": "execute_result"
    }
   ],
   "source": [
    "# rows and columns, thereafter\n",
    "df.shape"
   ]
  },
  {
   "cell_type": "markdown",
   "metadata": {
    "cell_id": "f3b0afe8fcfd4773bba35e9df6dabb1c",
    "deepnote_cell_type": "markdown"
   },
   "source": [
    "##### likewise, we need to remove the instances where UnitPrice is 0.0"
   ]
  },
  {
   "cell_type": "code",
   "execution_count": 28,
   "metadata": {
    "cell_id": "824dd7c932854f97876a97c9365617b0",
    "deepnote_cell_type": "code",
    "deepnote_to_be_reexecuted": false,
    "execution_millis": 46,
    "execution_start": 1687589151801,
    "source_hash": "8262d4b7"
   },
   "outputs": [],
   "source": [
    "df.drop(df[df['UnitPrice'] == 0.0].index, inplace=True)"
   ]
  },
  {
   "cell_type": "markdown",
   "metadata": {
    "cell_id": "1da2dfe463fd4961b80d46d4883ff755",
    "deepnote_cell_type": "markdown"
   },
   "source": [
    "`"
   ]
  },
  {
   "cell_type": "markdown",
   "metadata": {
    "cell_id": "df43ab58979242d3a5b70f7390ba2ff0",
    "deepnote_cell_type": "markdown"
   },
   "source": [
    "##### check the max values of both the Quantity and UnitPrice columns to check if they look like anomalies, based on df.describe() stats"
   ]
  },
  {
   "cell_type": "code",
   "execution_count": 29,
   "metadata": {
    "cell_id": "db142d032ca946cab2ab1c4295325b64",
    "deepnote_cell_type": "code",
    "deepnote_to_be_reexecuted": false,
    "execution_millis": 1,
    "execution_start": 1687589151894,
    "scrolled": true,
    "source_hash": "143d3474"
   },
   "outputs": [
    {
     "data": {
      "application/vnd.deepnote.dataframe.v3+json": {
       "column_count": 8,
       "columns": [
        {
         "dtype": "object",
         "name": "InvoiceNo",
         "stats": {
          "categories": [
           {
            "count": 1,
            "name": "581483"
           }
          ],
          "nan_count": 0,
          "unique_count": 1
         }
        },
        {
         "dtype": "object",
         "name": "StockCode",
         "stats": {
          "categories": [
           {
            "count": 1,
            "name": "23843"
           }
          ],
          "nan_count": 0,
          "unique_count": 1
         }
        },
        {
         "dtype": "object",
         "name": "Description",
         "stats": {
          "categories": [
           {
            "count": 1,
            "name": "paper craft  little birdie"
           }
          ],
          "nan_count": 0,
          "unique_count": 1
         }
        },
        {
         "dtype": "int64",
         "name": "Quantity",
         "stats": {
          "histogram": [
           {
            "bin_end": 80994.6,
            "bin_start": 80994.5,
            "count": 0
           },
           {
            "bin_end": 80994.7,
            "bin_start": 80994.6,
            "count": 0
           },
           {
            "bin_end": 80994.8,
            "bin_start": 80994.7,
            "count": 0
           },
           {
            "bin_end": 80994.9,
            "bin_start": 80994.8,
            "count": 0
           },
           {
            "bin_end": 80995,
            "bin_start": 80994.9,
            "count": 0
           },
           {
            "bin_end": 80995.1,
            "bin_start": 80995,
            "count": 1
           },
           {
            "bin_end": 80995.2,
            "bin_start": 80995.1,
            "count": 0
           },
           {
            "bin_end": 80995.3,
            "bin_start": 80995.2,
            "count": 0
           },
           {
            "bin_end": 80995.4,
            "bin_start": 80995.3,
            "count": 0
           },
           {
            "bin_end": 80995.5,
            "bin_start": 80995.4,
            "count": 0
           }
          ],
          "max": "80995",
          "min": "80995",
          "nan_count": 0,
          "unique_count": 1
         }
        },
        {
         "dtype": "datetime64[ns]",
         "name": "InvoiceDate",
         "stats": {
          "histogram": null,
          "max": "2011-12-09 09:15:00",
          "min": "2011-12-09 09:15:00",
          "nan_count": 0,
          "unique_count": 1
         }
        },
        {
         "dtype": "float64",
         "name": "UnitPrice",
         "stats": {
          "histogram": [
           {
            "bin_end": 1.6800000000000002,
            "bin_start": 1.58,
            "count": 0
           },
           {
            "bin_end": 1.78,
            "bin_start": 1.6800000000000002,
            "count": 0
           },
           {
            "bin_end": 1.8800000000000001,
            "bin_start": 1.78,
            "count": 0
           },
           {
            "bin_end": 1.98,
            "bin_start": 1.8800000000000001,
            "count": 0
           },
           {
            "bin_end": 2.08,
            "bin_start": 1.98,
            "count": 0
           },
           {
            "bin_end": 2.18,
            "bin_start": 2.08,
            "count": 1
           },
           {
            "bin_end": 2.2800000000000002,
            "bin_start": 2.18,
            "count": 0
           },
           {
            "bin_end": 2.38,
            "bin_start": 2.2800000000000002,
            "count": 0
           },
           {
            "bin_end": 2.48,
            "bin_start": 2.38,
            "count": 0
           },
           {
            "bin_end": 2.58,
            "bin_start": 2.48,
            "count": 0
           }
          ],
          "max": "2.08",
          "min": "2.08",
          "nan_count": 0,
          "unique_count": 1
         }
        },
        {
         "dtype": "object",
         "name": "CustomerID",
         "stats": {
          "categories": [
           {
            "count": 1,
            "name": "16446.0"
           }
          ],
          "nan_count": 0,
          "unique_count": 1
         }
        },
        {
         "dtype": "object",
         "name": "Country",
         "stats": {
          "categories": [
           {
            "count": 1,
            "name": "united kingdom"
           }
          ],
          "nan_count": 0,
          "unique_count": 1
         }
        },
        {
         "dtype": "int64",
         "name": "_deepnote_index_column"
        }
       ],
       "row_count": 1,
       "rows": [
        {
         "Country": "united kingdom",
         "CustomerID": "16446.0",
         "Description": "paper craft  little birdie",
         "InvoiceDate": "2011-12-09 09:15:00",
         "InvoiceNo": "581483",
         "Quantity": 80995,
         "StockCode": "23843",
         "UnitPrice": 2.08,
         "_deepnote_index_column": 540421
        }
       ]
      },
      "text/html": [
       "<div>\n",
       "<style scoped>\n",
       "    .dataframe tbody tr th:only-of-type {\n",
       "        vertical-align: middle;\n",
       "    }\n",
       "\n",
       "    .dataframe tbody tr th {\n",
       "        vertical-align: top;\n",
       "    }\n",
       "\n",
       "    .dataframe thead th {\n",
       "        text-align: right;\n",
       "    }\n",
       "</style>\n",
       "<table border=\"1\" class=\"dataframe\">\n",
       "  <thead>\n",
       "    <tr style=\"text-align: right;\">\n",
       "      <th></th>\n",
       "      <th>InvoiceNo</th>\n",
       "      <th>StockCode</th>\n",
       "      <th>Description</th>\n",
       "      <th>Quantity</th>\n",
       "      <th>InvoiceDate</th>\n",
       "      <th>UnitPrice</th>\n",
       "      <th>CustomerID</th>\n",
       "      <th>Country</th>\n",
       "    </tr>\n",
       "  </thead>\n",
       "  <tbody>\n",
       "    <tr>\n",
       "      <th>540421</th>\n",
       "      <td>581483</td>\n",
       "      <td>23843</td>\n",
       "      <td>paper craft  little birdie</td>\n",
       "      <td>80995</td>\n",
       "      <td>2011-12-09 09:15:00</td>\n",
       "      <td>2.08</td>\n",
       "      <td>16446.0</td>\n",
       "      <td>united kingdom</td>\n",
       "    </tr>\n",
       "  </tbody>\n",
       "</table>\n",
       "</div>"
      ],
      "text/plain": [
       "       InvoiceNo StockCode                 Description  Quantity  \\\n",
       "540421    581483     23843  paper craft  little birdie     80995   \n",
       "\n",
       "               InvoiceDate  UnitPrice CustomerID         Country  \n",
       "540421 2011-12-09 09:15:00       2.08    16446.0  united kingdom  "
      ]
     },
     "execution_count": 29,
     "metadata": {},
     "output_type": "execute_result"
    }
   ],
   "source": [
    "df[df['Quantity'] == df['Quantity'].max()]"
   ]
  },
  {
   "cell_type": "markdown",
   "metadata": {
    "cell_id": "48eba767c67449a7b345e7a05e3bb50c",
    "deepnote_cell_type": "markdown"
   },
   "source": [
    "<p>Maximum Quantity value does not suggest an anomaly figure;</p>"
   ]
  },
  {
   "cell_type": "code",
   "execution_count": 30,
   "metadata": {
    "cell_id": "c2a57f4421ae42bf8b595d7cdb92c076",
    "deepnote_cell_type": "code",
    "deepnote_to_be_reexecuted": false,
    "execution_millis": 27,
    "execution_start": 1687589151938,
    "source_hash": "3903527b"
   },
   "outputs": [
    {
     "data": {
      "application/vnd.deepnote.dataframe.v3+json": {
       "column_count": 8,
       "columns": [
        {
         "dtype": "object",
         "name": "InvoiceNo",
         "stats": {
          "categories": [
           {
            "count": 1,
            "name": "551697"
           }
          ],
          "nan_count": 0,
          "unique_count": 1
         }
        },
        {
         "dtype": "object",
         "name": "StockCode",
         "stats": {
          "categories": [
           {
            "count": 1,
            "name": "POST"
           }
          ],
          "nan_count": 0,
          "unique_count": 1
         }
        },
        {
         "dtype": "object",
         "name": "Description",
         "stats": {
          "categories": [
           {
            "count": 1,
            "name": "postage"
           }
          ],
          "nan_count": 0,
          "unique_count": 1
         }
        },
        {
         "dtype": "int64",
         "name": "Quantity",
         "stats": {
          "histogram": [
           {
            "bin_end": 0.6,
            "bin_start": 0.5,
            "count": 0
           },
           {
            "bin_end": 0.7,
            "bin_start": 0.6,
            "count": 0
           },
           {
            "bin_end": 0.8,
            "bin_start": 0.7,
            "count": 0
           },
           {
            "bin_end": 0.9,
            "bin_start": 0.8,
            "count": 0
           },
           {
            "bin_end": 1,
            "bin_start": 0.9,
            "count": 0
           },
           {
            "bin_end": 1.1,
            "bin_start": 1,
            "count": 1
           },
           {
            "bin_end": 1.2000000000000002,
            "bin_start": 1.1,
            "count": 0
           },
           {
            "bin_end": 1.3,
            "bin_start": 1.2000000000000002,
            "count": 0
           },
           {
            "bin_end": 1.4,
            "bin_start": 1.3,
            "count": 0
           },
           {
            "bin_end": 1.5,
            "bin_start": 1.4,
            "count": 0
           }
          ],
          "max": "1",
          "min": "1",
          "nan_count": 0,
          "unique_count": 1
         }
        },
        {
         "dtype": "datetime64[ns]",
         "name": "InvoiceDate",
         "stats": {
          "histogram": null,
          "max": "2011-05-03 13:46:00",
          "min": "2011-05-03 13:46:00",
          "nan_count": 0,
          "unique_count": 1
         }
        },
        {
         "dtype": "float64",
         "name": "UnitPrice",
         "stats": {
          "histogram": [
           {
            "bin_end": 8142.35,
            "bin_start": 8142.25,
            "count": 0
           },
           {
            "bin_end": 8142.45,
            "bin_start": 8142.35,
            "count": 0
           },
           {
            "bin_end": 8142.55,
            "bin_start": 8142.45,
            "count": 0
           },
           {
            "bin_end": 8142.65,
            "bin_start": 8142.55,
            "count": 0
           },
           {
            "bin_end": 8142.75,
            "bin_start": 8142.65,
            "count": 0
           },
           {
            "bin_end": 8142.85,
            "bin_start": 8142.75,
            "count": 1
           },
           {
            "bin_end": 8142.95,
            "bin_start": 8142.85,
            "count": 0
           },
           {
            "bin_end": 8143.05,
            "bin_start": 8142.95,
            "count": 0
           },
           {
            "bin_end": 8143.15,
            "bin_start": 8143.05,
            "count": 0
           },
           {
            "bin_end": 8143.25,
            "bin_start": 8143.15,
            "count": 0
           }
          ],
          "max": "8142.75",
          "min": "8142.75",
          "nan_count": 0,
          "unique_count": 1
         }
        },
        {
         "dtype": "object",
         "name": "CustomerID",
         "stats": {
          "categories": [
           {
            "count": 1,
            "name": "16029.0"
           }
          ],
          "nan_count": 0,
          "unique_count": 1
         }
        },
        {
         "dtype": "object",
         "name": "Country",
         "stats": {
          "categories": [
           {
            "count": 1,
            "name": "united kingdom"
           }
          ],
          "nan_count": 0,
          "unique_count": 1
         }
        },
        {
         "dtype": "int64",
         "name": "_deepnote_index_column"
        }
       ],
       "row_count": 1,
       "rows": [
        {
         "Country": "united kingdom",
         "CustomerID": "16029.0",
         "Description": "postage",
         "InvoiceDate": "2011-05-03 13:46:00",
         "InvoiceNo": "551697",
         "Quantity": 1,
         "StockCode": "POST",
         "UnitPrice": 8142.75,
         "_deepnote_index_column": 173382
        }
       ]
      },
      "text/html": [
       "<div>\n",
       "<style scoped>\n",
       "    .dataframe tbody tr th:only-of-type {\n",
       "        vertical-align: middle;\n",
       "    }\n",
       "\n",
       "    .dataframe tbody tr th {\n",
       "        vertical-align: top;\n",
       "    }\n",
       "\n",
       "    .dataframe thead th {\n",
       "        text-align: right;\n",
       "    }\n",
       "</style>\n",
       "<table border=\"1\" class=\"dataframe\">\n",
       "  <thead>\n",
       "    <tr style=\"text-align: right;\">\n",
       "      <th></th>\n",
       "      <th>InvoiceNo</th>\n",
       "      <th>StockCode</th>\n",
       "      <th>Description</th>\n",
       "      <th>Quantity</th>\n",
       "      <th>InvoiceDate</th>\n",
       "      <th>UnitPrice</th>\n",
       "      <th>CustomerID</th>\n",
       "      <th>Country</th>\n",
       "    </tr>\n",
       "  </thead>\n",
       "  <tbody>\n",
       "    <tr>\n",
       "      <th>173382</th>\n",
       "      <td>551697</td>\n",
       "      <td>POST</td>\n",
       "      <td>postage</td>\n",
       "      <td>1</td>\n",
       "      <td>2011-05-03 13:46:00</td>\n",
       "      <td>8142.75</td>\n",
       "      <td>16029.0</td>\n",
       "      <td>united kingdom</td>\n",
       "    </tr>\n",
       "  </tbody>\n",
       "</table>\n",
       "</div>"
      ],
      "text/plain": [
       "       InvoiceNo StockCode Description  Quantity         InvoiceDate  \\\n",
       "173382    551697      POST     postage         1 2011-05-03 13:46:00   \n",
       "\n",
       "        UnitPrice CustomerID         Country  \n",
       "173382    8142.75    16029.0  united kingdom  "
      ]
     },
     "execution_count": 30,
     "metadata": {},
     "output_type": "execute_result"
    }
   ],
   "source": [
    "df[df['UnitPrice'] == df['UnitPrice'].max()]"
   ]
  },
  {
   "cell_type": "code",
   "execution_count": 31,
   "metadata": {
    "cell_id": "81fd4c3f153c4db6aeaa22c1c77f2a63",
    "deepnote_cell_type": "code",
    "deepnote_to_be_reexecuted": false,
    "execution_millis": 18,
    "execution_start": 1687589152045,
    "source_hash": "f6d6dd77"
   },
   "outputs": [
    {
     "data": {
      "application/vnd.deepnote.dataframe.v3+json": {
       "column_count": 8,
       "columns": [
        {
         "dtype": "object",
         "name": "InvoiceNo",
         "stats": {
          "categories": [
           {
            "count": 1,
            "name": "536370"
           },
           {
            "count": 1,
            "name": "536403"
           },
           {
            "count": 1,
            "name": "536527"
           }
          ],
          "nan_count": 0,
          "unique_count": 3
         }
        },
        {
         "dtype": "object",
         "name": "StockCode",
         "stats": {
          "categories": [
           {
            "count": 3,
            "name": "POST"
           }
          ],
          "nan_count": 0,
          "unique_count": 1
         }
        },
        {
         "dtype": "object",
         "name": "Description",
         "stats": {
          "categories": [
           {
            "count": 3,
            "name": "postage"
           }
          ],
          "nan_count": 0,
          "unique_count": 1
         }
        },
        {
         "dtype": "int64",
         "name": "Quantity",
         "stats": {
          "histogram": [
           {
            "bin_end": 1.2,
            "bin_start": 1,
            "count": 2
           },
           {
            "bin_end": 1.4,
            "bin_start": 1.2,
            "count": 0
           },
           {
            "bin_end": 1.6,
            "bin_start": 1.4,
            "count": 0
           },
           {
            "bin_end": 1.8,
            "bin_start": 1.6,
            "count": 0
           },
           {
            "bin_end": 2,
            "bin_start": 1.8,
            "count": 0
           },
           {
            "bin_end": 2.2,
            "bin_start": 2,
            "count": 0
           },
           {
            "bin_end": 2.4000000000000004,
            "bin_start": 2.2,
            "count": 0
           },
           {
            "bin_end": 2.6,
            "bin_start": 2.4000000000000004,
            "count": 0
           },
           {
            "bin_end": 2.8,
            "bin_start": 2.6,
            "count": 0
           },
           {
            "bin_end": 3,
            "bin_start": 2.8,
            "count": 1
           }
          ],
          "max": "3",
          "min": "1",
          "nan_count": 0,
          "unique_count": 2
         }
        },
        {
         "dtype": "datetime64[ns]",
         "name": "InvoiceDate",
         "stats": {
          "histogram": [
           {
            "bin_end": 1291194654000000000,
            "bin_start": 1291193100000000000,
            "count": 1
           },
           {
            "bin_end": 1291196208000000000,
            "bin_start": 1291194654000000000,
            "count": 0
           },
           {
            "bin_end": 1291197762000000000,
            "bin_start": 1291196208000000000,
            "count": 0
           },
           {
            "bin_end": 1291199316000000000,
            "bin_start": 1291197762000000000,
            "count": 0
           },
           {
            "bin_end": 1291200870000000000,
            "bin_start": 1291199316000000000,
            "count": 0
           },
           {
            "bin_end": 1291202424000000000,
            "bin_start": 1291200870000000000,
            "count": 0
           },
           {
            "bin_end": 1291203978000000000,
            "bin_start": 1291202424000000000,
            "count": 1
           },
           {
            "bin_end": 1291205532000000000,
            "bin_start": 1291203978000000000,
            "count": 0
           },
           {
            "bin_end": 1291207086000000000,
            "bin_start": 1291205532000000000,
            "count": 0
           },
           {
            "bin_end": 1291208640000000000,
            "bin_start": 1291207086000000000,
            "count": 1
           }
          ],
          "max": "2010-12-01 13:04:00",
          "min": "2010-12-01 08:45:00",
          "nan_count": 0,
          "unique_count": 3
         }
        },
        {
         "dtype": "float64",
         "name": "UnitPrice",
         "stats": {
          "histogram": [
           {
            "bin_end": 15.3,
            "bin_start": 15,
            "count": 1
           },
           {
            "bin_end": 15.6,
            "bin_start": 15.3,
            "count": 0
           },
           {
            "bin_end": 15.9,
            "bin_start": 15.6,
            "count": 0
           },
           {
            "bin_end": 16.2,
            "bin_start": 15.9,
            "count": 0
           },
           {
            "bin_end": 16.5,
            "bin_start": 16.2,
            "count": 0
           },
           {
            "bin_end": 16.8,
            "bin_start": 16.5,
            "count": 0
           },
           {
            "bin_end": 17.1,
            "bin_start": 16.8,
            "count": 0
           },
           {
            "bin_end": 17.4,
            "bin_start": 17.1,
            "count": 0
           },
           {
            "bin_end": 17.7,
            "bin_start": 17.4,
            "count": 0
           },
           {
            "bin_end": 18,
            "bin_start": 17.7,
            "count": 2
           }
          ],
          "max": "18.0",
          "min": "15.0",
          "nan_count": 0,
          "unique_count": 2
         }
        },
        {
         "dtype": "object",
         "name": "CustomerID",
         "stats": {
          "categories": [
           {
            "count": 1,
            "name": "12583.0"
           },
           {
            "count": 1,
            "name": "12791.0"
           },
           {
            "count": 1,
            "name": "12662.0"
           }
          ],
          "nan_count": 0,
          "unique_count": 3
         }
        },
        {
         "dtype": "object",
         "name": "Country",
         "stats": {
          "categories": [
           {
            "count": 1,
            "name": "france"
           },
           {
            "count": 1,
            "name": "netherlands"
           },
           {
            "count": 1,
            "name": "germany"
           }
          ],
          "nan_count": 0,
          "unique_count": 3
         }
        },
        {
         "dtype": "int64",
         "name": "_deepnote_index_column"
        }
       ],
       "row_count": 3,
       "rows": [
        {
         "Country": "france",
         "CustomerID": "12583.0",
         "Description": "postage",
         "InvoiceDate": "2010-12-01 08:45:00",
         "InvoiceNo": "536370",
         "Quantity": 3,
         "StockCode": "POST",
         "UnitPrice": 18,
         "_deepnote_index_column": 45
        },
        {
         "Country": "netherlands",
         "CustomerID": "12791.0",
         "Description": "postage",
         "InvoiceDate": "2010-12-01 11:27:00",
         "InvoiceNo": "536403",
         "Quantity": 1,
         "StockCode": "POST",
         "UnitPrice": 15,
         "_deepnote_index_column": 386
        },
        {
         "Country": "germany",
         "CustomerID": "12662.0",
         "Description": "postage",
         "InvoiceDate": "2010-12-01 13:04:00",
         "InvoiceNo": "536527",
         "Quantity": 1,
         "StockCode": "POST",
         "UnitPrice": 18,
         "_deepnote_index_column": 1123
        }
       ]
      },
      "text/html": [
       "<div>\n",
       "<style scoped>\n",
       "    .dataframe tbody tr th:only-of-type {\n",
       "        vertical-align: middle;\n",
       "    }\n",
       "\n",
       "    .dataframe tbody tr th {\n",
       "        vertical-align: top;\n",
       "    }\n",
       "\n",
       "    .dataframe thead th {\n",
       "        text-align: right;\n",
       "    }\n",
       "</style>\n",
       "<table border=\"1\" class=\"dataframe\">\n",
       "  <thead>\n",
       "    <tr style=\"text-align: right;\">\n",
       "      <th></th>\n",
       "      <th>InvoiceNo</th>\n",
       "      <th>StockCode</th>\n",
       "      <th>Description</th>\n",
       "      <th>Quantity</th>\n",
       "      <th>InvoiceDate</th>\n",
       "      <th>UnitPrice</th>\n",
       "      <th>CustomerID</th>\n",
       "      <th>Country</th>\n",
       "    </tr>\n",
       "  </thead>\n",
       "  <tbody>\n",
       "    <tr>\n",
       "      <th>45</th>\n",
       "      <td>536370</td>\n",
       "      <td>POST</td>\n",
       "      <td>postage</td>\n",
       "      <td>3</td>\n",
       "      <td>2010-12-01 08:45:00</td>\n",
       "      <td>18.0</td>\n",
       "      <td>12583.0</td>\n",
       "      <td>france</td>\n",
       "    </tr>\n",
       "    <tr>\n",
       "      <th>386</th>\n",
       "      <td>536403</td>\n",
       "      <td>POST</td>\n",
       "      <td>postage</td>\n",
       "      <td>1</td>\n",
       "      <td>2010-12-01 11:27:00</td>\n",
       "      <td>15.0</td>\n",
       "      <td>12791.0</td>\n",
       "      <td>netherlands</td>\n",
       "    </tr>\n",
       "    <tr>\n",
       "      <th>1123</th>\n",
       "      <td>536527</td>\n",
       "      <td>POST</td>\n",
       "      <td>postage</td>\n",
       "      <td>1</td>\n",
       "      <td>2010-12-01 13:04:00</td>\n",
       "      <td>18.0</td>\n",
       "      <td>12662.0</td>\n",
       "      <td>germany</td>\n",
       "    </tr>\n",
       "  </tbody>\n",
       "</table>\n",
       "</div>"
      ],
      "text/plain": [
       "     InvoiceNo StockCode Description  Quantity         InvoiceDate  UnitPrice  \\\n",
       "45      536370      POST     postage         3 2010-12-01 08:45:00       18.0   \n",
       "386     536403      POST     postage         1 2010-12-01 11:27:00       15.0   \n",
       "1123    536527      POST     postage         1 2010-12-01 13:04:00       18.0   \n",
       "\n",
       "     CustomerID      Country  \n",
       "45      12583.0       france  \n",
       "386     12791.0  netherlands  \n",
       "1123    12662.0      germany  "
      ]
     },
     "execution_count": 31,
     "metadata": {},
     "output_type": "execute_result"
    }
   ],
   "source": [
    "df[df['Description'] == 'postage'].head(3)"
   ]
  },
  {
   "cell_type": "markdown",
   "metadata": {
    "cell_id": "d8be504cd77041299d9456fca007e42b",
    "deepnote_cell_type": "markdown"
   },
   "source": [
    "<p> <b>'Postage'</b> appears like courier charge for posting items bought by the customers, to customers</p>"
   ]
  },
  {
   "cell_type": "markdown",
   "metadata": {
    "cell_id": "67fb62f0c13e49dbad9fa446903ed92e",
    "deepnote_cell_type": "markdown",
    "scrolled": true
   },
   "source": [
    "`"
   ]
  },
  {
   "cell_type": "code",
   "execution_count": 32,
   "metadata": {
    "cell_id": "5aad3691fc144d98898b6dabceacaf18",
    "deepnote_cell_type": "code",
    "deepnote_to_be_reexecuted": false,
    "execution_millis": 132,
    "execution_start": 1687589152063,
    "scrolled": true,
    "source_hash": "c17f6925"
   },
   "outputs": [
    {
     "data": {
      "application/vnd.deepnote.dataframe.v3+json": {
       "column_count": 3,
       "columns": [
        {
         "dtype": "object",
         "name": "StockCode",
         "stats": {
          "categories": [
           {
            "count": 1,
            "name": "23843"
           },
           {
            "count": 1,
            "name": "23166"
           },
           {
            "count": 8,
            "name": "8 others"
           }
          ],
          "nan_count": 0,
          "unique_count": 10
         }
        },
        {
         "dtype": "object",
         "name": "Description",
         "stats": {
          "categories": [
           {
            "count": 1,
            "name": "paper craft  little birdie"
           },
           {
            "count": 1,
            "name": "medium ceramic top storage jar"
           },
           {
            "count": 8,
            "name": "8 others"
           }
          ],
          "nan_count": 0,
          "unique_count": 10
         }
        },
        {
         "dtype": "int64",
         "name": "Quantity",
         "stats": {
          "histogram": [
           {
            "bin_end": 31567.9,
            "bin_start": 26076,
            "count": 3
           },
           {
            "bin_end": 37059.8,
            "bin_start": 31567.9,
            "count": 3
           },
           {
            "bin_end": 42551.7,
            "bin_start": 37059.8,
            "count": 0
           },
           {
            "bin_end": 48043.6,
            "bin_start": 42551.7,
            "count": 1
           },
           {
            "bin_end": 53535.5,
            "bin_start": 48043.6,
            "count": 0
           },
           {
            "bin_end": 59027.399999999994,
            "bin_start": 53535.5,
            "count": 1
           },
           {
            "bin_end": 64519.299999999996,
            "bin_start": 59027.399999999994,
            "count": 0
           },
           {
            "bin_end": 70011.2,
            "bin_start": 64519.299999999996,
            "count": 0
           },
           {
            "bin_end": 75503.1,
            "bin_start": 70011.2,
            "count": 0
           },
           {
            "bin_end": 80995,
            "bin_start": 75503.1,
            "count": 2
           }
          ],
          "max": "80995",
          "min": "26076",
          "nan_count": 0,
          "unique_count": 10
         }
        },
        {
         "dtype": "int64",
         "name": "_deepnote_index_column"
        }
       ],
       "row_count": 10,
       "rows": [
        {
         "Description": "paper craft  little birdie",
         "Quantity": 80995,
         "StockCode": "23843",
         "_deepnote_index_column": 2518
        },
        {
         "Description": "medium ceramic top storage jar",
         "Quantity": 77916,
         "StockCode": "23166",
         "_deepnote_index_column": 2016
        },
        {
         "Description": "world war 2 gliders asstd designs",
         "Quantity": 54127,
         "StockCode": "84077",
         "_deepnote_index_column": 2694
        },
        {
         "Description": "jumbo bag red retrospot",
         "Quantity": 46171,
         "StockCode": "85099B",
         "_deepnote_index_column": 3555
        },
        {
         "Description": "white hanging heart tlight holder",
         "Quantity": 36719,
         "StockCode": "85123A",
         "_deepnote_index_column": 3562
        },
        {
         "Description": "assorted colour bird ornament",
         "Quantity": 35332,
         "StockCode": "84879",
         "_deepnote_index_column": 2799
        },
        {
         "Description": "pack of 72 retrospot cake cases",
         "Quantity": 33669,
         "StockCode": "21212",
         "_deepnote_index_column": 357
        },
        {
         "Description": "popcorn holder",
         "Quantity": 30931,
         "StockCode": "22197",
         "_deepnote_index_column": 1031
        },
        {
         "Description": "rabbit night light",
         "Quantity": 27202,
         "StockCode": "23084",
         "_deepnote_index_column": 1922
        },
        {
         "Description": "mini paint set vintage",
         "Quantity": 26076,
         "StockCode": "22492",
         "_deepnote_index_column": 1306
        }
       ]
      },
      "text/html": [
       "<div>\n",
       "<style scoped>\n",
       "    .dataframe tbody tr th:only-of-type {\n",
       "        vertical-align: middle;\n",
       "    }\n",
       "\n",
       "    .dataframe tbody tr th {\n",
       "        vertical-align: top;\n",
       "    }\n",
       "\n",
       "    .dataframe thead th {\n",
       "        text-align: right;\n",
       "    }\n",
       "</style>\n",
       "<table border=\"1\" class=\"dataframe\">\n",
       "  <thead>\n",
       "    <tr style=\"text-align: right;\">\n",
       "      <th></th>\n",
       "      <th>StockCode</th>\n",
       "      <th>Description</th>\n",
       "      <th>Quantity</th>\n",
       "    </tr>\n",
       "  </thead>\n",
       "  <tbody>\n",
       "    <tr>\n",
       "      <th>2518</th>\n",
       "      <td>23843</td>\n",
       "      <td>paper craft  little birdie</td>\n",
       "      <td>80995</td>\n",
       "    </tr>\n",
       "    <tr>\n",
       "      <th>2016</th>\n",
       "      <td>23166</td>\n",
       "      <td>medium ceramic top storage jar</td>\n",
       "      <td>77916</td>\n",
       "    </tr>\n",
       "    <tr>\n",
       "      <th>2694</th>\n",
       "      <td>84077</td>\n",
       "      <td>world war 2 gliders asstd designs</td>\n",
       "      <td>54127</td>\n",
       "    </tr>\n",
       "    <tr>\n",
       "      <th>3555</th>\n",
       "      <td>85099B</td>\n",
       "      <td>jumbo bag red retrospot</td>\n",
       "      <td>46171</td>\n",
       "    </tr>\n",
       "    <tr>\n",
       "      <th>3562</th>\n",
       "      <td>85123A</td>\n",
       "      <td>white hanging heart tlight holder</td>\n",
       "      <td>36719</td>\n",
       "    </tr>\n",
       "    <tr>\n",
       "      <th>2799</th>\n",
       "      <td>84879</td>\n",
       "      <td>assorted colour bird ornament</td>\n",
       "      <td>35332</td>\n",
       "    </tr>\n",
       "    <tr>\n",
       "      <th>357</th>\n",
       "      <td>21212</td>\n",
       "      <td>pack of 72 retrospot cake cases</td>\n",
       "      <td>33669</td>\n",
       "    </tr>\n",
       "    <tr>\n",
       "      <th>1031</th>\n",
       "      <td>22197</td>\n",
       "      <td>popcorn holder</td>\n",
       "      <td>30931</td>\n",
       "    </tr>\n",
       "    <tr>\n",
       "      <th>1922</th>\n",
       "      <td>23084</td>\n",
       "      <td>rabbit night light</td>\n",
       "      <td>27202</td>\n",
       "    </tr>\n",
       "    <tr>\n",
       "      <th>1306</th>\n",
       "      <td>22492</td>\n",
       "      <td>mini paint set vintage</td>\n",
       "      <td>26076</td>\n",
       "    </tr>\n",
       "  </tbody>\n",
       "</table>\n",
       "</div>"
      ],
      "text/plain": [
       "     StockCode                        Description  Quantity\n",
       "2518     23843         paper craft  little birdie     80995\n",
       "2016     23166     medium ceramic top storage jar     77916\n",
       "2694     84077  world war 2 gliders asstd designs     54127\n",
       "3555    85099B            jumbo bag red retrospot     46171\n",
       "3562    85123A  white hanging heart tlight holder     36719\n",
       "2799     84879      assorted colour bird ornament     35332\n",
       "357      21212    pack of 72 retrospot cake cases     33669\n",
       "1031     22197                     popcorn holder     30931\n",
       "1922     23084                 rabbit night light     27202\n",
       "1306     22492             mini paint set vintage     26076"
      ]
     },
     "execution_count": 32,
     "metadata": {},
     "output_type": "execute_result"
    }
   ],
   "source": [
    "# identify the top-selling products based on the number of units sold\n",
    "top_products_by_units = df.groupby(['StockCode', 'Description'])['Quantity'].sum().reset_index()\n",
    "top_products_by_units = top_products_by_units.sort_values(by='Quantity', ascending=False)\n",
    "\n",
    "top_products_by_units.head(10)"
   ]
  },
  {
   "cell_type": "code",
   "execution_count": 33,
   "metadata": {
    "cell_id": "ae89488d66ec4c569c6140182283e605",
    "deepnote_cell_type": "code",
    "deepnote_to_be_reexecuted": false,
    "execution_millis": 148,
    "execution_start": 1687589152199,
    "source_hash": "6c229e62"
   },
   "outputs": [
    {
     "data": {
      "application/vnd.deepnote.dataframe.v3+json": {
       "column_count": 3,
       "columns": [
        {
         "dtype": "object",
         "name": "StockCode",
         "stats": {
          "categories": [
           {
            "count": 1,
            "name": "23843"
           },
           {
            "count": 1,
            "name": "22423"
           },
           {
            "count": 8,
            "name": "8 others"
           }
          ],
          "nan_count": 0,
          "unique_count": 10
         }
        },
        {
         "dtype": "object",
         "name": "Description",
         "stats": {
          "categories": [
           {
            "count": 1,
            "name": "paper craft  little birdie"
           },
           {
            "count": 1,
            "name": "regency cakestand 3 tier"
           },
           {
            "count": 8,
            "name": "8 others"
           }
          ],
          "nan_count": 0,
          "unique_count": 10
         }
        },
        {
         "dtype": "float64",
         "name": "Revenue",
         "stats": {
          "histogram": [
           {
            "bin_end": 63058.540000000125,
            "bin_start": 51346.200000000135,
            "count": 3
           },
           {
            "bin_end": 74770.8800000001,
            "bin_start": 63058.540000000125,
            "count": 1
           },
           {
            "bin_end": 86483.22000000009,
            "bin_start": 74770.8800000001,
            "count": 3
           },
           {
            "bin_end": 98195.56000000008,
            "bin_start": 86483.22000000009,
            "count": 0
           },
           {
            "bin_end": 109907.90000000008,
            "bin_start": 98195.56000000008,
            "count": 1
           },
           {
            "bin_end": 121620.24000000005,
            "bin_start": 109907.90000000008,
            "count": 0
           },
           {
            "bin_end": 133332.58000000005,
            "bin_start": 121620.24000000005,
            "count": 0
           },
           {
            "bin_end": 145044.92000000004,
            "bin_start": 133332.58000000005,
            "count": 1
           },
           {
            "bin_end": 156757.26,
            "bin_start": 145044.92000000004,
            "count": 0
           },
           {
            "bin_end": 168469.6,
            "bin_start": 156757.26,
            "count": 1
           }
          ],
          "max": "168469.6",
          "min": "51346.200000000135",
          "nan_count": 0,
          "unique_count": 10
         }
        },
        {
         "dtype": "int64",
         "name": "_deepnote_index_column"
        }
       ],
       "row_count": 10,
       "rows": [
        {
         "Description": "paper craft  little birdie",
         "Revenue": 168469.6,
         "StockCode": "23843",
         "_deepnote_index_column": 2518
        },
        {
         "Description": "regency cakestand 3 tier",
         "Revenue": 142086.24999999965,
         "StockCode": "22423",
         "_deepnote_index_column": 1241
        },
        {
         "Description": "white hanging heart tlight holder",
         "Revenue": 100430.44999999866,
         "StockCode": "85123A",
         "_deepnote_index_column": 3562
        },
        {
         "Description": "jumbo bag red retrospot",
         "Revenue": 85199.98000000192,
         "StockCode": "85099B",
         "_deepnote_index_column": 3555
        },
        {
         "Description": "medium ceramic top storage jar",
         "Revenue": 81416.72999999995,
         "StockCode": "23166",
         "_deepnote_index_column": 2016
        },
        {
         "Description": "postage",
         "Revenue": 76457.01999999999,
         "StockCode": "POST",
         "_deepnote_index_column": 3882
        },
        {
         "Description": "party bunting",
         "Revenue": 68754.78000000036,
         "StockCode": "47566",
         "_deepnote_index_column": 2596
        },
        {
         "Description": "assorted colour bird ornament",
         "Revenue": 56529.63999999957,
         "StockCode": "84879",
         "_deepnote_index_column": 2799
        },
        {
         "Description": "manual",
         "Revenue": 53779.929999999964,
         "StockCode": "M",
         "_deepnote_index_column": 3880
        },
        {
         "Description": "rabbit night light",
         "Revenue": 51346.200000000135,
         "StockCode": "23084",
         "_deepnote_index_column": 1922
        }
       ]
      },
      "text/html": [
       "<div>\n",
       "<style scoped>\n",
       "    .dataframe tbody tr th:only-of-type {\n",
       "        vertical-align: middle;\n",
       "    }\n",
       "\n",
       "    .dataframe tbody tr th {\n",
       "        vertical-align: top;\n",
       "    }\n",
       "\n",
       "    .dataframe thead th {\n",
       "        text-align: right;\n",
       "    }\n",
       "</style>\n",
       "<table border=\"1\" class=\"dataframe\">\n",
       "  <thead>\n",
       "    <tr style=\"text-align: right;\">\n",
       "      <th></th>\n",
       "      <th>StockCode</th>\n",
       "      <th>Description</th>\n",
       "      <th>Revenue</th>\n",
       "    </tr>\n",
       "  </thead>\n",
       "  <tbody>\n",
       "    <tr>\n",
       "      <th>2518</th>\n",
       "      <td>23843</td>\n",
       "      <td>paper craft  little birdie</td>\n",
       "      <td>168469.60</td>\n",
       "    </tr>\n",
       "    <tr>\n",
       "      <th>1241</th>\n",
       "      <td>22423</td>\n",
       "      <td>regency cakestand 3 tier</td>\n",
       "      <td>142086.25</td>\n",
       "    </tr>\n",
       "    <tr>\n",
       "      <th>3562</th>\n",
       "      <td>85123A</td>\n",
       "      <td>white hanging heart tlight holder</td>\n",
       "      <td>100430.45</td>\n",
       "    </tr>\n",
       "    <tr>\n",
       "      <th>3555</th>\n",
       "      <td>85099B</td>\n",
       "      <td>jumbo bag red retrospot</td>\n",
       "      <td>85199.98</td>\n",
       "    </tr>\n",
       "    <tr>\n",
       "      <th>2016</th>\n",
       "      <td>23166</td>\n",
       "      <td>medium ceramic top storage jar</td>\n",
       "      <td>81416.73</td>\n",
       "    </tr>\n",
       "    <tr>\n",
       "      <th>3882</th>\n",
       "      <td>POST</td>\n",
       "      <td>postage</td>\n",
       "      <td>76457.02</td>\n",
       "    </tr>\n",
       "    <tr>\n",
       "      <th>2596</th>\n",
       "      <td>47566</td>\n",
       "      <td>party bunting</td>\n",
       "      <td>68754.78</td>\n",
       "    </tr>\n",
       "    <tr>\n",
       "      <th>2799</th>\n",
       "      <td>84879</td>\n",
       "      <td>assorted colour bird ornament</td>\n",
       "      <td>56529.64</td>\n",
       "    </tr>\n",
       "    <tr>\n",
       "      <th>3880</th>\n",
       "      <td>M</td>\n",
       "      <td>manual</td>\n",
       "      <td>53779.93</td>\n",
       "    </tr>\n",
       "    <tr>\n",
       "      <th>1922</th>\n",
       "      <td>23084</td>\n",
       "      <td>rabbit night light</td>\n",
       "      <td>51346.20</td>\n",
       "    </tr>\n",
       "  </tbody>\n",
       "</table>\n",
       "</div>"
      ],
      "text/plain": [
       "     StockCode                        Description    Revenue\n",
       "2518     23843         paper craft  little birdie  168469.60\n",
       "1241     22423           regency cakestand 3 tier  142086.25\n",
       "3562    85123A  white hanging heart tlight holder  100430.45\n",
       "3555    85099B            jumbo bag red retrospot   85199.98\n",
       "2016     23166     medium ceramic top storage jar   81416.73\n",
       "3882      POST                            postage   76457.02\n",
       "2596     47566                      party bunting   68754.78\n",
       "2799     84879      assorted colour bird ornament   56529.64\n",
       "3880         M                             manual   53779.93\n",
       "1922     23084                 rabbit night light   51346.20"
      ]
     },
     "execution_count": 33,
     "metadata": {},
     "output_type": "execute_result"
    }
   ],
   "source": [
    "# Identify the top-selling products based on the total revenue generated\n",
    "df['Revenue'] = df['UnitPrice'] * df['Quantity'] #Feature engineering: creating another column based on existing columns\n",
    "\n",
    "top_products_by_revenue = df.groupby(['StockCode', 'Description'])['Revenue'].sum().reset_index()\n",
    "top_products_by_revenue = top_products_by_revenue.sort_values(by='Revenue', ascending=False)\n",
    "\n",
    "top_products_by_revenue.head(10)"
   ]
  },
  {
   "cell_type": "code",
   "execution_count": 34,
   "metadata": {
    "cell_id": "b73afba7830d4208a8c680b830b5bc33",
    "deepnote_cell_type": "code",
    "deepnote_to_be_reexecuted": false,
    "execution_millis": 3,
    "execution_start": 1687589152357,
    "source_hash": "25d43fa0"
   },
   "outputs": [
    {
     "data": {
      "text/plain": [
       "Index(['InvoiceNo', 'StockCode', 'Description', 'Quantity', 'InvoiceDate',\n",
       "       'UnitPrice', 'CustomerID', 'Country', 'Revenue'],\n",
       "      dtype='object')"
      ]
     },
     "execution_count": 34,
     "metadata": {},
     "output_type": "execute_result"
    }
   ],
   "source": [
    "df.columns"
   ]
  },
  {
   "cell_type": "code",
   "execution_count": 34,
   "metadata": {
    "cell_id": "4aeb736c4b84473287b9ac782aee67a5",
    "deepnote_cell_type": "code",
    "deepnote_to_be_reexecuted": false,
    "execution_millis": 2,
    "execution_start": 1687589152405,
    "source_hash": "b623e53d"
   },
   "outputs": [],
   "source": []
  },
  {
   "cell_type": "markdown",
   "metadata": {
    "cell_id": "29a2951458bc4cf8ac48f6d18f54f408",
    "deepnote_cell_type": "markdown"
   },
   "source": [
    "`"
   ]
  },
  {
   "cell_type": "markdown",
   "metadata": {
    "cell_id": "297165c9e4c44d3db2e0748e6ae737c0",
    "deepnote_cell_type": "markdown"
   },
   "source": [
    "<h3> RFM (Recency, Frequency and Monetary) Analysis </h3>"
   ]
  },
  {
   "cell_type": "code",
   "execution_count": 35,
   "metadata": {
    "cell_id": "7931b8daaf36420a8d2948a63a3c0e2a",
    "deepnote_cell_type": "code",
    "deepnote_to_be_reexecuted": false,
    "execution_millis": 51,
    "execution_start": 1687589152406,
    "source_hash": "b5596cc1"
   },
   "outputs": [
    {
     "data": {
      "application/vnd.deepnote.dataframe.v3+json": {
       "column_count": 9,
       "columns": [
        {
         "dtype": "object",
         "name": "InvoiceNo",
         "stats": {
          "categories": [
           {
            "count": 47,
            "name": "573511"
           },
           {
            "count": 31,
            "name": "537626"
           },
           {
            "count": 104,
            "name": "5 others"
           }
          ],
          "nan_count": 0,
          "unique_count": 7
         }
        },
        {
         "dtype": "object",
         "name": "StockCode",
         "stats": {
          "categories": [
           {
            "count": 6,
            "name": "22375"
           },
           {
            "count": 5,
            "name": "22727"
           },
           {
            "count": 171,
            "name": "101 others"
           }
          ],
          "nan_count": 0,
          "unique_count": 103
         }
        },
        {
         "dtype": "object",
         "name": "Description",
         "stats": {
          "categories": [
           {
            "count": 6,
            "name": "airline bag vintage jet set brown"
           },
           {
            "count": 5,
            "name": "alarm clock bakelike red"
           },
           {
            "count": 171,
            "name": "101 others"
           }
          ],
          "nan_count": 0,
          "unique_count": 103
         }
        },
        {
         "dtype": "int64",
         "name": "Quantity",
         "stats": {
          "histogram": [
           {
            "bin_end": 25.8,
            "bin_start": 2,
            "count": 173
           },
           {
            "bin_end": 49.6,
            "bin_start": 25.8,
            "count": 8
           },
           {
            "bin_end": 73.4,
            "bin_start": 49.6,
            "count": 0
           },
           {
            "bin_end": 97.2,
            "bin_start": 73.4,
            "count": 0
           },
           {
            "bin_end": 121,
            "bin_start": 97.2,
            "count": 0
           },
           {
            "bin_end": 144.8,
            "bin_start": 121,
            "count": 0
           },
           {
            "bin_end": 168.6,
            "bin_start": 144.8,
            "count": 0
           },
           {
            "bin_end": 192.4,
            "bin_start": 168.6,
            "count": 0
           },
           {
            "bin_end": 216.20000000000002,
            "bin_start": 192.4,
            "count": 0
           },
           {
            "bin_end": 240,
            "bin_start": 216.20000000000002,
            "count": 1
           }
          ],
          "max": "240",
          "min": "2",
          "nan_count": 0,
          "unique_count": 15
         }
        },
        {
         "dtype": "datetime64[ns]",
         "name": "InvoiceDate",
         "stats": {
          "histogram": [
           {
            "bin_end": 1294887750000000000,
            "bin_start": 1291733820000000000,
            "count": 31
           },
           {
            "bin_end": 1298041680000000000,
            "bin_start": 1294887750000000000,
            "count": 29
           },
           {
            "bin_end": 1301195610000000000,
            "bin_start": 1298041680000000000,
            "count": 0
           },
           {
            "bin_end": 1304349540000000000,
            "bin_start": 1301195610000000000,
            "count": 24
           },
           {
            "bin_end": 1307503470000000000,
            "bin_start": 1304349540000000000,
            "count": 0
           },
           {
            "bin_end": 1310657400000000000,
            "bin_start": 1307503470000000000,
            "count": 18
           },
           {
            "bin_end": 1313811330000000000,
            "bin_start": 1310657400000000000,
            "count": 22
           },
           {
            "bin_end": 1316965260000000000,
            "bin_start": 1313811330000000000,
            "count": 0
           },
           {
            "bin_end": 1320119190000000000,
            "bin_start": 1316965260000000000,
            "count": 47
           },
           {
            "bin_end": 1323273120000000000,
            "bin_start": 1320119190000000000,
            "count": 11
           }
          ],
          "max": "2011-12-07 15:52:00",
          "min": "2010-12-07 14:57:00",
          "nan_count": 0,
          "unique_count": 7
         }
        },
        {
         "dtype": "float64",
         "name": "UnitPrice",
         "stats": {
          "histogram": [
           {
            "bin_end": 1.5,
            "bin_start": 0.25,
            "count": 68
           },
           {
            "bin_end": 2.75,
            "bin_start": 1.5,
            "count": 35
           },
           {
            "bin_end": 4,
            "bin_start": 2.75,
            "count": 44
           },
           {
            "bin_end": 5.25,
            "bin_start": 4,
            "count": 25
           },
           {
            "bin_end": 6.5,
            "bin_start": 5.25,
            "count": 3
           },
           {
            "bin_end": 7.75,
            "bin_start": 6.5,
            "count": 0
           },
           {
            "bin_end": 9,
            "bin_start": 7.75,
            "count": 1
           },
           {
            "bin_end": 10.25,
            "bin_start": 9,
            "count": 2
           },
           {
            "bin_end": 11.5,
            "bin_start": 10.25,
            "count": 0
           },
           {
            "bin_end": 12.75,
            "bin_start": 11.5,
            "count": 4
           }
          ],
          "max": "12.75",
          "min": "0.25",
          "nan_count": 0,
          "unique_count": 32
         }
        },
        {
         "dtype": "object",
         "name": "CustomerID",
         "stats": {
          "categories": [
           {
            "count": 182,
            "name": "12347.0"
           }
          ],
          "nan_count": 0,
          "unique_count": 1
         }
        },
        {
         "dtype": "object",
         "name": "Country",
         "stats": {
          "categories": [
           {
            "count": 182,
            "name": "iceland"
           }
          ],
          "nan_count": 0,
          "unique_count": 1
         }
        },
        {
         "dtype": "float64",
         "name": "Revenue",
         "stats": {
          "histogram": [
           {
            "bin_end": 29.496000000000002,
            "bin_start": 5.04,
            "count": 141
           },
           {
            "bin_end": 53.952000000000005,
            "bin_start": 29.496000000000002,
            "count": 33
           },
           {
            "bin_end": 78.40800000000002,
            "bin_start": 53.952000000000005,
            "count": 3
           },
           {
            "bin_end": 102.86400000000002,
            "bin_start": 78.40800000000002,
            "count": 2
           },
           {
            "bin_end": 127.32000000000002,
            "bin_start": 102.86400000000002,
            "count": 2
           },
           {
            "bin_end": 151.776,
            "bin_start": 127.32000000000002,
            "count": 0
           },
           {
            "bin_end": 176.232,
            "bin_start": 151.776,
            "count": 0
           },
           {
            "bin_end": 200.68800000000002,
            "bin_start": 176.232,
            "count": 0
           },
           {
            "bin_end": 225.14400000000003,
            "bin_start": 200.68800000000002,
            "count": 0
           },
           {
            "bin_end": 249.60000000000002,
            "bin_start": 225.14400000000003,
            "count": 1
           }
          ],
          "max": "249.60000000000002",
          "min": "5.04",
          "nan_count": 0,
          "unique_count": 56
         }
        },
        {
         "dtype": "int64",
         "name": "_deepnote_index_column"
        }
       ],
       "row_count": 182,
       "rows": [
        {
         "Country": "iceland",
         "CustomerID": "12347.0",
         "Description": "black candelabra tlight holder",
         "InvoiceDate": "2010-12-07 14:57:00",
         "InvoiceNo": "537626",
         "Quantity": 12,
         "Revenue": 25.200000000000003,
         "StockCode": "85116",
         "UnitPrice": 2.1,
         "_deepnote_index_column": 14938
        },
        {
         "Country": "iceland",
         "CustomerID": "12347.0",
         "Description": "airline bag vintage jet set brown",
         "InvoiceDate": "2010-12-07 14:57:00",
         "InvoiceNo": "537626",
         "Quantity": 4,
         "Revenue": 17,
         "StockCode": "22375",
         "UnitPrice": 4.25,
         "_deepnote_index_column": 14939
        },
        {
         "Country": "iceland",
         "CustomerID": "12347.0",
         "Description": "colour glass star tlight holder",
         "InvoiceDate": "2010-12-07 14:57:00",
         "InvoiceNo": "537626",
         "Quantity": 12,
         "Revenue": 39,
         "StockCode": "71477",
         "UnitPrice": 3.25,
         "_deepnote_index_column": 14940
        },
        {
         "Country": "iceland",
         "CustomerID": "12347.0",
         "Description": "mini paint set vintage",
         "InvoiceDate": "2010-12-07 14:57:00",
         "InvoiceNo": "537626",
         "Quantity": 36,
         "Revenue": 23.400000000000002,
         "StockCode": "22492",
         "UnitPrice": 0.65,
         "_deepnote_index_column": 14941
        },
        {
         "Country": "iceland",
         "CustomerID": "12347.0",
         "Description": "clear drawer knob acrylic edwardian",
         "InvoiceDate": "2010-12-07 14:57:00",
         "InvoiceNo": "537626",
         "Quantity": 12,
         "Revenue": 15,
         "StockCode": "22771",
         "UnitPrice": 1.25,
         "_deepnote_index_column": 14942
        },
        {
         "Country": "iceland",
         "CustomerID": "12347.0",
         "Description": "pink drawer knob acrylic edwardian",
         "InvoiceDate": "2010-12-07 14:57:00",
         "InvoiceNo": "537626",
         "Quantity": 12,
         "Revenue": 15,
         "StockCode": "22772",
         "UnitPrice": 1.25,
         "_deepnote_index_column": 14943
        },
        {
         "Country": "iceland",
         "CustomerID": "12347.0",
         "Description": "green drawer knob acrylic edwardian",
         "InvoiceDate": "2010-12-07 14:57:00",
         "InvoiceNo": "537626",
         "Quantity": 12,
         "Revenue": 15,
         "StockCode": "22773",
         "UnitPrice": 1.25,
         "_deepnote_index_column": 14944
        },
        {
         "Country": "iceland",
         "CustomerID": "12347.0",
         "Description": "red drawer knob acrylic edwardian",
         "InvoiceDate": "2010-12-07 14:57:00",
         "InvoiceNo": "537626",
         "Quantity": 12,
         "Revenue": 15,
         "StockCode": "22774",
         "UnitPrice": 1.25,
         "_deepnote_index_column": 14945
        },
        {
         "Country": "iceland",
         "CustomerID": "12347.0",
         "Description": "purple drawerknob acrylic edwardian",
         "InvoiceDate": "2010-12-07 14:57:00",
         "InvoiceNo": "537626",
         "Quantity": 12,
         "Revenue": 15,
         "StockCode": "22775",
         "UnitPrice": 1.25,
         "_deepnote_index_column": 14946
        },
        {
         "Country": "iceland",
         "CustomerID": "12347.0",
         "Description": "blue drawer knob acrylic edwardian",
         "InvoiceDate": "2010-12-07 14:57:00",
         "InvoiceNo": "537626",
         "Quantity": 12,
         "Revenue": 15,
         "StockCode": "22805",
         "UnitPrice": 1.25,
         "_deepnote_index_column": 14947
        }
       ]
      },
      "text/html": [
       "<div>\n",
       "<style scoped>\n",
       "    .dataframe tbody tr th:only-of-type {\n",
       "        vertical-align: middle;\n",
       "    }\n",
       "\n",
       "    .dataframe tbody tr th {\n",
       "        vertical-align: top;\n",
       "    }\n",
       "\n",
       "    .dataframe thead th {\n",
       "        text-align: right;\n",
       "    }\n",
       "</style>\n",
       "<table border=\"1\" class=\"dataframe\">\n",
       "  <thead>\n",
       "    <tr style=\"text-align: right;\">\n",
       "      <th></th>\n",
       "      <th>InvoiceNo</th>\n",
       "      <th>StockCode</th>\n",
       "      <th>Description</th>\n",
       "      <th>Quantity</th>\n",
       "      <th>InvoiceDate</th>\n",
       "      <th>UnitPrice</th>\n",
       "      <th>CustomerID</th>\n",
       "      <th>Country</th>\n",
       "      <th>Revenue</th>\n",
       "    </tr>\n",
       "  </thead>\n",
       "  <tbody>\n",
       "    <tr>\n",
       "      <th>14938</th>\n",
       "      <td>537626</td>\n",
       "      <td>85116</td>\n",
       "      <td>black candelabra tlight holder</td>\n",
       "      <td>12</td>\n",
       "      <td>2010-12-07 14:57:00</td>\n",
       "      <td>2.10</td>\n",
       "      <td>12347.0</td>\n",
       "      <td>iceland</td>\n",
       "      <td>25.20</td>\n",
       "    </tr>\n",
       "    <tr>\n",
       "      <th>14939</th>\n",
       "      <td>537626</td>\n",
       "      <td>22375</td>\n",
       "      <td>airline bag vintage jet set brown</td>\n",
       "      <td>4</td>\n",
       "      <td>2010-12-07 14:57:00</td>\n",
       "      <td>4.25</td>\n",
       "      <td>12347.0</td>\n",
       "      <td>iceland</td>\n",
       "      <td>17.00</td>\n",
       "    </tr>\n",
       "    <tr>\n",
       "      <th>14940</th>\n",
       "      <td>537626</td>\n",
       "      <td>71477</td>\n",
       "      <td>colour glass star tlight holder</td>\n",
       "      <td>12</td>\n",
       "      <td>2010-12-07 14:57:00</td>\n",
       "      <td>3.25</td>\n",
       "      <td>12347.0</td>\n",
       "      <td>iceland</td>\n",
       "      <td>39.00</td>\n",
       "    </tr>\n",
       "    <tr>\n",
       "      <th>14941</th>\n",
       "      <td>537626</td>\n",
       "      <td>22492</td>\n",
       "      <td>mini paint set vintage</td>\n",
       "      <td>36</td>\n",
       "      <td>2010-12-07 14:57:00</td>\n",
       "      <td>0.65</td>\n",
       "      <td>12347.0</td>\n",
       "      <td>iceland</td>\n",
       "      <td>23.40</td>\n",
       "    </tr>\n",
       "    <tr>\n",
       "      <th>14942</th>\n",
       "      <td>537626</td>\n",
       "      <td>22771</td>\n",
       "      <td>clear drawer knob acrylic edwardian</td>\n",
       "      <td>12</td>\n",
       "      <td>2010-12-07 14:57:00</td>\n",
       "      <td>1.25</td>\n",
       "      <td>12347.0</td>\n",
       "      <td>iceland</td>\n",
       "      <td>15.00</td>\n",
       "    </tr>\n",
       "    <tr>\n",
       "      <th>...</th>\n",
       "      <td>...</td>\n",
       "      <td>...</td>\n",
       "      <td>...</td>\n",
       "      <td>...</td>\n",
       "      <td>...</td>\n",
       "      <td>...</td>\n",
       "      <td>...</td>\n",
       "      <td>...</td>\n",
       "      <td>...</td>\n",
       "    </tr>\n",
       "    <tr>\n",
       "      <th>535010</th>\n",
       "      <td>581180</td>\n",
       "      <td>20719</td>\n",
       "      <td>woodland charlotte bag</td>\n",
       "      <td>10</td>\n",
       "      <td>2011-12-07 15:52:00</td>\n",
       "      <td>0.85</td>\n",
       "      <td>12347.0</td>\n",
       "      <td>iceland</td>\n",
       "      <td>8.50</td>\n",
       "    </tr>\n",
       "    <tr>\n",
       "      <th>535011</th>\n",
       "      <td>581180</td>\n",
       "      <td>21265</td>\n",
       "      <td>pink goose feather tree 60cm</td>\n",
       "      <td>12</td>\n",
       "      <td>2011-12-07 15:52:00</td>\n",
       "      <td>1.95</td>\n",
       "      <td>12347.0</td>\n",
       "      <td>iceland</td>\n",
       "      <td>23.40</td>\n",
       "    </tr>\n",
       "    <tr>\n",
       "      <th>535012</th>\n",
       "      <td>581180</td>\n",
       "      <td>23271</td>\n",
       "      <td>christmas table silver candle spike</td>\n",
       "      <td>16</td>\n",
       "      <td>2011-12-07 15:52:00</td>\n",
       "      <td>0.83</td>\n",
       "      <td>12347.0</td>\n",
       "      <td>iceland</td>\n",
       "      <td>13.28</td>\n",
       "    </tr>\n",
       "    <tr>\n",
       "      <th>535013</th>\n",
       "      <td>581180</td>\n",
       "      <td>23506</td>\n",
       "      <td>mini playing cards spaceboy</td>\n",
       "      <td>20</td>\n",
       "      <td>2011-12-07 15:52:00</td>\n",
       "      <td>0.42</td>\n",
       "      <td>12347.0</td>\n",
       "      <td>iceland</td>\n",
       "      <td>8.40</td>\n",
       "    </tr>\n",
       "    <tr>\n",
       "      <th>535014</th>\n",
       "      <td>581180</td>\n",
       "      <td>23508</td>\n",
       "      <td>mini playing cards dolly girl</td>\n",
       "      <td>20</td>\n",
       "      <td>2011-12-07 15:52:00</td>\n",
       "      <td>0.42</td>\n",
       "      <td>12347.0</td>\n",
       "      <td>iceland</td>\n",
       "      <td>8.40</td>\n",
       "    </tr>\n",
       "  </tbody>\n",
       "</table>\n",
       "<p>182 rows × 9 columns</p>\n",
       "</div>"
      ],
      "text/plain": [
       "       InvoiceNo StockCode                          Description  Quantity  \\\n",
       "14938     537626     85116       black candelabra tlight holder        12   \n",
       "14939     537626     22375    airline bag vintage jet set brown         4   \n",
       "14940     537626     71477      colour glass star tlight holder        12   \n",
       "14941     537626     22492               mini paint set vintage        36   \n",
       "14942     537626     22771  clear drawer knob acrylic edwardian        12   \n",
       "...          ...       ...                                  ...       ...   \n",
       "535010    581180     20719               woodland charlotte bag        10   \n",
       "535011    581180     21265         pink goose feather tree 60cm        12   \n",
       "535012    581180     23271  christmas table silver candle spike        16   \n",
       "535013    581180     23506          mini playing cards spaceboy        20   \n",
       "535014    581180     23508        mini playing cards dolly girl        20   \n",
       "\n",
       "               InvoiceDate  UnitPrice CustomerID  Country  Revenue  \n",
       "14938  2010-12-07 14:57:00       2.10    12347.0  iceland    25.20  \n",
       "14939  2010-12-07 14:57:00       4.25    12347.0  iceland    17.00  \n",
       "14940  2010-12-07 14:57:00       3.25    12347.0  iceland    39.00  \n",
       "14941  2010-12-07 14:57:00       0.65    12347.0  iceland    23.40  \n",
       "14942  2010-12-07 14:57:00       1.25    12347.0  iceland    15.00  \n",
       "...                    ...        ...        ...      ...      ...  \n",
       "535010 2011-12-07 15:52:00       0.85    12347.0  iceland     8.50  \n",
       "535011 2011-12-07 15:52:00       1.95    12347.0  iceland    23.40  \n",
       "535012 2011-12-07 15:52:00       0.83    12347.0  iceland    13.28  \n",
       "535013 2011-12-07 15:52:00       0.42    12347.0  iceland     8.40  \n",
       "535014 2011-12-07 15:52:00       0.42    12347.0  iceland     8.40  \n",
       "\n",
       "[182 rows x 9 columns]"
      ]
     },
     "execution_count": 35,
     "metadata": {},
     "output_type": "execute_result"
    }
   ],
   "source": [
    "df[df['CustomerID']==12347.0]"
   ]
  },
  {
   "cell_type": "code",
   "execution_count": 36,
   "metadata": {
    "cell_id": "8e7f670127684c1f90963fb5745794e9",
    "deepnote_cell_type": "code",
    "deepnote_to_be_reexecuted": false,
    "execution_millis": 45,
    "execution_start": 1687589152468,
    "source_hash": "53f1330"
   },
   "outputs": [
    {
     "data": {
      "text/plain": [
       "0         373\n",
       "1         373\n",
       "2         373\n",
       "3         373\n",
       "4         373\n",
       "         ... \n",
       "541904      0\n",
       "541905      0\n",
       "541906      0\n",
       "541907      0\n",
       "541908      0\n",
       "Name: InvoiceDate, Length: 397122, dtype: int64"
      ]
     },
     "execution_count": 36,
     "metadata": {},
     "output_type": "execute_result"
    }
   ],
   "source": [
    "# the difference of the actual data (df) last day of purchase and each customer's last date of purchase\n",
    "(df['InvoiceDate'].max() - pd.to_datetime(df['InvoiceDate'])).dt.days"
   ]
  },
  {
   "cell_type": "code",
   "execution_count": 37,
   "metadata": {
    "cell_id": "51a75e74e81641db90e74a4fc2d46779",
    "deepnote_cell_type": "code",
    "deepnote_to_be_reexecuted": false,
    "execution_millis": 3,
    "execution_start": 1687589152557,
    "source_hash": "b623e53d"
   },
   "outputs": [],
   "source": []
  },
  {
   "cell_type": "code",
   "execution_count": 36,
   "metadata": {
    "cell_id": "b83094c365604f5a895af237fedb72b8",
    "deepnote_cell_type": "code",
    "deepnote_to_be_reexecuted": false,
    "execution_millis": 3,
    "execution_start": 1687589152557,
    "source_hash": "b623e53d"
   },
   "outputs": [],
   "source": []
  },
  {
   "cell_type": "code",
   "execution_count": 37,
   "metadata": {
    "cell_id": "e52a317404d44a9db71f39e7dcfe97a8",
    "deepnote_cell_type": "code",
    "deepnote_to_be_reexecuted": false,
    "execution_millis": 2,
    "execution_start": 1687589152558,
    "source_hash": "1c65bf29"
   },
   "outputs": [],
   "source": [
    "## The choice of date is the last date a customer purchased, and then the last transaction date\n",
    "## The approach used here could be different for another RFM analysis, depending on the business requirement"
   ]
  },
  {
   "cell_type": "code",
   "execution_count": 38,
   "metadata": {
    "cell_id": "39dd337255a344aa912f875550b256dc",
    "deepnote_cell_type": "code",
    "deepnote_to_be_reexecuted": false,
    "execution_millis": 3909,
    "execution_start": 1687589152559,
    "source_hash": "98fcf9ef"
   },
   "outputs": [],
   "source": [
    "# the three columns necessary to create the RFM analysis \n",
    "\n",
    "last_date = df['InvoiceDate'].max() # Get the last recorded date of transaction\n",
    "\n",
    "rfm = df.groupby('CustomerID').agg({\n",
    "    'InvoiceDate': lambda x: (last_date - pd.to_datetime(x).max()).days,\n",
    "    'InvoiceNo': 'count',\n",
    "    'Revenue': 'sum'\n",
    "})"
   ]
  },
  {
   "cell_type": "code",
   "execution_count": 39,
   "metadata": {
    "cell_id": "28c546a8b97e403b9d02a4c5854f8d23",
    "deepnote_cell_type": "code",
    "deepnote_to_be_reexecuted": false,
    "execution_millis": 32,
    "execution_start": 1687589156470,
    "source_hash": "b623e53d"
   },
   "outputs": [],
   "source": []
  },
  {
   "cell_type": "code",
   "execution_count": 39,
   "metadata": {
    "cell_id": "a6b786e423be45888d2303139b30aa69",
    "deepnote_cell_type": "code",
    "deepnote_to_be_reexecuted": false,
    "execution_millis": 3,
    "execution_start": 1687589156501,
    "source_hash": "66578c32"
   },
   "outputs": [
    {
     "data": {
      "application/vnd.deepnote.dataframe.v3+json": {
       "column_count": 3,
       "columns": [
        {
         "dtype": "int64",
         "name": "InvoiceDate",
         "stats": {
          "histogram": [
           {
            "bin_end": 37.3,
            "bin_start": 0,
            "count": 1889
           },
           {
            "bin_end": 74.6,
            "bin_start": 37.3,
            "count": 806
           },
           {
            "bin_end": 111.89999999999999,
            "bin_start": 74.6,
            "count": 360
           },
           {
            "bin_end": 149.2,
            "bin_start": 111.89999999999999,
            "count": 233
           },
           {
            "bin_end": 186.5,
            "bin_start": 149.2,
            "count": 224
           },
           {
            "bin_end": 223.79999999999998,
            "bin_start": 186.5,
            "count": 187
           },
           {
            "bin_end": 261.09999999999997,
            "bin_start": 223.79999999999998,
            "count": 189
           },
           {
            "bin_end": 298.4,
            "bin_start": 261.09999999999997,
            "count": 166
           },
           {
            "bin_end": 335.7,
            "bin_start": 298.4,
            "count": 140
           },
           {
            "bin_end": 373,
            "bin_start": 335.7,
            "count": 126
           }
          ],
          "max": "373",
          "min": "0",
          "nan_count": 0,
          "unique_count": 349
         }
        },
        {
         "dtype": "int64",
         "name": "InvoiceNo",
         "stats": {
          "histogram": [
           {
            "bin_end": 785.6,
            "bin_start": 1,
            "count": 4291
           },
           {
            "bin_end": 1570.2,
            "bin_start": 785.6,
            "count": 19
           },
           {
            "bin_end": 2354.8,
            "bin_start": 1570.2,
            "count": 4
           },
           {
            "bin_end": 3139.4,
            "bin_start": 2354.8,
            "count": 2
           },
           {
            "bin_end": 3924,
            "bin_start": 3139.4,
            "count": 0
           },
           {
            "bin_end": 4708.6,
            "bin_start": 3924,
            "count": 1
           },
           {
            "bin_end": 5493.2,
            "bin_start": 4708.6,
            "count": 1
           },
           {
            "bin_end": 6277.8,
            "bin_start": 5493.2,
            "count": 1
           },
           {
            "bin_end": 7062.400000000001,
            "bin_start": 6277.8,
            "count": 0
           },
           {
            "bin_end": 7847,
            "bin_start": 7062.400000000001,
            "count": 1
           }
          ],
          "max": "7847",
          "min": "1",
          "nan_count": 0,
          "unique_count": 460
         }
        },
        {
         "dtype": "float64",
         "name": "Revenue",
         "stats": {
          "histogram": [
           {
            "bin_end": 28023.976999999984,
            "bin_start": 3.75,
            "count": 4285
           },
           {
            "bin_end": 56044.20399999997,
            "bin_start": 28023.976999999984,
            "count": 18
           },
           {
            "bin_end": 84064.43099999995,
            "bin_start": 56044.20399999997,
            "count": 9
           },
           {
            "bin_end": 112084.65799999994,
            "bin_start": 84064.43099999995,
            "count": 1
           },
           {
            "bin_end": 140104.88499999992,
            "bin_start": 112084.65799999994,
            "count": 2
           },
           {
            "bin_end": 168125.1119999999,
            "bin_start": 140104.88499999992,
            "count": 1
           },
           {
            "bin_end": 196145.3389999999,
            "bin_start": 168125.1119999999,
            "count": 2
           },
           {
            "bin_end": 224165.56599999988,
            "bin_start": 196145.3389999999,
            "count": 0
           },
           {
            "bin_end": 252185.79299999986,
            "bin_start": 224165.56599999988,
            "count": 0
           },
           {
            "bin_end": 280206.01999999984,
            "bin_start": 252185.79299999986,
            "count": 2
           }
          ],
          "max": "280206.01999999984",
          "min": "3.75",
          "nan_count": 0,
          "unique_count": 4267
         }
        },
        {
         "dtype": "float64",
         "name": "_deepnote_index_column"
        }
       ],
       "row_count": 4320,
       "rows": [
        {
         "InvoiceDate": 325,
         "InvoiceNo": 1,
         "Revenue": 77183.6,
         "_deepnote_index_column": 12346
        },
        {
         "InvoiceDate": 1,
         "InvoiceNo": 182,
         "Revenue": 4309.999999999997,
         "_deepnote_index_column": 12347
        },
        {
         "InvoiceDate": 74,
         "InvoiceNo": 31,
         "Revenue": 1797.24,
         "_deepnote_index_column": 12348
        },
        {
         "InvoiceDate": 18,
         "InvoiceNo": 73,
         "Revenue": 1757.55,
         "_deepnote_index_column": 12349
        },
        {
         "InvoiceDate": 309,
         "InvoiceNo": 17,
         "Revenue": 334.40000000000003,
         "_deepnote_index_column": 12350
        },
        {
         "InvoiceDate": 35,
         "InvoiceNo": 85,
         "Revenue": 2506.040000000001,
         "_deepnote_index_column": 12352
        },
        {
         "InvoiceDate": 231,
         "InvoiceNo": 58,
         "Revenue": 1079.4,
         "_deepnote_index_column": 12354
        },
        {
         "InvoiceDate": 22,
         "InvoiceNo": 59,
         "Revenue": 2811.4300000000007,
         "_deepnote_index_column": 12356
        },
        {
         "InvoiceDate": 32,
         "InvoiceNo": 131,
         "Revenue": 6207.669999999996,
         "_deepnote_index_column": 12357
        },
        {
         "InvoiceDate": 1,
         "InvoiceNo": 19,
         "Revenue": 1168.06,
         "_deepnote_index_column": 12358
        }
       ]
      },
      "text/html": [
       "<div>\n",
       "<style scoped>\n",
       "    .dataframe tbody tr th:only-of-type {\n",
       "        vertical-align: middle;\n",
       "    }\n",
       "\n",
       "    .dataframe tbody tr th {\n",
       "        vertical-align: top;\n",
       "    }\n",
       "\n",
       "    .dataframe thead th {\n",
       "        text-align: right;\n",
       "    }\n",
       "</style>\n",
       "<table border=\"1\" class=\"dataframe\">\n",
       "  <thead>\n",
       "    <tr style=\"text-align: right;\">\n",
       "      <th></th>\n",
       "      <th>InvoiceDate</th>\n",
       "      <th>InvoiceNo</th>\n",
       "      <th>Revenue</th>\n",
       "    </tr>\n",
       "    <tr>\n",
       "      <th>CustomerID</th>\n",
       "      <th></th>\n",
       "      <th></th>\n",
       "      <th></th>\n",
       "    </tr>\n",
       "  </thead>\n",
       "  <tbody>\n",
       "    <tr>\n",
       "      <th>12346.0</th>\n",
       "      <td>325</td>\n",
       "      <td>1</td>\n",
       "      <td>77183.60</td>\n",
       "    </tr>\n",
       "    <tr>\n",
       "      <th>12347.0</th>\n",
       "      <td>1</td>\n",
       "      <td>182</td>\n",
       "      <td>4310.00</td>\n",
       "    </tr>\n",
       "    <tr>\n",
       "      <th>12348.0</th>\n",
       "      <td>74</td>\n",
       "      <td>31</td>\n",
       "      <td>1797.24</td>\n",
       "    </tr>\n",
       "    <tr>\n",
       "      <th>12349.0</th>\n",
       "      <td>18</td>\n",
       "      <td>73</td>\n",
       "      <td>1757.55</td>\n",
       "    </tr>\n",
       "    <tr>\n",
       "      <th>12350.0</th>\n",
       "      <td>309</td>\n",
       "      <td>17</td>\n",
       "      <td>334.40</td>\n",
       "    </tr>\n",
       "    <tr>\n",
       "      <th>...</th>\n",
       "      <td>...</td>\n",
       "      <td>...</td>\n",
       "      <td>...</td>\n",
       "    </tr>\n",
       "    <tr>\n",
       "      <th>18280.0</th>\n",
       "      <td>277</td>\n",
       "      <td>10</td>\n",
       "      <td>180.60</td>\n",
       "    </tr>\n",
       "    <tr>\n",
       "      <th>18281.0</th>\n",
       "      <td>180</td>\n",
       "      <td>7</td>\n",
       "      <td>80.82</td>\n",
       "    </tr>\n",
       "    <tr>\n",
       "      <th>18282.0</th>\n",
       "      <td>7</td>\n",
       "      <td>12</td>\n",
       "      <td>178.05</td>\n",
       "    </tr>\n",
       "    <tr>\n",
       "      <th>18283.0</th>\n",
       "      <td>3</td>\n",
       "      <td>756</td>\n",
       "      <td>2094.88</td>\n",
       "    </tr>\n",
       "    <tr>\n",
       "      <th>18287.0</th>\n",
       "      <td>42</td>\n",
       "      <td>70</td>\n",
       "      <td>1837.28</td>\n",
       "    </tr>\n",
       "  </tbody>\n",
       "</table>\n",
       "<p>4320 rows × 3 columns</p>\n",
       "</div>"
      ],
      "text/plain": [
       "            InvoiceDate  InvoiceNo   Revenue\n",
       "CustomerID                                  \n",
       "12346.0             325          1  77183.60\n",
       "12347.0               1        182   4310.00\n",
       "12348.0              74         31   1797.24\n",
       "12349.0              18         73   1757.55\n",
       "12350.0             309         17    334.40\n",
       "...                 ...        ...       ...\n",
       "18280.0             277         10    180.60\n",
       "18281.0             180          7     80.82\n",
       "18282.0               7         12    178.05\n",
       "18283.0               3        756   2094.88\n",
       "18287.0              42         70   1837.28\n",
       "\n",
       "[4320 rows x 3 columns]"
      ]
     },
     "execution_count": 39,
     "metadata": {},
     "output_type": "execute_result"
    }
   ],
   "source": [
    "# the new table grouping the unique customer based on InvoiceDate, InvoiceNo and Revenue\n",
    "rfm"
   ]
  },
  {
   "cell_type": "code",
   "execution_count": 40,
   "metadata": {
    "cell_id": "6b943a189e42465eb81b9bd20be01031",
    "deepnote_cell_type": "code",
    "deepnote_to_be_reexecuted": false,
    "execution_millis": 4,
    "execution_start": 1687589156550,
    "source_hash": "82c36679"
   },
   "outputs": [
    {
     "data": {
      "text/plain": [
       "(4320, 3)"
      ]
     },
     "execution_count": 40,
     "metadata": {},
     "output_type": "execute_result"
    }
   ],
   "source": [
    "rfm.shape"
   ]
  },
  {
   "cell_type": "markdown",
   "metadata": {
    "cell_id": "4bca6535f516454ead18ccdf02caa930",
    "deepnote_cell_type": "markdown"
   },
   "source": [
    "<p>So far, this suggests 4,320 unique customers with with their respective <b>Recency</b> (time of last buy), <b>Frequency</b> (how often) and <b>Amount</b> spent buying  </p>"
   ]
  },
  {
   "cell_type": "code",
   "execution_count": 41,
   "metadata": {
    "cell_id": "993c07bd8ff442b79293b029a569854b",
    "deepnote_cell_type": "code",
    "deepnote_to_be_reexecuted": false,
    "execution_millis": 3,
    "execution_start": 1687589156551,
    "source_hash": "5798c106"
   },
   "outputs": [],
   "source": [
    "# rename the columns to reflect the analysis\n",
    "rfm.columns = ['Recency', 'Frequency', 'Monetary']"
   ]
  },
  {
   "cell_type": "markdown",
   "metadata": {
    "cell_id": "0b4eedba365b44a485d36db9926d9011",
    "deepnote_cell_type": "markdown"
   },
   "source": [
    "`"
   ]
  },
  {
   "cell_type": "markdown",
   "metadata": {
    "cell_id": "9e23607711604db9913d3acc11605cb5",
    "deepnote_cell_type": "markdown"
   },
   "source": [
    "<h4>Assign RFM scores (the columns) or categories based on the metrics </h4> \n",
    "<p>Opting for creating 7 quartiles; this is not cast in stone; preference of quartles\n",
    "should depend on the type of business, insights from the data and may be, decision makers</p>"
   ]
  },
  {
   "cell_type": "code",
   "execution_count": 42,
   "metadata": {
    "cell_id": "f669f73e16ea4a54bd54e1c3190dc851",
    "deepnote_cell_type": "code",
    "deepnote_to_be_reexecuted": false,
    "execution_millis": 2,
    "execution_start": 1687589156552,
    "source_hash": "3723f75f"
   },
   "outputs": [],
   "source": [
    "# Here, we'll use quartiles to assign scores from 1 to 7 now, and thereby creating 3 additional columns\n",
    "rfm['R_Score'] = pd.qcut(rfm['Recency'], q=7, labels=False, duplicates='drop') + 1\n",
    "rfm['F_Score'] = pd.qcut(rfm['Frequency'], q=7, labels=False, duplicates='drop') + 1\n",
    "rfm['M_Score'] = pd.qcut(rfm['Monetary'], q=7, labels=False, duplicates='drop') + 1"
   ]
  },
  {
   "cell_type": "code",
   "execution_count": 43,
   "metadata": {
    "cell_id": "bcd44a1ca6984e2abc22848e65a3da64",
    "deepnote_cell_type": "code",
    "deepnote_to_be_reexecuted": false,
    "execution_millis": 2,
    "execution_start": 1687589156592,
    "source_hash": "b45382bf"
   },
   "outputs": [
    {
     "data": {
      "application/vnd.deepnote.dataframe.v3+json": {
       "column_count": 6,
       "columns": [
        {
         "dtype": "int64",
         "name": "Recency",
         "stats": {
          "histogram": [
           {
            "bin_end": 33.4,
            "bin_start": 1,
            "count": 2
           },
           {
            "bin_end": 65.8,
            "bin_start": 33.4,
            "count": 0
           },
           {
            "bin_end": 98.19999999999999,
            "bin_start": 65.8,
            "count": 1
           },
           {
            "bin_end": 130.6,
            "bin_start": 98.19999999999999,
            "count": 0
           },
           {
            "bin_end": 163,
            "bin_start": 130.6,
            "count": 0
           },
           {
            "bin_end": 195.39999999999998,
            "bin_start": 163,
            "count": 0
           },
           {
            "bin_end": 227.79999999999998,
            "bin_start": 195.39999999999998,
            "count": 0
           },
           {
            "bin_end": 260.2,
            "bin_start": 227.79999999999998,
            "count": 0
           },
           {
            "bin_end": 292.59999999999997,
            "bin_start": 260.2,
            "count": 0
           },
           {
            "bin_end": 325,
            "bin_start": 292.59999999999997,
            "count": 2
           }
          ],
          "max": "325",
          "min": "1",
          "nan_count": 0,
          "unique_count": 5
         }
        },
        {
         "dtype": "int64",
         "name": "Frequency",
         "stats": {
          "histogram": [
           {
            "bin_end": 19.1,
            "bin_start": 1,
            "count": 2
           },
           {
            "bin_end": 37.2,
            "bin_start": 19.1,
            "count": 1
           },
           {
            "bin_end": 55.300000000000004,
            "bin_start": 37.2,
            "count": 0
           },
           {
            "bin_end": 73.4,
            "bin_start": 55.300000000000004,
            "count": 1
           },
           {
            "bin_end": 91.5,
            "bin_start": 73.4,
            "count": 0
           },
           {
            "bin_end": 109.60000000000001,
            "bin_start": 91.5,
            "count": 0
           },
           {
            "bin_end": 127.70000000000002,
            "bin_start": 109.60000000000001,
            "count": 0
           },
           {
            "bin_end": 145.8,
            "bin_start": 127.70000000000002,
            "count": 0
           },
           {
            "bin_end": 163.9,
            "bin_start": 145.8,
            "count": 0
           },
           {
            "bin_end": 182,
            "bin_start": 163.9,
            "count": 1
           }
          ],
          "max": "182",
          "min": "1",
          "nan_count": 0,
          "unique_count": 5
         }
        },
        {
         "dtype": "float64",
         "name": "Monetary",
         "stats": {
          "histogram": [
           {
            "bin_end": 8019.320000000001,
            "bin_start": 334.40000000000003,
            "count": 4
           },
           {
            "bin_end": 15704.240000000002,
            "bin_start": 8019.320000000001,
            "count": 0
           },
           {
            "bin_end": 23389.160000000003,
            "bin_start": 15704.240000000002,
            "count": 0
           },
           {
            "bin_end": 31074.080000000005,
            "bin_start": 23389.160000000003,
            "count": 0
           },
           {
            "bin_end": 38759.00000000001,
            "bin_start": 31074.080000000005,
            "count": 0
           },
           {
            "bin_end": 46443.920000000006,
            "bin_start": 38759.00000000001,
            "count": 0
           },
           {
            "bin_end": 54128.84000000001,
            "bin_start": 46443.920000000006,
            "count": 0
           },
           {
            "bin_end": 61813.76000000001,
            "bin_start": 54128.84000000001,
            "count": 0
           },
           {
            "bin_end": 69498.68000000001,
            "bin_start": 61813.76000000001,
            "count": 0
           },
           {
            "bin_end": 77183.6,
            "bin_start": 69498.68000000001,
            "count": 1
           }
          ],
          "max": "77183.6",
          "min": "334.40000000000003",
          "nan_count": 0,
          "unique_count": 5
         }
        },
        {
         "dtype": "int64",
         "name": "R_Score",
         "stats": {
          "histogram": [
           {
            "bin_end": 1.6,
            "bin_start": 1,
            "count": 1
           },
           {
            "bin_end": 2.2,
            "bin_start": 1.6,
            "count": 1
           },
           {
            "bin_end": 2.8,
            "bin_start": 2.2,
            "count": 0
           },
           {
            "bin_end": 3.4,
            "bin_start": 2.8,
            "count": 0
           },
           {
            "bin_end": 4,
            "bin_start": 3.4,
            "count": 0
           },
           {
            "bin_end": 4.6,
            "bin_start": 4,
            "count": 0
           },
           {
            "bin_end": 5.2,
            "bin_start": 4.6,
            "count": 1
           },
           {
            "bin_end": 5.8,
            "bin_start": 5.2,
            "count": 0
           },
           {
            "bin_end": 6.3999999999999995,
            "bin_start": 5.8,
            "count": 0
           },
           {
            "bin_end": 7,
            "bin_start": 6.3999999999999995,
            "count": 2
           }
          ],
          "max": "7",
          "min": "1",
          "nan_count": 0,
          "unique_count": 4
         }
        },
        {
         "dtype": "int64",
         "name": "F_Score",
         "stats": {
          "histogram": [
           {
            "bin_end": 1.6,
            "bin_start": 1,
            "count": 1
           },
           {
            "bin_end": 2.2,
            "bin_start": 1.6,
            "count": 1
           },
           {
            "bin_end": 2.8,
            "bin_start": 2.2,
            "count": 0
           },
           {
            "bin_end": 3.4,
            "bin_start": 2.8,
            "count": 1
           },
           {
            "bin_end": 4,
            "bin_start": 3.4,
            "count": 0
           },
           {
            "bin_end": 4.6,
            "bin_start": 4,
            "count": 0
           },
           {
            "bin_end": 5.2,
            "bin_start": 4.6,
            "count": 1
           },
           {
            "bin_end": 5.8,
            "bin_start": 5.2,
            "count": 0
           },
           {
            "bin_end": 6.3999999999999995,
            "bin_start": 5.8,
            "count": 0
           },
           {
            "bin_end": 7,
            "bin_start": 6.3999999999999995,
            "count": 1
           }
          ],
          "max": "7",
          "min": "1",
          "nan_count": 0,
          "unique_count": 5
         }
        },
        {
         "dtype": "int64",
         "name": "M_Score",
         "stats": {
          "histogram": [
           {
            "bin_end": 2.5,
            "bin_start": 2,
            "count": 1
           },
           {
            "bin_end": 3,
            "bin_start": 2.5,
            "count": 0
           },
           {
            "bin_end": 3.5,
            "bin_start": 3,
            "count": 0
           },
           {
            "bin_end": 4,
            "bin_start": 3.5,
            "count": 0
           },
           {
            "bin_end": 4.5,
            "bin_start": 4,
            "count": 0
           },
           {
            "bin_end": 5,
            "bin_start": 4.5,
            "count": 0
           },
           {
            "bin_end": 5.5,
            "bin_start": 5,
            "count": 0
           },
           {
            "bin_end": 6,
            "bin_start": 5.5,
            "count": 0
           },
           {
            "bin_end": 6.5,
            "bin_start": 6,
            "count": 2
           },
           {
            "bin_end": 7,
            "bin_start": 6.5,
            "count": 2
           }
          ],
          "max": "7",
          "min": "2",
          "nan_count": 0,
          "unique_count": 3
         }
        },
        {
         "dtype": "float64",
         "name": "_deepnote_index_column"
        }
       ],
       "row_count": 5,
       "rows": [
        {
         "F_Score": 1,
         "Frequency": 1,
         "M_Score": 7,
         "Monetary": 77183.6,
         "R_Score": 7,
         "Recency": 325,
         "_deepnote_index_column": 12346
        },
        {
         "F_Score": 7,
         "Frequency": 182,
         "M_Score": 7,
         "Monetary": 4309.999999999997,
         "R_Score": 1,
         "Recency": 1,
         "_deepnote_index_column": 12347
        },
        {
         "F_Score": 3,
         "Frequency": 31,
         "M_Score": 6,
         "Monetary": 1797.24,
         "R_Score": 5,
         "Recency": 74,
         "_deepnote_index_column": 12348
        },
        {
         "F_Score": 5,
         "Frequency": 73,
         "M_Score": 6,
         "Monetary": 1757.55,
         "R_Score": 2,
         "Recency": 18,
         "_deepnote_index_column": 12349
        },
        {
         "F_Score": 2,
         "Frequency": 17,
         "M_Score": 2,
         "Monetary": 334.40000000000003,
         "R_Score": 7,
         "Recency": 309,
         "_deepnote_index_column": 12350
        }
       ]
      },
      "text/html": [
       "<div>\n",
       "<style scoped>\n",
       "    .dataframe tbody tr th:only-of-type {\n",
       "        vertical-align: middle;\n",
       "    }\n",
       "\n",
       "    .dataframe tbody tr th {\n",
       "        vertical-align: top;\n",
       "    }\n",
       "\n",
       "    .dataframe thead th {\n",
       "        text-align: right;\n",
       "    }\n",
       "</style>\n",
       "<table border=\"1\" class=\"dataframe\">\n",
       "  <thead>\n",
       "    <tr style=\"text-align: right;\">\n",
       "      <th></th>\n",
       "      <th>Recency</th>\n",
       "      <th>Frequency</th>\n",
       "      <th>Monetary</th>\n",
       "      <th>R_Score</th>\n",
       "      <th>F_Score</th>\n",
       "      <th>M_Score</th>\n",
       "    </tr>\n",
       "    <tr>\n",
       "      <th>CustomerID</th>\n",
       "      <th></th>\n",
       "      <th></th>\n",
       "      <th></th>\n",
       "      <th></th>\n",
       "      <th></th>\n",
       "      <th></th>\n",
       "    </tr>\n",
       "  </thead>\n",
       "  <tbody>\n",
       "    <tr>\n",
       "      <th>12346.0</th>\n",
       "      <td>325</td>\n",
       "      <td>1</td>\n",
       "      <td>77183.60</td>\n",
       "      <td>7</td>\n",
       "      <td>1</td>\n",
       "      <td>7</td>\n",
       "    </tr>\n",
       "    <tr>\n",
       "      <th>12347.0</th>\n",
       "      <td>1</td>\n",
       "      <td>182</td>\n",
       "      <td>4310.00</td>\n",
       "      <td>1</td>\n",
       "      <td>7</td>\n",
       "      <td>7</td>\n",
       "    </tr>\n",
       "    <tr>\n",
       "      <th>12348.0</th>\n",
       "      <td>74</td>\n",
       "      <td>31</td>\n",
       "      <td>1797.24</td>\n",
       "      <td>5</td>\n",
       "      <td>3</td>\n",
       "      <td>6</td>\n",
       "    </tr>\n",
       "    <tr>\n",
       "      <th>12349.0</th>\n",
       "      <td>18</td>\n",
       "      <td>73</td>\n",
       "      <td>1757.55</td>\n",
       "      <td>2</td>\n",
       "      <td>5</td>\n",
       "      <td>6</td>\n",
       "    </tr>\n",
       "    <tr>\n",
       "      <th>12350.0</th>\n",
       "      <td>309</td>\n",
       "      <td>17</td>\n",
       "      <td>334.40</td>\n",
       "      <td>7</td>\n",
       "      <td>2</td>\n",
       "      <td>2</td>\n",
       "    </tr>\n",
       "  </tbody>\n",
       "</table>\n",
       "</div>"
      ],
      "text/plain": [
       "            Recency  Frequency  Monetary  R_Score  F_Score  M_Score\n",
       "CustomerID                                                         \n",
       "12346.0         325          1  77183.60        7        1        7\n",
       "12347.0           1        182   4310.00        1        7        7\n",
       "12348.0          74         31   1797.24        5        3        6\n",
       "12349.0          18         73   1757.55        2        5        6\n",
       "12350.0         309         17    334.40        7        2        2"
      ]
     },
     "execution_count": 43,
     "metadata": {},
     "output_type": "execute_result"
    }
   ],
   "source": [
    "rfm.head()"
   ]
  },
  {
   "cell_type": "markdown",
   "metadata": {
    "cell_id": "97e2e5d1edcf4651b8db1ad120bf76ca",
    "deepnote_cell_type": "markdown"
   },
   "source": [
    "<p>Next, we will combine the quartiles assigned under each of the RFM columns and then sum accordingly</p>"
   ]
  },
  {
   "cell_type": "code",
   "execution_count": 44,
   "metadata": {
    "cell_id": "608645c2c417480c92955dcb68389053",
    "deepnote_cell_type": "code",
    "deepnote_to_be_reexecuted": false,
    "execution_millis": 45,
    "execution_start": 1687589156600,
    "source_hash": "21d88c28"
   },
   "outputs": [],
   "source": [
    "# Calculate RFM Segment and RFM Score; two more columns will be created\n",
    "rfm['RFM_Segment'] = rfm['R_Score'].astype(str) + rfm['F_Score'].astype(str) + rfm['M_Score'].astype(str)\n",
    "rfm['RFM_Score'] = rfm[['R_Score', 'F_Score', 'M_Score']].sum(axis=1)"
   ]
  },
  {
   "cell_type": "code",
   "execution_count": 45,
   "metadata": {
    "cell_id": "de5c662ecd20451a91f4f84839caf79c",
    "deepnote_cell_type": "code",
    "deepnote_to_be_reexecuted": false,
    "execution_millis": 24,
    "execution_start": 1687589156648,
    "source_hash": "b45382bf"
   },
   "outputs": [
    {
     "data": {
      "application/vnd.deepnote.dataframe.v3+json": {
       "column_count": 8,
       "columns": [
        {
         "dtype": "int64",
         "name": "Recency",
         "stats": {
          "histogram": [
           {
            "bin_end": 33.4,
            "bin_start": 1,
            "count": 2
           },
           {
            "bin_end": 65.8,
            "bin_start": 33.4,
            "count": 0
           },
           {
            "bin_end": 98.19999999999999,
            "bin_start": 65.8,
            "count": 1
           },
           {
            "bin_end": 130.6,
            "bin_start": 98.19999999999999,
            "count": 0
           },
           {
            "bin_end": 163,
            "bin_start": 130.6,
            "count": 0
           },
           {
            "bin_end": 195.39999999999998,
            "bin_start": 163,
            "count": 0
           },
           {
            "bin_end": 227.79999999999998,
            "bin_start": 195.39999999999998,
            "count": 0
           },
           {
            "bin_end": 260.2,
            "bin_start": 227.79999999999998,
            "count": 0
           },
           {
            "bin_end": 292.59999999999997,
            "bin_start": 260.2,
            "count": 0
           },
           {
            "bin_end": 325,
            "bin_start": 292.59999999999997,
            "count": 2
           }
          ],
          "max": "325",
          "min": "1",
          "nan_count": 0,
          "unique_count": 5
         }
        },
        {
         "dtype": "int64",
         "name": "Frequency",
         "stats": {
          "histogram": [
           {
            "bin_end": 19.1,
            "bin_start": 1,
            "count": 2
           },
           {
            "bin_end": 37.2,
            "bin_start": 19.1,
            "count": 1
           },
           {
            "bin_end": 55.300000000000004,
            "bin_start": 37.2,
            "count": 0
           },
           {
            "bin_end": 73.4,
            "bin_start": 55.300000000000004,
            "count": 1
           },
           {
            "bin_end": 91.5,
            "bin_start": 73.4,
            "count": 0
           },
           {
            "bin_end": 109.60000000000001,
            "bin_start": 91.5,
            "count": 0
           },
           {
            "bin_end": 127.70000000000002,
            "bin_start": 109.60000000000001,
            "count": 0
           },
           {
            "bin_end": 145.8,
            "bin_start": 127.70000000000002,
            "count": 0
           },
           {
            "bin_end": 163.9,
            "bin_start": 145.8,
            "count": 0
           },
           {
            "bin_end": 182,
            "bin_start": 163.9,
            "count": 1
           }
          ],
          "max": "182",
          "min": "1",
          "nan_count": 0,
          "unique_count": 5
         }
        },
        {
         "dtype": "float64",
         "name": "Monetary",
         "stats": {
          "histogram": [
           {
            "bin_end": 8019.320000000001,
            "bin_start": 334.40000000000003,
            "count": 4
           },
           {
            "bin_end": 15704.240000000002,
            "bin_start": 8019.320000000001,
            "count": 0
           },
           {
            "bin_end": 23389.160000000003,
            "bin_start": 15704.240000000002,
            "count": 0
           },
           {
            "bin_end": 31074.080000000005,
            "bin_start": 23389.160000000003,
            "count": 0
           },
           {
            "bin_end": 38759.00000000001,
            "bin_start": 31074.080000000005,
            "count": 0
           },
           {
            "bin_end": 46443.920000000006,
            "bin_start": 38759.00000000001,
            "count": 0
           },
           {
            "bin_end": 54128.84000000001,
            "bin_start": 46443.920000000006,
            "count": 0
           },
           {
            "bin_end": 61813.76000000001,
            "bin_start": 54128.84000000001,
            "count": 0
           },
           {
            "bin_end": 69498.68000000001,
            "bin_start": 61813.76000000001,
            "count": 0
           },
           {
            "bin_end": 77183.6,
            "bin_start": 69498.68000000001,
            "count": 1
           }
          ],
          "max": "77183.6",
          "min": "334.40000000000003",
          "nan_count": 0,
          "unique_count": 5
         }
        },
        {
         "dtype": "int64",
         "name": "R_Score",
         "stats": {
          "histogram": [
           {
            "bin_end": 1.6,
            "bin_start": 1,
            "count": 1
           },
           {
            "bin_end": 2.2,
            "bin_start": 1.6,
            "count": 1
           },
           {
            "bin_end": 2.8,
            "bin_start": 2.2,
            "count": 0
           },
           {
            "bin_end": 3.4,
            "bin_start": 2.8,
            "count": 0
           },
           {
            "bin_end": 4,
            "bin_start": 3.4,
            "count": 0
           },
           {
            "bin_end": 4.6,
            "bin_start": 4,
            "count": 0
           },
           {
            "bin_end": 5.2,
            "bin_start": 4.6,
            "count": 1
           },
           {
            "bin_end": 5.8,
            "bin_start": 5.2,
            "count": 0
           },
           {
            "bin_end": 6.3999999999999995,
            "bin_start": 5.8,
            "count": 0
           },
           {
            "bin_end": 7,
            "bin_start": 6.3999999999999995,
            "count": 2
           }
          ],
          "max": "7",
          "min": "1",
          "nan_count": 0,
          "unique_count": 4
         }
        },
        {
         "dtype": "int64",
         "name": "F_Score",
         "stats": {
          "histogram": [
           {
            "bin_end": 1.6,
            "bin_start": 1,
            "count": 1
           },
           {
            "bin_end": 2.2,
            "bin_start": 1.6,
            "count": 1
           },
           {
            "bin_end": 2.8,
            "bin_start": 2.2,
            "count": 0
           },
           {
            "bin_end": 3.4,
            "bin_start": 2.8,
            "count": 1
           },
           {
            "bin_end": 4,
            "bin_start": 3.4,
            "count": 0
           },
           {
            "bin_end": 4.6,
            "bin_start": 4,
            "count": 0
           },
           {
            "bin_end": 5.2,
            "bin_start": 4.6,
            "count": 1
           },
           {
            "bin_end": 5.8,
            "bin_start": 5.2,
            "count": 0
           },
           {
            "bin_end": 6.3999999999999995,
            "bin_start": 5.8,
            "count": 0
           },
           {
            "bin_end": 7,
            "bin_start": 6.3999999999999995,
            "count": 1
           }
          ],
          "max": "7",
          "min": "1",
          "nan_count": 0,
          "unique_count": 5
         }
        },
        {
         "dtype": "int64",
         "name": "M_Score",
         "stats": {
          "histogram": [
           {
            "bin_end": 2.5,
            "bin_start": 2,
            "count": 1
           },
           {
            "bin_end": 3,
            "bin_start": 2.5,
            "count": 0
           },
           {
            "bin_end": 3.5,
            "bin_start": 3,
            "count": 0
           },
           {
            "bin_end": 4,
            "bin_start": 3.5,
            "count": 0
           },
           {
            "bin_end": 4.5,
            "bin_start": 4,
            "count": 0
           },
           {
            "bin_end": 5,
            "bin_start": 4.5,
            "count": 0
           },
           {
            "bin_end": 5.5,
            "bin_start": 5,
            "count": 0
           },
           {
            "bin_end": 6,
            "bin_start": 5.5,
            "count": 0
           },
           {
            "bin_end": 6.5,
            "bin_start": 6,
            "count": 2
           },
           {
            "bin_end": 7,
            "bin_start": 6.5,
            "count": 2
           }
          ],
          "max": "7",
          "min": "2",
          "nan_count": 0,
          "unique_count": 3
         }
        },
        {
         "dtype": "object",
         "name": "RFM_Segment",
         "stats": {
          "categories": [
           {
            "count": 1,
            "name": "717"
           },
           {
            "count": 1,
            "name": "177"
           },
           {
            "count": 3,
            "name": "3 others"
           }
          ],
          "nan_count": 0,
          "unique_count": 5
         }
        },
        {
         "dtype": "int64",
         "name": "RFM_Score",
         "stats": {
          "histogram": [
           {
            "bin_end": 11.4,
            "bin_start": 11,
            "count": 1
           },
           {
            "bin_end": 11.8,
            "bin_start": 11.4,
            "count": 0
           },
           {
            "bin_end": 12.2,
            "bin_start": 11.8,
            "count": 0
           },
           {
            "bin_end": 12.6,
            "bin_start": 12.2,
            "count": 0
           },
           {
            "bin_end": 13,
            "bin_start": 12.6,
            "count": 0
           },
           {
            "bin_end": 13.4,
            "bin_start": 13,
            "count": 1
           },
           {
            "bin_end": 13.8,
            "bin_start": 13.4,
            "count": 0
           },
           {
            "bin_end": 14.2,
            "bin_start": 13.8,
            "count": 1
           },
           {
            "bin_end": 14.6,
            "bin_start": 14.2,
            "count": 0
           },
           {
            "bin_end": 15,
            "bin_start": 14.6,
            "count": 2
           }
          ],
          "max": "15",
          "min": "11",
          "nan_count": 0,
          "unique_count": 4
         }
        },
        {
         "dtype": "float64",
         "name": "_deepnote_index_column"
        }
       ],
       "row_count": 5,
       "rows": [
        {
         "F_Score": 1,
         "Frequency": 1,
         "M_Score": 7,
         "Monetary": 77183.6,
         "RFM_Score": 15,
         "RFM_Segment": "717",
         "R_Score": 7,
         "Recency": 325,
         "_deepnote_index_column": 12346
        },
        {
         "F_Score": 7,
         "Frequency": 182,
         "M_Score": 7,
         "Monetary": 4309.999999999997,
         "RFM_Score": 15,
         "RFM_Segment": "177",
         "R_Score": 1,
         "Recency": 1,
         "_deepnote_index_column": 12347
        },
        {
         "F_Score": 3,
         "Frequency": 31,
         "M_Score": 6,
         "Monetary": 1797.24,
         "RFM_Score": 14,
         "RFM_Segment": "536",
         "R_Score": 5,
         "Recency": 74,
         "_deepnote_index_column": 12348
        },
        {
         "F_Score": 5,
         "Frequency": 73,
         "M_Score": 6,
         "Monetary": 1757.55,
         "RFM_Score": 13,
         "RFM_Segment": "256",
         "R_Score": 2,
         "Recency": 18,
         "_deepnote_index_column": 12349
        },
        {
         "F_Score": 2,
         "Frequency": 17,
         "M_Score": 2,
         "Monetary": 334.40000000000003,
         "RFM_Score": 11,
         "RFM_Segment": "722",
         "R_Score": 7,
         "Recency": 309,
         "_deepnote_index_column": 12350
        }
       ]
      },
      "text/html": [
       "<div>\n",
       "<style scoped>\n",
       "    .dataframe tbody tr th:only-of-type {\n",
       "        vertical-align: middle;\n",
       "    }\n",
       "\n",
       "    .dataframe tbody tr th {\n",
       "        vertical-align: top;\n",
       "    }\n",
       "\n",
       "    .dataframe thead th {\n",
       "        text-align: right;\n",
       "    }\n",
       "</style>\n",
       "<table border=\"1\" class=\"dataframe\">\n",
       "  <thead>\n",
       "    <tr style=\"text-align: right;\">\n",
       "      <th></th>\n",
       "      <th>Recency</th>\n",
       "      <th>Frequency</th>\n",
       "      <th>Monetary</th>\n",
       "      <th>R_Score</th>\n",
       "      <th>F_Score</th>\n",
       "      <th>M_Score</th>\n",
       "      <th>RFM_Segment</th>\n",
       "      <th>RFM_Score</th>\n",
       "    </tr>\n",
       "    <tr>\n",
       "      <th>CustomerID</th>\n",
       "      <th></th>\n",
       "      <th></th>\n",
       "      <th></th>\n",
       "      <th></th>\n",
       "      <th></th>\n",
       "      <th></th>\n",
       "      <th></th>\n",
       "      <th></th>\n",
       "    </tr>\n",
       "  </thead>\n",
       "  <tbody>\n",
       "    <tr>\n",
       "      <th>12346.0</th>\n",
       "      <td>325</td>\n",
       "      <td>1</td>\n",
       "      <td>77183.60</td>\n",
       "      <td>7</td>\n",
       "      <td>1</td>\n",
       "      <td>7</td>\n",
       "      <td>717</td>\n",
       "      <td>15</td>\n",
       "    </tr>\n",
       "    <tr>\n",
       "      <th>12347.0</th>\n",
       "      <td>1</td>\n",
       "      <td>182</td>\n",
       "      <td>4310.00</td>\n",
       "      <td>1</td>\n",
       "      <td>7</td>\n",
       "      <td>7</td>\n",
       "      <td>177</td>\n",
       "      <td>15</td>\n",
       "    </tr>\n",
       "    <tr>\n",
       "      <th>12348.0</th>\n",
       "      <td>74</td>\n",
       "      <td>31</td>\n",
       "      <td>1797.24</td>\n",
       "      <td>5</td>\n",
       "      <td>3</td>\n",
       "      <td>6</td>\n",
       "      <td>536</td>\n",
       "      <td>14</td>\n",
       "    </tr>\n",
       "    <tr>\n",
       "      <th>12349.0</th>\n",
       "      <td>18</td>\n",
       "      <td>73</td>\n",
       "      <td>1757.55</td>\n",
       "      <td>2</td>\n",
       "      <td>5</td>\n",
       "      <td>6</td>\n",
       "      <td>256</td>\n",
       "      <td>13</td>\n",
       "    </tr>\n",
       "    <tr>\n",
       "      <th>12350.0</th>\n",
       "      <td>309</td>\n",
       "      <td>17</td>\n",
       "      <td>334.40</td>\n",
       "      <td>7</td>\n",
       "      <td>2</td>\n",
       "      <td>2</td>\n",
       "      <td>722</td>\n",
       "      <td>11</td>\n",
       "    </tr>\n",
       "  </tbody>\n",
       "</table>\n",
       "</div>"
      ],
      "text/plain": [
       "            Recency  Frequency  Monetary  R_Score  F_Score  M_Score  \\\n",
       "CustomerID                                                            \n",
       "12346.0         325          1  77183.60        7        1        7   \n",
       "12347.0           1        182   4310.00        1        7        7   \n",
       "12348.0          74         31   1797.24        5        3        6   \n",
       "12349.0          18         73   1757.55        2        5        6   \n",
       "12350.0         309         17    334.40        7        2        2   \n",
       "\n",
       "           RFM_Segment  RFM_Score  \n",
       "CustomerID                         \n",
       "12346.0            717         15  \n",
       "12347.0            177         15  \n",
       "12348.0            536         14  \n",
       "12349.0            256         13  \n",
       "12350.0            722         11  "
      ]
     },
     "execution_count": 45,
     "metadata": {},
     "output_type": "execute_result"
    }
   ],
   "source": [
    "rfm.head()"
   ]
  },
  {
   "cell_type": "markdown",
   "metadata": {
    "cell_id": "f8113773723f4e6e90ce85d8efb819ff",
    "deepnote_cell_type": "markdown"
   },
   "source": [
    "<p>Based on <b>RFM_Score (rating)</b>, we will then segment the rating into classes: 6 in all</p>"
   ]
  },
  {
   "cell_type": "code",
   "execution_count": 46,
   "metadata": {
    "cell_id": "42006888cf1d45a1a009ea559c3aa5a7",
    "deepnote_cell_type": "code",
    "deepnote_to_be_reexecuted": false,
    "execution_millis": 4,
    "execution_start": 1687589156683,
    "source_hash": "6c794dde"
   },
   "outputs": [],
   "source": [
    "# Adjust RFM scores to create 6 categories\n",
    "rfm['RFM_Score_Category'] = pd.cut(rfm['RFM_Score'], bins=[1, 4, 7, 10, 13, 16, 19, 21], labels=False, right=True)"
   ]
  },
  {
   "cell_type": "code",
   "execution_count": 47,
   "metadata": {
    "cell_id": "9c25670059594cdb9b039eafb405d6d9",
    "deepnote_cell_type": "code",
    "deepnote_to_be_reexecuted": false,
    "execution_millis": 68,
    "execution_start": 1687589156689,
    "source_hash": "b45382bf"
   },
   "outputs": [
    {
     "data": {
      "application/vnd.deepnote.dataframe.v3+json": {
       "column_count": 9,
       "columns": [
        {
         "dtype": "int64",
         "name": "Recency",
         "stats": {
          "histogram": [
           {
            "bin_end": 33.4,
            "bin_start": 1,
            "count": 2
           },
           {
            "bin_end": 65.8,
            "bin_start": 33.4,
            "count": 0
           },
           {
            "bin_end": 98.19999999999999,
            "bin_start": 65.8,
            "count": 1
           },
           {
            "bin_end": 130.6,
            "bin_start": 98.19999999999999,
            "count": 0
           },
           {
            "bin_end": 163,
            "bin_start": 130.6,
            "count": 0
           },
           {
            "bin_end": 195.39999999999998,
            "bin_start": 163,
            "count": 0
           },
           {
            "bin_end": 227.79999999999998,
            "bin_start": 195.39999999999998,
            "count": 0
           },
           {
            "bin_end": 260.2,
            "bin_start": 227.79999999999998,
            "count": 0
           },
           {
            "bin_end": 292.59999999999997,
            "bin_start": 260.2,
            "count": 0
           },
           {
            "bin_end": 325,
            "bin_start": 292.59999999999997,
            "count": 2
           }
          ],
          "max": "325",
          "min": "1",
          "nan_count": 0,
          "unique_count": 5
         }
        },
        {
         "dtype": "int64",
         "name": "Frequency",
         "stats": {
          "histogram": [
           {
            "bin_end": 19.1,
            "bin_start": 1,
            "count": 2
           },
           {
            "bin_end": 37.2,
            "bin_start": 19.1,
            "count": 1
           },
           {
            "bin_end": 55.300000000000004,
            "bin_start": 37.2,
            "count": 0
           },
           {
            "bin_end": 73.4,
            "bin_start": 55.300000000000004,
            "count": 1
           },
           {
            "bin_end": 91.5,
            "bin_start": 73.4,
            "count": 0
           },
           {
            "bin_end": 109.60000000000001,
            "bin_start": 91.5,
            "count": 0
           },
           {
            "bin_end": 127.70000000000002,
            "bin_start": 109.60000000000001,
            "count": 0
           },
           {
            "bin_end": 145.8,
            "bin_start": 127.70000000000002,
            "count": 0
           },
           {
            "bin_end": 163.9,
            "bin_start": 145.8,
            "count": 0
           },
           {
            "bin_end": 182,
            "bin_start": 163.9,
            "count": 1
           }
          ],
          "max": "182",
          "min": "1",
          "nan_count": 0,
          "unique_count": 5
         }
        },
        {
         "dtype": "float64",
         "name": "Monetary",
         "stats": {
          "histogram": [
           {
            "bin_end": 8019.320000000001,
            "bin_start": 334.40000000000003,
            "count": 4
           },
           {
            "bin_end": 15704.240000000002,
            "bin_start": 8019.320000000001,
            "count": 0
           },
           {
            "bin_end": 23389.160000000003,
            "bin_start": 15704.240000000002,
            "count": 0
           },
           {
            "bin_end": 31074.080000000005,
            "bin_start": 23389.160000000003,
            "count": 0
           },
           {
            "bin_end": 38759.00000000001,
            "bin_start": 31074.080000000005,
            "count": 0
           },
           {
            "bin_end": 46443.920000000006,
            "bin_start": 38759.00000000001,
            "count": 0
           },
           {
            "bin_end": 54128.84000000001,
            "bin_start": 46443.920000000006,
            "count": 0
           },
           {
            "bin_end": 61813.76000000001,
            "bin_start": 54128.84000000001,
            "count": 0
           },
           {
            "bin_end": 69498.68000000001,
            "bin_start": 61813.76000000001,
            "count": 0
           },
           {
            "bin_end": 77183.6,
            "bin_start": 69498.68000000001,
            "count": 1
           }
          ],
          "max": "77183.6",
          "min": "334.40000000000003",
          "nan_count": 0,
          "unique_count": 5
         }
        },
        {
         "dtype": "int64",
         "name": "R_Score",
         "stats": {
          "histogram": [
           {
            "bin_end": 1.6,
            "bin_start": 1,
            "count": 1
           },
           {
            "bin_end": 2.2,
            "bin_start": 1.6,
            "count": 1
           },
           {
            "bin_end": 2.8,
            "bin_start": 2.2,
            "count": 0
           },
           {
            "bin_end": 3.4,
            "bin_start": 2.8,
            "count": 0
           },
           {
            "bin_end": 4,
            "bin_start": 3.4,
            "count": 0
           },
           {
            "bin_end": 4.6,
            "bin_start": 4,
            "count": 0
           },
           {
            "bin_end": 5.2,
            "bin_start": 4.6,
            "count": 1
           },
           {
            "bin_end": 5.8,
            "bin_start": 5.2,
            "count": 0
           },
           {
            "bin_end": 6.3999999999999995,
            "bin_start": 5.8,
            "count": 0
           },
           {
            "bin_end": 7,
            "bin_start": 6.3999999999999995,
            "count": 2
           }
          ],
          "max": "7",
          "min": "1",
          "nan_count": 0,
          "unique_count": 4
         }
        },
        {
         "dtype": "int64",
         "name": "F_Score",
         "stats": {
          "histogram": [
           {
            "bin_end": 1.6,
            "bin_start": 1,
            "count": 1
           },
           {
            "bin_end": 2.2,
            "bin_start": 1.6,
            "count": 1
           },
           {
            "bin_end": 2.8,
            "bin_start": 2.2,
            "count": 0
           },
           {
            "bin_end": 3.4,
            "bin_start": 2.8,
            "count": 1
           },
           {
            "bin_end": 4,
            "bin_start": 3.4,
            "count": 0
           },
           {
            "bin_end": 4.6,
            "bin_start": 4,
            "count": 0
           },
           {
            "bin_end": 5.2,
            "bin_start": 4.6,
            "count": 1
           },
           {
            "bin_end": 5.8,
            "bin_start": 5.2,
            "count": 0
           },
           {
            "bin_end": 6.3999999999999995,
            "bin_start": 5.8,
            "count": 0
           },
           {
            "bin_end": 7,
            "bin_start": 6.3999999999999995,
            "count": 1
           }
          ],
          "max": "7",
          "min": "1",
          "nan_count": 0,
          "unique_count": 5
         }
        },
        {
         "dtype": "int64",
         "name": "M_Score",
         "stats": {
          "histogram": [
           {
            "bin_end": 2.5,
            "bin_start": 2,
            "count": 1
           },
           {
            "bin_end": 3,
            "bin_start": 2.5,
            "count": 0
           },
           {
            "bin_end": 3.5,
            "bin_start": 3,
            "count": 0
           },
           {
            "bin_end": 4,
            "bin_start": 3.5,
            "count": 0
           },
           {
            "bin_end": 4.5,
            "bin_start": 4,
            "count": 0
           },
           {
            "bin_end": 5,
            "bin_start": 4.5,
            "count": 0
           },
           {
            "bin_end": 5.5,
            "bin_start": 5,
            "count": 0
           },
           {
            "bin_end": 6,
            "bin_start": 5.5,
            "count": 0
           },
           {
            "bin_end": 6.5,
            "bin_start": 6,
            "count": 2
           },
           {
            "bin_end": 7,
            "bin_start": 6.5,
            "count": 2
           }
          ],
          "max": "7",
          "min": "2",
          "nan_count": 0,
          "unique_count": 3
         }
        },
        {
         "dtype": "object",
         "name": "RFM_Segment",
         "stats": {
          "categories": [
           {
            "count": 1,
            "name": "717"
           },
           {
            "count": 1,
            "name": "177"
           },
           {
            "count": 3,
            "name": "3 others"
           }
          ],
          "nan_count": 0,
          "unique_count": 5
         }
        },
        {
         "dtype": "int64",
         "name": "RFM_Score",
         "stats": {
          "histogram": [
           {
            "bin_end": 11.4,
            "bin_start": 11,
            "count": 1
           },
           {
            "bin_end": 11.8,
            "bin_start": 11.4,
            "count": 0
           },
           {
            "bin_end": 12.2,
            "bin_start": 11.8,
            "count": 0
           },
           {
            "bin_end": 12.6,
            "bin_start": 12.2,
            "count": 0
           },
           {
            "bin_end": 13,
            "bin_start": 12.6,
            "count": 0
           },
           {
            "bin_end": 13.4,
            "bin_start": 13,
            "count": 1
           },
           {
            "bin_end": 13.8,
            "bin_start": 13.4,
            "count": 0
           },
           {
            "bin_end": 14.2,
            "bin_start": 13.8,
            "count": 1
           },
           {
            "bin_end": 14.6,
            "bin_start": 14.2,
            "count": 0
           },
           {
            "bin_end": 15,
            "bin_start": 14.6,
            "count": 2
           }
          ],
          "max": "15",
          "min": "11",
          "nan_count": 0,
          "unique_count": 4
         }
        },
        {
         "dtype": "int64",
         "name": "RFM_Score_Category",
         "stats": {
          "histogram": [
           {
            "bin_end": 3.1,
            "bin_start": 3,
            "count": 2
           },
           {
            "bin_end": 3.2,
            "bin_start": 3.1,
            "count": 0
           },
           {
            "bin_end": 3.3,
            "bin_start": 3.2,
            "count": 0
           },
           {
            "bin_end": 3.4,
            "bin_start": 3.3,
            "count": 0
           },
           {
            "bin_end": 3.5,
            "bin_start": 3.4,
            "count": 0
           },
           {
            "bin_end": 3.6,
            "bin_start": 3.5,
            "count": 0
           },
           {
            "bin_end": 3.7,
            "bin_start": 3.6,
            "count": 0
           },
           {
            "bin_end": 3.8,
            "bin_start": 3.7,
            "count": 0
           },
           {
            "bin_end": 3.9,
            "bin_start": 3.8,
            "count": 0
           },
           {
            "bin_end": 4,
            "bin_start": 3.9,
            "count": 3
           }
          ],
          "max": "4",
          "min": "3",
          "nan_count": 0,
          "unique_count": 2
         }
        },
        {
         "dtype": "float64",
         "name": "_deepnote_index_column"
        }
       ],
       "row_count": 5,
       "rows": [
        {
         "F_Score": 1,
         "Frequency": 1,
         "M_Score": 7,
         "Monetary": 77183.6,
         "RFM_Score": 15,
         "RFM_Score_Category": 4,
         "RFM_Segment": "717",
         "R_Score": 7,
         "Recency": 325,
         "_deepnote_index_column": 12346
        },
        {
         "F_Score": 7,
         "Frequency": 182,
         "M_Score": 7,
         "Monetary": 4309.999999999997,
         "RFM_Score": 15,
         "RFM_Score_Category": 4,
         "RFM_Segment": "177",
         "R_Score": 1,
         "Recency": 1,
         "_deepnote_index_column": 12347
        },
        {
         "F_Score": 3,
         "Frequency": 31,
         "M_Score": 6,
         "Monetary": 1797.24,
         "RFM_Score": 14,
         "RFM_Score_Category": 4,
         "RFM_Segment": "536",
         "R_Score": 5,
         "Recency": 74,
         "_deepnote_index_column": 12348
        },
        {
         "F_Score": 5,
         "Frequency": 73,
         "M_Score": 6,
         "Monetary": 1757.55,
         "RFM_Score": 13,
         "RFM_Score_Category": 3,
         "RFM_Segment": "256",
         "R_Score": 2,
         "Recency": 18,
         "_deepnote_index_column": 12349
        },
        {
         "F_Score": 2,
         "Frequency": 17,
         "M_Score": 2,
         "Monetary": 334.40000000000003,
         "RFM_Score": 11,
         "RFM_Score_Category": 3,
         "RFM_Segment": "722",
         "R_Score": 7,
         "Recency": 309,
         "_deepnote_index_column": 12350
        }
       ]
      },
      "text/html": [
       "<div>\n",
       "<style scoped>\n",
       "    .dataframe tbody tr th:only-of-type {\n",
       "        vertical-align: middle;\n",
       "    }\n",
       "\n",
       "    .dataframe tbody tr th {\n",
       "        vertical-align: top;\n",
       "    }\n",
       "\n",
       "    .dataframe thead th {\n",
       "        text-align: right;\n",
       "    }\n",
       "</style>\n",
       "<table border=\"1\" class=\"dataframe\">\n",
       "  <thead>\n",
       "    <tr style=\"text-align: right;\">\n",
       "      <th></th>\n",
       "      <th>Recency</th>\n",
       "      <th>Frequency</th>\n",
       "      <th>Monetary</th>\n",
       "      <th>R_Score</th>\n",
       "      <th>F_Score</th>\n",
       "      <th>M_Score</th>\n",
       "      <th>RFM_Segment</th>\n",
       "      <th>RFM_Score</th>\n",
       "      <th>RFM_Score_Category</th>\n",
       "    </tr>\n",
       "    <tr>\n",
       "      <th>CustomerID</th>\n",
       "      <th></th>\n",
       "      <th></th>\n",
       "      <th></th>\n",
       "      <th></th>\n",
       "      <th></th>\n",
       "      <th></th>\n",
       "      <th></th>\n",
       "      <th></th>\n",
       "      <th></th>\n",
       "    </tr>\n",
       "  </thead>\n",
       "  <tbody>\n",
       "    <tr>\n",
       "      <th>12346.0</th>\n",
       "      <td>325</td>\n",
       "      <td>1</td>\n",
       "      <td>77183.60</td>\n",
       "      <td>7</td>\n",
       "      <td>1</td>\n",
       "      <td>7</td>\n",
       "      <td>717</td>\n",
       "      <td>15</td>\n",
       "      <td>4</td>\n",
       "    </tr>\n",
       "    <tr>\n",
       "      <th>12347.0</th>\n",
       "      <td>1</td>\n",
       "      <td>182</td>\n",
       "      <td>4310.00</td>\n",
       "      <td>1</td>\n",
       "      <td>7</td>\n",
       "      <td>7</td>\n",
       "      <td>177</td>\n",
       "      <td>15</td>\n",
       "      <td>4</td>\n",
       "    </tr>\n",
       "    <tr>\n",
       "      <th>12348.0</th>\n",
       "      <td>74</td>\n",
       "      <td>31</td>\n",
       "      <td>1797.24</td>\n",
       "      <td>5</td>\n",
       "      <td>3</td>\n",
       "      <td>6</td>\n",
       "      <td>536</td>\n",
       "      <td>14</td>\n",
       "      <td>4</td>\n",
       "    </tr>\n",
       "    <tr>\n",
       "      <th>12349.0</th>\n",
       "      <td>18</td>\n",
       "      <td>73</td>\n",
       "      <td>1757.55</td>\n",
       "      <td>2</td>\n",
       "      <td>5</td>\n",
       "      <td>6</td>\n",
       "      <td>256</td>\n",
       "      <td>13</td>\n",
       "      <td>3</td>\n",
       "    </tr>\n",
       "    <tr>\n",
       "      <th>12350.0</th>\n",
       "      <td>309</td>\n",
       "      <td>17</td>\n",
       "      <td>334.40</td>\n",
       "      <td>7</td>\n",
       "      <td>2</td>\n",
       "      <td>2</td>\n",
       "      <td>722</td>\n",
       "      <td>11</td>\n",
       "      <td>3</td>\n",
       "    </tr>\n",
       "  </tbody>\n",
       "</table>\n",
       "</div>"
      ],
      "text/plain": [
       "            Recency  Frequency  Monetary  R_Score  F_Score  M_Score  \\\n",
       "CustomerID                                                            \n",
       "12346.0         325          1  77183.60        7        1        7   \n",
       "12347.0           1        182   4310.00        1        7        7   \n",
       "12348.0          74         31   1797.24        5        3        6   \n",
       "12349.0          18         73   1757.55        2        5        6   \n",
       "12350.0         309         17    334.40        7        2        2   \n",
       "\n",
       "           RFM_Segment  RFM_Score  RFM_Score_Category  \n",
       "CustomerID                                             \n",
       "12346.0            717         15                   4  \n",
       "12347.0            177         15                   4  \n",
       "12348.0            536         14                   4  \n",
       "12349.0            256         13                   3  \n",
       "12350.0            722         11                   3  "
      ]
     },
     "execution_count": 47,
     "metadata": {},
     "output_type": "execute_result"
    }
   ],
   "source": [
    "rfm.head()"
   ]
  },
  {
   "cell_type": "markdown",
   "metadata": {
    "cell_id": "8235bc6b3220494484b79fce5b093943",
    "deepnote_cell_type": "markdown"
   },
   "source": [
    "`"
   ]
  },
  {
   "cell_type": "code",
   "execution_count": 48,
   "metadata": {
    "cell_id": "c7cec6b6ac284a68994750bc909d89a5",
    "deepnote_cell_type": "code",
    "deepnote_to_be_reexecuted": false,
    "execution_millis": 3,
    "execution_start": 1687589156809,
    "source_hash": "dfbb878d"
   },
   "outputs": [
    {
     "name": "stdout",
     "output_type": "stream",
     "text": [
      "<class 'pandas.core.frame.DataFrame'>\n",
      "Float64Index: 4320 entries, 12346.0 to 18287.0\n",
      "Data columns (total 9 columns):\n",
      " #   Column              Non-Null Count  Dtype  \n",
      "---  ------              --------------  -----  \n",
      " 0   Recency             4320 non-null   int64  \n",
      " 1   Frequency           4320 non-null   int64  \n",
      " 2   Monetary            4320 non-null   float64\n",
      " 3   R_Score             4320 non-null   int64  \n",
      " 4   F_Score             4320 non-null   int64  \n",
      " 5   M_Score             4320 non-null   int64  \n",
      " 6   RFM_Segment         4320 non-null   object \n",
      " 7   RFM_Score           4320 non-null   int64  \n",
      " 8   RFM_Score_Category  4320 non-null   int64  \n",
      "dtypes: float64(1), int64(7), object(1)\n",
      "memory usage: 337.5+ KB\n"
     ]
    }
   ],
   "source": [
    "rfm.info()"
   ]
  },
  {
   "cell_type": "code",
   "execution_count": 49,
   "metadata": {
    "cell_id": "ab1d252ac88246259947443dfb45ad63",
    "deepnote_cell_type": "code",
    "deepnote_to_be_reexecuted": false,
    "execution_millis": 60,
    "execution_start": 1687589156811,
    "source_hash": "dcac2798"
   },
   "outputs": [
    {
     "data": {
      "application/vnd.deepnote.dataframe.v3+json": {
       "column_count": 9,
       "columns": [
        {
         "dtype": "int64",
         "name": "Recency",
         "stats": {
          "histogram": [
           {
            "bin_end": 37.3,
            "bin_start": 0,
            "count": 1889
           },
           {
            "bin_end": 74.6,
            "bin_start": 37.3,
            "count": 806
           },
           {
            "bin_end": 111.89999999999999,
            "bin_start": 74.6,
            "count": 360
           },
           {
            "bin_end": 149.2,
            "bin_start": 111.89999999999999,
            "count": 233
           },
           {
            "bin_end": 186.5,
            "bin_start": 149.2,
            "count": 224
           },
           {
            "bin_end": 223.79999999999998,
            "bin_start": 186.5,
            "count": 187
           },
           {
            "bin_end": 261.09999999999997,
            "bin_start": 223.79999999999998,
            "count": 189
           },
           {
            "bin_end": 298.4,
            "bin_start": 261.09999999999997,
            "count": 166
           },
           {
            "bin_end": 335.7,
            "bin_start": 298.4,
            "count": 140
           },
           {
            "bin_end": 373,
            "bin_start": 335.7,
            "count": 126
           }
          ],
          "max": "373",
          "min": "0",
          "nan_count": 0,
          "unique_count": 349
         }
        },
        {
         "dtype": "int64",
         "name": "Frequency",
         "stats": {
          "histogram": [
           {
            "bin_end": 785.6,
            "bin_start": 1,
            "count": 4291
           },
           {
            "bin_end": 1570.2,
            "bin_start": 785.6,
            "count": 19
           },
           {
            "bin_end": 2354.8,
            "bin_start": 1570.2,
            "count": 4
           },
           {
            "bin_end": 3139.4,
            "bin_start": 2354.8,
            "count": 2
           },
           {
            "bin_end": 3924,
            "bin_start": 3139.4,
            "count": 0
           },
           {
            "bin_end": 4708.6,
            "bin_start": 3924,
            "count": 1
           },
           {
            "bin_end": 5493.2,
            "bin_start": 4708.6,
            "count": 1
           },
           {
            "bin_end": 6277.8,
            "bin_start": 5493.2,
            "count": 1
           },
           {
            "bin_end": 7062.400000000001,
            "bin_start": 6277.8,
            "count": 0
           },
           {
            "bin_end": 7847,
            "bin_start": 7062.400000000001,
            "count": 1
           }
          ],
          "max": "7847",
          "min": "1",
          "nan_count": 0,
          "unique_count": 460
         }
        },
        {
         "dtype": "float64",
         "name": "Monetary",
         "stats": {
          "histogram": [
           {
            "bin_end": 28023.976999999984,
            "bin_start": 3.75,
            "count": 4285
           },
           {
            "bin_end": 56044.20399999997,
            "bin_start": 28023.976999999984,
            "count": 18
           },
           {
            "bin_end": 84064.43099999995,
            "bin_start": 56044.20399999997,
            "count": 9
           },
           {
            "bin_end": 112084.65799999994,
            "bin_start": 84064.43099999995,
            "count": 1
           },
           {
            "bin_end": 140104.88499999992,
            "bin_start": 112084.65799999994,
            "count": 2
           },
           {
            "bin_end": 168125.1119999999,
            "bin_start": 140104.88499999992,
            "count": 1
           },
           {
            "bin_end": 196145.3389999999,
            "bin_start": 168125.1119999999,
            "count": 2
           },
           {
            "bin_end": 224165.56599999988,
            "bin_start": 196145.3389999999,
            "count": 0
           },
           {
            "bin_end": 252185.79299999986,
            "bin_start": 224165.56599999988,
            "count": 0
           },
           {
            "bin_end": 280206.01999999984,
            "bin_start": 252185.79299999986,
            "count": 2
           }
          ],
          "max": "280206.01999999984",
          "min": "3.75",
          "nan_count": 0,
          "unique_count": 4267
         }
        },
        {
         "dtype": "int64",
         "name": "R_Score",
         "stats": {
          "histogram": [
           {
            "bin_end": 1.6,
            "bin_start": 1,
            "count": 649
           },
           {
            "bin_end": 2.2,
            "bin_start": 1.6,
            "count": 594
           },
           {
            "bin_end": 2.8,
            "bin_start": 2.2,
            "count": 0
           },
           {
            "bin_end": 3.4,
            "bin_start": 2.8,
            "count": 622
           },
           {
            "bin_end": 4,
            "bin_start": 3.4,
            "count": 0
           },
           {
            "bin_end": 4.6,
            "bin_start": 4,
            "count": 609
           },
           {
            "bin_end": 5.2,
            "bin_start": 4.6,
            "count": 615
           },
           {
            "bin_end": 5.8,
            "bin_start": 5.2,
            "count": 0
           },
           {
            "bin_end": 6.3999999999999995,
            "bin_start": 5.8,
            "count": 615
           },
           {
            "bin_end": 7,
            "bin_start": 6.3999999999999995,
            "count": 616
           }
          ],
          "max": "7",
          "min": "1",
          "nan_count": 0,
          "unique_count": 7
         }
        },
        {
         "dtype": "int64",
         "name": "F_Score",
         "stats": {
          "histogram": [
           {
            "bin_end": 1.6,
            "bin_start": 1,
            "count": 655
           },
           {
            "bin_end": 2.2,
            "bin_start": 1.6,
            "count": 624
           },
           {
            "bin_end": 2.8,
            "bin_start": 2.2,
            "count": 0
           },
           {
            "bin_end": 3.4,
            "bin_start": 2.8,
            "count": 591
           },
           {
            "bin_end": 4,
            "bin_start": 3.4,
            "count": 0
           },
           {
            "bin_end": 4.6,
            "bin_start": 4,
            "count": 627
           },
           {
            "bin_end": 5.2,
            "bin_start": 4.6,
            "count": 591
           },
           {
            "bin_end": 5.8,
            "bin_start": 5.2,
            "count": 0
           },
           {
            "bin_end": 6.3999999999999995,
            "bin_start": 5.8,
            "count": 616
           },
           {
            "bin_end": 7,
            "bin_start": 6.3999999999999995,
            "count": 616
           }
          ],
          "max": "7",
          "min": "1",
          "nan_count": 0,
          "unique_count": 7
         }
        },
        {
         "dtype": "int64",
         "name": "M_Score",
         "stats": {
          "histogram": [
           {
            "bin_end": 1.6,
            "bin_start": 1,
            "count": 618
           },
           {
            "bin_end": 2.2,
            "bin_start": 1.6,
            "count": 617
           },
           {
            "bin_end": 2.8,
            "bin_start": 2.2,
            "count": 0
           },
           {
            "bin_end": 3.4,
            "bin_start": 2.8,
            "count": 617
           },
           {
            "bin_end": 4,
            "bin_start": 3.4,
            "count": 0
           },
           {
            "bin_end": 4.6,
            "bin_start": 4,
            "count": 617
           },
           {
            "bin_end": 5.2,
            "bin_start": 4.6,
            "count": 617
           },
           {
            "bin_end": 5.8,
            "bin_start": 5.2,
            "count": 0
           },
           {
            "bin_end": 6.3999999999999995,
            "bin_start": 5.8,
            "count": 617
           },
           {
            "bin_end": 7,
            "bin_start": 6.3999999999999995,
            "count": 617
           }
          ],
          "max": "7",
          "min": "1",
          "nan_count": 0,
          "unique_count": 7
         }
        },
        {
         "dtype": "object",
         "name": "RFM_Segment",
         "stats": {
          "categories": [
           {
            "count": 187,
            "name": "177"
           },
           {
            "count": 147,
            "name": "711"
           },
           {
            "count": 3986,
            "name": "298 others"
           }
          ],
          "nan_count": 0,
          "unique_count": 300
         }
        },
        {
         "dtype": "int64",
         "name": "RFM_Score",
         "stats": {
          "histogram": [
           {
            "bin_end": 4.8,
            "bin_start": 3,
            "count": 48
           },
           {
            "bin_end": 6.6,
            "bin_start": 4.8,
            "count": 173
           },
           {
            "bin_end": 8.4,
            "bin_start": 6.6,
            "count": 435
           },
           {
            "bin_end": 10.2,
            "bin_start": 8.4,
            "count": 817
           },
           {
            "bin_end": 12,
            "bin_start": 10.2,
            "count": 437
           },
           {
            "bin_end": 13.8,
            "bin_start": 12,
            "count": 894
           },
           {
            "bin_end": 15.6,
            "bin_start": 13.8,
            "count": 918
           },
           {
            "bin_end": 17.4,
            "bin_start": 15.6,
            "count": 475
           },
           {
            "bin_end": 19.2,
            "bin_start": 17.4,
            "count": 116
           },
           {
            "bin_end": 21,
            "bin_start": 19.2,
            "count": 7
           }
          ],
          "max": "21",
          "min": "3",
          "nan_count": 0,
          "unique_count": 19
         }
        },
        {
         "dtype": "int64",
         "name": "RFM_Score_Category",
         "stats": {
          "histogram": [
           {
            "bin_end": 0.6,
            "bin_start": 0,
            "count": 48
           },
           {
            "bin_end": 1.2,
            "bin_start": 0.6,
            "count": 342
           },
           {
            "bin_end": 1.7999999999999998,
            "bin_start": 1.2,
            "count": 0
           },
           {
            "bin_end": 2.4,
            "bin_start": 1.7999999999999998,
            "count": 1083
           },
           {
            "bin_end": 3,
            "bin_start": 2.4,
            "count": 0
           },
           {
            "bin_end": 3.5999999999999996,
            "bin_start": 3,
            "count": 1331
           },
           {
            "bin_end": 4.2,
            "bin_start": 3.5999999999999996,
            "count": 1203
           },
           {
            "bin_end": 4.8,
            "bin_start": 4.2,
            "count": 0
           },
           {
            "bin_end": 5.3999999999999995,
            "bin_start": 4.8,
            "count": 306
           },
           {
            "bin_end": 6,
            "bin_start": 5.3999999999999995,
            "count": 7
           }
          ],
          "max": "6",
          "min": "0",
          "nan_count": 0,
          "unique_count": 7
         }
        },
        {
         "dtype": "float64",
         "name": "_deepnote_index_column"
        }
       ],
       "row_count": 4320,
       "rows": [
        {
         "F_Score": 7,
         "Frequency": 208,
         "M_Score": 7,
         "Monetary": 3734.970000000001,
         "RFM_Score": 21,
         "RFM_Score_Category": 6,
         "RFM_Segment": "777",
         "R_Score": 7,
         "Recency": 305,
         "_deepnote_index_column": 15808
        },
        {
         "F_Score": 7,
         "Frequency": 297,
         "M_Score": 7,
         "Monetary": 5391.210000000009,
         "RFM_Score": 21,
         "RFM_Score_Category": 6,
         "RFM_Segment": "777",
         "R_Score": 7,
         "Recency": 371,
         "_deepnote_index_column": 17850
        },
        {
         "F_Score": 7,
         "Frequency": 170,
         "M_Score": 5,
         "Monetary": 1269.9900000000002,
         "RFM_Score": 19,
         "RFM_Score_Category": 5,
         "RFM_Segment": "775",
         "R_Score": 7,
         "Recency": 241,
         "_deepnote_index_column": 14669
        },
        {
         "F_Score": 6,
         "Frequency": 159,
         "M_Score": 7,
         "Monetary": 7832.469999999998,
         "RFM_Score": 20,
         "RFM_Score_Category": 6,
         "RFM_Segment": "767",
         "R_Score": 7,
         "Recency": 275,
         "_deepnote_index_column": 13093
        },
        {
         "F_Score": 6,
         "Frequency": 149,
         "M_Score": 6,
         "Monetary": 2169.3899999999994,
         "RFM_Score": 19,
         "RFM_Score_Category": 5,
         "RFM_Segment": "766",
         "R_Score": 7,
         "Recency": 336,
         "_deepnote_index_column": 12501
        },
        {
         "F_Score": 6,
         "Frequency": 113,
         "M_Score": 6,
         "Monetary": 2200.42,
         "RFM_Score": 19,
         "RFM_Score_Category": 5,
         "RFM_Segment": "766",
         "R_Score": 7,
         "Recency": 332,
         "_deepnote_index_column": 17406
        },
        {
         "F_Score": 6,
         "Frequency": 105,
         "M_Score": 5,
         "Monetary": 1079.3399999999997,
         "RFM_Score": 18,
         "RFM_Score_Category": 5,
         "RFM_Segment": "765",
         "R_Score": 7,
         "Recency": 280,
         "_deepnote_index_column": 13715
        },
        {
         "F_Score": 6,
         "Frequency": 153,
         "M_Score": 5,
         "Monetary": 934.5200000000001,
         "RFM_Score": 18,
         "RFM_Score_Category": 5,
         "RFM_Segment": "765",
         "R_Score": 7,
         "Recency": 301,
         "_deepnote_index_column": 14081
        },
        {
         "F_Score": 6,
         "Frequency": 130,
         "M_Score": 5,
         "Monetary": 1058.6200000000008,
         "RFM_Score": 18,
         "RFM_Score_Category": 5,
         "RFM_Segment": "765",
         "R_Score": 7,
         "Recency": 246,
         "_deepnote_index_column": 14465
        },
        {
         "F_Score": 6,
         "Frequency": 157,
         "M_Score": 5,
         "Monetary": 1048.8500000000006,
         "RFM_Score": 18,
         "RFM_Score_Category": 5,
         "RFM_Segment": "765",
         "R_Score": 7,
         "Recency": 337,
         "_deepnote_index_column": 15464
        }
       ]
      },
      "text/html": [
       "<div>\n",
       "<style scoped>\n",
       "    .dataframe tbody tr th:only-of-type {\n",
       "        vertical-align: middle;\n",
       "    }\n",
       "\n",
       "    .dataframe tbody tr th {\n",
       "        vertical-align: top;\n",
       "    }\n",
       "\n",
       "    .dataframe thead th {\n",
       "        text-align: right;\n",
       "    }\n",
       "</style>\n",
       "<table border=\"1\" class=\"dataframe\">\n",
       "  <thead>\n",
       "    <tr style=\"text-align: right;\">\n",
       "      <th></th>\n",
       "      <th>Recency</th>\n",
       "      <th>Frequency</th>\n",
       "      <th>Monetary</th>\n",
       "      <th>R_Score</th>\n",
       "      <th>F_Score</th>\n",
       "      <th>M_Score</th>\n",
       "      <th>RFM_Segment</th>\n",
       "      <th>RFM_Score</th>\n",
       "      <th>RFM_Score_Category</th>\n",
       "    </tr>\n",
       "    <tr>\n",
       "      <th>CustomerID</th>\n",
       "      <th></th>\n",
       "      <th></th>\n",
       "      <th></th>\n",
       "      <th></th>\n",
       "      <th></th>\n",
       "      <th></th>\n",
       "      <th></th>\n",
       "      <th></th>\n",
       "      <th></th>\n",
       "    </tr>\n",
       "  </thead>\n",
       "  <tbody>\n",
       "    <tr>\n",
       "      <th>15808.0</th>\n",
       "      <td>305</td>\n",
       "      <td>208</td>\n",
       "      <td>3734.97</td>\n",
       "      <td>7</td>\n",
       "      <td>7</td>\n",
       "      <td>7</td>\n",
       "      <td>777</td>\n",
       "      <td>21</td>\n",
       "      <td>6</td>\n",
       "    </tr>\n",
       "    <tr>\n",
       "      <th>17850.0</th>\n",
       "      <td>371</td>\n",
       "      <td>297</td>\n",
       "      <td>5391.21</td>\n",
       "      <td>7</td>\n",
       "      <td>7</td>\n",
       "      <td>7</td>\n",
       "      <td>777</td>\n",
       "      <td>21</td>\n",
       "      <td>6</td>\n",
       "    </tr>\n",
       "    <tr>\n",
       "      <th>14669.0</th>\n",
       "      <td>241</td>\n",
       "      <td>170</td>\n",
       "      <td>1269.99</td>\n",
       "      <td>7</td>\n",
       "      <td>7</td>\n",
       "      <td>5</td>\n",
       "      <td>775</td>\n",
       "      <td>19</td>\n",
       "      <td>5</td>\n",
       "    </tr>\n",
       "    <tr>\n",
       "      <th>13093.0</th>\n",
       "      <td>275</td>\n",
       "      <td>159</td>\n",
       "      <td>7832.47</td>\n",
       "      <td>7</td>\n",
       "      <td>6</td>\n",
       "      <td>7</td>\n",
       "      <td>767</td>\n",
       "      <td>20</td>\n",
       "      <td>6</td>\n",
       "    </tr>\n",
       "    <tr>\n",
       "      <th>12501.0</th>\n",
       "      <td>336</td>\n",
       "      <td>149</td>\n",
       "      <td>2169.39</td>\n",
       "      <td>7</td>\n",
       "      <td>6</td>\n",
       "      <td>6</td>\n",
       "      <td>766</td>\n",
       "      <td>19</td>\n",
       "      <td>5</td>\n",
       "    </tr>\n",
       "    <tr>\n",
       "      <th>...</th>\n",
       "      <td>...</td>\n",
       "      <td>...</td>\n",
       "      <td>...</td>\n",
       "      <td>...</td>\n",
       "      <td>...</td>\n",
       "      <td>...</td>\n",
       "      <td>...</td>\n",
       "      <td>...</td>\n",
       "      <td>...</td>\n",
       "    </tr>\n",
       "    <tr>\n",
       "      <th>16789.0</th>\n",
       "      <td>7</td>\n",
       "      <td>5</td>\n",
       "      <td>80.80</td>\n",
       "      <td>1</td>\n",
       "      <td>1</td>\n",
       "      <td>1</td>\n",
       "      <td>111</td>\n",
       "      <td>3</td>\n",
       "      <td>0</td>\n",
       "    </tr>\n",
       "    <tr>\n",
       "      <th>16988.0</th>\n",
       "      <td>4</td>\n",
       "      <td>7</td>\n",
       "      <td>126.12</td>\n",
       "      <td>1</td>\n",
       "      <td>1</td>\n",
       "      <td>1</td>\n",
       "      <td>111</td>\n",
       "      <td>3</td>\n",
       "      <td>0</td>\n",
       "    </tr>\n",
       "    <tr>\n",
       "      <th>17737.0</th>\n",
       "      <td>8</td>\n",
       "      <td>10</td>\n",
       "      <td>168.24</td>\n",
       "      <td>1</td>\n",
       "      <td>1</td>\n",
       "      <td>1</td>\n",
       "      <td>111</td>\n",
       "      <td>3</td>\n",
       "      <td>0</td>\n",
       "    </tr>\n",
       "    <tr>\n",
       "      <th>17942.0</th>\n",
       "      <td>7</td>\n",
       "      <td>2</td>\n",
       "      <td>77.50</td>\n",
       "      <td>1</td>\n",
       "      <td>1</td>\n",
       "      <td>1</td>\n",
       "      <td>111</td>\n",
       "      <td>3</td>\n",
       "      <td>0</td>\n",
       "    </tr>\n",
       "    <tr>\n",
       "      <th>18174.0</th>\n",
       "      <td>6</td>\n",
       "      <td>1</td>\n",
       "      <td>104.00</td>\n",
       "      <td>1</td>\n",
       "      <td>1</td>\n",
       "      <td>1</td>\n",
       "      <td>111</td>\n",
       "      <td>3</td>\n",
       "      <td>0</td>\n",
       "    </tr>\n",
       "  </tbody>\n",
       "</table>\n",
       "<p>4320 rows × 9 columns</p>\n",
       "</div>"
      ],
      "text/plain": [
       "            Recency  Frequency  Monetary  R_Score  F_Score  M_Score  \\\n",
       "CustomerID                                                            \n",
       "15808.0         305        208   3734.97        7        7        7   \n",
       "17850.0         371        297   5391.21        7        7        7   \n",
       "14669.0         241        170   1269.99        7        7        5   \n",
       "13093.0         275        159   7832.47        7        6        7   \n",
       "12501.0         336        149   2169.39        7        6        6   \n",
       "...             ...        ...       ...      ...      ...      ...   \n",
       "16789.0           7          5     80.80        1        1        1   \n",
       "16988.0           4          7    126.12        1        1        1   \n",
       "17737.0           8         10    168.24        1        1        1   \n",
       "17942.0           7          2     77.50        1        1        1   \n",
       "18174.0           6          1    104.00        1        1        1   \n",
       "\n",
       "           RFM_Segment  RFM_Score  RFM_Score_Category  \n",
       "CustomerID                                             \n",
       "15808.0            777         21                   6  \n",
       "17850.0            777         21                   6  \n",
       "14669.0            775         19                   5  \n",
       "13093.0            767         20                   6  \n",
       "12501.0            766         19                   5  \n",
       "...                ...        ...                 ...  \n",
       "16789.0            111          3                   0  \n",
       "16988.0            111          3                   0  \n",
       "17737.0            111          3                   0  \n",
       "17942.0            111          3                   0  \n",
       "18174.0            111          3                   0  \n",
       "\n",
       "[4320 rows x 9 columns]"
      ]
     },
     "execution_count": 49,
     "metadata": {},
     "output_type": "execute_result"
    }
   ],
   "source": [
    "# sorting the table based on some columns, greatest to the least\n",
    "rfm = rfm.sort_values(by=['R_Score','F_Score','M_Score','RFM_Score_Category'], ascending=False)\n",
    "rfm"
   ]
  },
  {
   "cell_type": "code",
   "execution_count": 50,
   "metadata": {
    "cell_id": "103d8c66d2c440a19c1a738c2739625c",
    "deepnote_cell_type": "code",
    "deepnote_to_be_reexecuted": false,
    "execution_millis": 7,
    "execution_start": 1687589156879,
    "source_hash": "7255ba9b"
   },
   "outputs": [
    {
     "data": {
      "text/plain": [
       "array([6, 5, 4, 3, 2, 1, 0])"
      ]
     },
     "execution_count": 50,
     "metadata": {},
     "output_type": "execute_result"
    }
   ],
   "source": [
    "rfm['RFM_Score_Category'].unique()"
   ]
  },
  {
   "cell_type": "code",
   "execution_count": 51,
   "metadata": {
    "cell_id": "257852b52cc843dcbc957b771ed4acba",
    "deepnote_cell_type": "code",
    "deepnote_to_be_reexecuted": false,
    "execution_millis": 5,
    "execution_start": 1687589156893,
    "source_hash": "b623e53d"
   },
   "outputs": [],
   "source": []
  },
  {
   "cell_type": "code",
   "execution_count": 51,
   "metadata": {
    "cell_id": "8aae344683d24c13a5d1061263909b32",
    "deepnote_cell_type": "code",
    "deepnote_to_be_reexecuted": false,
    "execution_millis": 22,
    "execution_start": 1687589156941,
    "source_hash": "6723b622"
   },
   "outputs": [
    {
     "data": {
      "application/vnd.deepnote.dataframe.v3+json": {
       "column_count": 9,
       "columns": [
        {
         "dtype": "int64",
         "name": "Recency",
         "stats": {
          "histogram": [
           {
            "bin_end": 2.6,
            "bin_start": 2,
            "count": 1
           },
           {
            "bin_end": 3.2,
            "bin_start": 2.6,
            "count": 3
           },
           {
            "bin_end": 3.8,
            "bin_start": 3.2,
            "count": 0
           },
           {
            "bin_end": 4.4,
            "bin_start": 3.8,
            "count": 1
           },
           {
            "bin_end": 5,
            "bin_start": 4.4,
            "count": 0
           },
           {
            "bin_end": 5.6,
            "bin_start": 5,
            "count": 0
           },
           {
            "bin_end": 6.2,
            "bin_start": 5.6,
            "count": 2
           },
           {
            "bin_end": 6.8,
            "bin_start": 6.2,
            "count": 0
           },
           {
            "bin_end": 7.3999999999999995,
            "bin_start": 6.8,
            "count": 2
           },
           {
            "bin_end": 8,
            "bin_start": 7.3999999999999995,
            "count": 1
           }
          ],
          "max": "8",
          "min": "2",
          "nan_count": 0,
          "unique_count": 6
         }
        },
        {
         "dtype": "int64",
         "name": "Frequency",
         "stats": {
          "histogram": [
           {
            "bin_end": 1.9,
            "bin_start": 1,
            "count": 1
           },
           {
            "bin_end": 2.8,
            "bin_start": 1.9,
            "count": 1
           },
           {
            "bin_end": 3.7,
            "bin_start": 2.8,
            "count": 1
           },
           {
            "bin_end": 4.6,
            "bin_start": 3.7,
            "count": 1
           },
           {
            "bin_end": 5.5,
            "bin_start": 4.6,
            "count": 2
           },
           {
            "bin_end": 6.4,
            "bin_start": 5.5,
            "count": 0
           },
           {
            "bin_end": 7.3,
            "bin_start": 6.4,
            "count": 2
           },
           {
            "bin_end": 8.2,
            "bin_start": 7.3,
            "count": 0
           },
           {
            "bin_end": 9.1,
            "bin_start": 8.2,
            "count": 1
           },
           {
            "bin_end": 10,
            "bin_start": 9.1,
            "count": 1
           }
          ],
          "max": "10",
          "min": "1",
          "nan_count": 0,
          "unique_count": 8
         }
        },
        {
         "dtype": "float64",
         "name": "Monetary",
         "stats": {
          "histogram": [
           {
            "bin_end": 55.687,
            "bin_start": 41.989999999999995,
            "count": 2
           },
           {
            "bin_end": 69.384,
            "bin_start": 55.687,
            "count": 0
           },
           {
            "bin_end": 83.081,
            "bin_start": 69.384,
            "count": 2
           },
           {
            "bin_end": 96.778,
            "bin_start": 83.081,
            "count": 1
           },
           {
            "bin_end": 110.47500000000001,
            "bin_start": 96.778,
            "count": 1
           },
           {
            "bin_end": 124.17200000000001,
            "bin_start": 110.47500000000001,
            "count": 0
           },
           {
            "bin_end": 137.86900000000003,
            "bin_start": 124.17200000000001,
            "count": 2
           },
           {
            "bin_end": 151.56600000000003,
            "bin_start": 137.86900000000003,
            "count": 0
           },
           {
            "bin_end": 165.26300000000003,
            "bin_start": 151.56600000000003,
            "count": 0
           },
           {
            "bin_end": 178.96000000000004,
            "bin_start": 165.26300000000003,
            "count": 2
           }
          ],
          "max": "178.96000000000004",
          "min": "41.989999999999995",
          "nan_count": 0,
          "unique_count": 10
         }
        },
        {
         "dtype": "int64",
         "name": "R_Score",
         "stats": {
          "histogram": [
           {
            "bin_end": 0.6,
            "bin_start": 0.5,
            "count": 0
           },
           {
            "bin_end": 0.7,
            "bin_start": 0.6,
            "count": 0
           },
           {
            "bin_end": 0.8,
            "bin_start": 0.7,
            "count": 0
           },
           {
            "bin_end": 0.9,
            "bin_start": 0.8,
            "count": 0
           },
           {
            "bin_end": 1,
            "bin_start": 0.9,
            "count": 0
           },
           {
            "bin_end": 1.1,
            "bin_start": 1,
            "count": 10
           },
           {
            "bin_end": 1.2000000000000002,
            "bin_start": 1.1,
            "count": 0
           },
           {
            "bin_end": 1.3,
            "bin_start": 1.2000000000000002,
            "count": 0
           },
           {
            "bin_end": 1.4,
            "bin_start": 1.3,
            "count": 0
           },
           {
            "bin_end": 1.5,
            "bin_start": 1.4,
            "count": 0
           }
          ],
          "max": "1",
          "min": "1",
          "nan_count": 0,
          "unique_count": 1
         }
        },
        {
         "dtype": "int64",
         "name": "F_Score",
         "stats": {
          "histogram": [
           {
            "bin_end": 0.6,
            "bin_start": 0.5,
            "count": 0
           },
           {
            "bin_end": 0.7,
            "bin_start": 0.6,
            "count": 0
           },
           {
            "bin_end": 0.8,
            "bin_start": 0.7,
            "count": 0
           },
           {
            "bin_end": 0.9,
            "bin_start": 0.8,
            "count": 0
           },
           {
            "bin_end": 1,
            "bin_start": 0.9,
            "count": 0
           },
           {
            "bin_end": 1.1,
            "bin_start": 1,
            "count": 10
           },
           {
            "bin_end": 1.2000000000000002,
            "bin_start": 1.1,
            "count": 0
           },
           {
            "bin_end": 1.3,
            "bin_start": 1.2000000000000002,
            "count": 0
           },
           {
            "bin_end": 1.4,
            "bin_start": 1.3,
            "count": 0
           },
           {
            "bin_end": 1.5,
            "bin_start": 1.4,
            "count": 0
           }
          ],
          "max": "1",
          "min": "1",
          "nan_count": 0,
          "unique_count": 1
         }
        },
        {
         "dtype": "int64",
         "name": "M_Score",
         "stats": {
          "histogram": [
           {
            "bin_end": 0.6,
            "bin_start": 0.5,
            "count": 0
           },
           {
            "bin_end": 0.7,
            "bin_start": 0.6,
            "count": 0
           },
           {
            "bin_end": 0.8,
            "bin_start": 0.7,
            "count": 0
           },
           {
            "bin_end": 0.9,
            "bin_start": 0.8,
            "count": 0
           },
           {
            "bin_end": 1,
            "bin_start": 0.9,
            "count": 0
           },
           {
            "bin_end": 1.1,
            "bin_start": 1,
            "count": 10
           },
           {
            "bin_end": 1.2000000000000002,
            "bin_start": 1.1,
            "count": 0
           },
           {
            "bin_end": 1.3,
            "bin_start": 1.2000000000000002,
            "count": 0
           },
           {
            "bin_end": 1.4,
            "bin_start": 1.3,
            "count": 0
           },
           {
            "bin_end": 1.5,
            "bin_start": 1.4,
            "count": 0
           }
          ],
          "max": "1",
          "min": "1",
          "nan_count": 0,
          "unique_count": 1
         }
        },
        {
         "dtype": "object",
         "name": "RFM_Segment",
         "stats": {
          "categories": [
           {
            "count": 10,
            "name": "111"
           }
          ],
          "nan_count": 0,
          "unique_count": 1
         }
        },
        {
         "dtype": "int64",
         "name": "RFM_Score",
         "stats": {
          "histogram": [
           {
            "bin_end": 2.6,
            "bin_start": 2.5,
            "count": 0
           },
           {
            "bin_end": 2.7,
            "bin_start": 2.6,
            "count": 0
           },
           {
            "bin_end": 2.8,
            "bin_start": 2.7,
            "count": 0
           },
           {
            "bin_end": 2.9,
            "bin_start": 2.8,
            "count": 0
           },
           {
            "bin_end": 3,
            "bin_start": 2.9,
            "count": 0
           },
           {
            "bin_end": 3.1,
            "bin_start": 3,
            "count": 10
           },
           {
            "bin_end": 3.2,
            "bin_start": 3.1,
            "count": 0
           },
           {
            "bin_end": 3.3,
            "bin_start": 3.2,
            "count": 0
           },
           {
            "bin_end": 3.4,
            "bin_start": 3.3,
            "count": 0
           },
           {
            "bin_end": 3.5,
            "bin_start": 3.4,
            "count": 0
           }
          ],
          "max": "3",
          "min": "3",
          "nan_count": 0,
          "unique_count": 1
         }
        },
        {
         "dtype": "int64",
         "name": "RFM_Score_Category",
         "stats": {
          "histogram": [
           {
            "bin_end": -0.4,
            "bin_start": -0.5,
            "count": 0
           },
           {
            "bin_end": -0.3,
            "bin_start": -0.4,
            "count": 0
           },
           {
            "bin_end": -0.19999999999999996,
            "bin_start": -0.3,
            "count": 0
           },
           {
            "bin_end": -0.09999999999999998,
            "bin_start": -0.19999999999999996,
            "count": 0
           },
           {
            "bin_end": 0,
            "bin_start": -0.09999999999999998,
            "count": 0
           },
           {
            "bin_end": 0.10000000000000009,
            "bin_start": 0,
            "count": 10
           },
           {
            "bin_end": 0.20000000000000007,
            "bin_start": 0.10000000000000009,
            "count": 0
           },
           {
            "bin_end": 0.30000000000000004,
            "bin_start": 0.20000000000000007,
            "count": 0
           },
           {
            "bin_end": 0.4,
            "bin_start": 0.30000000000000004,
            "count": 0
           },
           {
            "bin_end": 0.5,
            "bin_start": 0.4,
            "count": 0
           }
          ],
          "max": "0",
          "min": "0",
          "nan_count": 0,
          "unique_count": 1
         }
        },
        {
         "dtype": "float64",
         "name": "_deepnote_index_column"
        }
       ],
       "row_count": 10,
       "rows": [
        {
         "F_Score": 1,
         "Frequency": 4,
         "M_Score": 1,
         "Monetary": 52.2,
         "RFM_Score": 3,
         "RFM_Score_Category": 0,
         "RFM_Segment": "111",
         "R_Score": 1,
         "Recency": 6,
         "_deepnote_index_column": 14865
        },
        {
         "F_Score": 1,
         "Frequency": 3,
         "M_Score": 1,
         "Monetary": 41.989999999999995,
         "RFM_Score": 3,
         "RFM_Score_Category": 0,
         "RFM_Segment": "111",
         "R_Score": 1,
         "Recency": 3,
         "_deepnote_index_column": 15992
        },
        {
         "F_Score": 1,
         "Frequency": 5,
         "M_Score": 1,
         "Monetary": 124.2,
         "RFM_Score": 3,
         "RFM_Score_Category": 0,
         "RFM_Segment": "111",
         "R_Score": 1,
         "Recency": 2,
         "_deepnote_index_column": 16569
        },
        {
         "F_Score": 1,
         "Frequency": 7,
         "M_Score": 1,
         "Monetary": 90.04000000000002,
         "RFM_Score": 3,
         "RFM_Score_Category": 0,
         "RFM_Segment": "111",
         "R_Score": 1,
         "Recency": 3,
         "_deepnote_index_column": 16597
        },
        {
         "F_Score": 1,
         "Frequency": 9,
         "M_Score": 1,
         "Monetary": 178.96000000000004,
         "RFM_Score": 3,
         "RFM_Score_Category": 0,
         "RFM_Segment": "111",
         "R_Score": 1,
         "Recency": 3,
         "_deepnote_index_column": 16620
        },
        {
         "F_Score": 1,
         "Frequency": 5,
         "M_Score": 1,
         "Monetary": 80.8,
         "RFM_Score": 3,
         "RFM_Score_Category": 0,
         "RFM_Segment": "111",
         "R_Score": 1,
         "Recency": 7,
         "_deepnote_index_column": 16789
        },
        {
         "F_Score": 1,
         "Frequency": 7,
         "M_Score": 1,
         "Monetary": 126.12,
         "RFM_Score": 3,
         "RFM_Score_Category": 0,
         "RFM_Segment": "111",
         "R_Score": 1,
         "Recency": 4,
         "_deepnote_index_column": 16988
        },
        {
         "F_Score": 1,
         "Frequency": 10,
         "M_Score": 1,
         "Monetary": 168.24,
         "RFM_Score": 3,
         "RFM_Score_Category": 0,
         "RFM_Segment": "111",
         "R_Score": 1,
         "Recency": 8,
         "_deepnote_index_column": 17737
        },
        {
         "F_Score": 1,
         "Frequency": 2,
         "M_Score": 1,
         "Monetary": 77.50000000000001,
         "RFM_Score": 3,
         "RFM_Score_Category": 0,
         "RFM_Segment": "111",
         "R_Score": 1,
         "Recency": 7,
         "_deepnote_index_column": 17942
        },
        {
         "F_Score": 1,
         "Frequency": 1,
         "M_Score": 1,
         "Monetary": 104,
         "RFM_Score": 3,
         "RFM_Score_Category": 0,
         "RFM_Segment": "111",
         "R_Score": 1,
         "Recency": 6,
         "_deepnote_index_column": 18174
        }
       ]
      },
      "text/html": [
       "<div>\n",
       "<style scoped>\n",
       "    .dataframe tbody tr th:only-of-type {\n",
       "        vertical-align: middle;\n",
       "    }\n",
       "\n",
       "    .dataframe tbody tr th {\n",
       "        vertical-align: top;\n",
       "    }\n",
       "\n",
       "    .dataframe thead th {\n",
       "        text-align: right;\n",
       "    }\n",
       "</style>\n",
       "<table border=\"1\" class=\"dataframe\">\n",
       "  <thead>\n",
       "    <tr style=\"text-align: right;\">\n",
       "      <th></th>\n",
       "      <th>Recency</th>\n",
       "      <th>Frequency</th>\n",
       "      <th>Monetary</th>\n",
       "      <th>R_Score</th>\n",
       "      <th>F_Score</th>\n",
       "      <th>M_Score</th>\n",
       "      <th>RFM_Segment</th>\n",
       "      <th>RFM_Score</th>\n",
       "      <th>RFM_Score_Category</th>\n",
       "    </tr>\n",
       "    <tr>\n",
       "      <th>CustomerID</th>\n",
       "      <th></th>\n",
       "      <th></th>\n",
       "      <th></th>\n",
       "      <th></th>\n",
       "      <th></th>\n",
       "      <th></th>\n",
       "      <th></th>\n",
       "      <th></th>\n",
       "      <th></th>\n",
       "    </tr>\n",
       "  </thead>\n",
       "  <tbody>\n",
       "    <tr>\n",
       "      <th>14865.0</th>\n",
       "      <td>6</td>\n",
       "      <td>4</td>\n",
       "      <td>52.20</td>\n",
       "      <td>1</td>\n",
       "      <td>1</td>\n",
       "      <td>1</td>\n",
       "      <td>111</td>\n",
       "      <td>3</td>\n",
       "      <td>0</td>\n",
       "    </tr>\n",
       "    <tr>\n",
       "      <th>15992.0</th>\n",
       "      <td>3</td>\n",
       "      <td>3</td>\n",
       "      <td>41.99</td>\n",
       "      <td>1</td>\n",
       "      <td>1</td>\n",
       "      <td>1</td>\n",
       "      <td>111</td>\n",
       "      <td>3</td>\n",
       "      <td>0</td>\n",
       "    </tr>\n",
       "    <tr>\n",
       "      <th>16569.0</th>\n",
       "      <td>2</td>\n",
       "      <td>5</td>\n",
       "      <td>124.20</td>\n",
       "      <td>1</td>\n",
       "      <td>1</td>\n",
       "      <td>1</td>\n",
       "      <td>111</td>\n",
       "      <td>3</td>\n",
       "      <td>0</td>\n",
       "    </tr>\n",
       "    <tr>\n",
       "      <th>16597.0</th>\n",
       "      <td>3</td>\n",
       "      <td>7</td>\n",
       "      <td>90.04</td>\n",
       "      <td>1</td>\n",
       "      <td>1</td>\n",
       "      <td>1</td>\n",
       "      <td>111</td>\n",
       "      <td>3</td>\n",
       "      <td>0</td>\n",
       "    </tr>\n",
       "    <tr>\n",
       "      <th>16620.0</th>\n",
       "      <td>3</td>\n",
       "      <td>9</td>\n",
       "      <td>178.96</td>\n",
       "      <td>1</td>\n",
       "      <td>1</td>\n",
       "      <td>1</td>\n",
       "      <td>111</td>\n",
       "      <td>3</td>\n",
       "      <td>0</td>\n",
       "    </tr>\n",
       "    <tr>\n",
       "      <th>16789.0</th>\n",
       "      <td>7</td>\n",
       "      <td>5</td>\n",
       "      <td>80.80</td>\n",
       "      <td>1</td>\n",
       "      <td>1</td>\n",
       "      <td>1</td>\n",
       "      <td>111</td>\n",
       "      <td>3</td>\n",
       "      <td>0</td>\n",
       "    </tr>\n",
       "    <tr>\n",
       "      <th>16988.0</th>\n",
       "      <td>4</td>\n",
       "      <td>7</td>\n",
       "      <td>126.12</td>\n",
       "      <td>1</td>\n",
       "      <td>1</td>\n",
       "      <td>1</td>\n",
       "      <td>111</td>\n",
       "      <td>3</td>\n",
       "      <td>0</td>\n",
       "    </tr>\n",
       "    <tr>\n",
       "      <th>17737.0</th>\n",
       "      <td>8</td>\n",
       "      <td>10</td>\n",
       "      <td>168.24</td>\n",
       "      <td>1</td>\n",
       "      <td>1</td>\n",
       "      <td>1</td>\n",
       "      <td>111</td>\n",
       "      <td>3</td>\n",
       "      <td>0</td>\n",
       "    </tr>\n",
       "    <tr>\n",
       "      <th>17942.0</th>\n",
       "      <td>7</td>\n",
       "      <td>2</td>\n",
       "      <td>77.50</td>\n",
       "      <td>1</td>\n",
       "      <td>1</td>\n",
       "      <td>1</td>\n",
       "      <td>111</td>\n",
       "      <td>3</td>\n",
       "      <td>0</td>\n",
       "    </tr>\n",
       "    <tr>\n",
       "      <th>18174.0</th>\n",
       "      <td>6</td>\n",
       "      <td>1</td>\n",
       "      <td>104.00</td>\n",
       "      <td>1</td>\n",
       "      <td>1</td>\n",
       "      <td>1</td>\n",
       "      <td>111</td>\n",
       "      <td>3</td>\n",
       "      <td>0</td>\n",
       "    </tr>\n",
       "  </tbody>\n",
       "</table>\n",
       "</div>"
      ],
      "text/plain": [
       "            Recency  Frequency  Monetary  R_Score  F_Score  M_Score  \\\n",
       "CustomerID                                                            \n",
       "14865.0           6          4     52.20        1        1        1   \n",
       "15992.0           3          3     41.99        1        1        1   \n",
       "16569.0           2          5    124.20        1        1        1   \n",
       "16597.0           3          7     90.04        1        1        1   \n",
       "16620.0           3          9    178.96        1        1        1   \n",
       "16789.0           7          5     80.80        1        1        1   \n",
       "16988.0           4          7    126.12        1        1        1   \n",
       "17737.0           8         10    168.24        1        1        1   \n",
       "17942.0           7          2     77.50        1        1        1   \n",
       "18174.0           6          1    104.00        1        1        1   \n",
       "\n",
       "           RFM_Segment  RFM_Score  RFM_Score_Category  \n",
       "CustomerID                                             \n",
       "14865.0            111          3                   0  \n",
       "15992.0            111          3                   0  \n",
       "16569.0            111          3                   0  \n",
       "16597.0            111          3                   0  \n",
       "16620.0            111          3                   0  \n",
       "16789.0            111          3                   0  \n",
       "16988.0            111          3                   0  \n",
       "17737.0            111          3                   0  \n",
       "17942.0            111          3                   0  \n",
       "18174.0            111          3                   0  "
      ]
     },
     "execution_count": 51,
     "metadata": {},
     "output_type": "execute_result"
    }
   ],
   "source": [
    "# the very tail end of the rfm table\n",
    "rfm.tail(10)"
   ]
  },
  {
   "cell_type": "markdown",
   "metadata": {
    "cell_id": "6e09e822043d4d8cbd890f47a9797eb1",
    "deepnote_cell_type": "markdown"
   },
   "source": [
    "`"
   ]
  },
  {
   "cell_type": "code",
   "execution_count": 52,
   "metadata": {
    "cell_id": "e5d0f6abd17b4e21891ecfc6814cd2da",
    "deepnote_cell_type": "code",
    "deepnote_to_be_reexecuted": false,
    "execution_millis": 7,
    "execution_start": 1687589156997,
    "source_hash": "b45382bf"
   },
   "outputs": [
    {
     "data": {
      "application/vnd.deepnote.dataframe.v3+json": {
       "column_count": 9,
       "columns": [
        {
         "dtype": "int64",
         "name": "Recency",
         "stats": {
          "histogram": [
           {
            "bin_end": 254,
            "bin_start": 241,
            "count": 1
           },
           {
            "bin_end": 267,
            "bin_start": 254,
            "count": 0
           },
           {
            "bin_end": 280,
            "bin_start": 267,
            "count": 1
           },
           {
            "bin_end": 293,
            "bin_start": 280,
            "count": 0
           },
           {
            "bin_end": 306,
            "bin_start": 293,
            "count": 1
           },
           {
            "bin_end": 319,
            "bin_start": 306,
            "count": 0
           },
           {
            "bin_end": 332,
            "bin_start": 319,
            "count": 0
           },
           {
            "bin_end": 345,
            "bin_start": 332,
            "count": 1
           },
           {
            "bin_end": 358,
            "bin_start": 345,
            "count": 0
           },
           {
            "bin_end": 371,
            "bin_start": 358,
            "count": 1
           }
          ],
          "max": "371",
          "min": "241",
          "nan_count": 0,
          "unique_count": 5
         }
        },
        {
         "dtype": "int64",
         "name": "Frequency",
         "stats": {
          "histogram": [
           {
            "bin_end": 163.8,
            "bin_start": 149,
            "count": 2
           },
           {
            "bin_end": 178.6,
            "bin_start": 163.8,
            "count": 1
           },
           {
            "bin_end": 193.4,
            "bin_start": 178.6,
            "count": 0
           },
           {
            "bin_end": 208.2,
            "bin_start": 193.4,
            "count": 1
           },
           {
            "bin_end": 223,
            "bin_start": 208.2,
            "count": 0
           },
           {
            "bin_end": 237.8,
            "bin_start": 223,
            "count": 0
           },
           {
            "bin_end": 252.60000000000002,
            "bin_start": 237.8,
            "count": 0
           },
           {
            "bin_end": 267.4,
            "bin_start": 252.60000000000002,
            "count": 0
           },
           {
            "bin_end": 282.20000000000005,
            "bin_start": 267.4,
            "count": 0
           },
           {
            "bin_end": 297,
            "bin_start": 282.20000000000005,
            "count": 1
           }
          ],
          "max": "297",
          "min": "149",
          "nan_count": 0,
          "unique_count": 5
         }
        },
        {
         "dtype": "float64",
         "name": "Monetary",
         "stats": {
          "histogram": [
           {
            "bin_end": 1926.238,
            "bin_start": 1269.9900000000002,
            "count": 1
           },
           {
            "bin_end": 2582.486,
            "bin_start": 1926.238,
            "count": 1
           },
           {
            "bin_end": 3238.7339999999995,
            "bin_start": 2582.486,
            "count": 0
           },
           {
            "bin_end": 3894.9819999999995,
            "bin_start": 3238.7339999999995,
            "count": 1
           },
           {
            "bin_end": 4551.23,
            "bin_start": 3894.9819999999995,
            "count": 0
           },
           {
            "bin_end": 5207.477999999999,
            "bin_start": 4551.23,
            "count": 0
           },
           {
            "bin_end": 5863.725999999999,
            "bin_start": 5207.477999999999,
            "count": 1
           },
           {
            "bin_end": 6519.973999999998,
            "bin_start": 5863.725999999999,
            "count": 0
           },
           {
            "bin_end": 7176.221999999998,
            "bin_start": 6519.973999999998,
            "count": 0
           },
           {
            "bin_end": 7832.469999999998,
            "bin_start": 7176.221999999998,
            "count": 1
           }
          ],
          "max": "7832.469999999998",
          "min": "1269.9900000000002",
          "nan_count": 0,
          "unique_count": 5
         }
        },
        {
         "dtype": "int64",
         "name": "R_Score",
         "stats": {
          "histogram": [
           {
            "bin_end": 6.6,
            "bin_start": 6.5,
            "count": 0
           },
           {
            "bin_end": 6.7,
            "bin_start": 6.6,
            "count": 0
           },
           {
            "bin_end": 6.8,
            "bin_start": 6.7,
            "count": 0
           },
           {
            "bin_end": 6.9,
            "bin_start": 6.8,
            "count": 0
           },
           {
            "bin_end": 7,
            "bin_start": 6.9,
            "count": 0
           },
           {
            "bin_end": 7.1,
            "bin_start": 7,
            "count": 5
           },
           {
            "bin_end": 7.2,
            "bin_start": 7.1,
            "count": 0
           },
           {
            "bin_end": 7.3,
            "bin_start": 7.2,
            "count": 0
           },
           {
            "bin_end": 7.4,
            "bin_start": 7.3,
            "count": 0
           },
           {
            "bin_end": 7.5,
            "bin_start": 7.4,
            "count": 0
           }
          ],
          "max": "7",
          "min": "7",
          "nan_count": 0,
          "unique_count": 1
         }
        },
        {
         "dtype": "int64",
         "name": "F_Score",
         "stats": {
          "histogram": [
           {
            "bin_end": 6.1,
            "bin_start": 6,
            "count": 2
           },
           {
            "bin_end": 6.2,
            "bin_start": 6.1,
            "count": 0
           },
           {
            "bin_end": 6.3,
            "bin_start": 6.2,
            "count": 0
           },
           {
            "bin_end": 6.4,
            "bin_start": 6.3,
            "count": 0
           },
           {
            "bin_end": 6.5,
            "bin_start": 6.4,
            "count": 0
           },
           {
            "bin_end": 6.6,
            "bin_start": 6.5,
            "count": 0
           },
           {
            "bin_end": 6.7,
            "bin_start": 6.6,
            "count": 0
           },
           {
            "bin_end": 6.8,
            "bin_start": 6.7,
            "count": 0
           },
           {
            "bin_end": 6.9,
            "bin_start": 6.8,
            "count": 0
           },
           {
            "bin_end": 7,
            "bin_start": 6.9,
            "count": 3
           }
          ],
          "max": "7",
          "min": "6",
          "nan_count": 0,
          "unique_count": 2
         }
        },
        {
         "dtype": "int64",
         "name": "M_Score",
         "stats": {
          "histogram": [
           {
            "bin_end": 5.2,
            "bin_start": 5,
            "count": 1
           },
           {
            "bin_end": 5.4,
            "bin_start": 5.2,
            "count": 0
           },
           {
            "bin_end": 5.6,
            "bin_start": 5.4,
            "count": 0
           },
           {
            "bin_end": 5.8,
            "bin_start": 5.6,
            "count": 0
           },
           {
            "bin_end": 6,
            "bin_start": 5.8,
            "count": 0
           },
           {
            "bin_end": 6.2,
            "bin_start": 6,
            "count": 1
           },
           {
            "bin_end": 6.4,
            "bin_start": 6.2,
            "count": 0
           },
           {
            "bin_end": 6.6,
            "bin_start": 6.4,
            "count": 0
           },
           {
            "bin_end": 6.8,
            "bin_start": 6.6,
            "count": 0
           },
           {
            "bin_end": 7,
            "bin_start": 6.8,
            "count": 3
           }
          ],
          "max": "7",
          "min": "5",
          "nan_count": 0,
          "unique_count": 3
         }
        },
        {
         "dtype": "object",
         "name": "RFM_Segment",
         "stats": {
          "categories": [
           {
            "count": 2,
            "name": "777"
           },
           {
            "count": 1,
            "name": "775"
           },
           {
            "count": 2,
            "name": "2 others"
           }
          ],
          "nan_count": 0,
          "unique_count": 4
         }
        },
        {
         "dtype": "int64",
         "name": "RFM_Score",
         "stats": {
          "histogram": [
           {
            "bin_end": 19.2,
            "bin_start": 19,
            "count": 2
           },
           {
            "bin_end": 19.4,
            "bin_start": 19.2,
            "count": 0
           },
           {
            "bin_end": 19.6,
            "bin_start": 19.4,
            "count": 0
           },
           {
            "bin_end": 19.8,
            "bin_start": 19.6,
            "count": 0
           },
           {
            "bin_end": 20,
            "bin_start": 19.8,
            "count": 0
           },
           {
            "bin_end": 20.2,
            "bin_start": 20,
            "count": 1
           },
           {
            "bin_end": 20.4,
            "bin_start": 20.2,
            "count": 0
           },
           {
            "bin_end": 20.6,
            "bin_start": 20.4,
            "count": 0
           },
           {
            "bin_end": 20.8,
            "bin_start": 20.6,
            "count": 0
           },
           {
            "bin_end": 21,
            "bin_start": 20.8,
            "count": 2
           }
          ],
          "max": "21",
          "min": "19",
          "nan_count": 0,
          "unique_count": 3
         }
        },
        {
         "dtype": "int64",
         "name": "RFM_Score_Category",
         "stats": {
          "histogram": [
           {
            "bin_end": 5.1,
            "bin_start": 5,
            "count": 2
           },
           {
            "bin_end": 5.2,
            "bin_start": 5.1,
            "count": 0
           },
           {
            "bin_end": 5.3,
            "bin_start": 5.2,
            "count": 0
           },
           {
            "bin_end": 5.4,
            "bin_start": 5.3,
            "count": 0
           },
           {
            "bin_end": 5.5,
            "bin_start": 5.4,
            "count": 0
           },
           {
            "bin_end": 5.6,
            "bin_start": 5.5,
            "count": 0
           },
           {
            "bin_end": 5.7,
            "bin_start": 5.6,
            "count": 0
           },
           {
            "bin_end": 5.8,
            "bin_start": 5.7,
            "count": 0
           },
           {
            "bin_end": 5.9,
            "bin_start": 5.8,
            "count": 0
           },
           {
            "bin_end": 6,
            "bin_start": 5.9,
            "count": 3
           }
          ],
          "max": "6",
          "min": "5",
          "nan_count": 0,
          "unique_count": 2
         }
        },
        {
         "dtype": "float64",
         "name": "_deepnote_index_column"
        }
       ],
       "row_count": 5,
       "rows": [
        {
         "F_Score": 7,
         "Frequency": 208,
         "M_Score": 7,
         "Monetary": 3734.970000000001,
         "RFM_Score": 21,
         "RFM_Score_Category": 6,
         "RFM_Segment": "777",
         "R_Score": 7,
         "Recency": 305,
         "_deepnote_index_column": 15808
        },
        {
         "F_Score": 7,
         "Frequency": 297,
         "M_Score": 7,
         "Monetary": 5391.210000000009,
         "RFM_Score": 21,
         "RFM_Score_Category": 6,
         "RFM_Segment": "777",
         "R_Score": 7,
         "Recency": 371,
         "_deepnote_index_column": 17850
        },
        {
         "F_Score": 7,
         "Frequency": 170,
         "M_Score": 5,
         "Monetary": 1269.9900000000002,
         "RFM_Score": 19,
         "RFM_Score_Category": 5,
         "RFM_Segment": "775",
         "R_Score": 7,
         "Recency": 241,
         "_deepnote_index_column": 14669
        },
        {
         "F_Score": 6,
         "Frequency": 159,
         "M_Score": 7,
         "Monetary": 7832.469999999998,
         "RFM_Score": 20,
         "RFM_Score_Category": 6,
         "RFM_Segment": "767",
         "R_Score": 7,
         "Recency": 275,
         "_deepnote_index_column": 13093
        },
        {
         "F_Score": 6,
         "Frequency": 149,
         "M_Score": 6,
         "Monetary": 2169.3899999999994,
         "RFM_Score": 19,
         "RFM_Score_Category": 5,
         "RFM_Segment": "766",
         "R_Score": 7,
         "Recency": 336,
         "_deepnote_index_column": 12501
        }
       ]
      },
      "text/html": [
       "<div>\n",
       "<style scoped>\n",
       "    .dataframe tbody tr th:only-of-type {\n",
       "        vertical-align: middle;\n",
       "    }\n",
       "\n",
       "    .dataframe tbody tr th {\n",
       "        vertical-align: top;\n",
       "    }\n",
       "\n",
       "    .dataframe thead th {\n",
       "        text-align: right;\n",
       "    }\n",
       "</style>\n",
       "<table border=\"1\" class=\"dataframe\">\n",
       "  <thead>\n",
       "    <tr style=\"text-align: right;\">\n",
       "      <th></th>\n",
       "      <th>Recency</th>\n",
       "      <th>Frequency</th>\n",
       "      <th>Monetary</th>\n",
       "      <th>R_Score</th>\n",
       "      <th>F_Score</th>\n",
       "      <th>M_Score</th>\n",
       "      <th>RFM_Segment</th>\n",
       "      <th>RFM_Score</th>\n",
       "      <th>RFM_Score_Category</th>\n",
       "    </tr>\n",
       "    <tr>\n",
       "      <th>CustomerID</th>\n",
       "      <th></th>\n",
       "      <th></th>\n",
       "      <th></th>\n",
       "      <th></th>\n",
       "      <th></th>\n",
       "      <th></th>\n",
       "      <th></th>\n",
       "      <th></th>\n",
       "      <th></th>\n",
       "    </tr>\n",
       "  </thead>\n",
       "  <tbody>\n",
       "    <tr>\n",
       "      <th>15808.0</th>\n",
       "      <td>305</td>\n",
       "      <td>208</td>\n",
       "      <td>3734.97</td>\n",
       "      <td>7</td>\n",
       "      <td>7</td>\n",
       "      <td>7</td>\n",
       "      <td>777</td>\n",
       "      <td>21</td>\n",
       "      <td>6</td>\n",
       "    </tr>\n",
       "    <tr>\n",
       "      <th>17850.0</th>\n",
       "      <td>371</td>\n",
       "      <td>297</td>\n",
       "      <td>5391.21</td>\n",
       "      <td>7</td>\n",
       "      <td>7</td>\n",
       "      <td>7</td>\n",
       "      <td>777</td>\n",
       "      <td>21</td>\n",
       "      <td>6</td>\n",
       "    </tr>\n",
       "    <tr>\n",
       "      <th>14669.0</th>\n",
       "      <td>241</td>\n",
       "      <td>170</td>\n",
       "      <td>1269.99</td>\n",
       "      <td>7</td>\n",
       "      <td>7</td>\n",
       "      <td>5</td>\n",
       "      <td>775</td>\n",
       "      <td>19</td>\n",
       "      <td>5</td>\n",
       "    </tr>\n",
       "    <tr>\n",
       "      <th>13093.0</th>\n",
       "      <td>275</td>\n",
       "      <td>159</td>\n",
       "      <td>7832.47</td>\n",
       "      <td>7</td>\n",
       "      <td>6</td>\n",
       "      <td>7</td>\n",
       "      <td>767</td>\n",
       "      <td>20</td>\n",
       "      <td>6</td>\n",
       "    </tr>\n",
       "    <tr>\n",
       "      <th>12501.0</th>\n",
       "      <td>336</td>\n",
       "      <td>149</td>\n",
       "      <td>2169.39</td>\n",
       "      <td>7</td>\n",
       "      <td>6</td>\n",
       "      <td>6</td>\n",
       "      <td>766</td>\n",
       "      <td>19</td>\n",
       "      <td>5</td>\n",
       "    </tr>\n",
       "  </tbody>\n",
       "</table>\n",
       "</div>"
      ],
      "text/plain": [
       "            Recency  Frequency  Monetary  R_Score  F_Score  M_Score  \\\n",
       "CustomerID                                                            \n",
       "15808.0         305        208   3734.97        7        7        7   \n",
       "17850.0         371        297   5391.21        7        7        7   \n",
       "14669.0         241        170   1269.99        7        7        5   \n",
       "13093.0         275        159   7832.47        7        6        7   \n",
       "12501.0         336        149   2169.39        7        6        6   \n",
       "\n",
       "           RFM_Segment  RFM_Score  RFM_Score_Category  \n",
       "CustomerID                                             \n",
       "15808.0            777         21                   6  \n",
       "17850.0            777         21                   6  \n",
       "14669.0            775         19                   5  \n",
       "13093.0            767         20                   6  \n",
       "12501.0            766         19                   5  "
      ]
     },
     "execution_count": 52,
     "metadata": {},
     "output_type": "execute_result"
    }
   ],
   "source": [
    "rfm.head()"
   ]
  },
  {
   "cell_type": "code",
   "execution_count": 54,
   "metadata": {
    "cell_id": "fe82e574031c4c32803c0f5483af5673",
    "deepnote_cell_type": "code",
    "deepnote_to_be_reexecuted": false,
    "execution_millis": 3,
    "execution_start": 1687589219010,
    "source_hash": "238ddf0c"
   },
   "outputs": [
    {
     "data": {
      "application/vnd.deepnote.dataframe.v3+json": {
       "column_count": 9,
       "columns": [
        {
         "dtype": "int64",
         "name": "Recency",
         "stats": {
          "histogram": [
           {
            "bin_end": 1.7,
            "bin_start": 1,
            "count": 1
           },
           {
            "bin_end": 2.4,
            "bin_start": 1.7,
            "count": 1
           },
           {
            "bin_end": 3.0999999999999996,
            "bin_start": 2.4,
            "count": 4
           },
           {
            "bin_end": 3.8,
            "bin_start": 3.0999999999999996,
            "count": 0
           },
           {
            "bin_end": 4.5,
            "bin_start": 3.8,
            "count": 1
           },
           {
            "bin_end": 5.199999999999999,
            "bin_start": 4.5,
            "count": 1
           },
           {
            "bin_end": 5.8999999999999995,
            "bin_start": 5.199999999999999,
            "count": 0
           },
           {
            "bin_end": 6.6,
            "bin_start": 5.8999999999999995,
            "count": 2
           },
           {
            "bin_end": 7.3,
            "bin_start": 6.6,
            "count": 4
           },
           {
            "bin_end": 8,
            "bin_start": 7.3,
            "count": 1
           }
          ],
          "max": "8",
          "min": "1",
          "nan_count": 0,
          "unique_count": 8
         }
        },
        {
         "dtype": "int64",
         "name": "Frequency",
         "stats": {
          "histogram": [
           {
            "bin_end": 1.9,
            "bin_start": 1,
            "count": 1
           },
           {
            "bin_end": 2.8,
            "bin_start": 1.9,
            "count": 1
           },
           {
            "bin_end": 3.7,
            "bin_start": 2.8,
            "count": 2
           },
           {
            "bin_end": 4.6,
            "bin_start": 3.7,
            "count": 2
           },
           {
            "bin_end": 5.5,
            "bin_start": 4.6,
            "count": 2
           },
           {
            "bin_end": 6.4,
            "bin_start": 5.5,
            "count": 0
           },
           {
            "bin_end": 7.3,
            "bin_start": 6.4,
            "count": 3
           },
           {
            "bin_end": 8.2,
            "bin_start": 7.3,
            "count": 0
           },
           {
            "bin_end": 9.1,
            "bin_start": 8.2,
            "count": 3
           },
           {
            "bin_end": 10,
            "bin_start": 9.1,
            "count": 1
           }
          ],
          "max": "10",
          "min": "1",
          "nan_count": 0,
          "unique_count": 8
         }
        },
        {
         "dtype": "float64",
         "name": "Monetary",
         "stats": {
          "histogram": [
           {
            "bin_end": 58.190999999999995,
            "bin_start": 41.989999999999995,
            "count": 2
           },
           {
            "bin_end": 74.392,
            "bin_start": 58.190999999999995,
            "count": 0
           },
           {
            "bin_end": 90.59299999999999,
            "bin_start": 74.392,
            "count": 4
           },
           {
            "bin_end": 106.794,
            "bin_start": 90.59299999999999,
            "count": 1
           },
           {
            "bin_end": 122.99499999999999,
            "bin_start": 106.794,
            "count": 0
           },
           {
            "bin_end": 139.196,
            "bin_start": 122.99499999999999,
            "count": 2
           },
           {
            "bin_end": 155.397,
            "bin_start": 139.196,
            "count": 1
           },
           {
            "bin_end": 171.598,
            "bin_start": 155.397,
            "count": 2
           },
           {
            "bin_end": 187.79899999999998,
            "bin_start": 171.598,
            "count": 2
           },
           {
            "bin_end": 204,
            "bin_start": 187.79899999999998,
            "count": 1
           }
          ],
          "max": "204.0",
          "min": "41.989999999999995",
          "nan_count": 0,
          "unique_count": 15
         }
        },
        {
         "dtype": "int64",
         "name": "R_Score",
         "stats": {
          "histogram": [
           {
            "bin_end": 0.6,
            "bin_start": 0.5,
            "count": 0
           },
           {
            "bin_end": 0.7,
            "bin_start": 0.6,
            "count": 0
           },
           {
            "bin_end": 0.8,
            "bin_start": 0.7,
            "count": 0
           },
           {
            "bin_end": 0.9,
            "bin_start": 0.8,
            "count": 0
           },
           {
            "bin_end": 1,
            "bin_start": 0.9,
            "count": 0
           },
           {
            "bin_end": 1.1,
            "bin_start": 1,
            "count": 15
           },
           {
            "bin_end": 1.2000000000000002,
            "bin_start": 1.1,
            "count": 0
           },
           {
            "bin_end": 1.3,
            "bin_start": 1.2000000000000002,
            "count": 0
           },
           {
            "bin_end": 1.4,
            "bin_start": 1.3,
            "count": 0
           },
           {
            "bin_end": 1.5,
            "bin_start": 1.4,
            "count": 0
           }
          ],
          "max": "1",
          "min": "1",
          "nan_count": 0,
          "unique_count": 1
         }
        },
        {
         "dtype": "int64",
         "name": "F_Score",
         "stats": {
          "histogram": [
           {
            "bin_end": 0.6,
            "bin_start": 0.5,
            "count": 0
           },
           {
            "bin_end": 0.7,
            "bin_start": 0.6,
            "count": 0
           },
           {
            "bin_end": 0.8,
            "bin_start": 0.7,
            "count": 0
           },
           {
            "bin_end": 0.9,
            "bin_start": 0.8,
            "count": 0
           },
           {
            "bin_end": 1,
            "bin_start": 0.9,
            "count": 0
           },
           {
            "bin_end": 1.1,
            "bin_start": 1,
            "count": 15
           },
           {
            "bin_end": 1.2000000000000002,
            "bin_start": 1.1,
            "count": 0
           },
           {
            "bin_end": 1.3,
            "bin_start": 1.2000000000000002,
            "count": 0
           },
           {
            "bin_end": 1.4,
            "bin_start": 1.3,
            "count": 0
           },
           {
            "bin_end": 1.5,
            "bin_start": 1.4,
            "count": 0
           }
          ],
          "max": "1",
          "min": "1",
          "nan_count": 0,
          "unique_count": 1
         }
        },
        {
         "dtype": "int64",
         "name": "M_Score",
         "stats": {
          "histogram": [
           {
            "bin_end": 1.1,
            "bin_start": 1,
            "count": 14
           },
           {
            "bin_end": 1.2,
            "bin_start": 1.1,
            "count": 0
           },
           {
            "bin_end": 1.3,
            "bin_start": 1.2,
            "count": 0
           },
           {
            "bin_end": 1.4,
            "bin_start": 1.3,
            "count": 0
           },
           {
            "bin_end": 1.5,
            "bin_start": 1.4,
            "count": 0
           },
           {
            "bin_end": 1.6,
            "bin_start": 1.5,
            "count": 0
           },
           {
            "bin_end": 1.7000000000000002,
            "bin_start": 1.6,
            "count": 0
           },
           {
            "bin_end": 1.8,
            "bin_start": 1.7000000000000002,
            "count": 0
           },
           {
            "bin_end": 1.9,
            "bin_start": 1.8,
            "count": 0
           },
           {
            "bin_end": 2,
            "bin_start": 1.9,
            "count": 1
           }
          ],
          "max": "2",
          "min": "1",
          "nan_count": 0,
          "unique_count": 2
         }
        },
        {
         "dtype": "object",
         "name": "RFM_Segment",
         "stats": {
          "categories": [
           {
            "count": 14,
            "name": "111"
           },
           {
            "count": 1,
            "name": "112"
           }
          ],
          "nan_count": 0,
          "unique_count": 2
         }
        },
        {
         "dtype": "int64",
         "name": "RFM_Score",
         "stats": {
          "histogram": [
           {
            "bin_end": 3.1,
            "bin_start": 3,
            "count": 14
           },
           {
            "bin_end": 3.2,
            "bin_start": 3.1,
            "count": 0
           },
           {
            "bin_end": 3.3,
            "bin_start": 3.2,
            "count": 0
           },
           {
            "bin_end": 3.4,
            "bin_start": 3.3,
            "count": 0
           },
           {
            "bin_end": 3.5,
            "bin_start": 3.4,
            "count": 0
           },
           {
            "bin_end": 3.6,
            "bin_start": 3.5,
            "count": 0
           },
           {
            "bin_end": 3.7,
            "bin_start": 3.6,
            "count": 0
           },
           {
            "bin_end": 3.8,
            "bin_start": 3.7,
            "count": 0
           },
           {
            "bin_end": 3.9,
            "bin_start": 3.8,
            "count": 0
           },
           {
            "bin_end": 4,
            "bin_start": 3.9,
            "count": 1
           }
          ],
          "max": "4",
          "min": "3",
          "nan_count": 0,
          "unique_count": 2
         }
        },
        {
         "dtype": "int64",
         "name": "RFM_Score_Category",
         "stats": {
          "histogram": [
           {
            "bin_end": -0.4,
            "bin_start": -0.5,
            "count": 0
           },
           {
            "bin_end": -0.3,
            "bin_start": -0.4,
            "count": 0
           },
           {
            "bin_end": -0.19999999999999996,
            "bin_start": -0.3,
            "count": 0
           },
           {
            "bin_end": -0.09999999999999998,
            "bin_start": -0.19999999999999996,
            "count": 0
           },
           {
            "bin_end": 0,
            "bin_start": -0.09999999999999998,
            "count": 0
           },
           {
            "bin_end": 0.10000000000000009,
            "bin_start": 0,
            "count": 15
           },
           {
            "bin_end": 0.20000000000000007,
            "bin_start": 0.10000000000000009,
            "count": 0
           },
           {
            "bin_end": 0.30000000000000004,
            "bin_start": 0.20000000000000007,
            "count": 0
           },
           {
            "bin_end": 0.4,
            "bin_start": 0.30000000000000004,
            "count": 0
           },
           {
            "bin_end": 0.5,
            "bin_start": 0.4,
            "count": 0
           }
          ],
          "max": "0",
          "min": "0",
          "nan_count": 0,
          "unique_count": 1
         }
        },
        {
         "dtype": "float64",
         "name": "_deepnote_index_column"
        }
       ],
       "row_count": 15,
       "rows": [
        {
         "F_Score": 1,
         "Frequency": 3,
         "M_Score": 2,
         "Monetary": 204,
         "RFM_Score": 4,
         "RFM_Score_Category": 0,
         "RFM_Segment": "112",
         "R_Score": 1,
         "Recency": 1,
         "_deepnote_index_column": 18273
        },
        {
         "F_Score": 1,
         "Frequency": 4,
         "M_Score": 1,
         "Monetary": 144,
         "RFM_Score": 3,
         "RFM_Score_Category": 0,
         "RFM_Segment": "111",
         "R_Score": 1,
         "Recency": 7,
         "_deepnote_index_column": 12587
        },
        {
         "F_Score": 1,
         "Frequency": 7,
         "M_Score": 1,
         "Monetary": 89.94,
         "RFM_Score": 3,
         "RFM_Score_Category": 0,
         "RFM_Segment": "111",
         "R_Score": 1,
         "Recency": 3,
         "_deepnote_index_column": 14219
        },
        {
         "F_Score": 1,
         "Frequency": 9,
         "M_Score": 1,
         "Monetary": 176.63,
         "RFM_Score": 3,
         "RFM_Score_Category": 0,
         "RFM_Segment": "111",
         "R_Score": 1,
         "Recency": 7,
         "_deepnote_index_column": 14287
        },
        {
         "F_Score": 1,
         "Frequency": 9,
         "M_Score": 1,
         "Monetary": 163.62,
         "RFM_Score": 3,
         "RFM_Score_Category": 0,
         "RFM_Segment": "111",
         "R_Score": 1,
         "Recency": 5,
         "_deepnote_index_column": 14354
        },
        {
         "F_Score": 1,
         "Frequency": 4,
         "M_Score": 1,
         "Monetary": 52.2,
         "RFM_Score": 3,
         "RFM_Score_Category": 0,
         "RFM_Segment": "111",
         "R_Score": 1,
         "Recency": 6,
         "_deepnote_index_column": 14865
        },
        {
         "F_Score": 1,
         "Frequency": 3,
         "M_Score": 1,
         "Monetary": 41.989999999999995,
         "RFM_Score": 3,
         "RFM_Score_Category": 0,
         "RFM_Segment": "111",
         "R_Score": 1,
         "Recency": 3,
         "_deepnote_index_column": 15992
        },
        {
         "F_Score": 1,
         "Frequency": 5,
         "M_Score": 1,
         "Monetary": 124.2,
         "RFM_Score": 3,
         "RFM_Score_Category": 0,
         "RFM_Segment": "111",
         "R_Score": 1,
         "Recency": 2,
         "_deepnote_index_column": 16569
        },
        {
         "F_Score": 1,
         "Frequency": 7,
         "M_Score": 1,
         "Monetary": 90.04000000000002,
         "RFM_Score": 3,
         "RFM_Score_Category": 0,
         "RFM_Segment": "111",
         "R_Score": 1,
         "Recency": 3,
         "_deepnote_index_column": 16597
        },
        {
         "F_Score": 1,
         "Frequency": 9,
         "M_Score": 1,
         "Monetary": 178.96000000000004,
         "RFM_Score": 3,
         "RFM_Score_Category": 0,
         "RFM_Segment": "111",
         "R_Score": 1,
         "Recency": 3,
         "_deepnote_index_column": 16620
        }
       ]
      },
      "text/html": [
       "<div>\n",
       "<style scoped>\n",
       "    .dataframe tbody tr th:only-of-type {\n",
       "        vertical-align: middle;\n",
       "    }\n",
       "\n",
       "    .dataframe tbody tr th {\n",
       "        vertical-align: top;\n",
       "    }\n",
       "\n",
       "    .dataframe thead th {\n",
       "        text-align: right;\n",
       "    }\n",
       "</style>\n",
       "<table border=\"1\" class=\"dataframe\">\n",
       "  <thead>\n",
       "    <tr style=\"text-align: right;\">\n",
       "      <th></th>\n",
       "      <th>Recency</th>\n",
       "      <th>Frequency</th>\n",
       "      <th>Monetary</th>\n",
       "      <th>R_Score</th>\n",
       "      <th>F_Score</th>\n",
       "      <th>M_Score</th>\n",
       "      <th>RFM_Segment</th>\n",
       "      <th>RFM_Score</th>\n",
       "      <th>RFM_Score_Category</th>\n",
       "    </tr>\n",
       "    <tr>\n",
       "      <th>CustomerID</th>\n",
       "      <th></th>\n",
       "      <th></th>\n",
       "      <th></th>\n",
       "      <th></th>\n",
       "      <th></th>\n",
       "      <th></th>\n",
       "      <th></th>\n",
       "      <th></th>\n",
       "      <th></th>\n",
       "    </tr>\n",
       "  </thead>\n",
       "  <tbody>\n",
       "    <tr>\n",
       "      <th>18273.0</th>\n",
       "      <td>1</td>\n",
       "      <td>3</td>\n",
       "      <td>204.00</td>\n",
       "      <td>1</td>\n",
       "      <td>1</td>\n",
       "      <td>2</td>\n",
       "      <td>112</td>\n",
       "      <td>4</td>\n",
       "      <td>0</td>\n",
       "    </tr>\n",
       "    <tr>\n",
       "      <th>12587.0</th>\n",
       "      <td>7</td>\n",
       "      <td>4</td>\n",
       "      <td>144.00</td>\n",
       "      <td>1</td>\n",
       "      <td>1</td>\n",
       "      <td>1</td>\n",
       "      <td>111</td>\n",
       "      <td>3</td>\n",
       "      <td>0</td>\n",
       "    </tr>\n",
       "    <tr>\n",
       "      <th>14219.0</th>\n",
       "      <td>3</td>\n",
       "      <td>7</td>\n",
       "      <td>89.94</td>\n",
       "      <td>1</td>\n",
       "      <td>1</td>\n",
       "      <td>1</td>\n",
       "      <td>111</td>\n",
       "      <td>3</td>\n",
       "      <td>0</td>\n",
       "    </tr>\n",
       "    <tr>\n",
       "      <th>14287.0</th>\n",
       "      <td>7</td>\n",
       "      <td>9</td>\n",
       "      <td>176.63</td>\n",
       "      <td>1</td>\n",
       "      <td>1</td>\n",
       "      <td>1</td>\n",
       "      <td>111</td>\n",
       "      <td>3</td>\n",
       "      <td>0</td>\n",
       "    </tr>\n",
       "    <tr>\n",
       "      <th>14354.0</th>\n",
       "      <td>5</td>\n",
       "      <td>9</td>\n",
       "      <td>163.62</td>\n",
       "      <td>1</td>\n",
       "      <td>1</td>\n",
       "      <td>1</td>\n",
       "      <td>111</td>\n",
       "      <td>3</td>\n",
       "      <td>0</td>\n",
       "    </tr>\n",
       "    <tr>\n",
       "      <th>14865.0</th>\n",
       "      <td>6</td>\n",
       "      <td>4</td>\n",
       "      <td>52.20</td>\n",
       "      <td>1</td>\n",
       "      <td>1</td>\n",
       "      <td>1</td>\n",
       "      <td>111</td>\n",
       "      <td>3</td>\n",
       "      <td>0</td>\n",
       "    </tr>\n",
       "    <tr>\n",
       "      <th>15992.0</th>\n",
       "      <td>3</td>\n",
       "      <td>3</td>\n",
       "      <td>41.99</td>\n",
       "      <td>1</td>\n",
       "      <td>1</td>\n",
       "      <td>1</td>\n",
       "      <td>111</td>\n",
       "      <td>3</td>\n",
       "      <td>0</td>\n",
       "    </tr>\n",
       "    <tr>\n",
       "      <th>16569.0</th>\n",
       "      <td>2</td>\n",
       "      <td>5</td>\n",
       "      <td>124.20</td>\n",
       "      <td>1</td>\n",
       "      <td>1</td>\n",
       "      <td>1</td>\n",
       "      <td>111</td>\n",
       "      <td>3</td>\n",
       "      <td>0</td>\n",
       "    </tr>\n",
       "    <tr>\n",
       "      <th>16597.0</th>\n",
       "      <td>3</td>\n",
       "      <td>7</td>\n",
       "      <td>90.04</td>\n",
       "      <td>1</td>\n",
       "      <td>1</td>\n",
       "      <td>1</td>\n",
       "      <td>111</td>\n",
       "      <td>3</td>\n",
       "      <td>0</td>\n",
       "    </tr>\n",
       "    <tr>\n",
       "      <th>16620.0</th>\n",
       "      <td>3</td>\n",
       "      <td>9</td>\n",
       "      <td>178.96</td>\n",
       "      <td>1</td>\n",
       "      <td>1</td>\n",
       "      <td>1</td>\n",
       "      <td>111</td>\n",
       "      <td>3</td>\n",
       "      <td>0</td>\n",
       "    </tr>\n",
       "    <tr>\n",
       "      <th>16789.0</th>\n",
       "      <td>7</td>\n",
       "      <td>5</td>\n",
       "      <td>80.80</td>\n",
       "      <td>1</td>\n",
       "      <td>1</td>\n",
       "      <td>1</td>\n",
       "      <td>111</td>\n",
       "      <td>3</td>\n",
       "      <td>0</td>\n",
       "    </tr>\n",
       "    <tr>\n",
       "      <th>16988.0</th>\n",
       "      <td>4</td>\n",
       "      <td>7</td>\n",
       "      <td>126.12</td>\n",
       "      <td>1</td>\n",
       "      <td>1</td>\n",
       "      <td>1</td>\n",
       "      <td>111</td>\n",
       "      <td>3</td>\n",
       "      <td>0</td>\n",
       "    </tr>\n",
       "    <tr>\n",
       "      <th>17737.0</th>\n",
       "      <td>8</td>\n",
       "      <td>10</td>\n",
       "      <td>168.24</td>\n",
       "      <td>1</td>\n",
       "      <td>1</td>\n",
       "      <td>1</td>\n",
       "      <td>111</td>\n",
       "      <td>3</td>\n",
       "      <td>0</td>\n",
       "    </tr>\n",
       "    <tr>\n",
       "      <th>17942.0</th>\n",
       "      <td>7</td>\n",
       "      <td>2</td>\n",
       "      <td>77.50</td>\n",
       "      <td>1</td>\n",
       "      <td>1</td>\n",
       "      <td>1</td>\n",
       "      <td>111</td>\n",
       "      <td>3</td>\n",
       "      <td>0</td>\n",
       "    </tr>\n",
       "    <tr>\n",
       "      <th>18174.0</th>\n",
       "      <td>6</td>\n",
       "      <td>1</td>\n",
       "      <td>104.00</td>\n",
       "      <td>1</td>\n",
       "      <td>1</td>\n",
       "      <td>1</td>\n",
       "      <td>111</td>\n",
       "      <td>3</td>\n",
       "      <td>0</td>\n",
       "    </tr>\n",
       "  </tbody>\n",
       "</table>\n",
       "</div>"
      ],
      "text/plain": [
       "            Recency  Frequency  Monetary  R_Score  F_Score  M_Score  \\\n",
       "CustomerID                                                            \n",
       "18273.0           1          3    204.00        1        1        2   \n",
       "12587.0           7          4    144.00        1        1        1   \n",
       "14219.0           3          7     89.94        1        1        1   \n",
       "14287.0           7          9    176.63        1        1        1   \n",
       "14354.0           5          9    163.62        1        1        1   \n",
       "14865.0           6          4     52.20        1        1        1   \n",
       "15992.0           3          3     41.99        1        1        1   \n",
       "16569.0           2          5    124.20        1        1        1   \n",
       "16597.0           3          7     90.04        1        1        1   \n",
       "16620.0           3          9    178.96        1        1        1   \n",
       "16789.0           7          5     80.80        1        1        1   \n",
       "16988.0           4          7    126.12        1        1        1   \n",
       "17737.0           8         10    168.24        1        1        1   \n",
       "17942.0           7          2     77.50        1        1        1   \n",
       "18174.0           6          1    104.00        1        1        1   \n",
       "\n",
       "           RFM_Segment  RFM_Score  RFM_Score_Category  \n",
       "CustomerID                                             \n",
       "18273.0            112          4                   0  \n",
       "12587.0            111          3                   0  \n",
       "14219.0            111          3                   0  \n",
       "14287.0            111          3                   0  \n",
       "14354.0            111          3                   0  \n",
       "14865.0            111          3                   0  \n",
       "15992.0            111          3                   0  \n",
       "16569.0            111          3                   0  \n",
       "16597.0            111          3                   0  \n",
       "16620.0            111          3                   0  \n",
       "16789.0            111          3                   0  \n",
       "16988.0            111          3                   0  \n",
       "17737.0            111          3                   0  \n",
       "17942.0            111          3                   0  \n",
       "18174.0            111          3                   0  "
      ]
     },
     "execution_count": 54,
     "metadata": {},
     "output_type": "execute_result"
    }
   ],
   "source": [
    "rfm.tail(15)"
   ]
  },
  {
   "cell_type": "code",
   "execution_count": 55,
   "metadata": {
    "cell_id": "ae43864dbdce4a5785245262a7155b6f",
    "deepnote_cell_type": "code",
    "deepnote_to_be_reexecuted": false,
    "execution_millis": 6,
    "execution_start": 1687589221625,
    "source_hash": "6ff21b09"
   },
   "outputs": [
    {
     "name": "stdout",
     "output_type": "stream",
     "text": [
      "Category 0 has 48 Customers\n",
      "Category 1 has 342 Customers\n",
      "Category 2 has 1083 Customers\n",
      "Category 3 has 1331 Customers\n",
      "Category 4 has 1203 Customers\n",
      "Category 5 has 306 Customers\n",
      "Category 6 has 7 Customers\n"
     ]
    }
   ],
   "source": [
    "# function to print specify how many each category has\n",
    "def print_groupby_result(groupby_result):\n",
    "    for index, count in groupby_result.items():\n",
    "        print(\"Category\",index, 'has', count, 'Customers')\n",
    "        #print(\"Count:\", count)\n",
    "\n",
    "grouped = rfm.groupby('RFM_Score_Category')['RFM_Score_Category'].count()\n",
    "print_groupby_result(grouped)"
   ]
  },
  {
   "cell_type": "markdown",
   "metadata": {
    "cell_id": "19e49f21556540b4b4b28cdf49bd8214",
    "deepnote_cell_type": "markdown"
   },
   "source": [
    "<p>The data we cleaned has the above categories: while category 0 is the least promising, category 5 is the best category of all customers</p>"
   ]
  },
  {
   "cell_type": "code",
   "execution_count": 56,
   "metadata": {
    "cell_id": "1d17368eaa4e43ff8c4db690845b66ee",
    "deepnote_cell_type": "code",
    "deepnote_to_be_reexecuted": false,
    "execution_millis": 33,
    "execution_start": 1687589227353,
    "source_hash": "8045857b"
   },
   "outputs": [
    {
     "data": {
      "application/vnd.deepnote.dataframe.v3+json": {
       "column_count": 9,
       "columns": [
        {
         "dtype": "int64",
         "name": "Recency",
         "stats": {
          "histogram": [
           {
            "bin_end": 2.9,
            "bin_start": 1,
            "count": 5
           },
           {
            "bin_end": 4.8,
            "bin_start": 2.9,
            "count": 8
           },
           {
            "bin_end": 6.699999999999999,
            "bin_start": 4.8,
            "count": 4
           },
           {
            "bin_end": 8.6,
            "bin_start": 6.699999999999999,
            "count": 7
           },
           {
            "bin_end": 10.5,
            "bin_start": 8.6,
            "count": 7
           },
           {
            "bin_end": 12.399999999999999,
            "bin_start": 10.5,
            "count": 0
           },
           {
            "bin_end": 14.299999999999999,
            "bin_start": 12.399999999999999,
            "count": 4
           },
           {
            "bin_end": 16.2,
            "bin_start": 14.299999999999999,
            "count": 4
           },
           {
            "bin_end": 18.099999999999998,
            "bin_start": 16.2,
            "count": 6
           },
           {
            "bin_end": 20,
            "bin_start": 18.099999999999998,
            "count": 3
           }
          ],
          "max": "20",
          "min": "1",
          "nan_count": 0,
          "unique_count": 18
         }
        },
        {
         "dtype": "int64",
         "name": "Frequency",
         "stats": {
          "histogram": [
           {
            "bin_end": 2.1,
            "bin_start": 1,
            "count": 7
           },
           {
            "bin_end": 3.2,
            "bin_start": 2.1,
            "count": 10
           },
           {
            "bin_end": 4.300000000000001,
            "bin_start": 3.2,
            "count": 4
           },
           {
            "bin_end": 5.4,
            "bin_start": 4.300000000000001,
            "count": 4
           },
           {
            "bin_end": 6.5,
            "bin_start": 5.4,
            "count": 3
           },
           {
            "bin_end": 7.6000000000000005,
            "bin_start": 6.5,
            "count": 4
           },
           {
            "bin_end": 8.700000000000001,
            "bin_start": 7.6000000000000005,
            "count": 4
           },
           {
            "bin_end": 9.8,
            "bin_start": 8.700000000000001,
            "count": 6
           },
           {
            "bin_end": 10.9,
            "bin_start": 9.8,
            "count": 3
           },
           {
            "bin_end": 12,
            "bin_start": 10.9,
            "count": 3
           }
          ],
          "max": "12",
          "min": "1",
          "nan_count": 0,
          "unique_count": 12
         }
        },
        {
         "dtype": "float64",
         "name": "Monetary",
         "stats": {
          "histogram": [
           {
            "bin_end": 63.61300000000001,
            "bin_start": 35.400000000000006,
            "count": 6
           },
           {
            "bin_end": 91.82600000000001,
            "bin_start": 63.61300000000001,
            "count": 8
           },
           {
            "bin_end": 120.03900000000002,
            "bin_start": 91.82600000000001,
            "count": 8
           },
           {
            "bin_end": 148.252,
            "bin_start": 120.03900000000002,
            "count": 6
           },
           {
            "bin_end": 176.465,
            "bin_start": 148.252,
            "count": 7
           },
           {
            "bin_end": 204.67800000000003,
            "bin_start": 176.465,
            "count": 8
           },
           {
            "bin_end": 232.89100000000002,
            "bin_start": 204.67800000000003,
            "count": 3
           },
           {
            "bin_end": 261.10400000000004,
            "bin_start": 232.89100000000002,
            "count": 0
           },
           {
            "bin_end": 289.317,
            "bin_start": 261.10400000000004,
            "count": 1
           },
           {
            "bin_end": 317.53,
            "bin_start": 289.317,
            "count": 1
           }
          ],
          "max": "317.53",
          "min": "35.400000000000006",
          "nan_count": 0,
          "unique_count": 47
         }
        },
        {
         "dtype": "int64",
         "name": "R_Score",
         "stats": {
          "histogram": [
           {
            "bin_end": 1.1,
            "bin_start": 1,
            "count": 24
           },
           {
            "bin_end": 1.2,
            "bin_start": 1.1,
            "count": 0
           },
           {
            "bin_end": 1.3,
            "bin_start": 1.2,
            "count": 0
           },
           {
            "bin_end": 1.4,
            "bin_start": 1.3,
            "count": 0
           },
           {
            "bin_end": 1.5,
            "bin_start": 1.4,
            "count": 0
           },
           {
            "bin_end": 1.6,
            "bin_start": 1.5,
            "count": 0
           },
           {
            "bin_end": 1.7000000000000002,
            "bin_start": 1.6,
            "count": 0
           },
           {
            "bin_end": 1.8,
            "bin_start": 1.7000000000000002,
            "count": 0
           },
           {
            "bin_end": 1.9,
            "bin_start": 1.8,
            "count": 0
           },
           {
            "bin_end": 2,
            "bin_start": 1.9,
            "count": 24
           }
          ],
          "max": "2",
          "min": "1",
          "nan_count": 0,
          "unique_count": 2
         }
        },
        {
         "dtype": "int64",
         "name": "F_Score",
         "stats": {
          "histogram": [
           {
            "bin_end": 1.1,
            "bin_start": 1,
            "count": 45
           },
           {
            "bin_end": 1.2,
            "bin_start": 1.1,
            "count": 0
           },
           {
            "bin_end": 1.3,
            "bin_start": 1.2,
            "count": 0
           },
           {
            "bin_end": 1.4,
            "bin_start": 1.3,
            "count": 0
           },
           {
            "bin_end": 1.5,
            "bin_start": 1.4,
            "count": 0
           },
           {
            "bin_end": 1.6,
            "bin_start": 1.5,
            "count": 0
           },
           {
            "bin_end": 1.7000000000000002,
            "bin_start": 1.6,
            "count": 0
           },
           {
            "bin_end": 1.8,
            "bin_start": 1.7000000000000002,
            "count": 0
           },
           {
            "bin_end": 1.9,
            "bin_start": 1.8,
            "count": 0
           },
           {
            "bin_end": 2,
            "bin_start": 1.9,
            "count": 3
           }
          ],
          "max": "2",
          "min": "1",
          "nan_count": 0,
          "unique_count": 2
         }
        },
        {
         "dtype": "int64",
         "name": "M_Score",
         "stats": {
          "histogram": [
           {
            "bin_end": 1.1,
            "bin_start": 1,
            "count": 41
           },
           {
            "bin_end": 1.2,
            "bin_start": 1.1,
            "count": 0
           },
           {
            "bin_end": 1.3,
            "bin_start": 1.2,
            "count": 0
           },
           {
            "bin_end": 1.4,
            "bin_start": 1.3,
            "count": 0
           },
           {
            "bin_end": 1.5,
            "bin_start": 1.4,
            "count": 0
           },
           {
            "bin_end": 1.6,
            "bin_start": 1.5,
            "count": 0
           },
           {
            "bin_end": 1.7000000000000002,
            "bin_start": 1.6,
            "count": 0
           },
           {
            "bin_end": 1.8,
            "bin_start": 1.7000000000000002,
            "count": 0
           },
           {
            "bin_end": 1.9,
            "bin_start": 1.8,
            "count": 0
           },
           {
            "bin_end": 2,
            "bin_start": 1.9,
            "count": 7
           }
          ],
          "max": "2",
          "min": "1",
          "nan_count": 0,
          "unique_count": 2
         }
        },
        {
         "dtype": "object",
         "name": "RFM_Segment",
         "stats": {
          "categories": [
           {
            "count": 24,
            "name": "211"
           },
           {
            "count": 14,
            "name": "111"
           },
           {
            "count": 10,
            "name": "2 others"
           }
          ],
          "nan_count": 0,
          "unique_count": 4
         }
        },
        {
         "dtype": "int64",
         "name": "RFM_Score",
         "stats": {
          "histogram": [
           {
            "bin_end": 3.1,
            "bin_start": 3,
            "count": 14
           },
           {
            "bin_end": 3.2,
            "bin_start": 3.1,
            "count": 0
           },
           {
            "bin_end": 3.3,
            "bin_start": 3.2,
            "count": 0
           },
           {
            "bin_end": 3.4,
            "bin_start": 3.3,
            "count": 0
           },
           {
            "bin_end": 3.5,
            "bin_start": 3.4,
            "count": 0
           },
           {
            "bin_end": 3.6,
            "bin_start": 3.5,
            "count": 0
           },
           {
            "bin_end": 3.7,
            "bin_start": 3.6,
            "count": 0
           },
           {
            "bin_end": 3.8,
            "bin_start": 3.7,
            "count": 0
           },
           {
            "bin_end": 3.9,
            "bin_start": 3.8,
            "count": 0
           },
           {
            "bin_end": 4,
            "bin_start": 3.9,
            "count": 34
           }
          ],
          "max": "4",
          "min": "3",
          "nan_count": 0,
          "unique_count": 2
         }
        },
        {
         "dtype": "int64",
         "name": "RFM_Score_Category",
         "stats": {
          "histogram": [
           {
            "bin_end": -0.4,
            "bin_start": -0.5,
            "count": 0
           },
           {
            "bin_end": -0.3,
            "bin_start": -0.4,
            "count": 0
           },
           {
            "bin_end": -0.19999999999999996,
            "bin_start": -0.3,
            "count": 0
           },
           {
            "bin_end": -0.09999999999999998,
            "bin_start": -0.19999999999999996,
            "count": 0
           },
           {
            "bin_end": 0,
            "bin_start": -0.09999999999999998,
            "count": 0
           },
           {
            "bin_end": 0.10000000000000009,
            "bin_start": 0,
            "count": 48
           },
           {
            "bin_end": 0.20000000000000007,
            "bin_start": 0.10000000000000009,
            "count": 0
           },
           {
            "bin_end": 0.30000000000000004,
            "bin_start": 0.20000000000000007,
            "count": 0
           },
           {
            "bin_end": 0.4,
            "bin_start": 0.30000000000000004,
            "count": 0
           },
           {
            "bin_end": 0.5,
            "bin_start": 0.4,
            "count": 0
           }
          ],
          "max": "0",
          "min": "0",
          "nan_count": 0,
          "unique_count": 1
         }
        },
        {
         "dtype": "float64",
         "name": "_deepnote_index_column"
        }
       ],
       "row_count": 48,
       "rows": [
        {
         "F_Score": 1,
         "Frequency": 10,
         "M_Score": 1,
         "Monetary": 160.18,
         "RFM_Score": 4,
         "RFM_Score_Category": 0,
         "RFM_Segment": "211",
         "R_Score": 2,
         "Recency": 9,
         "_deepnote_index_column": 12966
        },
        {
         "F_Score": 1,
         "Frequency": 4,
         "M_Score": 1,
         "Monetary": 97.5,
         "RFM_Score": 4,
         "RFM_Score_Category": 0,
         "RFM_Segment": "211",
         "R_Score": 2,
         "Recency": 18,
         "_deepnote_index_column": 12984
        },
        {
         "F_Score": 1,
         "Frequency": 2,
         "M_Score": 1,
         "Monetary": 114.60000000000001,
         "RFM_Score": 4,
         "RFM_Score_Category": 0,
         "RFM_Segment": "211",
         "R_Score": 2,
         "Recency": 10,
         "_deepnote_index_column": 13188
        },
        {
         "F_Score": 1,
         "Frequency": 3,
         "M_Score": 1,
         "Monetary": 75,
         "RFM_Score": 4,
         "RFM_Score_Category": 0,
         "RFM_Segment": "211",
         "R_Score": 2,
         "Recency": 17,
         "_deepnote_index_column": 13403
        },
        {
         "F_Score": 1,
         "Frequency": 8,
         "M_Score": 1,
         "Monetary": 122.64000000000001,
         "RFM_Score": 4,
         "RFM_Score_Category": 0,
         "RFM_Segment": "211",
         "R_Score": 2,
         "Recency": 15,
         "_deepnote_index_column": 13638
        },
        {
         "F_Score": 1,
         "Frequency": 3,
         "M_Score": 1,
         "Monetary": 52.199999999999996,
         "RFM_Score": 4,
         "RFM_Score_Category": 0,
         "RFM_Segment": "211",
         "R_Score": 2,
         "Recency": 18,
         "_deepnote_index_column": 13832
        },
        {
         "F_Score": 1,
         "Frequency": 3,
         "M_Score": 1,
         "Monetary": 43.2,
         "RFM_Score": 4,
         "RFM_Score_Category": 0,
         "RFM_Segment": "211",
         "R_Score": 2,
         "Recency": 18,
         "_deepnote_index_column": 14300
        },
        {
         "F_Score": 1,
         "Frequency": 10,
         "M_Score": 1,
         "Monetary": 186.23000000000002,
         "RFM_Score": 4,
         "RFM_Score_Category": 0,
         "RFM_Segment": "211",
         "R_Score": 2,
         "Recency": 17,
         "_deepnote_index_column": 14551
        },
        {
         "F_Score": 1,
         "Frequency": 5,
         "M_Score": 1,
         "Monetary": 192.60000000000002,
         "RFM_Score": 4,
         "RFM_Score_Category": 0,
         "RFM_Segment": "211",
         "R_Score": 2,
         "Recency": 16,
         "_deepnote_index_column": 14768
        },
        {
         "F_Score": 1,
         "Frequency": 3,
         "M_Score": 1,
         "Monetary": 77.4,
         "RFM_Score": 4,
         "RFM_Score_Category": 0,
         "RFM_Segment": "211",
         "R_Score": 2,
         "Recency": 9,
         "_deepnote_index_column": 14785
        }
       ]
      },
      "text/html": [
       "<div>\n",
       "<style scoped>\n",
       "    .dataframe tbody tr th:only-of-type {\n",
       "        vertical-align: middle;\n",
       "    }\n",
       "\n",
       "    .dataframe tbody tr th {\n",
       "        vertical-align: top;\n",
       "    }\n",
       "\n",
       "    .dataframe thead th {\n",
       "        text-align: right;\n",
       "    }\n",
       "</style>\n",
       "<table border=\"1\" class=\"dataframe\">\n",
       "  <thead>\n",
       "    <tr style=\"text-align: right;\">\n",
       "      <th></th>\n",
       "      <th>Recency</th>\n",
       "      <th>Frequency</th>\n",
       "      <th>Monetary</th>\n",
       "      <th>R_Score</th>\n",
       "      <th>F_Score</th>\n",
       "      <th>M_Score</th>\n",
       "      <th>RFM_Segment</th>\n",
       "      <th>RFM_Score</th>\n",
       "      <th>RFM_Score_Category</th>\n",
       "    </tr>\n",
       "    <tr>\n",
       "      <th>CustomerID</th>\n",
       "      <th></th>\n",
       "      <th></th>\n",
       "      <th></th>\n",
       "      <th></th>\n",
       "      <th></th>\n",
       "      <th></th>\n",
       "      <th></th>\n",
       "      <th></th>\n",
       "      <th></th>\n",
       "    </tr>\n",
       "  </thead>\n",
       "  <tbody>\n",
       "    <tr>\n",
       "      <th>12966.0</th>\n",
       "      <td>9</td>\n",
       "      <td>10</td>\n",
       "      <td>160.18</td>\n",
       "      <td>2</td>\n",
       "      <td>1</td>\n",
       "      <td>1</td>\n",
       "      <td>211</td>\n",
       "      <td>4</td>\n",
       "      <td>0</td>\n",
       "    </tr>\n",
       "    <tr>\n",
       "      <th>12984.0</th>\n",
       "      <td>18</td>\n",
       "      <td>4</td>\n",
       "      <td>97.50</td>\n",
       "      <td>2</td>\n",
       "      <td>1</td>\n",
       "      <td>1</td>\n",
       "      <td>211</td>\n",
       "      <td>4</td>\n",
       "      <td>0</td>\n",
       "    </tr>\n",
       "    <tr>\n",
       "      <th>13188.0</th>\n",
       "      <td>10</td>\n",
       "      <td>2</td>\n",
       "      <td>114.60</td>\n",
       "      <td>2</td>\n",
       "      <td>1</td>\n",
       "      <td>1</td>\n",
       "      <td>211</td>\n",
       "      <td>4</td>\n",
       "      <td>0</td>\n",
       "    </tr>\n",
       "    <tr>\n",
       "      <th>13403.0</th>\n",
       "      <td>17</td>\n",
       "      <td>3</td>\n",
       "      <td>75.00</td>\n",
       "      <td>2</td>\n",
       "      <td>1</td>\n",
       "      <td>1</td>\n",
       "      <td>211</td>\n",
       "      <td>4</td>\n",
       "      <td>0</td>\n",
       "    </tr>\n",
       "    <tr>\n",
       "      <th>13638.0</th>\n",
       "      <td>15</td>\n",
       "      <td>8</td>\n",
       "      <td>122.64</td>\n",
       "      <td>2</td>\n",
       "      <td>1</td>\n",
       "      <td>1</td>\n",
       "      <td>211</td>\n",
       "      <td>4</td>\n",
       "      <td>0</td>\n",
       "    </tr>\n",
       "    <tr>\n",
       "      <th>13832.0</th>\n",
       "      <td>18</td>\n",
       "      <td>3</td>\n",
       "      <td>52.20</td>\n",
       "      <td>2</td>\n",
       "      <td>1</td>\n",
       "      <td>1</td>\n",
       "      <td>211</td>\n",
       "      <td>4</td>\n",
       "      <td>0</td>\n",
       "    </tr>\n",
       "    <tr>\n",
       "      <th>14300.0</th>\n",
       "      <td>18</td>\n",
       "      <td>3</td>\n",
       "      <td>43.20</td>\n",
       "      <td>2</td>\n",
       "      <td>1</td>\n",
       "      <td>1</td>\n",
       "      <td>211</td>\n",
       "      <td>4</td>\n",
       "      <td>0</td>\n",
       "    </tr>\n",
       "    <tr>\n",
       "      <th>14551.0</th>\n",
       "      <td>17</td>\n",
       "      <td>10</td>\n",
       "      <td>186.23</td>\n",
       "      <td>2</td>\n",
       "      <td>1</td>\n",
       "      <td>1</td>\n",
       "      <td>211</td>\n",
       "      <td>4</td>\n",
       "      <td>0</td>\n",
       "    </tr>\n",
       "    <tr>\n",
       "      <th>14768.0</th>\n",
       "      <td>16</td>\n",
       "      <td>5</td>\n",
       "      <td>192.60</td>\n",
       "      <td>2</td>\n",
       "      <td>1</td>\n",
       "      <td>1</td>\n",
       "      <td>211</td>\n",
       "      <td>4</td>\n",
       "      <td>0</td>\n",
       "    </tr>\n",
       "    <tr>\n",
       "      <th>14785.0</th>\n",
       "      <td>9</td>\n",
       "      <td>3</td>\n",
       "      <td>77.40</td>\n",
       "      <td>2</td>\n",
       "      <td>1</td>\n",
       "      <td>1</td>\n",
       "      <td>211</td>\n",
       "      <td>4</td>\n",
       "      <td>0</td>\n",
       "    </tr>\n",
       "    <tr>\n",
       "      <th>14836.0</th>\n",
       "      <td>9</td>\n",
       "      <td>6</td>\n",
       "      <td>102.45</td>\n",
       "      <td>2</td>\n",
       "      <td>1</td>\n",
       "      <td>1</td>\n",
       "      <td>211</td>\n",
       "      <td>4</td>\n",
       "      <td>0</td>\n",
       "    </tr>\n",
       "    <tr>\n",
       "      <th>14946.0</th>\n",
       "      <td>13</td>\n",
       "      <td>3</td>\n",
       "      <td>100.90</td>\n",
       "      <td>2</td>\n",
       "      <td>1</td>\n",
       "      <td>1</td>\n",
       "      <td>211</td>\n",
       "      <td>4</td>\n",
       "      <td>0</td>\n",
       "    </tr>\n",
       "    <tr>\n",
       "      <th>15428.0</th>\n",
       "      <td>14</td>\n",
       "      <td>6</td>\n",
       "      <td>93.78</td>\n",
       "      <td>2</td>\n",
       "      <td>1</td>\n",
       "      <td>1</td>\n",
       "      <td>211</td>\n",
       "      <td>4</td>\n",
       "      <td>0</td>\n",
       "    </tr>\n",
       "    <tr>\n",
       "      <th>15567.0</th>\n",
       "      <td>18</td>\n",
       "      <td>7</td>\n",
       "      <td>186.01</td>\n",
       "      <td>2</td>\n",
       "      <td>1</td>\n",
       "      <td>1</td>\n",
       "      <td>211</td>\n",
       "      <td>4</td>\n",
       "      <td>0</td>\n",
       "    </tr>\n",
       "    <tr>\n",
       "      <th>16506.0</th>\n",
       "      <td>19</td>\n",
       "      <td>3</td>\n",
       "      <td>90.30</td>\n",
       "      <td>2</td>\n",
       "      <td>1</td>\n",
       "      <td>1</td>\n",
       "      <td>211</td>\n",
       "      <td>4</td>\n",
       "      <td>0</td>\n",
       "    </tr>\n",
       "    <tr>\n",
       "      <th>16784.0</th>\n",
       "      <td>19</td>\n",
       "      <td>3</td>\n",
       "      <td>107.60</td>\n",
       "      <td>2</td>\n",
       "      <td>1</td>\n",
       "      <td>1</td>\n",
       "      <td>211</td>\n",
       "      <td>4</td>\n",
       "      <td>0</td>\n",
       "    </tr>\n",
       "    <tr>\n",
       "      <th>16852.0</th>\n",
       "      <td>9</td>\n",
       "      <td>9</td>\n",
       "      <td>144.91</td>\n",
       "      <td>2</td>\n",
       "      <td>1</td>\n",
       "      <td>1</td>\n",
       "      <td>211</td>\n",
       "      <td>4</td>\n",
       "      <td>0</td>\n",
       "    </tr>\n",
       "    <tr>\n",
       "      <th>16856.0</th>\n",
       "      <td>14</td>\n",
       "      <td>2</td>\n",
       "      <td>35.40</td>\n",
       "      <td>2</td>\n",
       "      <td>1</td>\n",
       "      <td>1</td>\n",
       "      <td>211</td>\n",
       "      <td>4</td>\n",
       "      <td>0</td>\n",
       "    </tr>\n",
       "    <tr>\n",
       "      <th>17468.0</th>\n",
       "      <td>9</td>\n",
       "      <td>5</td>\n",
       "      <td>137.00</td>\n",
       "      <td>2</td>\n",
       "      <td>1</td>\n",
       "      <td>1</td>\n",
       "      <td>211</td>\n",
       "      <td>4</td>\n",
       "      <td>0</td>\n",
       "    </tr>\n",
       "    <tr>\n",
       "      <th>17650.0</th>\n",
       "      <td>20</td>\n",
       "      <td>8</td>\n",
       "      <td>166.08</td>\n",
       "      <td>2</td>\n",
       "      <td>1</td>\n",
       "      <td>1</td>\n",
       "      <td>211</td>\n",
       "      <td>4</td>\n",
       "      <td>0</td>\n",
       "    </tr>\n",
       "    <tr>\n",
       "      <th>18058.0</th>\n",
       "      <td>9</td>\n",
       "      <td>3</td>\n",
       "      <td>170.16</td>\n",
       "      <td>2</td>\n",
       "      <td>1</td>\n",
       "      <td>1</td>\n",
       "      <td>211</td>\n",
       "      <td>4</td>\n",
       "      <td>0</td>\n",
       "    </tr>\n",
       "    <tr>\n",
       "      <th>18084.0</th>\n",
       "      <td>15</td>\n",
       "      <td>1</td>\n",
       "      <td>90.48</td>\n",
       "      <td>2</td>\n",
       "      <td>1</td>\n",
       "      <td>1</td>\n",
       "      <td>211</td>\n",
       "      <td>4</td>\n",
       "      <td>0</td>\n",
       "    </tr>\n",
       "    <tr>\n",
       "      <th>18184.0</th>\n",
       "      <td>14</td>\n",
       "      <td>1</td>\n",
       "      <td>49.80</td>\n",
       "      <td>2</td>\n",
       "      <td>1</td>\n",
       "      <td>1</td>\n",
       "      <td>211</td>\n",
       "      <td>4</td>\n",
       "      <td>0</td>\n",
       "    </tr>\n",
       "    <tr>\n",
       "      <th>18249.0</th>\n",
       "      <td>16</td>\n",
       "      <td>8</td>\n",
       "      <td>95.34</td>\n",
       "      <td>2</td>\n",
       "      <td>1</td>\n",
       "      <td>1</td>\n",
       "      <td>211</td>\n",
       "      <td>4</td>\n",
       "      <td>0</td>\n",
       "    </tr>\n",
       "    <tr>\n",
       "      <th>12367.0</th>\n",
       "      <td>3</td>\n",
       "      <td>11</td>\n",
       "      <td>168.90</td>\n",
       "      <td>1</td>\n",
       "      <td>2</td>\n",
       "      <td>1</td>\n",
       "      <td>121</td>\n",
       "      <td>4</td>\n",
       "      <td>0</td>\n",
       "    </tr>\n",
       "    <tr>\n",
       "      <th>12442.0</th>\n",
       "      <td>2</td>\n",
       "      <td>12</td>\n",
       "      <td>172.06</td>\n",
       "      <td>1</td>\n",
       "      <td>2</td>\n",
       "      <td>1</td>\n",
       "      <td>121</td>\n",
       "      <td>4</td>\n",
       "      <td>0</td>\n",
       "    </tr>\n",
       "    <tr>\n",
       "      <th>18282.0</th>\n",
       "      <td>7</td>\n",
       "      <td>12</td>\n",
       "      <td>178.05</td>\n",
       "      <td>1</td>\n",
       "      <td>2</td>\n",
       "      <td>1</td>\n",
       "      <td>121</td>\n",
       "      <td>4</td>\n",
       "      <td>0</td>\n",
       "    </tr>\n",
       "    <tr>\n",
       "      <th>13017.0</th>\n",
       "      <td>6</td>\n",
       "      <td>1</td>\n",
       "      <td>204.00</td>\n",
       "      <td>1</td>\n",
       "      <td>1</td>\n",
       "      <td>2</td>\n",
       "      <td>112</td>\n",
       "      <td>4</td>\n",
       "      <td>0</td>\n",
       "    </tr>\n",
       "    <tr>\n",
       "      <th>13079.0</th>\n",
       "      <td>3</td>\n",
       "      <td>6</td>\n",
       "      <td>220.10</td>\n",
       "      <td>1</td>\n",
       "      <td>1</td>\n",
       "      <td>2</td>\n",
       "      <td>112</td>\n",
       "      <td>4</td>\n",
       "      <td>0</td>\n",
       "    </tr>\n",
       "    <tr>\n",
       "      <th>14520.0</th>\n",
       "      <td>1</td>\n",
       "      <td>4</td>\n",
       "      <td>270.60</td>\n",
       "      <td>1</td>\n",
       "      <td>1</td>\n",
       "      <td>2</td>\n",
       "      <td>112</td>\n",
       "      <td>4</td>\n",
       "      <td>0</td>\n",
       "    </tr>\n",
       "    <tr>\n",
       "      <th>15101.0</th>\n",
       "      <td>8</td>\n",
       "      <td>8</td>\n",
       "      <td>317.53</td>\n",
       "      <td>1</td>\n",
       "      <td>1</td>\n",
       "      <td>2</td>\n",
       "      <td>112</td>\n",
       "      <td>4</td>\n",
       "      <td>0</td>\n",
       "    </tr>\n",
       "    <tr>\n",
       "      <th>17436.0</th>\n",
       "      <td>1</td>\n",
       "      <td>9</td>\n",
       "      <td>216.30</td>\n",
       "      <td>1</td>\n",
       "      <td>1</td>\n",
       "      <td>2</td>\n",
       "      <td>112</td>\n",
       "      <td>4</td>\n",
       "      <td>0</td>\n",
       "    </tr>\n",
       "    <tr>\n",
       "      <th>18030.0</th>\n",
       "      <td>3</td>\n",
       "      <td>9</td>\n",
       "      <td>230.65</td>\n",
       "      <td>1</td>\n",
       "      <td>1</td>\n",
       "      <td>2</td>\n",
       "      <td>112</td>\n",
       "      <td>4</td>\n",
       "      <td>0</td>\n",
       "    </tr>\n",
       "    <tr>\n",
       "      <th>18273.0</th>\n",
       "      <td>1</td>\n",
       "      <td>3</td>\n",
       "      <td>204.00</td>\n",
       "      <td>1</td>\n",
       "      <td>1</td>\n",
       "      <td>2</td>\n",
       "      <td>112</td>\n",
       "      <td>4</td>\n",
       "      <td>0</td>\n",
       "    </tr>\n",
       "    <tr>\n",
       "      <th>12587.0</th>\n",
       "      <td>7</td>\n",
       "      <td>4</td>\n",
       "      <td>144.00</td>\n",
       "      <td>1</td>\n",
       "      <td>1</td>\n",
       "      <td>1</td>\n",
       "      <td>111</td>\n",
       "      <td>3</td>\n",
       "      <td>0</td>\n",
       "    </tr>\n",
       "    <tr>\n",
       "      <th>14219.0</th>\n",
       "      <td>3</td>\n",
       "      <td>7</td>\n",
       "      <td>89.94</td>\n",
       "      <td>1</td>\n",
       "      <td>1</td>\n",
       "      <td>1</td>\n",
       "      <td>111</td>\n",
       "      <td>3</td>\n",
       "      <td>0</td>\n",
       "    </tr>\n",
       "    <tr>\n",
       "      <th>14287.0</th>\n",
       "      <td>7</td>\n",
       "      <td>9</td>\n",
       "      <td>176.63</td>\n",
       "      <td>1</td>\n",
       "      <td>1</td>\n",
       "      <td>1</td>\n",
       "      <td>111</td>\n",
       "      <td>3</td>\n",
       "      <td>0</td>\n",
       "    </tr>\n",
       "    <tr>\n",
       "      <th>14354.0</th>\n",
       "      <td>5</td>\n",
       "      <td>9</td>\n",
       "      <td>163.62</td>\n",
       "      <td>1</td>\n",
       "      <td>1</td>\n",
       "      <td>1</td>\n",
       "      <td>111</td>\n",
       "      <td>3</td>\n",
       "      <td>0</td>\n",
       "    </tr>\n",
       "    <tr>\n",
       "      <th>14865.0</th>\n",
       "      <td>6</td>\n",
       "      <td>4</td>\n",
       "      <td>52.20</td>\n",
       "      <td>1</td>\n",
       "      <td>1</td>\n",
       "      <td>1</td>\n",
       "      <td>111</td>\n",
       "      <td>3</td>\n",
       "      <td>0</td>\n",
       "    </tr>\n",
       "    <tr>\n",
       "      <th>15992.0</th>\n",
       "      <td>3</td>\n",
       "      <td>3</td>\n",
       "      <td>41.99</td>\n",
       "      <td>1</td>\n",
       "      <td>1</td>\n",
       "      <td>1</td>\n",
       "      <td>111</td>\n",
       "      <td>3</td>\n",
       "      <td>0</td>\n",
       "    </tr>\n",
       "    <tr>\n",
       "      <th>16569.0</th>\n",
       "      <td>2</td>\n",
       "      <td>5</td>\n",
       "      <td>124.20</td>\n",
       "      <td>1</td>\n",
       "      <td>1</td>\n",
       "      <td>1</td>\n",
       "      <td>111</td>\n",
       "      <td>3</td>\n",
       "      <td>0</td>\n",
       "    </tr>\n",
       "    <tr>\n",
       "      <th>16597.0</th>\n",
       "      <td>3</td>\n",
       "      <td>7</td>\n",
       "      <td>90.04</td>\n",
       "      <td>1</td>\n",
       "      <td>1</td>\n",
       "      <td>1</td>\n",
       "      <td>111</td>\n",
       "      <td>3</td>\n",
       "      <td>0</td>\n",
       "    </tr>\n",
       "    <tr>\n",
       "      <th>16620.0</th>\n",
       "      <td>3</td>\n",
       "      <td>9</td>\n",
       "      <td>178.96</td>\n",
       "      <td>1</td>\n",
       "      <td>1</td>\n",
       "      <td>1</td>\n",
       "      <td>111</td>\n",
       "      <td>3</td>\n",
       "      <td>0</td>\n",
       "    </tr>\n",
       "    <tr>\n",
       "      <th>16789.0</th>\n",
       "      <td>7</td>\n",
       "      <td>5</td>\n",
       "      <td>80.80</td>\n",
       "      <td>1</td>\n",
       "      <td>1</td>\n",
       "      <td>1</td>\n",
       "      <td>111</td>\n",
       "      <td>3</td>\n",
       "      <td>0</td>\n",
       "    </tr>\n",
       "    <tr>\n",
       "      <th>16988.0</th>\n",
       "      <td>4</td>\n",
       "      <td>7</td>\n",
       "      <td>126.12</td>\n",
       "      <td>1</td>\n",
       "      <td>1</td>\n",
       "      <td>1</td>\n",
       "      <td>111</td>\n",
       "      <td>3</td>\n",
       "      <td>0</td>\n",
       "    </tr>\n",
       "    <tr>\n",
       "      <th>17737.0</th>\n",
       "      <td>8</td>\n",
       "      <td>10</td>\n",
       "      <td>168.24</td>\n",
       "      <td>1</td>\n",
       "      <td>1</td>\n",
       "      <td>1</td>\n",
       "      <td>111</td>\n",
       "      <td>3</td>\n",
       "      <td>0</td>\n",
       "    </tr>\n",
       "    <tr>\n",
       "      <th>17942.0</th>\n",
       "      <td>7</td>\n",
       "      <td>2</td>\n",
       "      <td>77.50</td>\n",
       "      <td>1</td>\n",
       "      <td>1</td>\n",
       "      <td>1</td>\n",
       "      <td>111</td>\n",
       "      <td>3</td>\n",
       "      <td>0</td>\n",
       "    </tr>\n",
       "    <tr>\n",
       "      <th>18174.0</th>\n",
       "      <td>6</td>\n",
       "      <td>1</td>\n",
       "      <td>104.00</td>\n",
       "      <td>1</td>\n",
       "      <td>1</td>\n",
       "      <td>1</td>\n",
       "      <td>111</td>\n",
       "      <td>3</td>\n",
       "      <td>0</td>\n",
       "    </tr>\n",
       "  </tbody>\n",
       "</table>\n",
       "</div>"
      ],
      "text/plain": [
       "            Recency  Frequency  Monetary  R_Score  F_Score  M_Score  \\\n",
       "CustomerID                                                            \n",
       "12966.0           9         10    160.18        2        1        1   \n",
       "12984.0          18          4     97.50        2        1        1   \n",
       "13188.0          10          2    114.60        2        1        1   \n",
       "13403.0          17          3     75.00        2        1        1   \n",
       "13638.0          15          8    122.64        2        1        1   \n",
       "13832.0          18          3     52.20        2        1        1   \n",
       "14300.0          18          3     43.20        2        1        1   \n",
       "14551.0          17         10    186.23        2        1        1   \n",
       "14768.0          16          5    192.60        2        1        1   \n",
       "14785.0           9          3     77.40        2        1        1   \n",
       "14836.0           9          6    102.45        2        1        1   \n",
       "14946.0          13          3    100.90        2        1        1   \n",
       "15428.0          14          6     93.78        2        1        1   \n",
       "15567.0          18          7    186.01        2        1        1   \n",
       "16506.0          19          3     90.30        2        1        1   \n",
       "16784.0          19          3    107.60        2        1        1   \n",
       "16852.0           9          9    144.91        2        1        1   \n",
       "16856.0          14          2     35.40        2        1        1   \n",
       "17468.0           9          5    137.00        2        1        1   \n",
       "17650.0          20          8    166.08        2        1        1   \n",
       "18058.0           9          3    170.16        2        1        1   \n",
       "18084.0          15          1     90.48        2        1        1   \n",
       "18184.0          14          1     49.80        2        1        1   \n",
       "18249.0          16          8     95.34        2        1        1   \n",
       "12367.0           3         11    168.90        1        2        1   \n",
       "12442.0           2         12    172.06        1        2        1   \n",
       "18282.0           7         12    178.05        1        2        1   \n",
       "13017.0           6          1    204.00        1        1        2   \n",
       "13079.0           3          6    220.10        1        1        2   \n",
       "14520.0           1          4    270.60        1        1        2   \n",
       "15101.0           8          8    317.53        1        1        2   \n",
       "17436.0           1          9    216.30        1        1        2   \n",
       "18030.0           3          9    230.65        1        1        2   \n",
       "18273.0           1          3    204.00        1        1        2   \n",
       "12587.0           7          4    144.00        1        1        1   \n",
       "14219.0           3          7     89.94        1        1        1   \n",
       "14287.0           7          9    176.63        1        1        1   \n",
       "14354.0           5          9    163.62        1        1        1   \n",
       "14865.0           6          4     52.20        1        1        1   \n",
       "15992.0           3          3     41.99        1        1        1   \n",
       "16569.0           2          5    124.20        1        1        1   \n",
       "16597.0           3          7     90.04        1        1        1   \n",
       "16620.0           3          9    178.96        1        1        1   \n",
       "16789.0           7          5     80.80        1        1        1   \n",
       "16988.0           4          7    126.12        1        1        1   \n",
       "17737.0           8         10    168.24        1        1        1   \n",
       "17942.0           7          2     77.50        1        1        1   \n",
       "18174.0           6          1    104.00        1        1        1   \n",
       "\n",
       "           RFM_Segment  RFM_Score  RFM_Score_Category  \n",
       "CustomerID                                             \n",
       "12966.0            211          4                   0  \n",
       "12984.0            211          4                   0  \n",
       "13188.0            211          4                   0  \n",
       "13403.0            211          4                   0  \n",
       "13638.0            211          4                   0  \n",
       "13832.0            211          4                   0  \n",
       "14300.0            211          4                   0  \n",
       "14551.0            211          4                   0  \n",
       "14768.0            211          4                   0  \n",
       "14785.0            211          4                   0  \n",
       "14836.0            211          4                   0  \n",
       "14946.0            211          4                   0  \n",
       "15428.0            211          4                   0  \n",
       "15567.0            211          4                   0  \n",
       "16506.0            211          4                   0  \n",
       "16784.0            211          4                   0  \n",
       "16852.0            211          4                   0  \n",
       "16856.0            211          4                   0  \n",
       "17468.0            211          4                   0  \n",
       "17650.0            211          4                   0  \n",
       "18058.0            211          4                   0  \n",
       "18084.0            211          4                   0  \n",
       "18184.0            211          4                   0  \n",
       "18249.0            211          4                   0  \n",
       "12367.0            121          4                   0  \n",
       "12442.0            121          4                   0  \n",
       "18282.0            121          4                   0  \n",
       "13017.0            112          4                   0  \n",
       "13079.0            112          4                   0  \n",
       "14520.0            112          4                   0  \n",
       "15101.0            112          4                   0  \n",
       "17436.0            112          4                   0  \n",
       "18030.0            112          4                   0  \n",
       "18273.0            112          4                   0  \n",
       "12587.0            111          3                   0  \n",
       "14219.0            111          3                   0  \n",
       "14287.0            111          3                   0  \n",
       "14354.0            111          3                   0  \n",
       "14865.0            111          3                   0  \n",
       "15992.0            111          3                   0  \n",
       "16569.0            111          3                   0  \n",
       "16597.0            111          3                   0  \n",
       "16620.0            111          3                   0  \n",
       "16789.0            111          3                   0  \n",
       "16988.0            111          3                   0  \n",
       "17737.0            111          3                   0  \n",
       "17942.0            111          3                   0  \n",
       "18174.0            111          3                   0  "
      ]
     },
     "execution_count": 56,
     "metadata": {},
     "output_type": "execute_result"
    }
   ],
   "source": [
    "rfm[rfm['RFM_Score_Category'] == 0]"
   ]
  },
  {
   "cell_type": "markdown",
   "metadata": {
    "cell_id": "5f0e6dbfd29f44bda6a043e44ec6b802",
    "deepnote_cell_type": "markdown"
   },
   "source": [
    "<p>This is evident based on RFM scores from above table; long-dated <b>Recency</b>, low <b>Frequency</b> in patronage, and lastly quite small <b>Monetary</b> value. </p>"
   ]
  },
  {
   "cell_type": "markdown",
   "metadata": {
    "cell_id": "bd17e8b3aea84806815e2e7b4a330324",
    "deepnote_cell_type": "markdown"
   },
   "source": [
    "`"
   ]
  },
  {
   "cell_type": "markdown",
   "metadata": {
    "cell_id": "2d6e9574953f411c9fe0b163940a0977",
    "deepnote_cell_type": "markdown"
   },
   "source": [
    "<p><b>Based on this, either in 0 or 5 class, Customer could come from any country; this classification is just to which customers are actually doing the best based on the ranks</b></p>"
   ]
  },
  {
   "cell_type": "code",
   "execution_count": 57,
   "metadata": {
    "cell_id": "04ec22be652d457594541588452efe23",
    "deepnote_cell_type": "code",
    "deepnote_to_be_reexecuted": false,
    "execution_millis": 163,
    "execution_start": 1687589240781,
    "source_hash": "815d8463"
   },
   "outputs": [
    {
     "data": {
      "application/vnd.deepnote.dataframe.v3+json": {
       "column_count": 1,
       "columns": [
        {
         "dtype": "object",
         "name": "Country",
         "stats": {
          "categories": [
           {
            "count": 3920,
            "name": "united kingdom"
           },
           {
            "count": 94,
            "name": "germany"
           },
           {
            "count": 314,
            "name": "25 others"
           }
          ],
          "nan_count": 0,
          "unique_count": 27
         }
        },
        {
         "dtype": "float64",
         "name": "_deepnote_index_column"
        }
       ],
       "row_count": 4328,
       "rows": [
        {
         "Country": "united kingdom",
         "_deepnote_index_column": 17850
        },
        {
         "Country": "united kingdom",
         "_deepnote_index_column": 13047
        },
        {
         "Country": "france",
         "_deepnote_index_column": 12583
        },
        {
         "Country": "united kingdom",
         "_deepnote_index_column": 13748
        },
        {
         "Country": "united kingdom",
         "_deepnote_index_column": 15100
        },
        {
         "Country": "united kingdom",
         "_deepnote_index_column": 15291
        },
        {
         "Country": "united kingdom",
         "_deepnote_index_column": 14688
        },
        {
         "Country": "united kingdom",
         "_deepnote_index_column": 17809
        },
        {
         "Country": "united kingdom",
         "_deepnote_index_column": 15311
        },
        {
         "Country": "united kingdom",
         "_deepnote_index_column": 16098
        }
       ]
      },
      "text/html": [
       "<div>\n",
       "<style scoped>\n",
       "    .dataframe tbody tr th:only-of-type {\n",
       "        vertical-align: middle;\n",
       "    }\n",
       "\n",
       "    .dataframe tbody tr th {\n",
       "        vertical-align: top;\n",
       "    }\n",
       "\n",
       "    .dataframe thead th {\n",
       "        text-align: right;\n",
       "    }\n",
       "</style>\n",
       "<table border=\"1\" class=\"dataframe\">\n",
       "  <thead>\n",
       "    <tr style=\"text-align: right;\">\n",
       "      <th></th>\n",
       "      <th>Country</th>\n",
       "    </tr>\n",
       "    <tr>\n",
       "      <th>CustomerID</th>\n",
       "      <th></th>\n",
       "    </tr>\n",
       "  </thead>\n",
       "  <tbody>\n",
       "    <tr>\n",
       "      <th>17850.0</th>\n",
       "      <td>united kingdom</td>\n",
       "    </tr>\n",
       "    <tr>\n",
       "      <th>13047.0</th>\n",
       "      <td>united kingdom</td>\n",
       "    </tr>\n",
       "    <tr>\n",
       "      <th>12583.0</th>\n",
       "      <td>france</td>\n",
       "    </tr>\n",
       "    <tr>\n",
       "      <th>13748.0</th>\n",
       "      <td>united kingdom</td>\n",
       "    </tr>\n",
       "    <tr>\n",
       "      <th>15100.0</th>\n",
       "      <td>united kingdom</td>\n",
       "    </tr>\n",
       "    <tr>\n",
       "      <th>...</th>\n",
       "      <td>...</td>\n",
       "    </tr>\n",
       "    <tr>\n",
       "      <th>13436.0</th>\n",
       "      <td>united kingdom</td>\n",
       "    </tr>\n",
       "    <tr>\n",
       "      <th>15520.0</th>\n",
       "      <td>united kingdom</td>\n",
       "    </tr>\n",
       "    <tr>\n",
       "      <th>13298.0</th>\n",
       "      <td>united kingdom</td>\n",
       "    </tr>\n",
       "    <tr>\n",
       "      <th>14569.0</th>\n",
       "      <td>united kingdom</td>\n",
       "    </tr>\n",
       "    <tr>\n",
       "      <th>12713.0</th>\n",
       "      <td>germany</td>\n",
       "    </tr>\n",
       "  </tbody>\n",
       "</table>\n",
       "<p>4328 rows × 1 columns</p>\n",
       "</div>"
      ],
      "text/plain": [
       "                   Country\n",
       "CustomerID                \n",
       "17850.0     united kingdom\n",
       "13047.0     united kingdom\n",
       "12583.0             france\n",
       "13748.0     united kingdom\n",
       "15100.0     united kingdom\n",
       "...                    ...\n",
       "13436.0     united kingdom\n",
       "15520.0     united kingdom\n",
       "13298.0     united kingdom\n",
       "14569.0     united kingdom\n",
       "12713.0            germany\n",
       "\n",
       "[4328 rows x 1 columns]"
      ]
     },
     "execution_count": 57,
     "metadata": {},
     "output_type": "execute_result"
    }
   ],
   "source": [
    "# merge the countries of each of the Customers from the dataframe (df), and join to rfm table\n",
    "Customer_countries = df[['CustomerID','Country']].drop_duplicates().set_index('CustomerID')\n",
    "Customer_countries"
   ]
  },
  {
   "cell_type": "markdown",
   "metadata": {
    "cell_id": "cc59e48dd47f439c80d1ef5521cd8466",
    "deepnote_cell_type": "markdown"
   },
   "source": [
    "<p>Note that the rows are about 4328 </p>"
   ]
  },
  {
   "cell_type": "code",
   "execution_count": 58,
   "metadata": {
    "cell_id": "ad0653a4f5194ef9a44b9266664c83f5",
    "deepnote_cell_type": "code",
    "deepnote_to_be_reexecuted": false,
    "execution_millis": 82,
    "execution_start": 1687589249866,
    "source_hash": "16fe937b"
   },
   "outputs": [
    {
     "data": {
      "application/vnd.deepnote.dataframe.v3+json": {
       "column_count": 10,
       "columns": [
        {
         "dtype": "int64",
         "name": "Recency",
         "stats": {
          "histogram": [
           {
            "bin_end": 37.3,
            "bin_start": 0,
            "count": 1892
           },
           {
            "bin_end": 74.6,
            "bin_start": 37.3,
            "count": 810
           },
           {
            "bin_end": 111.89999999999999,
            "bin_start": 74.6,
            "count": 361
           },
           {
            "bin_end": 149.2,
            "bin_start": 111.89999999999999,
            "count": 233
           },
           {
            "bin_end": 186.5,
            "bin_start": 149.2,
            "count": 224
           },
           {
            "bin_end": 223.79999999999998,
            "bin_start": 186.5,
            "count": 187
           },
           {
            "bin_end": 261.09999999999997,
            "bin_start": 223.79999999999998,
            "count": 189
           },
           {
            "bin_end": 298.4,
            "bin_start": 261.09999999999997,
            "count": 166
           },
           {
            "bin_end": 335.7,
            "bin_start": 298.4,
            "count": 140
           },
           {
            "bin_end": 373,
            "bin_start": 335.7,
            "count": 126
           }
          ],
          "max": "373",
          "min": "0",
          "nan_count": 0,
          "unique_count": 349
         }
        },
        {
         "dtype": "int64",
         "name": "Frequency",
         "stats": {
          "histogram": [
           {
            "bin_end": 785.6,
            "bin_start": 1,
            "count": 4299
           },
           {
            "bin_end": 1570.2,
            "bin_start": 785.6,
            "count": 19
           },
           {
            "bin_end": 2354.8,
            "bin_start": 1570.2,
            "count": 4
           },
           {
            "bin_end": 3139.4,
            "bin_start": 2354.8,
            "count": 2
           },
           {
            "bin_end": 3924,
            "bin_start": 3139.4,
            "count": 0
           },
           {
            "bin_end": 4708.6,
            "bin_start": 3924,
            "count": 1
           },
           {
            "bin_end": 5493.2,
            "bin_start": 4708.6,
            "count": 1
           },
           {
            "bin_end": 6277.8,
            "bin_start": 5493.2,
            "count": 1
           },
           {
            "bin_end": 7062.400000000001,
            "bin_start": 6277.8,
            "count": 0
           },
           {
            "bin_end": 7847,
            "bin_start": 7062.400000000001,
            "count": 1
           }
          ],
          "max": "7847",
          "min": "1",
          "nan_count": 0,
          "unique_count": 460
         }
        },
        {
         "dtype": "float64",
         "name": "Monetary",
         "stats": {
          "histogram": [
           {
            "bin_end": 28023.976999999984,
            "bin_start": 3.75,
            "count": 4293
           },
           {
            "bin_end": 56044.20399999997,
            "bin_start": 28023.976999999984,
            "count": 18
           },
           {
            "bin_end": 84064.43099999995,
            "bin_start": 56044.20399999997,
            "count": 9
           },
           {
            "bin_end": 112084.65799999994,
            "bin_start": 84064.43099999995,
            "count": 1
           },
           {
            "bin_end": 140104.88499999992,
            "bin_start": 112084.65799999994,
            "count": 2
           },
           {
            "bin_end": 168125.1119999999,
            "bin_start": 140104.88499999992,
            "count": 1
           },
           {
            "bin_end": 196145.3389999999,
            "bin_start": 168125.1119999999,
            "count": 2
           },
           {
            "bin_end": 224165.56599999988,
            "bin_start": 196145.3389999999,
            "count": 0
           },
           {
            "bin_end": 252185.79299999986,
            "bin_start": 224165.56599999988,
            "count": 0
           },
           {
            "bin_end": 280206.01999999984,
            "bin_start": 252185.79299999986,
            "count": 2
           }
          ],
          "max": "280206.01999999984",
          "min": "3.75",
          "nan_count": 0,
          "unique_count": 4267
         }
        },
        {
         "dtype": "int64",
         "name": "R_Score",
         "stats": {
          "histogram": [
           {
            "bin_end": 1.6,
            "bin_start": 1,
            "count": 651
           },
           {
            "bin_end": 2.2,
            "bin_start": 1.6,
            "count": 594
           },
           {
            "bin_end": 2.8,
            "bin_start": 2.2,
            "count": 0
           },
           {
            "bin_end": 3.4,
            "bin_start": 2.8,
            "count": 623
           },
           {
            "bin_end": 4,
            "bin_start": 3.4,
            "count": 0
           },
           {
            "bin_end": 4.6,
            "bin_start": 4,
            "count": 611
           },
           {
            "bin_end": 5.2,
            "bin_start": 4.6,
            "count": 618
           },
           {
            "bin_end": 5.8,
            "bin_start": 5.2,
            "count": 0
           },
           {
            "bin_end": 6.3999999999999995,
            "bin_start": 5.8,
            "count": 615
           },
           {
            "bin_end": 7,
            "bin_start": 6.3999999999999995,
            "count": 616
           }
          ],
          "max": "7",
          "min": "1",
          "nan_count": 0,
          "unique_count": 7
         }
        },
        {
         "dtype": "int64",
         "name": "F_Score",
         "stats": {
          "histogram": [
           {
            "bin_end": 1.6,
            "bin_start": 1,
            "count": 655
           },
           {
            "bin_end": 2.2,
            "bin_start": 1.6,
            "count": 624
           },
           {
            "bin_end": 2.8,
            "bin_start": 2.2,
            "count": 0
           },
           {
            "bin_end": 3.4,
            "bin_start": 2.8,
            "count": 592
           },
           {
            "bin_end": 4,
            "bin_start": 3.4,
            "count": 0
           },
           {
            "bin_end": 4.6,
            "bin_start": 4,
            "count": 628
           },
           {
            "bin_end": 5.2,
            "bin_start": 4.6,
            "count": 592
           },
           {
            "bin_end": 5.8,
            "bin_start": 5.2,
            "count": 0
           },
           {
            "bin_end": 6.3999999999999995,
            "bin_start": 5.8,
            "count": 618
           },
           {
            "bin_end": 7,
            "bin_start": 6.3999999999999995,
            "count": 619
           }
          ],
          "max": "7",
          "min": "1",
          "nan_count": 0,
          "unique_count": 7
         }
        },
        {
         "dtype": "int64",
         "name": "M_Score",
         "stats": {
          "histogram": [
           {
            "bin_end": 1.6,
            "bin_start": 1,
            "count": 618
           },
           {
            "bin_end": 2.2,
            "bin_start": 1.6,
            "count": 617
           },
           {
            "bin_end": 2.8,
            "bin_start": 2.2,
            "count": 0
           },
           {
            "bin_end": 3.4,
            "bin_start": 2.8,
            "count": 617
           },
           {
            "bin_end": 4,
            "bin_start": 3.4,
            "count": 0
           },
           {
            "bin_end": 4.6,
            "bin_start": 4,
            "count": 618
           },
           {
            "bin_end": 5.2,
            "bin_start": 4.6,
            "count": 618
           },
           {
            "bin_end": 5.8,
            "bin_start": 5.2,
            "count": 0
           },
           {
            "bin_end": 6.3999999999999995,
            "bin_start": 5.8,
            "count": 619
           },
           {
            "bin_end": 7,
            "bin_start": 6.3999999999999995,
            "count": 621
           }
          ],
          "max": "7",
          "min": "1",
          "nan_count": 0,
          "unique_count": 7
         }
        },
        {
         "dtype": "object",
         "name": "RFM_Segment",
         "stats": {
          "categories": [
           {
            "count": 188,
            "name": "177"
           },
           {
            "count": 147,
            "name": "711"
           },
           {
            "count": 3993,
            "name": "298 others"
           }
          ],
          "nan_count": 0,
          "unique_count": 300
         }
        },
        {
         "dtype": "int64",
         "name": "RFM_Score",
         "stats": {
          "histogram": [
           {
            "bin_end": 4.8,
            "bin_start": 3,
            "count": 48
           },
           {
            "bin_end": 6.6,
            "bin_start": 4.8,
            "count": 173
           },
           {
            "bin_end": 8.4,
            "bin_start": 6.6,
            "count": 435
           },
           {
            "bin_end": 10.2,
            "bin_start": 8.4,
            "count": 817
           },
           {
            "bin_end": 12,
            "bin_start": 10.2,
            "count": 437
           },
           {
            "bin_end": 13.8,
            "bin_start": 12,
            "count": 896
           },
           {
            "bin_end": 15.6,
            "bin_start": 13.8,
            "count": 920
           },
           {
            "bin_end": 17.4,
            "bin_start": 15.6,
            "count": 478
           },
           {
            "bin_end": 19.2,
            "bin_start": 17.4,
            "count": 117
           },
           {
            "bin_end": 21,
            "bin_start": 19.2,
            "count": 7
           }
          ],
          "max": "21",
          "min": "3",
          "nan_count": 0,
          "unique_count": 19
         }
        },
        {
         "dtype": "int64",
         "name": "RFM_Score_Category",
         "stats": {
          "histogram": [
           {
            "bin_end": 0.6,
            "bin_start": 0,
            "count": 48
           },
           {
            "bin_end": 1.2,
            "bin_start": 0.6,
            "count": 342
           },
           {
            "bin_end": 1.7999999999999998,
            "bin_start": 1.2,
            "count": 0
           },
           {
            "bin_end": 2.4,
            "bin_start": 1.7999999999999998,
            "count": 1083
           },
           {
            "bin_end": 3,
            "bin_start": 2.4,
            "count": 0
           },
           {
            "bin_end": 3.5999999999999996,
            "bin_start": 3,
            "count": 1333
           },
           {
            "bin_end": 4.2,
            "bin_start": 3.5999999999999996,
            "count": 1206
           },
           {
            "bin_end": 4.8,
            "bin_start": 4.2,
            "count": 0
           },
           {
            "bin_end": 5.3999999999999995,
            "bin_start": 4.8,
            "count": 309
           },
           {
            "bin_end": 6,
            "bin_start": 5.3999999999999995,
            "count": 7
           }
          ],
          "max": "6",
          "min": "0",
          "nan_count": 0,
          "unique_count": 7
         }
        },
        {
         "dtype": "object",
         "name": "Country",
         "stats": {
          "categories": [
           {
            "count": 3920,
            "name": "united kingdom"
           },
           {
            "count": 94,
            "name": "germany"
           },
           {
            "count": 314,
            "name": "25 others"
           }
          ],
          "nan_count": 0,
          "unique_count": 27
         }
        },
        {
         "dtype": "float64",
         "name": "_deepnote_index_column"
        }
       ],
       "row_count": 4328,
       "rows": [
        {
         "Country": "united kingdom",
         "F_Score": 7,
         "Frequency": 208,
         "M_Score": 7,
         "Monetary": 3734.970000000001,
         "RFM_Score": 21,
         "RFM_Score_Category": 6,
         "RFM_Segment": "777",
         "R_Score": 7,
         "Recency": 305,
         "_deepnote_index_column": 15808
        },
        {
         "Country": "united kingdom",
         "F_Score": 7,
         "Frequency": 297,
         "M_Score": 7,
         "Monetary": 5391.210000000009,
         "RFM_Score": 21,
         "RFM_Score_Category": 6,
         "RFM_Segment": "777",
         "R_Score": 7,
         "Recency": 371,
         "_deepnote_index_column": 17850
        },
        {
         "Country": "united kingdom",
         "F_Score": 7,
         "Frequency": 170,
         "M_Score": 5,
         "Monetary": 1269.9900000000002,
         "RFM_Score": 19,
         "RFM_Score_Category": 5,
         "RFM_Segment": "775",
         "R_Score": 7,
         "Recency": 241,
         "_deepnote_index_column": 14669
        },
        {
         "Country": "united kingdom",
         "F_Score": 6,
         "Frequency": 159,
         "M_Score": 7,
         "Monetary": 7832.469999999998,
         "RFM_Score": 20,
         "RFM_Score_Category": 6,
         "RFM_Segment": "767",
         "R_Score": 7,
         "Recency": 275,
         "_deepnote_index_column": 13093
        },
        {
         "Country": "germany",
         "F_Score": 6,
         "Frequency": 149,
         "M_Score": 6,
         "Monetary": 2169.3899999999994,
         "RFM_Score": 19,
         "RFM_Score_Category": 5,
         "RFM_Segment": "766",
         "R_Score": 7,
         "Recency": 336,
         "_deepnote_index_column": 12501
        },
        {
         "Country": "united kingdom",
         "F_Score": 6,
         "Frequency": 113,
         "M_Score": 6,
         "Monetary": 2200.42,
         "RFM_Score": 19,
         "RFM_Score_Category": 5,
         "RFM_Segment": "766",
         "R_Score": 7,
         "Recency": 332,
         "_deepnote_index_column": 17406
        },
        {
         "Country": "united kingdom",
         "F_Score": 6,
         "Frequency": 105,
         "M_Score": 5,
         "Monetary": 1079.3399999999997,
         "RFM_Score": 18,
         "RFM_Score_Category": 5,
         "RFM_Segment": "765",
         "R_Score": 7,
         "Recency": 280,
         "_deepnote_index_column": 13715
        },
        {
         "Country": "united kingdom",
         "F_Score": 6,
         "Frequency": 153,
         "M_Score": 5,
         "Monetary": 934.5200000000001,
         "RFM_Score": 18,
         "RFM_Score_Category": 5,
         "RFM_Segment": "765",
         "R_Score": 7,
         "Recency": 301,
         "_deepnote_index_column": 14081
        },
        {
         "Country": "united kingdom",
         "F_Score": 6,
         "Frequency": 130,
         "M_Score": 5,
         "Monetary": 1058.6200000000008,
         "RFM_Score": 18,
         "RFM_Score_Category": 5,
         "RFM_Segment": "765",
         "R_Score": 7,
         "Recency": 246,
         "_deepnote_index_column": 14465
        },
        {
         "Country": "united kingdom",
         "F_Score": 6,
         "Frequency": 157,
         "M_Score": 5,
         "Monetary": 1048.8500000000006,
         "RFM_Score": 18,
         "RFM_Score_Category": 5,
         "RFM_Segment": "765",
         "R_Score": 7,
         "Recency": 337,
         "_deepnote_index_column": 15464
        }
       ]
      },
      "text/html": [
       "<div>\n",
       "<style scoped>\n",
       "    .dataframe tbody tr th:only-of-type {\n",
       "        vertical-align: middle;\n",
       "    }\n",
       "\n",
       "    .dataframe tbody tr th {\n",
       "        vertical-align: top;\n",
       "    }\n",
       "\n",
       "    .dataframe thead th {\n",
       "        text-align: right;\n",
       "    }\n",
       "</style>\n",
       "<table border=\"1\" class=\"dataframe\">\n",
       "  <thead>\n",
       "    <tr style=\"text-align: right;\">\n",
       "      <th></th>\n",
       "      <th>Recency</th>\n",
       "      <th>Frequency</th>\n",
       "      <th>Monetary</th>\n",
       "      <th>R_Score</th>\n",
       "      <th>F_Score</th>\n",
       "      <th>M_Score</th>\n",
       "      <th>RFM_Segment</th>\n",
       "      <th>RFM_Score</th>\n",
       "      <th>RFM_Score_Category</th>\n",
       "      <th>Country</th>\n",
       "    </tr>\n",
       "    <tr>\n",
       "      <th>CustomerID</th>\n",
       "      <th></th>\n",
       "      <th></th>\n",
       "      <th></th>\n",
       "      <th></th>\n",
       "      <th></th>\n",
       "      <th></th>\n",
       "      <th></th>\n",
       "      <th></th>\n",
       "      <th></th>\n",
       "      <th></th>\n",
       "    </tr>\n",
       "  </thead>\n",
       "  <tbody>\n",
       "    <tr>\n",
       "      <th>15808.0</th>\n",
       "      <td>305</td>\n",
       "      <td>208</td>\n",
       "      <td>3734.97</td>\n",
       "      <td>7</td>\n",
       "      <td>7</td>\n",
       "      <td>7</td>\n",
       "      <td>777</td>\n",
       "      <td>21</td>\n",
       "      <td>6</td>\n",
       "      <td>united kingdom</td>\n",
       "    </tr>\n",
       "    <tr>\n",
       "      <th>17850.0</th>\n",
       "      <td>371</td>\n",
       "      <td>297</td>\n",
       "      <td>5391.21</td>\n",
       "      <td>7</td>\n",
       "      <td>7</td>\n",
       "      <td>7</td>\n",
       "      <td>777</td>\n",
       "      <td>21</td>\n",
       "      <td>6</td>\n",
       "      <td>united kingdom</td>\n",
       "    </tr>\n",
       "    <tr>\n",
       "      <th>14669.0</th>\n",
       "      <td>241</td>\n",
       "      <td>170</td>\n",
       "      <td>1269.99</td>\n",
       "      <td>7</td>\n",
       "      <td>7</td>\n",
       "      <td>5</td>\n",
       "      <td>775</td>\n",
       "      <td>19</td>\n",
       "      <td>5</td>\n",
       "      <td>united kingdom</td>\n",
       "    </tr>\n",
       "    <tr>\n",
       "      <th>13093.0</th>\n",
       "      <td>275</td>\n",
       "      <td>159</td>\n",
       "      <td>7832.47</td>\n",
       "      <td>7</td>\n",
       "      <td>6</td>\n",
       "      <td>7</td>\n",
       "      <td>767</td>\n",
       "      <td>20</td>\n",
       "      <td>6</td>\n",
       "      <td>united kingdom</td>\n",
       "    </tr>\n",
       "    <tr>\n",
       "      <th>12501.0</th>\n",
       "      <td>336</td>\n",
       "      <td>149</td>\n",
       "      <td>2169.39</td>\n",
       "      <td>7</td>\n",
       "      <td>6</td>\n",
       "      <td>6</td>\n",
       "      <td>766</td>\n",
       "      <td>19</td>\n",
       "      <td>5</td>\n",
       "      <td>germany</td>\n",
       "    </tr>\n",
       "    <tr>\n",
       "      <th>...</th>\n",
       "      <td>...</td>\n",
       "      <td>...</td>\n",
       "      <td>...</td>\n",
       "      <td>...</td>\n",
       "      <td>...</td>\n",
       "      <td>...</td>\n",
       "      <td>...</td>\n",
       "      <td>...</td>\n",
       "      <td>...</td>\n",
       "      <td>...</td>\n",
       "    </tr>\n",
       "    <tr>\n",
       "      <th>16789.0</th>\n",
       "      <td>7</td>\n",
       "      <td>5</td>\n",
       "      <td>80.80</td>\n",
       "      <td>1</td>\n",
       "      <td>1</td>\n",
       "      <td>1</td>\n",
       "      <td>111</td>\n",
       "      <td>3</td>\n",
       "      <td>0</td>\n",
       "      <td>united kingdom</td>\n",
       "    </tr>\n",
       "    <tr>\n",
       "      <th>16988.0</th>\n",
       "      <td>4</td>\n",
       "      <td>7</td>\n",
       "      <td>126.12</td>\n",
       "      <td>1</td>\n",
       "      <td>1</td>\n",
       "      <td>1</td>\n",
       "      <td>111</td>\n",
       "      <td>3</td>\n",
       "      <td>0</td>\n",
       "      <td>united kingdom</td>\n",
       "    </tr>\n",
       "    <tr>\n",
       "      <th>17737.0</th>\n",
       "      <td>8</td>\n",
       "      <td>10</td>\n",
       "      <td>168.24</td>\n",
       "      <td>1</td>\n",
       "      <td>1</td>\n",
       "      <td>1</td>\n",
       "      <td>111</td>\n",
       "      <td>3</td>\n",
       "      <td>0</td>\n",
       "      <td>united kingdom</td>\n",
       "    </tr>\n",
       "    <tr>\n",
       "      <th>17942.0</th>\n",
       "      <td>7</td>\n",
       "      <td>2</td>\n",
       "      <td>77.50</td>\n",
       "      <td>1</td>\n",
       "      <td>1</td>\n",
       "      <td>1</td>\n",
       "      <td>111</td>\n",
       "      <td>3</td>\n",
       "      <td>0</td>\n",
       "      <td>united kingdom</td>\n",
       "    </tr>\n",
       "    <tr>\n",
       "      <th>18174.0</th>\n",
       "      <td>6</td>\n",
       "      <td>1</td>\n",
       "      <td>104.00</td>\n",
       "      <td>1</td>\n",
       "      <td>1</td>\n",
       "      <td>1</td>\n",
       "      <td>111</td>\n",
       "      <td>3</td>\n",
       "      <td>0</td>\n",
       "      <td>united kingdom</td>\n",
       "    </tr>\n",
       "  </tbody>\n",
       "</table>\n",
       "<p>4328 rows × 10 columns</p>\n",
       "</div>"
      ],
      "text/plain": [
       "            Recency  Frequency  Monetary  R_Score  F_Score  M_Score  \\\n",
       "CustomerID                                                            \n",
       "15808.0         305        208   3734.97        7        7        7   \n",
       "17850.0         371        297   5391.21        7        7        7   \n",
       "14669.0         241        170   1269.99        7        7        5   \n",
       "13093.0         275        159   7832.47        7        6        7   \n",
       "12501.0         336        149   2169.39        7        6        6   \n",
       "...             ...        ...       ...      ...      ...      ...   \n",
       "16789.0           7          5     80.80        1        1        1   \n",
       "16988.0           4          7    126.12        1        1        1   \n",
       "17737.0           8         10    168.24        1        1        1   \n",
       "17942.0           7          2     77.50        1        1        1   \n",
       "18174.0           6          1    104.00        1        1        1   \n",
       "\n",
       "           RFM_Segment  RFM_Score  RFM_Score_Category         Country  \n",
       "CustomerID                                                             \n",
       "15808.0            777         21                   6  united kingdom  \n",
       "17850.0            777         21                   6  united kingdom  \n",
       "14669.0            775         19                   5  united kingdom  \n",
       "13093.0            767         20                   6  united kingdom  \n",
       "12501.0            766         19                   5         germany  \n",
       "...                ...        ...                 ...             ...  \n",
       "16789.0            111          3                   0  united kingdom  \n",
       "16988.0            111          3                   0  united kingdom  \n",
       "17737.0            111          3                   0  united kingdom  \n",
       "17942.0            111          3                   0  united kingdom  \n",
       "18174.0            111          3                   0  united kingdom  \n",
       "\n",
       "[4328 rows x 10 columns]"
      ]
     },
     "execution_count": 58,
     "metadata": {},
     "output_type": "execute_result"
    }
   ],
   "source": [
    "# we need to join this Customer_countries table to rfm\n",
    "rfm_plus_country = rfm.join(Customer_countries, on='CustomerID', how='left')\n",
    "rfm_plus_country"
   ]
  },
  {
   "cell_type": "code",
   "execution_count": 59,
   "metadata": {
    "cell_id": "6e7233342847448c96becdf1702e32a4",
    "deepnote_cell_type": "code",
    "deepnote_to_be_reexecuted": false,
    "execution_millis": 2,
    "execution_start": 1687589254817,
    "source_hash": "b9f6a9e2"
   },
   "outputs": [
    {
     "name": "stdout",
     "output_type": "stream",
     "text": [
      "The rows, columns shape for rfm: (4320, 9)\n",
      "The rows, columns shape for rfm_plus_country: (4328, 10)\n"
     ]
    }
   ],
   "source": [
    "print('The rows, columns shape for rfm:',rfm.shape)\n",
    "print('The rows, columns shape for rfm_plus_country:',rfm_plus_country.shape)"
   ]
  },
  {
   "cell_type": "markdown",
   "metadata": {
    "cell_id": "679287b1109a43da8817dc0195b775ac",
    "deepnote_cell_type": "markdown"
   },
   "source": [
    "`"
   ]
  },
  {
   "cell_type": "markdown",
   "metadata": {
    "cell_id": "0044fe0b2b1e4489bf4b576cf3d536f6",
    "deepnote_cell_type": "markdown"
   },
   "source": [
    "<p>There is need to probe why the discrepancy in the two dataframes: <b>rfm</b> and <b>rfm_plus_country</b></p>"
   ]
  },
  {
   "cell_type": "code",
   "execution_count": 60,
   "metadata": {
    "cell_id": "09e3bf89ac2f4899a5be1b5047f973d9",
    "deepnote_cell_type": "code",
    "deepnote_to_be_reexecuted": false,
    "execution_millis": 2,
    "execution_start": 1687589261303,
    "source_hash": "2c5d6bea"
   },
   "outputs": [
    {
     "data": {
      "text/plain": [
       "Float64Index([12455.0, 12455.0, 12457.0, 12457.0, 12422.0, 12422.0, 12370.0,\n",
       "              12370.0, 12394.0, 12394.0, 12431.0, 12431.0, 12417.0, 12417.0,\n",
       "              12429.0, 12429.0],\n",
       "             dtype='float64', name='CustomerID')"
      ]
     },
     "execution_count": 60,
     "metadata": {},
     "output_type": "execute_result"
    }
   ],
   "source": [
    "rfm_plus_country.index[rfm_plus_country.index.duplicated(keep=False)]"
   ]
  },
  {
   "cell_type": "markdown",
   "metadata": {
    "cell_id": "41f124cfb9114c919cc58ac22b7d5b78",
    "deepnote_cell_type": "markdown"
   },
   "source": [
    "<p>We have duplicated index based on the above</p>"
   ]
  },
  {
   "cell_type": "markdown",
   "metadata": {
    "cell_id": "971e5835488c4fd1affa08660e7e52ba",
    "deepnote_cell_type": "markdown"
   },
   "source": [
    "`"
   ]
  },
  {
   "cell_type": "code",
   "execution_count": 61,
   "metadata": {
    "cell_id": "e67f97e56b38417691a990459f76d6e6",
    "deepnote_cell_type": "code",
    "deepnote_to_be_reexecuted": false,
    "execution_millis": 49,
    "execution_start": 1687589276499,
    "source_hash": "32486652"
   },
   "outputs": [
    {
     "data": {
      "application/vnd.deepnote.dataframe.v3+json": {
       "column_count": 10,
       "columns": [
        {
         "dtype": "int64",
         "name": "Recency",
         "stats": {
          "histogram": [
           {
            "bin_end": 11.3,
            "bin_start": 2,
            "count": 4
           },
           {
            "bin_end": 20.6,
            "bin_start": 11.3,
            "count": 0
           },
           {
            "bin_end": 29.900000000000002,
            "bin_start": 20.6,
            "count": 0
           },
           {
            "bin_end": 39.2,
            "bin_start": 29.900000000000002,
            "count": 2
           },
           {
            "bin_end": 48.5,
            "bin_start": 39.2,
            "count": 0
           },
           {
            "bin_end": 57.800000000000004,
            "bin_start": 48.5,
            "count": 2
           },
           {
            "bin_end": 67.10000000000001,
            "bin_start": 57.800000000000004,
            "count": 4
           },
           {
            "bin_end": 76.4,
            "bin_start": 67.10000000000001,
            "count": 2
           },
           {
            "bin_end": 85.7,
            "bin_start": 76.4,
            "count": 0
           },
           {
            "bin_end": 95,
            "bin_start": 85.7,
            "count": 2
           }
          ],
          "max": "95",
          "min": "2",
          "nan_count": 0,
          "unique_count": 8
         }
        },
        {
         "dtype": "int64",
         "name": "Frequency",
         "stats": {
          "histogram": [
           {
            "bin_end": 47.8,
            "bin_start": 27,
            "count": 4
           },
           {
            "bin_end": 68.6,
            "bin_start": 47.8,
            "count": 2
           },
           {
            "bin_end": 89.4,
            "bin_start": 68.6,
            "count": 0
           },
           {
            "bin_end": 110.2,
            "bin_start": 89.4,
            "count": 4
           },
           {
            "bin_end": 131,
            "bin_start": 110.2,
            "count": 0
           },
           {
            "bin_end": 151.8,
            "bin_start": 131,
            "count": 0
           },
           {
            "bin_end": 172.6,
            "bin_start": 151.8,
            "count": 2
           },
           {
            "bin_end": 193.4,
            "bin_start": 172.6,
            "count": 2
           },
           {
            "bin_end": 214.20000000000002,
            "bin_start": 193.4,
            "count": 0
           },
           {
            "bin_end": 235,
            "bin_start": 214.20000000000002,
            "count": 2
           }
          ],
          "max": "235",
          "min": "27",
          "nan_count": 0,
          "unique_count": 8
         }
        },
        {
         "dtype": "float64",
         "name": "Monetary",
         "stats": {
          "histogram": [
           {
            "bin_end": 1371.9489999999996,
            "bin_start": 803.5599999999998,
            "count": 4
           },
           {
            "bin_end": 1940.3379999999997,
            "bin_start": 1371.9489999999996,
            "count": 0
           },
           {
            "bin_end": 2508.7269999999994,
            "bin_start": 1940.3379999999997,
            "count": 4
           },
           {
            "bin_end": 3077.1159999999995,
            "bin_start": 2508.7269999999994,
            "count": 0
           },
           {
            "bin_end": 3645.5049999999997,
            "bin_start": 3077.1159999999995,
            "count": 2
           },
           {
            "bin_end": 4213.893999999999,
            "bin_start": 3645.5049999999997,
            "count": 4
           },
           {
            "bin_end": 4782.2829999999985,
            "bin_start": 4213.893999999999,
            "count": 0
           },
           {
            "bin_end": 5350.671999999999,
            "bin_start": 4782.2829999999985,
            "count": 0
           },
           {
            "bin_end": 5919.060999999999,
            "bin_start": 5350.671999999999,
            "count": 0
           },
           {
            "bin_end": 6487.449999999999,
            "bin_start": 5919.060999999999,
            "count": 2
           }
          ],
          "max": "6487.449999999999",
          "min": "803.5599999999998",
          "nan_count": 0,
          "unique_count": 8
         }
        },
        {
         "dtype": "int64",
         "name": "R_Score",
         "stats": {
          "histogram": [
           {
            "bin_end": 1.4,
            "bin_start": 1,
            "count": 4
           },
           {
            "bin_end": 1.8,
            "bin_start": 1.4,
            "count": 0
           },
           {
            "bin_end": 2.2,
            "bin_start": 1.8,
            "count": 0
           },
           {
            "bin_end": 2.6,
            "bin_start": 2.2,
            "count": 0
           },
           {
            "bin_end": 3,
            "bin_start": 2.6,
            "count": 0
           },
           {
            "bin_end": 3.4000000000000004,
            "bin_start": 3,
            "count": 2
           },
           {
            "bin_end": 3.8000000000000003,
            "bin_start": 3.4000000000000004,
            "count": 0
           },
           {
            "bin_end": 4.2,
            "bin_start": 3.8000000000000003,
            "count": 4
           },
           {
            "bin_end": 4.6,
            "bin_start": 4.2,
            "count": 0
           },
           {
            "bin_end": 5,
            "bin_start": 4.6,
            "count": 6
           }
          ],
          "max": "5",
          "min": "1",
          "nan_count": 0,
          "unique_count": 4
         }
        },
        {
         "dtype": "int64",
         "name": "F_Score",
         "stats": {
          "histogram": [
           {
            "bin_end": 3.4,
            "bin_start": 3,
            "count": 2
           },
           {
            "bin_end": 3.8,
            "bin_start": 3.4,
            "count": 0
           },
           {
            "bin_end": 4.2,
            "bin_start": 3.8,
            "count": 2
           },
           {
            "bin_end": 4.6,
            "bin_start": 4.2,
            "count": 0
           },
           {
            "bin_end": 5,
            "bin_start": 4.6,
            "count": 0
           },
           {
            "bin_end": 5.4,
            "bin_start": 5,
            "count": 2
           },
           {
            "bin_end": 5.800000000000001,
            "bin_start": 5.4,
            "count": 0
           },
           {
            "bin_end": 6.2,
            "bin_start": 5.800000000000001,
            "count": 4
           },
           {
            "bin_end": 6.6,
            "bin_start": 6.2,
            "count": 0
           },
           {
            "bin_end": 7,
            "bin_start": 6.6,
            "count": 6
           }
          ],
          "max": "7",
          "min": "3",
          "nan_count": 0,
          "unique_count": 5
         }
        },
        {
         "dtype": "int64",
         "name": "M_Score",
         "stats": {
          "histogram": [
           {
            "bin_end": 4.3,
            "bin_start": 4,
            "count": 2
           },
           {
            "bin_end": 4.6,
            "bin_start": 4.3,
            "count": 0
           },
           {
            "bin_end": 4.9,
            "bin_start": 4.6,
            "count": 0
           },
           {
            "bin_end": 5.2,
            "bin_start": 4.9,
            "count": 2
           },
           {
            "bin_end": 5.5,
            "bin_start": 5.2,
            "count": 0
           },
           {
            "bin_end": 5.8,
            "bin_start": 5.5,
            "count": 0
           },
           {
            "bin_end": 6.1,
            "bin_start": 5.8,
            "count": 4
           },
           {
            "bin_end": 6.4,
            "bin_start": 6.1,
            "count": 0
           },
           {
            "bin_end": 6.699999999999999,
            "bin_start": 6.4,
            "count": 0
           },
           {
            "bin_end": 7,
            "bin_start": 6.699999999999999,
            "count": 8
           }
          ],
          "max": "7",
          "min": "4",
          "nan_count": 0,
          "unique_count": 4
         }
        },
        {
         "dtype": "object",
         "name": "RFM_Segment",
         "stats": {
          "categories": [
           {
            "count": 2,
            "name": "566"
           },
           {
            "count": 2,
            "name": "556"
           },
           {
            "count": 12,
            "name": "6 others"
           }
          ],
          "nan_count": 0,
          "unique_count": 8
         }
        },
        {
         "dtype": "int64",
         "name": "RFM_Score",
         "stats": {
          "histogram": [
           {
            "bin_end": 12.6,
            "bin_start": 12,
            "count": 2
           },
           {
            "bin_end": 13.2,
            "bin_start": 12.6,
            "count": 2
           },
           {
            "bin_end": 13.8,
            "bin_start": 13.2,
            "count": 0
           },
           {
            "bin_end": 14.4,
            "bin_start": 13.8,
            "count": 2
           },
           {
            "bin_end": 15,
            "bin_start": 14.4,
            "count": 0
           },
           {
            "bin_end": 15.6,
            "bin_start": 15,
            "count": 2
           },
           {
            "bin_end": 16.2,
            "bin_start": 15.6,
            "count": 2
           },
           {
            "bin_end": 16.8,
            "bin_start": 16.2,
            "count": 0
           },
           {
            "bin_end": 17.4,
            "bin_start": 16.8,
            "count": 4
           },
           {
            "bin_end": 18,
            "bin_start": 17.4,
            "count": 2
           }
          ],
          "max": "18",
          "min": "12",
          "nan_count": 0,
          "unique_count": 7
         }
        },
        {
         "dtype": "int64",
         "name": "RFM_Score_Category",
         "stats": {
          "histogram": [
           {
            "bin_end": 3.2,
            "bin_start": 3,
            "count": 4
           },
           {
            "bin_end": 3.4,
            "bin_start": 3.2,
            "count": 0
           },
           {
            "bin_end": 3.6,
            "bin_start": 3.4,
            "count": 0
           },
           {
            "bin_end": 3.8,
            "bin_start": 3.6,
            "count": 0
           },
           {
            "bin_end": 4,
            "bin_start": 3.8,
            "count": 0
           },
           {
            "bin_end": 4.2,
            "bin_start": 4,
            "count": 6
           },
           {
            "bin_end": 4.4,
            "bin_start": 4.2,
            "count": 0
           },
           {
            "bin_end": 4.6,
            "bin_start": 4.4,
            "count": 0
           },
           {
            "bin_end": 4.8,
            "bin_start": 4.6,
            "count": 0
           },
           {
            "bin_end": 5,
            "bin_start": 4.8,
            "count": 6
           }
          ],
          "max": "5",
          "min": "3",
          "nan_count": 0,
          "unique_count": 3
         }
        },
        {
         "dtype": "object",
         "name": "Country",
         "stats": {
          "categories": [
           {
            "count": 3,
            "name": "cyprus"
           },
           {
            "count": 3,
            "name": "belgium"
           },
           {
            "count": 10,
            "name": "5 others"
           }
          ],
          "nan_count": 0,
          "unique_count": 7
         }
        },
        {
         "dtype": "float64",
         "name": "_deepnote_index_column"
        }
       ],
       "row_count": 16,
       "rows": [
        {
         "Country": "cyprus",
         "F_Score": 6,
         "Frequency": 90,
         "M_Score": 6,
         "Monetary": 2466.859999999997,
         "RFM_Score": 17,
         "RFM_Score_Category": 5,
         "RFM_Segment": "566",
         "R_Score": 5,
         "Recency": 72,
         "_deepnote_index_column": 12455
        },
        {
         "Country": "spain",
         "F_Score": 6,
         "Frequency": 90,
         "M_Score": 6,
         "Monetary": 2466.859999999997,
         "RFM_Score": 17,
         "RFM_Score_Category": 5,
         "RFM_Segment": "566",
         "R_Score": 5,
         "Recency": 72,
         "_deepnote_index_column": 12455
        },
        {
         "Country": "switzerland",
         "F_Score": 5,
         "Frequency": 62,
         "M_Score": 6,
         "Monetary": 2363.2299999999996,
         "RFM_Score": 16,
         "RFM_Score_Category": 4,
         "RFM_Segment": "556",
         "R_Score": 5,
         "Recency": 65,
         "_deepnote_index_column": 12457
        },
        {
         "Country": "cyprus",
         "F_Score": 5,
         "Frequency": 62,
         "M_Score": 6,
         "Monetary": 2363.2299999999996,
         "RFM_Score": 16,
         "RFM_Score_Category": 4,
         "RFM_Segment": "556",
         "R_Score": 5,
         "Recency": 65,
         "_deepnote_index_column": 12457
        },
        {
         "Country": "australia",
         "F_Score": 4,
         "Frequency": 39,
         "M_Score": 4,
         "Monetary": 803.5599999999998,
         "RFM_Score": 13,
         "RFM_Score_Category": 3,
         "RFM_Segment": "544",
         "R_Score": 5,
         "Recency": 95,
         "_deepnote_index_column": 12422
        },
        {
         "Country": "switzerland",
         "F_Score": 4,
         "Frequency": 39,
         "M_Score": 4,
         "Monetary": 803.5599999999998,
         "RFM_Score": 13,
         "RFM_Score_Category": 3,
         "RFM_Segment": "544",
         "R_Score": 5,
         "Recency": 95,
         "_deepnote_index_column": 12422
        },
        {
         "Country": "cyprus",
         "F_Score": 7,
         "Frequency": 167,
         "M_Score": 7,
         "Monetary": 3545.689999999998,
         "RFM_Score": 18,
         "RFM_Score_Category": 5,
         "RFM_Segment": "477",
         "R_Score": 4,
         "Recency": 50,
         "_deepnote_index_column": 12370
        },
        {
         "Country": "austria",
         "F_Score": 7,
         "Frequency": 167,
         "M_Score": 7,
         "Monetary": 3545.689999999998,
         "RFM_Score": 18,
         "RFM_Score_Category": 5,
         "RFM_Segment": "477",
         "R_Score": 4,
         "Recency": 50,
         "_deepnote_index_column": 12370
        },
        {
         "Country": "belgium",
         "F_Score": 3,
         "Frequency": 27,
         "M_Score": 5,
         "Monetary": 1272.48,
         "RFM_Score": 12,
         "RFM_Score_Category": 3,
         "RFM_Segment": "435",
         "R_Score": 4,
         "Recency": 63,
         "_deepnote_index_column": 12394
        },
        {
         "Country": "denmark",
         "F_Score": 3,
         "Frequency": 27,
         "M_Score": 5,
         "Monetary": 1272.48,
         "RFM_Score": 12,
         "RFM_Score_Category": 3,
         "RFM_Segment": "435",
         "R_Score": 4,
         "Recency": 63,
         "_deepnote_index_column": 12394
        }
       ]
      },
      "text/html": [
       "<div>\n",
       "<style scoped>\n",
       "    .dataframe tbody tr th:only-of-type {\n",
       "        vertical-align: middle;\n",
       "    }\n",
       "\n",
       "    .dataframe tbody tr th {\n",
       "        vertical-align: top;\n",
       "    }\n",
       "\n",
       "    .dataframe thead th {\n",
       "        text-align: right;\n",
       "    }\n",
       "</style>\n",
       "<table border=\"1\" class=\"dataframe\">\n",
       "  <thead>\n",
       "    <tr style=\"text-align: right;\">\n",
       "      <th></th>\n",
       "      <th>Recency</th>\n",
       "      <th>Frequency</th>\n",
       "      <th>Monetary</th>\n",
       "      <th>R_Score</th>\n",
       "      <th>F_Score</th>\n",
       "      <th>M_Score</th>\n",
       "      <th>RFM_Segment</th>\n",
       "      <th>RFM_Score</th>\n",
       "      <th>RFM_Score_Category</th>\n",
       "      <th>Country</th>\n",
       "    </tr>\n",
       "    <tr>\n",
       "      <th>CustomerID</th>\n",
       "      <th></th>\n",
       "      <th></th>\n",
       "      <th></th>\n",
       "      <th></th>\n",
       "      <th></th>\n",
       "      <th></th>\n",
       "      <th></th>\n",
       "      <th></th>\n",
       "      <th></th>\n",
       "      <th></th>\n",
       "    </tr>\n",
       "  </thead>\n",
       "  <tbody>\n",
       "    <tr>\n",
       "      <th>12455.0</th>\n",
       "      <td>72</td>\n",
       "      <td>90</td>\n",
       "      <td>2466.86</td>\n",
       "      <td>5</td>\n",
       "      <td>6</td>\n",
       "      <td>6</td>\n",
       "      <td>566</td>\n",
       "      <td>17</td>\n",
       "      <td>5</td>\n",
       "      <td>cyprus</td>\n",
       "    </tr>\n",
       "    <tr>\n",
       "      <th>12455.0</th>\n",
       "      <td>72</td>\n",
       "      <td>90</td>\n",
       "      <td>2466.86</td>\n",
       "      <td>5</td>\n",
       "      <td>6</td>\n",
       "      <td>6</td>\n",
       "      <td>566</td>\n",
       "      <td>17</td>\n",
       "      <td>5</td>\n",
       "      <td>spain</td>\n",
       "    </tr>\n",
       "    <tr>\n",
       "      <th>12457.0</th>\n",
       "      <td>65</td>\n",
       "      <td>62</td>\n",
       "      <td>2363.23</td>\n",
       "      <td>5</td>\n",
       "      <td>5</td>\n",
       "      <td>6</td>\n",
       "      <td>556</td>\n",
       "      <td>16</td>\n",
       "      <td>4</td>\n",
       "      <td>switzerland</td>\n",
       "    </tr>\n",
       "    <tr>\n",
       "      <th>12457.0</th>\n",
       "      <td>65</td>\n",
       "      <td>62</td>\n",
       "      <td>2363.23</td>\n",
       "      <td>5</td>\n",
       "      <td>5</td>\n",
       "      <td>6</td>\n",
       "      <td>556</td>\n",
       "      <td>16</td>\n",
       "      <td>4</td>\n",
       "      <td>cyprus</td>\n",
       "    </tr>\n",
       "    <tr>\n",
       "      <th>12422.0</th>\n",
       "      <td>95</td>\n",
       "      <td>39</td>\n",
       "      <td>803.56</td>\n",
       "      <td>5</td>\n",
       "      <td>4</td>\n",
       "      <td>4</td>\n",
       "      <td>544</td>\n",
       "      <td>13</td>\n",
       "      <td>3</td>\n",
       "      <td>australia</td>\n",
       "    </tr>\n",
       "    <tr>\n",
       "      <th>12422.0</th>\n",
       "      <td>95</td>\n",
       "      <td>39</td>\n",
       "      <td>803.56</td>\n",
       "      <td>5</td>\n",
       "      <td>4</td>\n",
       "      <td>4</td>\n",
       "      <td>544</td>\n",
       "      <td>13</td>\n",
       "      <td>3</td>\n",
       "      <td>switzerland</td>\n",
       "    </tr>\n",
       "    <tr>\n",
       "      <th>12370.0</th>\n",
       "      <td>50</td>\n",
       "      <td>167</td>\n",
       "      <td>3545.69</td>\n",
       "      <td>4</td>\n",
       "      <td>7</td>\n",
       "      <td>7</td>\n",
       "      <td>477</td>\n",
       "      <td>18</td>\n",
       "      <td>5</td>\n",
       "      <td>cyprus</td>\n",
       "    </tr>\n",
       "    <tr>\n",
       "      <th>12370.0</th>\n",
       "      <td>50</td>\n",
       "      <td>167</td>\n",
       "      <td>3545.69</td>\n",
       "      <td>4</td>\n",
       "      <td>7</td>\n",
       "      <td>7</td>\n",
       "      <td>477</td>\n",
       "      <td>18</td>\n",
       "      <td>5</td>\n",
       "      <td>austria</td>\n",
       "    </tr>\n",
       "    <tr>\n",
       "      <th>12394.0</th>\n",
       "      <td>63</td>\n",
       "      <td>27</td>\n",
       "      <td>1272.48</td>\n",
       "      <td>4</td>\n",
       "      <td>3</td>\n",
       "      <td>5</td>\n",
       "      <td>435</td>\n",
       "      <td>12</td>\n",
       "      <td>3</td>\n",
       "      <td>belgium</td>\n",
       "    </tr>\n",
       "    <tr>\n",
       "      <th>12394.0</th>\n",
       "      <td>63</td>\n",
       "      <td>27</td>\n",
       "      <td>1272.48</td>\n",
       "      <td>4</td>\n",
       "      <td>3</td>\n",
       "      <td>5</td>\n",
       "      <td>435</td>\n",
       "      <td>12</td>\n",
       "      <td>3</td>\n",
       "      <td>denmark</td>\n",
       "    </tr>\n",
       "    <tr>\n",
       "      <th>12431.0</th>\n",
       "      <td>35</td>\n",
       "      <td>235</td>\n",
       "      <td>6487.45</td>\n",
       "      <td>3</td>\n",
       "      <td>7</td>\n",
       "      <td>7</td>\n",
       "      <td>377</td>\n",
       "      <td>17</td>\n",
       "      <td>5</td>\n",
       "      <td>australia</td>\n",
       "    </tr>\n",
       "    <tr>\n",
       "      <th>12431.0</th>\n",
       "      <td>35</td>\n",
       "      <td>235</td>\n",
       "      <td>6487.45</td>\n",
       "      <td>3</td>\n",
       "      <td>7</td>\n",
       "      <td>7</td>\n",
       "      <td>377</td>\n",
       "      <td>17</td>\n",
       "      <td>5</td>\n",
       "      <td>belgium</td>\n",
       "    </tr>\n",
       "    <tr>\n",
       "      <th>12417.0</th>\n",
       "      <td>2</td>\n",
       "      <td>192</td>\n",
       "      <td>3649.10</td>\n",
       "      <td>1</td>\n",
       "      <td>7</td>\n",
       "      <td>7</td>\n",
       "      <td>177</td>\n",
       "      <td>15</td>\n",
       "      <td>4</td>\n",
       "      <td>belgium</td>\n",
       "    </tr>\n",
       "    <tr>\n",
       "      <th>12417.0</th>\n",
       "      <td>2</td>\n",
       "      <td>192</td>\n",
       "      <td>3649.10</td>\n",
       "      <td>1</td>\n",
       "      <td>7</td>\n",
       "      <td>7</td>\n",
       "      <td>177</td>\n",
       "      <td>15</td>\n",
       "      <td>4</td>\n",
       "      <td>spain</td>\n",
       "    </tr>\n",
       "    <tr>\n",
       "      <th>12429.0</th>\n",
       "      <td>8</td>\n",
       "      <td>97</td>\n",
       "      <td>3750.40</td>\n",
       "      <td>1</td>\n",
       "      <td>6</td>\n",
       "      <td>7</td>\n",
       "      <td>167</td>\n",
       "      <td>14</td>\n",
       "      <td>4</td>\n",
       "      <td>denmark</td>\n",
       "    </tr>\n",
       "    <tr>\n",
       "      <th>12429.0</th>\n",
       "      <td>8</td>\n",
       "      <td>97</td>\n",
       "      <td>3750.40</td>\n",
       "      <td>1</td>\n",
       "      <td>6</td>\n",
       "      <td>7</td>\n",
       "      <td>167</td>\n",
       "      <td>14</td>\n",
       "      <td>4</td>\n",
       "      <td>austria</td>\n",
       "    </tr>\n",
       "  </tbody>\n",
       "</table>\n",
       "</div>"
      ],
      "text/plain": [
       "            Recency  Frequency  Monetary  R_Score  F_Score  M_Score  \\\n",
       "CustomerID                                                            \n",
       "12455.0          72         90   2466.86        5        6        6   \n",
       "12455.0          72         90   2466.86        5        6        6   \n",
       "12457.0          65         62   2363.23        5        5        6   \n",
       "12457.0          65         62   2363.23        5        5        6   \n",
       "12422.0          95         39    803.56        5        4        4   \n",
       "12422.0          95         39    803.56        5        4        4   \n",
       "12370.0          50        167   3545.69        4        7        7   \n",
       "12370.0          50        167   3545.69        4        7        7   \n",
       "12394.0          63         27   1272.48        4        3        5   \n",
       "12394.0          63         27   1272.48        4        3        5   \n",
       "12431.0          35        235   6487.45        3        7        7   \n",
       "12431.0          35        235   6487.45        3        7        7   \n",
       "12417.0           2        192   3649.10        1        7        7   \n",
       "12417.0           2        192   3649.10        1        7        7   \n",
       "12429.0           8         97   3750.40        1        6        7   \n",
       "12429.0           8         97   3750.40        1        6        7   \n",
       "\n",
       "           RFM_Segment  RFM_Score  RFM_Score_Category      Country  \n",
       "CustomerID                                                          \n",
       "12455.0            566         17                   5       cyprus  \n",
       "12455.0            566         17                   5        spain  \n",
       "12457.0            556         16                   4  switzerland  \n",
       "12457.0            556         16                   4       cyprus  \n",
       "12422.0            544         13                   3    australia  \n",
       "12422.0            544         13                   3  switzerland  \n",
       "12370.0            477         18                   5       cyprus  \n",
       "12370.0            477         18                   5      austria  \n",
       "12394.0            435         12                   3      belgium  \n",
       "12394.0            435         12                   3      denmark  \n",
       "12431.0            377         17                   5    australia  \n",
       "12431.0            377         17                   5      belgium  \n",
       "12417.0            177         15                   4      belgium  \n",
       "12417.0            177         15                   4        spain  \n",
       "12429.0            167         14                   4      denmark  \n",
       "12429.0            167         14                   4      austria  "
      ]
     },
     "execution_count": 61,
     "metadata": {},
     "output_type": "execute_result"
    }
   ],
   "source": [
    "# examine the actual rows with duplicated index\n",
    "rfm_plus_country[rfm_plus_country.index.duplicated(keep=False)]"
   ]
  },
  {
   "cell_type": "markdown",
   "metadata": {
    "cell_id": "a197b6caad3c46fcbc968d81d4989c0d",
    "deepnote_cell_type": "markdown"
   },
   "source": [
    "<p>This is a case where a CustomerID is seen to have come from more than one Country</p>"
   ]
  },
  {
   "cell_type": "code",
   "execution_count": 62,
   "metadata": {
    "cell_id": "be36a2f78a674609a16a437a92d715ee",
    "deepnote_cell_type": "code",
    "deepnote_to_be_reexecuted": false,
    "execution_millis": 33,
    "execution_start": 1687589287403,
    "source_hash": "9febe1f3"
   },
   "outputs": [
    {
     "data": {
      "application/vnd.deepnote.dataframe.v3+json": {
       "column_count": 5,
       "columns": [
        {
         "dtype": "datetime64[ns]",
         "name": "InvoiceDate",
         "stats": {
          "histogram": [
           {
            "bin_end": 1299778890000000000,
            "bin_start": 1297850160000000000,
            "count": 42
           },
           {
            "bin_end": 1301707620000000000,
            "bin_start": 1299778890000000000,
            "count": 0
           },
           {
            "bin_end": 1303636350000000000,
            "bin_start": 1301707620000000000,
            "count": 0
           },
           {
            "bin_end": 1305565080000000000,
            "bin_start": 1303636350000000000,
            "count": 0
           },
           {
            "bin_end": 1307493810000000000,
            "bin_start": 1305565080000000000,
            "count": 13
           },
           {
            "bin_end": 1309422540000000000,
            "bin_start": 1307493810000000000,
            "count": 0
           },
           {
            "bin_end": 1311351270000000000,
            "bin_start": 1309422540000000000,
            "count": 11
           },
           {
            "bin_end": 1313280000000000000,
            "bin_start": 1311351270000000000,
            "count": 5
           },
           {
            "bin_end": 1315208730000000000,
            "bin_start": 1313280000000000000,
            "count": 0
           },
           {
            "bin_end": 1317137460000000000,
            "bin_start": 1315208730000000000,
            "count": 19
           }
          ],
          "max": "2011-09-27 15:31:00",
          "min": "2011-02-16 09:56:00",
          "nan_count": 0,
          "unique_count": 6
         }
        },
        {
         "dtype": "object",
         "name": "Description",
         "stats": {
          "categories": [
           {
            "count": 5,
            "name": "postage"
           },
           {
            "count": 2,
            "name": "pink polkadot bowl"
           },
           {
            "count": 83,
            "name": "83 others"
           }
          ],
          "nan_count": 0,
          "unique_count": 85
         }
        },
        {
         "dtype": "int64",
         "name": "Quantity",
         "stats": {
          "histogram": [
           {
            "bin_end": 29.7,
            "bin_start": 1,
            "count": 72
           },
           {
            "bin_end": 58.4,
            "bin_start": 29.7,
            "count": 11
           },
           {
            "bin_end": 87.1,
            "bin_start": 58.4,
            "count": 3
           },
           {
            "bin_end": 115.8,
            "bin_start": 87.1,
            "count": 3
           },
           {
            "bin_end": 144.5,
            "bin_start": 115.8,
            "count": 0
           },
           {
            "bin_end": 173.2,
            "bin_start": 144.5,
            "count": 0
           },
           {
            "bin_end": 201.9,
            "bin_start": 173.2,
            "count": 0
           },
           {
            "bin_end": 230.6,
            "bin_start": 201.9,
            "count": 0
           },
           {
            "bin_end": 259.3,
            "bin_start": 230.6,
            "count": 0
           },
           {
            "bin_end": 288,
            "bin_start": 259.3,
            "count": 1
           }
          ],
          "max": "288",
          "min": "1",
          "nan_count": 0,
          "unique_count": 16
         }
        },
        {
         "dtype": "float64",
         "name": "UnitPrice",
         "stats": {
          "histogram": [
           {
            "bin_end": 3.178,
            "bin_start": 0.42,
            "count": 71
           },
           {
            "bin_end": 5.936,
            "bin_start": 3.178,
            "count": 11
           },
           {
            "bin_end": 8.694,
            "bin_start": 5.936,
            "count": 3
           },
           {
            "bin_end": 11.452,
            "bin_start": 8.694,
            "count": 0
           },
           {
            "bin_end": 14.209999999999999,
            "bin_start": 11.452,
            "count": 0
           },
           {
            "bin_end": 16.968000000000004,
            "bin_start": 14.209999999999999,
            "count": 1
           },
           {
            "bin_end": 19.726000000000003,
            "bin_start": 16.968000000000004,
            "count": 0
           },
           {
            "bin_end": 22.484,
            "bin_start": 19.726000000000003,
            "count": 0
           },
           {
            "bin_end": 25.242,
            "bin_start": 22.484,
            "count": 0
           },
           {
            "bin_end": 28,
            "bin_start": 25.242,
            "count": 4
           }
          ],
          "max": "28.0",
          "min": "0.42",
          "nan_count": 0,
          "unique_count": 24
         }
        },
        {
         "dtype": "object",
         "name": "Country",
         "stats": {
          "categories": [
           {
            "count": 48,
            "name": "spain"
           },
           {
            "count": 42,
            "name": "cyprus"
           }
          ],
          "nan_count": 0,
          "unique_count": 2
         }
        },
        {
         "dtype": "int64",
         "name": "_deepnote_index_column"
        }
       ],
       "row_count": 90,
       "rows": [
        {
         "Country": "cyprus",
         "Description": "blue coat rack paris fashion",
         "InvoiceDate": "2011-02-16 09:56:00",
         "Quantity": 3,
         "UnitPrice": 4.95,
         "_deepnote_index_column": 91370
        },
        {
         "Country": "cyprus",
         "Description": "red coat rack paris fashion",
         "InvoiceDate": "2011-02-16 09:56:00",
         "Quantity": 3,
         "UnitPrice": 4.95,
         "_deepnote_index_column": 91371
        },
        {
         "Country": "cyprus",
         "Description": "candleholder pink hanging heart",
         "InvoiceDate": "2011-02-16 09:56:00",
         "Quantity": 32,
         "UnitPrice": 2.55,
         "_deepnote_index_column": 91372
        },
        {
         "Country": "cyprus",
         "Description": "hanging jam jar tlight holder",
         "InvoiceDate": "2011-02-16 09:56:00",
         "Quantity": 96,
         "UnitPrice": 0.72,
         "_deepnote_index_column": 91373
        },
        {
         "Country": "cyprus",
         "Description": "colour glass tlight holder hanging",
         "InvoiceDate": "2011-02-16 09:56:00",
         "Quantity": 64,
         "UnitPrice": 0.65,
         "_deepnote_index_column": 91374
        },
        {
         "Country": "cyprus",
         "Description": "hanging heart zinc tlight holder",
         "InvoiceDate": "2011-02-16 09:56:00",
         "Quantity": 48,
         "UnitPrice": 0.85,
         "_deepnote_index_column": 91375
        },
        {
         "Country": "cyprus",
         "Description": "assorted colour tlight holder",
         "InvoiceDate": "2011-02-16 09:56:00",
         "Quantity": 96,
         "UnitPrice": 0.55,
         "_deepnote_index_column": 91376
        },
        {
         "Country": "cyprus",
         "Description": "white soap rack with 2 bottles",
         "InvoiceDate": "2011-02-16 09:56:00",
         "Quantity": 2,
         "UnitPrice": 5.95,
         "_deepnote_index_column": 91377
        },
        {
         "Country": "cyprus",
         "Description": "pompom curtain",
         "InvoiceDate": "2011-02-16 09:56:00",
         "Quantity": 4,
         "UnitPrice": 6.95,
         "_deepnote_index_column": 91378
        },
        {
         "Country": "cyprus",
         "Description": "hanging heart mirror decoration",
         "InvoiceDate": "2011-02-16 09:56:00",
         "Quantity": 48,
         "UnitPrice": 0.65,
         "_deepnote_index_column": 91379
        }
       ]
      },
      "text/html": [
       "<div>\n",
       "<style scoped>\n",
       "    .dataframe tbody tr th:only-of-type {\n",
       "        vertical-align: middle;\n",
       "    }\n",
       "\n",
       "    .dataframe tbody tr th {\n",
       "        vertical-align: top;\n",
       "    }\n",
       "\n",
       "    .dataframe thead th {\n",
       "        text-align: right;\n",
       "    }\n",
       "</style>\n",
       "<table border=\"1\" class=\"dataframe\">\n",
       "  <thead>\n",
       "    <tr style=\"text-align: right;\">\n",
       "      <th></th>\n",
       "      <th>InvoiceDate</th>\n",
       "      <th>Description</th>\n",
       "      <th>Quantity</th>\n",
       "      <th>UnitPrice</th>\n",
       "      <th>Country</th>\n",
       "    </tr>\n",
       "  </thead>\n",
       "  <tbody>\n",
       "    <tr>\n",
       "      <th>91370</th>\n",
       "      <td>2011-02-16 09:56:00</td>\n",
       "      <td>blue coat rack paris fashion</td>\n",
       "      <td>3</td>\n",
       "      <td>4.95</td>\n",
       "      <td>cyprus</td>\n",
       "    </tr>\n",
       "    <tr>\n",
       "      <th>91371</th>\n",
       "      <td>2011-02-16 09:56:00</td>\n",
       "      <td>red coat rack paris fashion</td>\n",
       "      <td>3</td>\n",
       "      <td>4.95</td>\n",
       "      <td>cyprus</td>\n",
       "    </tr>\n",
       "    <tr>\n",
       "      <th>91372</th>\n",
       "      <td>2011-02-16 09:56:00</td>\n",
       "      <td>candleholder pink hanging heart</td>\n",
       "      <td>32</td>\n",
       "      <td>2.55</td>\n",
       "      <td>cyprus</td>\n",
       "    </tr>\n",
       "    <tr>\n",
       "      <th>91373</th>\n",
       "      <td>2011-02-16 09:56:00</td>\n",
       "      <td>hanging jam jar tlight holder</td>\n",
       "      <td>96</td>\n",
       "      <td>0.72</td>\n",
       "      <td>cyprus</td>\n",
       "    </tr>\n",
       "    <tr>\n",
       "      <th>91374</th>\n",
       "      <td>2011-02-16 09:56:00</td>\n",
       "      <td>colour glass tlight holder hanging</td>\n",
       "      <td>64</td>\n",
       "      <td>0.65</td>\n",
       "      <td>cyprus</td>\n",
       "    </tr>\n",
       "    <tr>\n",
       "      <th>...</th>\n",
       "      <td>...</td>\n",
       "      <td>...</td>\n",
       "      <td>...</td>\n",
       "      <td>...</td>\n",
       "      <td>...</td>\n",
       "    </tr>\n",
       "    <tr>\n",
       "      <th>363255</th>\n",
       "      <td>2011-09-27 15:31:00</td>\n",
       "      <td>pack of 72 retrospot cake cases</td>\n",
       "      <td>24</td>\n",
       "      <td>0.55</td>\n",
       "      <td>spain</td>\n",
       "    </tr>\n",
       "    <tr>\n",
       "      <th>363256</th>\n",
       "      <td>2011-09-27 15:31:00</td>\n",
       "      <td>pack of 72 skull cake cases</td>\n",
       "      <td>24</td>\n",
       "      <td>0.55</td>\n",
       "      <td>spain</td>\n",
       "    </tr>\n",
       "    <tr>\n",
       "      <th>363257</th>\n",
       "      <td>2011-09-27 15:31:00</td>\n",
       "      <td>party invites woodland</td>\n",
       "      <td>12</td>\n",
       "      <td>0.85</td>\n",
       "      <td>spain</td>\n",
       "    </tr>\n",
       "    <tr>\n",
       "      <th>363258</th>\n",
       "      <td>2011-09-27 15:31:00</td>\n",
       "      <td>set of 60 vintage leaf cake cases</td>\n",
       "      <td>24</td>\n",
       "      <td>0.55</td>\n",
       "      <td>spain</td>\n",
       "    </tr>\n",
       "    <tr>\n",
       "      <th>363259</th>\n",
       "      <td>2011-09-27 15:31:00</td>\n",
       "      <td>ivory paper cup cake cases</td>\n",
       "      <td>24</td>\n",
       "      <td>0.55</td>\n",
       "      <td>spain</td>\n",
       "    </tr>\n",
       "  </tbody>\n",
       "</table>\n",
       "<p>90 rows × 5 columns</p>\n",
       "</div>"
      ],
      "text/plain": [
       "               InvoiceDate                         Description  Quantity  \\\n",
       "91370  2011-02-16 09:56:00        blue coat rack paris fashion         3   \n",
       "91371  2011-02-16 09:56:00         red coat rack paris fashion         3   \n",
       "91372  2011-02-16 09:56:00     candleholder pink hanging heart        32   \n",
       "91373  2011-02-16 09:56:00       hanging jam jar tlight holder        96   \n",
       "91374  2011-02-16 09:56:00  colour glass tlight holder hanging        64   \n",
       "...                    ...                                 ...       ...   \n",
       "363255 2011-09-27 15:31:00     pack of 72 retrospot cake cases        24   \n",
       "363256 2011-09-27 15:31:00         pack of 72 skull cake cases        24   \n",
       "363257 2011-09-27 15:31:00              party invites woodland        12   \n",
       "363258 2011-09-27 15:31:00   set of 60 vintage leaf cake cases        24   \n",
       "363259 2011-09-27 15:31:00          ivory paper cup cake cases        24   \n",
       "\n",
       "        UnitPrice Country  \n",
       "91370        4.95  cyprus  \n",
       "91371        4.95  cyprus  \n",
       "91372        2.55  cyprus  \n",
       "91373        0.72  cyprus  \n",
       "91374        0.65  cyprus  \n",
       "...           ...     ...  \n",
       "363255       0.55   spain  \n",
       "363256       0.55   spain  \n",
       "363257       0.85   spain  \n",
       "363258       0.55   spain  \n",
       "363259       0.55   spain  \n",
       "\n",
       "[90 rows x 5 columns]"
      ]
     },
     "execution_count": 62,
     "metadata": {},
     "output_type": "execute_result"
    }
   ],
   "source": [
    "# check one of the CustomerIDs with duplicates to see the records from the foremost df table:\n",
    "df[df.CustomerID == 12455.0][['InvoiceDate','Description','Quantity','UnitPrice','Country']]"
   ]
  },
  {
   "cell_type": "code",
   "execution_count": 63,
   "metadata": {
    "cell_id": "10d4d6c5aef740459ce333b6418a8a35",
    "deepnote_cell_type": "code",
    "deepnote_to_be_reexecuted": false,
    "execution_millis": 21,
    "execution_start": 1687589288988,
    "source_hash": "d1503d1c"
   },
   "outputs": [
    {
     "data": {
      "application/vnd.deepnote.dataframe.v3+json": {
       "column_count": 10,
       "columns": [
        {
         "dtype": "int64",
         "name": "Recency",
         "stats": {
          "histogram": [
           {
            "bin_end": 71.6,
            "bin_start": 71.5,
            "count": 0
           },
           {
            "bin_end": 71.7,
            "bin_start": 71.6,
            "count": 0
           },
           {
            "bin_end": 71.8,
            "bin_start": 71.7,
            "count": 0
           },
           {
            "bin_end": 71.9,
            "bin_start": 71.8,
            "count": 0
           },
           {
            "bin_end": 72,
            "bin_start": 71.9,
            "count": 0
           },
           {
            "bin_end": 72.1,
            "bin_start": 72,
            "count": 2
           },
           {
            "bin_end": 72.2,
            "bin_start": 72.1,
            "count": 0
           },
           {
            "bin_end": 72.3,
            "bin_start": 72.2,
            "count": 0
           },
           {
            "bin_end": 72.4,
            "bin_start": 72.3,
            "count": 0
           },
           {
            "bin_end": 72.5,
            "bin_start": 72.4,
            "count": 0
           }
          ],
          "max": "72",
          "min": "72",
          "nan_count": 0,
          "unique_count": 1
         }
        },
        {
         "dtype": "int64",
         "name": "Frequency",
         "stats": {
          "histogram": [
           {
            "bin_end": 89.6,
            "bin_start": 89.5,
            "count": 0
           },
           {
            "bin_end": 89.7,
            "bin_start": 89.6,
            "count": 0
           },
           {
            "bin_end": 89.8,
            "bin_start": 89.7,
            "count": 0
           },
           {
            "bin_end": 89.9,
            "bin_start": 89.8,
            "count": 0
           },
           {
            "bin_end": 90,
            "bin_start": 89.9,
            "count": 0
           },
           {
            "bin_end": 90.1,
            "bin_start": 90,
            "count": 2
           },
           {
            "bin_end": 90.2,
            "bin_start": 90.1,
            "count": 0
           },
           {
            "bin_end": 90.3,
            "bin_start": 90.2,
            "count": 0
           },
           {
            "bin_end": 90.4,
            "bin_start": 90.3,
            "count": 0
           },
           {
            "bin_end": 90.5,
            "bin_start": 90.4,
            "count": 0
           }
          ],
          "max": "90",
          "min": "90",
          "nan_count": 0,
          "unique_count": 1
         }
        },
        {
         "dtype": "float64",
         "name": "Monetary",
         "stats": {
          "histogram": [
           {
            "bin_end": 2466.459999999997,
            "bin_start": 2466.359999999997,
            "count": 0
           },
           {
            "bin_end": 2466.5599999999968,
            "bin_start": 2466.459999999997,
            "count": 0
           },
           {
            "bin_end": 2466.659999999997,
            "bin_start": 2466.5599999999968,
            "count": 0
           },
           {
            "bin_end": 2466.759999999997,
            "bin_start": 2466.659999999997,
            "count": 0
           },
           {
            "bin_end": 2466.859999999997,
            "bin_start": 2466.759999999997,
            "count": 0
           },
           {
            "bin_end": 2466.959999999997,
            "bin_start": 2466.859999999997,
            "count": 2
           },
           {
            "bin_end": 2467.0599999999968,
            "bin_start": 2466.959999999997,
            "count": 0
           },
           {
            "bin_end": 2467.159999999997,
            "bin_start": 2467.0599999999968,
            "count": 0
           },
           {
            "bin_end": 2467.259999999997,
            "bin_start": 2467.159999999997,
            "count": 0
           },
           {
            "bin_end": 2467.359999999997,
            "bin_start": 2467.259999999997,
            "count": 0
           }
          ],
          "max": "2466.859999999997",
          "min": "2466.859999999997",
          "nan_count": 0,
          "unique_count": 1
         }
        },
        {
         "dtype": "int64",
         "name": "R_Score",
         "stats": {
          "histogram": [
           {
            "bin_end": 4.6,
            "bin_start": 4.5,
            "count": 0
           },
           {
            "bin_end": 4.7,
            "bin_start": 4.6,
            "count": 0
           },
           {
            "bin_end": 4.8,
            "bin_start": 4.7,
            "count": 0
           },
           {
            "bin_end": 4.9,
            "bin_start": 4.8,
            "count": 0
           },
           {
            "bin_end": 5,
            "bin_start": 4.9,
            "count": 0
           },
           {
            "bin_end": 5.1,
            "bin_start": 5,
            "count": 2
           },
           {
            "bin_end": 5.2,
            "bin_start": 5.1,
            "count": 0
           },
           {
            "bin_end": 5.3,
            "bin_start": 5.2,
            "count": 0
           },
           {
            "bin_end": 5.4,
            "bin_start": 5.3,
            "count": 0
           },
           {
            "bin_end": 5.5,
            "bin_start": 5.4,
            "count": 0
           }
          ],
          "max": "5",
          "min": "5",
          "nan_count": 0,
          "unique_count": 1
         }
        },
        {
         "dtype": "int64",
         "name": "F_Score",
         "stats": {
          "histogram": [
           {
            "bin_end": 5.6,
            "bin_start": 5.5,
            "count": 0
           },
           {
            "bin_end": 5.7,
            "bin_start": 5.6,
            "count": 0
           },
           {
            "bin_end": 5.8,
            "bin_start": 5.7,
            "count": 0
           },
           {
            "bin_end": 5.9,
            "bin_start": 5.8,
            "count": 0
           },
           {
            "bin_end": 6,
            "bin_start": 5.9,
            "count": 0
           },
           {
            "bin_end": 6.1,
            "bin_start": 6,
            "count": 2
           },
           {
            "bin_end": 6.2,
            "bin_start": 6.1,
            "count": 0
           },
           {
            "bin_end": 6.3,
            "bin_start": 6.2,
            "count": 0
           },
           {
            "bin_end": 6.4,
            "bin_start": 6.3,
            "count": 0
           },
           {
            "bin_end": 6.5,
            "bin_start": 6.4,
            "count": 0
           }
          ],
          "max": "6",
          "min": "6",
          "nan_count": 0,
          "unique_count": 1
         }
        },
        {
         "dtype": "int64",
         "name": "M_Score",
         "stats": {
          "histogram": [
           {
            "bin_end": 5.6,
            "bin_start": 5.5,
            "count": 0
           },
           {
            "bin_end": 5.7,
            "bin_start": 5.6,
            "count": 0
           },
           {
            "bin_end": 5.8,
            "bin_start": 5.7,
            "count": 0
           },
           {
            "bin_end": 5.9,
            "bin_start": 5.8,
            "count": 0
           },
           {
            "bin_end": 6,
            "bin_start": 5.9,
            "count": 0
           },
           {
            "bin_end": 6.1,
            "bin_start": 6,
            "count": 2
           },
           {
            "bin_end": 6.2,
            "bin_start": 6.1,
            "count": 0
           },
           {
            "bin_end": 6.3,
            "bin_start": 6.2,
            "count": 0
           },
           {
            "bin_end": 6.4,
            "bin_start": 6.3,
            "count": 0
           },
           {
            "bin_end": 6.5,
            "bin_start": 6.4,
            "count": 0
           }
          ],
          "max": "6",
          "min": "6",
          "nan_count": 0,
          "unique_count": 1
         }
        },
        {
         "dtype": "object",
         "name": "RFM_Segment",
         "stats": {
          "categories": [
           {
            "count": 2,
            "name": "566"
           }
          ],
          "nan_count": 0,
          "unique_count": 1
         }
        },
        {
         "dtype": "int64",
         "name": "RFM_Score",
         "stats": {
          "histogram": [
           {
            "bin_end": 16.6,
            "bin_start": 16.5,
            "count": 0
           },
           {
            "bin_end": 16.7,
            "bin_start": 16.6,
            "count": 0
           },
           {
            "bin_end": 16.8,
            "bin_start": 16.7,
            "count": 0
           },
           {
            "bin_end": 16.9,
            "bin_start": 16.8,
            "count": 0
           },
           {
            "bin_end": 17,
            "bin_start": 16.9,
            "count": 0
           },
           {
            "bin_end": 17.1,
            "bin_start": 17,
            "count": 2
           },
           {
            "bin_end": 17.2,
            "bin_start": 17.1,
            "count": 0
           },
           {
            "bin_end": 17.3,
            "bin_start": 17.2,
            "count": 0
           },
           {
            "bin_end": 17.4,
            "bin_start": 17.3,
            "count": 0
           },
           {
            "bin_end": 17.5,
            "bin_start": 17.4,
            "count": 0
           }
          ],
          "max": "17",
          "min": "17",
          "nan_count": 0,
          "unique_count": 1
         }
        },
        {
         "dtype": "int64",
         "name": "RFM_Score_Category",
         "stats": {
          "histogram": [
           {
            "bin_end": 4.6,
            "bin_start": 4.5,
            "count": 0
           },
           {
            "bin_end": 4.7,
            "bin_start": 4.6,
            "count": 0
           },
           {
            "bin_end": 4.8,
            "bin_start": 4.7,
            "count": 0
           },
           {
            "bin_end": 4.9,
            "bin_start": 4.8,
            "count": 0
           },
           {
            "bin_end": 5,
            "bin_start": 4.9,
            "count": 0
           },
           {
            "bin_end": 5.1,
            "bin_start": 5,
            "count": 2
           },
           {
            "bin_end": 5.2,
            "bin_start": 5.1,
            "count": 0
           },
           {
            "bin_end": 5.3,
            "bin_start": 5.2,
            "count": 0
           },
           {
            "bin_end": 5.4,
            "bin_start": 5.3,
            "count": 0
           },
           {
            "bin_end": 5.5,
            "bin_start": 5.4,
            "count": 0
           }
          ],
          "max": "5",
          "min": "5",
          "nan_count": 0,
          "unique_count": 1
         }
        },
        {
         "dtype": "object",
         "name": "Country",
         "stats": {
          "categories": [
           {
            "count": 1,
            "name": "cyprus"
           },
           {
            "count": 1,
            "name": "spain"
           }
          ],
          "nan_count": 0,
          "unique_count": 2
         }
        },
        {
         "dtype": "float64",
         "name": "_deepnote_index_column"
        }
       ],
       "row_count": 2,
       "rows": [
        {
         "Country": "cyprus",
         "F_Score": 6,
         "Frequency": 90,
         "M_Score": 6,
         "Monetary": 2466.859999999997,
         "RFM_Score": 17,
         "RFM_Score_Category": 5,
         "RFM_Segment": "566",
         "R_Score": 5,
         "Recency": 72,
         "_deepnote_index_column": 12455
        },
        {
         "Country": "spain",
         "F_Score": 6,
         "Frequency": 90,
         "M_Score": 6,
         "Monetary": 2466.859999999997,
         "RFM_Score": 17,
         "RFM_Score_Category": 5,
         "RFM_Segment": "566",
         "R_Score": 5,
         "Recency": 72,
         "_deepnote_index_column": 12455
        }
       ]
      },
      "text/html": [
       "<div>\n",
       "<style scoped>\n",
       "    .dataframe tbody tr th:only-of-type {\n",
       "        vertical-align: middle;\n",
       "    }\n",
       "\n",
       "    .dataframe tbody tr th {\n",
       "        vertical-align: top;\n",
       "    }\n",
       "\n",
       "    .dataframe thead th {\n",
       "        text-align: right;\n",
       "    }\n",
       "</style>\n",
       "<table border=\"1\" class=\"dataframe\">\n",
       "  <thead>\n",
       "    <tr style=\"text-align: right;\">\n",
       "      <th></th>\n",
       "      <th>Recency</th>\n",
       "      <th>Frequency</th>\n",
       "      <th>Monetary</th>\n",
       "      <th>R_Score</th>\n",
       "      <th>F_Score</th>\n",
       "      <th>M_Score</th>\n",
       "      <th>RFM_Segment</th>\n",
       "      <th>RFM_Score</th>\n",
       "      <th>RFM_Score_Category</th>\n",
       "      <th>Country</th>\n",
       "    </tr>\n",
       "    <tr>\n",
       "      <th>CustomerID</th>\n",
       "      <th></th>\n",
       "      <th></th>\n",
       "      <th></th>\n",
       "      <th></th>\n",
       "      <th></th>\n",
       "      <th></th>\n",
       "      <th></th>\n",
       "      <th></th>\n",
       "      <th></th>\n",
       "      <th></th>\n",
       "    </tr>\n",
       "  </thead>\n",
       "  <tbody>\n",
       "    <tr>\n",
       "      <th>12455.0</th>\n",
       "      <td>72</td>\n",
       "      <td>90</td>\n",
       "      <td>2466.86</td>\n",
       "      <td>5</td>\n",
       "      <td>6</td>\n",
       "      <td>6</td>\n",
       "      <td>566</td>\n",
       "      <td>17</td>\n",
       "      <td>5</td>\n",
       "      <td>cyprus</td>\n",
       "    </tr>\n",
       "    <tr>\n",
       "      <th>12455.0</th>\n",
       "      <td>72</td>\n",
       "      <td>90</td>\n",
       "      <td>2466.86</td>\n",
       "      <td>5</td>\n",
       "      <td>6</td>\n",
       "      <td>6</td>\n",
       "      <td>566</td>\n",
       "      <td>17</td>\n",
       "      <td>5</td>\n",
       "      <td>spain</td>\n",
       "    </tr>\n",
       "  </tbody>\n",
       "</table>\n",
       "</div>"
      ],
      "text/plain": [
       "            Recency  Frequency  Monetary  R_Score  F_Score  M_Score  \\\n",
       "CustomerID                                                            \n",
       "12455.0          72         90   2466.86        5        6        6   \n",
       "12455.0          72         90   2466.86        5        6        6   \n",
       "\n",
       "           RFM_Segment  RFM_Score  RFM_Score_Category Country  \n",
       "CustomerID                                                     \n",
       "12455.0            566         17                   5  cyprus  \n",
       "12455.0            566         17                   5   spain  "
      ]
     },
     "execution_count": 63,
     "metadata": {},
     "output_type": "execute_result"
    }
   ],
   "source": [
    "# check for the same CustomerID (12455.0) in the rfm_plus_country\n",
    "rfm_plus_country[rfm_plus_country.index == 12455.0]"
   ]
  },
  {
   "cell_type": "markdown",
   "metadata": {
    "cell_id": "215207354d4542a99af02c798ff3ab10",
    "deepnote_cell_type": "markdown"
   },
   "source": [
    "<p>It seems such individual customers moved from a former location to another, but yet the ID remains the same, the RFM analysis scores the Customer the same, regardless of changed demography. <p><b>We can decide to remove either first or the second occurence from the table, since a single row can as well represent the score of the customer</p></b></p>\n",
    "\n"
   ]
  },
  {
   "cell_type": "code",
   "execution_count": 64,
   "metadata": {
    "cell_id": "dc11a37fd07f4a5e966a59cbdd2970fd",
    "deepnote_cell_type": "code",
    "deepnote_to_be_reexecuted": false,
    "execution_millis": 67,
    "execution_start": 1687589293059,
    "source_hash": "72946bc5"
   },
   "outputs": [
    {
     "data": {
      "application/vnd.deepnote.dataframe.v3+json": {
       "column_count": 11,
       "columns": [
        {
         "dtype": "float64",
         "name": "CustomerID",
         "stats": {
          "histogram": [
           {
            "bin_end": 12940.1,
            "bin_start": 12346,
            "count": 453
           },
           {
            "bin_end": 13534.2,
            "bin_start": 12940.1,
            "count": 431
           },
           {
            "bin_end": 14128.3,
            "bin_start": 13534.2,
            "count": 421
           },
           {
            "bin_end": 14722.4,
            "bin_start": 14128.3,
            "count": 432
           },
           {
            "bin_end": 15316.5,
            "bin_start": 14722.4,
            "count": 435
           },
           {
            "bin_end": 15910.6,
            "bin_start": 15316.5,
            "count": 436
           },
           {
            "bin_end": 16504.7,
            "bin_start": 15910.6,
            "count": 430
           },
           {
            "bin_end": 17098.8,
            "bin_start": 16504.7,
            "count": 432
           },
           {
            "bin_end": 17692.9,
            "bin_start": 17098.8,
            "count": 421
           },
           {
            "bin_end": 18287,
            "bin_start": 17692.9,
            "count": 429
           }
          ],
          "max": "18287.0",
          "min": "12346.0",
          "nan_count": 0,
          "unique_count": 4320
         }
        },
        {
         "dtype": "int64",
         "name": "Recency",
         "stats": {
          "histogram": [
           {
            "bin_end": 37.3,
            "bin_start": 0,
            "count": 1889
           },
           {
            "bin_end": 74.6,
            "bin_start": 37.3,
            "count": 806
           },
           {
            "bin_end": 111.89999999999999,
            "bin_start": 74.6,
            "count": 360
           },
           {
            "bin_end": 149.2,
            "bin_start": 111.89999999999999,
            "count": 233
           },
           {
            "bin_end": 186.5,
            "bin_start": 149.2,
            "count": 224
           },
           {
            "bin_end": 223.79999999999998,
            "bin_start": 186.5,
            "count": 187
           },
           {
            "bin_end": 261.09999999999997,
            "bin_start": 223.79999999999998,
            "count": 189
           },
           {
            "bin_end": 298.4,
            "bin_start": 261.09999999999997,
            "count": 166
           },
           {
            "bin_end": 335.7,
            "bin_start": 298.4,
            "count": 140
           },
           {
            "bin_end": 373,
            "bin_start": 335.7,
            "count": 126
           }
          ],
          "max": "373",
          "min": "0",
          "nan_count": 0,
          "unique_count": 349
         }
        },
        {
         "dtype": "int64",
         "name": "Frequency",
         "stats": {
          "histogram": [
           {
            "bin_end": 785.6,
            "bin_start": 1,
            "count": 4291
           },
           {
            "bin_end": 1570.2,
            "bin_start": 785.6,
            "count": 19
           },
           {
            "bin_end": 2354.8,
            "bin_start": 1570.2,
            "count": 4
           },
           {
            "bin_end": 3139.4,
            "bin_start": 2354.8,
            "count": 2
           },
           {
            "bin_end": 3924,
            "bin_start": 3139.4,
            "count": 0
           },
           {
            "bin_end": 4708.6,
            "bin_start": 3924,
            "count": 1
           },
           {
            "bin_end": 5493.2,
            "bin_start": 4708.6,
            "count": 1
           },
           {
            "bin_end": 6277.8,
            "bin_start": 5493.2,
            "count": 1
           },
           {
            "bin_end": 7062.400000000001,
            "bin_start": 6277.8,
            "count": 0
           },
           {
            "bin_end": 7847,
            "bin_start": 7062.400000000001,
            "count": 1
           }
          ],
          "max": "7847",
          "min": "1",
          "nan_count": 0,
          "unique_count": 460
         }
        },
        {
         "dtype": "float64",
         "name": "Monetary",
         "stats": {
          "histogram": [
           {
            "bin_end": 28023.976999999984,
            "bin_start": 3.75,
            "count": 4285
           },
           {
            "bin_end": 56044.20399999997,
            "bin_start": 28023.976999999984,
            "count": 18
           },
           {
            "bin_end": 84064.43099999995,
            "bin_start": 56044.20399999997,
            "count": 9
           },
           {
            "bin_end": 112084.65799999994,
            "bin_start": 84064.43099999995,
            "count": 1
           },
           {
            "bin_end": 140104.88499999992,
            "bin_start": 112084.65799999994,
            "count": 2
           },
           {
            "bin_end": 168125.1119999999,
            "bin_start": 140104.88499999992,
            "count": 1
           },
           {
            "bin_end": 196145.3389999999,
            "bin_start": 168125.1119999999,
            "count": 2
           },
           {
            "bin_end": 224165.56599999988,
            "bin_start": 196145.3389999999,
            "count": 0
           },
           {
            "bin_end": 252185.79299999986,
            "bin_start": 224165.56599999988,
            "count": 0
           },
           {
            "bin_end": 280206.01999999984,
            "bin_start": 252185.79299999986,
            "count": 2
           }
          ],
          "max": "280206.01999999984",
          "min": "3.75",
          "nan_count": 0,
          "unique_count": 4267
         }
        },
        {
         "dtype": "int64",
         "name": "R_Score",
         "stats": {
          "histogram": [
           {
            "bin_end": 1.6,
            "bin_start": 1,
            "count": 649
           },
           {
            "bin_end": 2.2,
            "bin_start": 1.6,
            "count": 594
           },
           {
            "bin_end": 2.8,
            "bin_start": 2.2,
            "count": 0
           },
           {
            "bin_end": 3.4,
            "bin_start": 2.8,
            "count": 622
           },
           {
            "bin_end": 4,
            "bin_start": 3.4,
            "count": 0
           },
           {
            "bin_end": 4.6,
            "bin_start": 4,
            "count": 609
           },
           {
            "bin_end": 5.2,
            "bin_start": 4.6,
            "count": 615
           },
           {
            "bin_end": 5.8,
            "bin_start": 5.2,
            "count": 0
           },
           {
            "bin_end": 6.3999999999999995,
            "bin_start": 5.8,
            "count": 615
           },
           {
            "bin_end": 7,
            "bin_start": 6.3999999999999995,
            "count": 616
           }
          ],
          "max": "7",
          "min": "1",
          "nan_count": 0,
          "unique_count": 7
         }
        },
        {
         "dtype": "int64",
         "name": "F_Score",
         "stats": {
          "histogram": [
           {
            "bin_end": 1.6,
            "bin_start": 1,
            "count": 655
           },
           {
            "bin_end": 2.2,
            "bin_start": 1.6,
            "count": 624
           },
           {
            "bin_end": 2.8,
            "bin_start": 2.2,
            "count": 0
           },
           {
            "bin_end": 3.4,
            "bin_start": 2.8,
            "count": 591
           },
           {
            "bin_end": 4,
            "bin_start": 3.4,
            "count": 0
           },
           {
            "bin_end": 4.6,
            "bin_start": 4,
            "count": 627
           },
           {
            "bin_end": 5.2,
            "bin_start": 4.6,
            "count": 591
           },
           {
            "bin_end": 5.8,
            "bin_start": 5.2,
            "count": 0
           },
           {
            "bin_end": 6.3999999999999995,
            "bin_start": 5.8,
            "count": 616
           },
           {
            "bin_end": 7,
            "bin_start": 6.3999999999999995,
            "count": 616
           }
          ],
          "max": "7",
          "min": "1",
          "nan_count": 0,
          "unique_count": 7
         }
        },
        {
         "dtype": "int64",
         "name": "M_Score",
         "stats": {
          "histogram": [
           {
            "bin_end": 1.6,
            "bin_start": 1,
            "count": 618
           },
           {
            "bin_end": 2.2,
            "bin_start": 1.6,
            "count": 617
           },
           {
            "bin_end": 2.8,
            "bin_start": 2.2,
            "count": 0
           },
           {
            "bin_end": 3.4,
            "bin_start": 2.8,
            "count": 617
           },
           {
            "bin_end": 4,
            "bin_start": 3.4,
            "count": 0
           },
           {
            "bin_end": 4.6,
            "bin_start": 4,
            "count": 617
           },
           {
            "bin_end": 5.2,
            "bin_start": 4.6,
            "count": 617
           },
           {
            "bin_end": 5.8,
            "bin_start": 5.2,
            "count": 0
           },
           {
            "bin_end": 6.3999999999999995,
            "bin_start": 5.8,
            "count": 617
           },
           {
            "bin_end": 7,
            "bin_start": 6.3999999999999995,
            "count": 617
           }
          ],
          "max": "7",
          "min": "1",
          "nan_count": 0,
          "unique_count": 7
         }
        },
        {
         "dtype": "object",
         "name": "RFM_Segment",
         "stats": {
          "categories": [
           {
            "count": 187,
            "name": "177"
           },
           {
            "count": 147,
            "name": "711"
           },
           {
            "count": 3986,
            "name": "298 others"
           }
          ],
          "nan_count": 0,
          "unique_count": 300
         }
        },
        {
         "dtype": "int64",
         "name": "RFM_Score",
         "stats": {
          "histogram": [
           {
            "bin_end": 4.8,
            "bin_start": 3,
            "count": 48
           },
           {
            "bin_end": 6.6,
            "bin_start": 4.8,
            "count": 173
           },
           {
            "bin_end": 8.4,
            "bin_start": 6.6,
            "count": 435
           },
           {
            "bin_end": 10.2,
            "bin_start": 8.4,
            "count": 817
           },
           {
            "bin_end": 12,
            "bin_start": 10.2,
            "count": 437
           },
           {
            "bin_end": 13.8,
            "bin_start": 12,
            "count": 894
           },
           {
            "bin_end": 15.6,
            "bin_start": 13.8,
            "count": 918
           },
           {
            "bin_end": 17.4,
            "bin_start": 15.6,
            "count": 475
           },
           {
            "bin_end": 19.2,
            "bin_start": 17.4,
            "count": 116
           },
           {
            "bin_end": 21,
            "bin_start": 19.2,
            "count": 7
           }
          ],
          "max": "21",
          "min": "3",
          "nan_count": 0,
          "unique_count": 19
         }
        },
        {
         "dtype": "int64",
         "name": "RFM_Score_Category",
         "stats": {
          "histogram": [
           {
            "bin_end": 0.6,
            "bin_start": 0,
            "count": 48
           },
           {
            "bin_end": 1.2,
            "bin_start": 0.6,
            "count": 342
           },
           {
            "bin_end": 1.7999999999999998,
            "bin_start": 1.2,
            "count": 0
           },
           {
            "bin_end": 2.4,
            "bin_start": 1.7999999999999998,
            "count": 1083
           },
           {
            "bin_end": 3,
            "bin_start": 2.4,
            "count": 0
           },
           {
            "bin_end": 3.5999999999999996,
            "bin_start": 3,
            "count": 1331
           },
           {
            "bin_end": 4.2,
            "bin_start": 3.5999999999999996,
            "count": 1203
           },
           {
            "bin_end": 4.8,
            "bin_start": 4.2,
            "count": 0
           },
           {
            "bin_end": 5.3999999999999995,
            "bin_start": 4.8,
            "count": 306
           },
           {
            "bin_end": 6,
            "bin_start": 5.3999999999999995,
            "count": 7
           }
          ],
          "max": "6",
          "min": "0",
          "nan_count": 0,
          "unique_count": 7
         }
        },
        {
         "dtype": "object",
         "name": "Country",
         "stats": {
          "categories": [
           {
            "count": 3920,
            "name": "united kingdom"
           },
           {
            "count": 94,
            "name": "germany"
           },
           {
            "count": 306,
            "name": "25 others"
           }
          ],
          "nan_count": 0,
          "unique_count": 27
         }
        },
        {
         "dtype": "int64",
         "name": "_deepnote_index_column"
        }
       ],
       "row_count": 4320,
       "rows": [
        {
         "Country": "united kingdom",
         "CustomerID": 15808,
         "F_Score": 7,
         "Frequency": 208,
         "M_Score": 7,
         "Monetary": 3734.970000000001,
         "RFM_Score": 21,
         "RFM_Score_Category": 6,
         "RFM_Segment": "777",
         "R_Score": 7,
         "Recency": 305,
         "_deepnote_index_column": 0
        },
        {
         "Country": "united kingdom",
         "CustomerID": 17850,
         "F_Score": 7,
         "Frequency": 297,
         "M_Score": 7,
         "Monetary": 5391.210000000009,
         "RFM_Score": 21,
         "RFM_Score_Category": 6,
         "RFM_Segment": "777",
         "R_Score": 7,
         "Recency": 371,
         "_deepnote_index_column": 1
        },
        {
         "Country": "united kingdom",
         "CustomerID": 14669,
         "F_Score": 7,
         "Frequency": 170,
         "M_Score": 5,
         "Monetary": 1269.9900000000002,
         "RFM_Score": 19,
         "RFM_Score_Category": 5,
         "RFM_Segment": "775",
         "R_Score": 7,
         "Recency": 241,
         "_deepnote_index_column": 2
        },
        {
         "Country": "united kingdom",
         "CustomerID": 13093,
         "F_Score": 6,
         "Frequency": 159,
         "M_Score": 7,
         "Monetary": 7832.469999999998,
         "RFM_Score": 20,
         "RFM_Score_Category": 6,
         "RFM_Segment": "767",
         "R_Score": 7,
         "Recency": 275,
         "_deepnote_index_column": 3
        },
        {
         "Country": "germany",
         "CustomerID": 12501,
         "F_Score": 6,
         "Frequency": 149,
         "M_Score": 6,
         "Monetary": 2169.3899999999994,
         "RFM_Score": 19,
         "RFM_Score_Category": 5,
         "RFM_Segment": "766",
         "R_Score": 7,
         "Recency": 336,
         "_deepnote_index_column": 4
        },
        {
         "Country": "united kingdom",
         "CustomerID": 17406,
         "F_Score": 6,
         "Frequency": 113,
         "M_Score": 6,
         "Monetary": 2200.42,
         "RFM_Score": 19,
         "RFM_Score_Category": 5,
         "RFM_Segment": "766",
         "R_Score": 7,
         "Recency": 332,
         "_deepnote_index_column": 5
        },
        {
         "Country": "united kingdom",
         "CustomerID": 13715,
         "F_Score": 6,
         "Frequency": 105,
         "M_Score": 5,
         "Monetary": 1079.3399999999997,
         "RFM_Score": 18,
         "RFM_Score_Category": 5,
         "RFM_Segment": "765",
         "R_Score": 7,
         "Recency": 280,
         "_deepnote_index_column": 6
        },
        {
         "Country": "united kingdom",
         "CustomerID": 14081,
         "F_Score": 6,
         "Frequency": 153,
         "M_Score": 5,
         "Monetary": 934.5200000000001,
         "RFM_Score": 18,
         "RFM_Score_Category": 5,
         "RFM_Segment": "765",
         "R_Score": 7,
         "Recency": 301,
         "_deepnote_index_column": 7
        },
        {
         "Country": "united kingdom",
         "CustomerID": 14465,
         "F_Score": 6,
         "Frequency": 130,
         "M_Score": 5,
         "Monetary": 1058.6200000000008,
         "RFM_Score": 18,
         "RFM_Score_Category": 5,
         "RFM_Segment": "765",
         "R_Score": 7,
         "Recency": 246,
         "_deepnote_index_column": 8
        },
        {
         "Country": "united kingdom",
         "CustomerID": 15464,
         "F_Score": 6,
         "Frequency": 157,
         "M_Score": 5,
         "Monetary": 1048.8500000000006,
         "RFM_Score": 18,
         "RFM_Score_Category": 5,
         "RFM_Segment": "765",
         "R_Score": 7,
         "Recency": 337,
         "_deepnote_index_column": 9
        }
       ]
      },
      "text/html": [
       "<div>\n",
       "<style scoped>\n",
       "    .dataframe tbody tr th:only-of-type {\n",
       "        vertical-align: middle;\n",
       "    }\n",
       "\n",
       "    .dataframe tbody tr th {\n",
       "        vertical-align: top;\n",
       "    }\n",
       "\n",
       "    .dataframe thead th {\n",
       "        text-align: right;\n",
       "    }\n",
       "</style>\n",
       "<table border=\"1\" class=\"dataframe\">\n",
       "  <thead>\n",
       "    <tr style=\"text-align: right;\">\n",
       "      <th></th>\n",
       "      <th>CustomerID</th>\n",
       "      <th>Recency</th>\n",
       "      <th>Frequency</th>\n",
       "      <th>Monetary</th>\n",
       "      <th>R_Score</th>\n",
       "      <th>F_Score</th>\n",
       "      <th>M_Score</th>\n",
       "      <th>RFM_Segment</th>\n",
       "      <th>RFM_Score</th>\n",
       "      <th>RFM_Score_Category</th>\n",
       "      <th>Country</th>\n",
       "    </tr>\n",
       "  </thead>\n",
       "  <tbody>\n",
       "    <tr>\n",
       "      <th>0</th>\n",
       "      <td>15808.0</td>\n",
       "      <td>305</td>\n",
       "      <td>208</td>\n",
       "      <td>3734.97</td>\n",
       "      <td>7</td>\n",
       "      <td>7</td>\n",
       "      <td>7</td>\n",
       "      <td>777</td>\n",
       "      <td>21</td>\n",
       "      <td>6</td>\n",
       "      <td>united kingdom</td>\n",
       "    </tr>\n",
       "    <tr>\n",
       "      <th>1</th>\n",
       "      <td>17850.0</td>\n",
       "      <td>371</td>\n",
       "      <td>297</td>\n",
       "      <td>5391.21</td>\n",
       "      <td>7</td>\n",
       "      <td>7</td>\n",
       "      <td>7</td>\n",
       "      <td>777</td>\n",
       "      <td>21</td>\n",
       "      <td>6</td>\n",
       "      <td>united kingdom</td>\n",
       "    </tr>\n",
       "    <tr>\n",
       "      <th>2</th>\n",
       "      <td>14669.0</td>\n",
       "      <td>241</td>\n",
       "      <td>170</td>\n",
       "      <td>1269.99</td>\n",
       "      <td>7</td>\n",
       "      <td>7</td>\n",
       "      <td>5</td>\n",
       "      <td>775</td>\n",
       "      <td>19</td>\n",
       "      <td>5</td>\n",
       "      <td>united kingdom</td>\n",
       "    </tr>\n",
       "    <tr>\n",
       "      <th>3</th>\n",
       "      <td>13093.0</td>\n",
       "      <td>275</td>\n",
       "      <td>159</td>\n",
       "      <td>7832.47</td>\n",
       "      <td>7</td>\n",
       "      <td>6</td>\n",
       "      <td>7</td>\n",
       "      <td>767</td>\n",
       "      <td>20</td>\n",
       "      <td>6</td>\n",
       "      <td>united kingdom</td>\n",
       "    </tr>\n",
       "    <tr>\n",
       "      <th>4</th>\n",
       "      <td>12501.0</td>\n",
       "      <td>336</td>\n",
       "      <td>149</td>\n",
       "      <td>2169.39</td>\n",
       "      <td>7</td>\n",
       "      <td>6</td>\n",
       "      <td>6</td>\n",
       "      <td>766</td>\n",
       "      <td>19</td>\n",
       "      <td>5</td>\n",
       "      <td>germany</td>\n",
       "    </tr>\n",
       "    <tr>\n",
       "      <th>...</th>\n",
       "      <td>...</td>\n",
       "      <td>...</td>\n",
       "      <td>...</td>\n",
       "      <td>...</td>\n",
       "      <td>...</td>\n",
       "      <td>...</td>\n",
       "      <td>...</td>\n",
       "      <td>...</td>\n",
       "      <td>...</td>\n",
       "      <td>...</td>\n",
       "      <td>...</td>\n",
       "    </tr>\n",
       "    <tr>\n",
       "      <th>4323</th>\n",
       "      <td>16789.0</td>\n",
       "      <td>7</td>\n",
       "      <td>5</td>\n",
       "      <td>80.80</td>\n",
       "      <td>1</td>\n",
       "      <td>1</td>\n",
       "      <td>1</td>\n",
       "      <td>111</td>\n",
       "      <td>3</td>\n",
       "      <td>0</td>\n",
       "      <td>united kingdom</td>\n",
       "    </tr>\n",
       "    <tr>\n",
       "      <th>4324</th>\n",
       "      <td>16988.0</td>\n",
       "      <td>4</td>\n",
       "      <td>7</td>\n",
       "      <td>126.12</td>\n",
       "      <td>1</td>\n",
       "      <td>1</td>\n",
       "      <td>1</td>\n",
       "      <td>111</td>\n",
       "      <td>3</td>\n",
       "      <td>0</td>\n",
       "      <td>united kingdom</td>\n",
       "    </tr>\n",
       "    <tr>\n",
       "      <th>4325</th>\n",
       "      <td>17737.0</td>\n",
       "      <td>8</td>\n",
       "      <td>10</td>\n",
       "      <td>168.24</td>\n",
       "      <td>1</td>\n",
       "      <td>1</td>\n",
       "      <td>1</td>\n",
       "      <td>111</td>\n",
       "      <td>3</td>\n",
       "      <td>0</td>\n",
       "      <td>united kingdom</td>\n",
       "    </tr>\n",
       "    <tr>\n",
       "      <th>4326</th>\n",
       "      <td>17942.0</td>\n",
       "      <td>7</td>\n",
       "      <td>2</td>\n",
       "      <td>77.50</td>\n",
       "      <td>1</td>\n",
       "      <td>1</td>\n",
       "      <td>1</td>\n",
       "      <td>111</td>\n",
       "      <td>3</td>\n",
       "      <td>0</td>\n",
       "      <td>united kingdom</td>\n",
       "    </tr>\n",
       "    <tr>\n",
       "      <th>4327</th>\n",
       "      <td>18174.0</td>\n",
       "      <td>6</td>\n",
       "      <td>1</td>\n",
       "      <td>104.00</td>\n",
       "      <td>1</td>\n",
       "      <td>1</td>\n",
       "      <td>1</td>\n",
       "      <td>111</td>\n",
       "      <td>3</td>\n",
       "      <td>0</td>\n",
       "      <td>united kingdom</td>\n",
       "    </tr>\n",
       "  </tbody>\n",
       "</table>\n",
       "<p>4320 rows × 11 columns</p>\n",
       "</div>"
      ],
      "text/plain": [
       "      CustomerID  Recency  Frequency  Monetary  R_Score  F_Score  M_Score  \\\n",
       "0        15808.0      305        208   3734.97        7        7        7   \n",
       "1        17850.0      371        297   5391.21        7        7        7   \n",
       "2        14669.0      241        170   1269.99        7        7        5   \n",
       "3        13093.0      275        159   7832.47        7        6        7   \n",
       "4        12501.0      336        149   2169.39        7        6        6   \n",
       "...          ...      ...        ...       ...      ...      ...      ...   \n",
       "4323     16789.0        7          5     80.80        1        1        1   \n",
       "4324     16988.0        4          7    126.12        1        1        1   \n",
       "4325     17737.0        8         10    168.24        1        1        1   \n",
       "4326     17942.0        7          2     77.50        1        1        1   \n",
       "4327     18174.0        6          1    104.00        1        1        1   \n",
       "\n",
       "     RFM_Segment  RFM_Score  RFM_Score_Category         Country  \n",
       "0            777         21                   6  united kingdom  \n",
       "1            777         21                   6  united kingdom  \n",
       "2            775         19                   5  united kingdom  \n",
       "3            767         20                   6  united kingdom  \n",
       "4            766         19                   5         germany  \n",
       "...          ...        ...                 ...             ...  \n",
       "4323         111          3                   0  united kingdom  \n",
       "4324         111          3                   0  united kingdom  \n",
       "4325         111          3                   0  united kingdom  \n",
       "4326         111          3                   0  united kingdom  \n",
       "4327         111          3                   0  united kingdom  \n",
       "\n",
       "[4320 rows x 11 columns]"
      ]
     },
     "execution_count": 64,
     "metadata": {},
     "output_type": "execute_result"
    }
   ],
   "source": [
    "# remove the second occurence of such CustomerIDs, and reset the index\n",
    "rfm_plus_country = rfm_plus_country.reset_index().drop_duplicates('CustomerID', keep='first')\n",
    "rfm_plus_country"
   ]
  },
  {
   "cell_type": "code",
   "execution_count": 64,
   "metadata": {
    "cell_id": "9f9b10aed3b34f2388620fbc3cf5a43a",
    "deepnote_cell_type": "code",
    "deepnote_to_be_reexecuted": false,
    "execution_millis": 3,
    "execution_start": 1687589297943,
    "source_hash": "b623e53d"
   },
   "outputs": [],
   "source": []
  },
  {
   "cell_type": "markdown",
   "metadata": {
    "cell_id": "747528f452ed4bea9bbb48ab6f0da870",
    "deepnote_cell_type": "markdown"
   },
   "source": [
    "."
   ]
  },
  {
   "cell_type": "code",
   "execution_count": 65,
   "metadata": {
    "cell_id": "0af1457c27c5426d961b9a043c226b9f",
    "deepnote_cell_type": "code",
    "deepnote_to_be_reexecuted": false,
    "execution_millis": 6,
    "execution_start": 1687589304505,
    "source_hash": "fcf11348"
   },
   "outputs": [
    {
     "data": {
      "text/plain": [
       "Country    RFM_Score_Category\n",
       "australia  2                      1\n",
       "           3                      3\n",
       "           4                      3\n",
       "           5                      2\n",
       "austria    2                      2\n",
       "           3                      3\n",
       "           4                      4\n",
       "belgium    2                      4\n",
       "           3                      6\n",
       "           4                     12\n",
       "Name: RFM_Score_Category, dtype: int64"
      ]
     },
     "execution_count": 65,
     "metadata": {},
     "output_type": "execute_result"
    }
   ],
   "source": [
    "# the category of CustomerID by country count\n",
    "rfm_plus_country.groupby(['Country', 'RFM_Score_Category'])['RFM_Score_Category'].count().head(10)"
   ]
  },
  {
   "cell_type": "code",
   "execution_count": 66,
   "metadata": {
    "cell_id": "3e9c551c4e214e65a1d7fd61d8213c64",
    "deepnote_cell_type": "code",
    "deepnote_to_be_reexecuted": false,
    "execution_millis": 10,
    "execution_start": 1687589306227,
    "source_hash": "3ae502d2"
   },
   "outputs": [
    {
     "name": "stdout",
     "output_type": "stream",
     "text": [
      "['united kingdom' 'germany' 'japan' 'switzerland' 'spain' 'italy' 'france'\n",
      " 'greece' 'united arab emirates' 'cyprus' 'portugal' 'belgium' 'finland'\n",
      " 'sweden' 'usa' 'austria' 'channel islands' 'norway' 'australia'\n",
      " 'netherlands' 'eire' 'israel' 'poland' 'denmark' 'singapore'\n",
      " 'czech republic' 'iceland']\n"
     ]
    },
    {
     "data": {
      "text/plain": [
       "RFM_Score_Category\n",
       "3    1213\n",
       "4    1070\n",
       "2    1007\n",
       "1     322\n",
       "5     258\n",
       "0      45\n",
       "6       5\n",
       "Name: RFM_Score_Category, dtype: int64"
      ]
     },
     "execution_count": 66,
     "metadata": {},
     "output_type": "execute_result"
    }
   ],
   "source": [
    "# unique countries\n",
    "print(rfm_plus_country['Country'].unique())\n",
    "\n",
    "# pick on any country to see the ranks of the Category\n",
    "rfm_plus_country.groupby(['Country', 'RFM_Score_Category'])['RFM_Score_Category'].count().sort_values(\n",
    "    ascending=False)['united kingdom']"
   ]
  },
  {
   "cell_type": "code",
   "execution_count": 71,
   "metadata": {
    "cell_id": "150990cfa7894090976315598240e60a",
    "deepnote_cell_type": "code",
    "deepnote_to_be_reexecuted": false,
    "execution_millis": 4,
    "execution_start": 1687589699977,
    "source_hash": "9579e526"
   },
   "outputs": [
    {
     "data": {
      "text/plain": [
       "{0: 4, 1: 12, 2: 20, 3: 21, 4: 25, 5: 17, 6: 3}"
      ]
     },
     "execution_count": 71,
     "metadata": {},
     "output_type": "execute_result"
    }
   ],
   "source": [
    "# Under probation!!! to use\n",
    "\n",
    "def count_countries_by_segment(rfm_plus_country, max_segment):\n",
    "    counts = {}\n",
    "    for segment in range(max_segment + 1):\n",
    "        segment_data = rfm_plus_country[rfm_plus_country['RFM_Score_Category'] == segment]\n",
    "        counts[segment] = segment_data['Country'].nunique()\n",
    "    return counts\n",
    "\n",
    "counts = count_countries_by_segment(rfm_plus_country, 6)\n",
    "counts"
   ]
  },
  {
   "cell_type": "markdown",
   "metadata": {
    "cell_id": "4d8ae0bb769f460395617549a1b284c8",
    "deepnote_cell_type": "markdown"
   },
   "source": [
    "`"
   ]
  },
  {
   "cell_type": "markdown",
   "metadata": {
    "cell_id": "b937e67326304ab6a62564828aecb8b5",
    "deepnote_cell_type": "markdown"
   },
   "source": [
    "<h3>Visualization</h3>"
   ]
  },
  {
   "cell_type": "code",
   "execution_count": 72,
   "metadata": {
    "cell_id": "57c2d2914b6640b9ae816c5f8bb4dd26",
    "deepnote_cell_type": "code",
    "deepnote_to_be_reexecuted": false,
    "execution_millis": 529,
    "execution_start": 1687589717134,
    "source_hash": "df1232a8"
   },
   "outputs": [
    {
     "data": {
      "image/png": "[encoded data removed]",
      "text/plain": [
       "<Figure size 1600x400 with 1 Axes>"
      ]
     },
     "metadata": {
      "image/png": {
       "height": 402,
       "width": 1335
      }
     },
     "output_type": "display_data"
    }
   ],
   "source": [
    "# use the grouped \n",
    "grouped = rfm.groupby('RFM_Score_Category')['RFM_Score_Category'].count()\n",
    "\n",
    "# Plotting the segment counts\n",
    "plt.figure(figsize=(16, 4))\n",
    "grouped.plot(kind='bar')\n",
    "plt.xlabel('RFM Score Category')\n",
    "plt.ylabel('Count')\n",
    "plt.title('RFM Score Categories - Customer Distribution')\n",
    "plt.xticks(rotation=360)\n",
    "plt.show()"
   ]
  },
  {
   "cell_type": "code",
   "execution_count": 73,
   "metadata": {
    "cell_id": "ae151151320941ec97f7b19539199ace",
    "deepnote_cell_type": "code",
    "deepnote_to_be_reexecuted": false,
    "execution_millis": 569,
    "execution_start": 1687589726429,
    "source_hash": "39a46d98"
   },
   "outputs": [
    {
     "data": {
      "image/png": "[encoded data removed]",
      "text/plain": [
       "<Figure size 1800x400 with 1 Axes>"
      ]
     },
     "metadata": {
      "image/png": {
       "height": 402,
       "width": 1480
      }
     },
     "output_type": "display_data"
    }
   ],
   "source": [
    "grouped_RFM_Score = rfm.groupby('RFM_Score')['RFM_Score'].count()\n",
    "\n",
    "# Plotting the segment counts\n",
    "plt.figure(figsize=(18, 4))\n",
    "grouped_RFM_Score.plot(kind='bar')\n",
    "plt.xlabel('RFM Score')\n",
    "plt.ylabel('Count')\n",
    "plt.title('RFM Segments - Customer Distribution')\n",
    "plt.xticks(rotation=360)\n",
    "plt.show()"
   ]
  },
  {
   "cell_type": "code",
   "execution_count": 74,
   "metadata": {
    "cell_id": "3254fe714e71421891745c9a4a2b6165",
    "deepnote_cell_type": "code",
    "deepnote_to_be_reexecuted": false,
    "execution_millis": 684,
    "execution_start": 1687589731433,
    "source_hash": "87d69bb"
   },
   "outputs": [
    {
     "data": {
      "image/png": "[encoded data removed]",
      "text/plain": [
       "<Figure size 1600x800 with 1 Axes>"
      ]
     },
     "metadata": {
      "image/png": {
       "height": 710,
       "width": 1458
      }
     },
     "output_type": "display_data"
    }
   ],
   "source": [
    "# group the countries\n",
    "grouped_countries = rfm_plus_country['Country'].value_counts(ascending=True)\n",
    "\n",
    "# Plotting the segment counts\n",
    "plt.figure(figsize=(16, 8))\n",
    "grouped_countries.plot(kind='barh')\n",
    "plt.xlabel('RFM Score')\n",
    "plt.ylabel('Count')\n",
    "plt.title('RFM Segments - Customer Distribution')\n",
    "plt.xticks(rotation=360)\n",
    "plt.show()"
   ]
  },
  {
   "cell_type": "markdown",
   "metadata": {
    "cell_id": "94fe8d9f63df493abdfb8381f1f223ba",
    "deepnote_cell_type": "markdown"
   },
   "source": [
    "<p>The <b>United Kingdom</b> has by far the largest customer base</p>"
   ]
  },
  {
   "cell_type": "markdown",
   "metadata": {
    "cell_id": "93fc47c1b239447491f215bca36bb472",
    "deepnote_cell_type": "markdown"
   },
   "source": [
    "`"
   ]
  },
  {
   "cell_type": "code",
   "execution_count": 75,
   "metadata": {
    "cell_id": "de4272fbd9fb41f98133d96bef89058a",
    "deepnote_cell_type": "code",
    "deepnote_to_be_reexecuted": false,
    "execution_millis": 485,
    "execution_start": 1687589736939,
    "source_hash": "4422a512"
   },
   "outputs": [
    {
     "data": {
      "image/png": "[encoded data removed]",
      "text/plain": [
       "<Figure size 1800x600 with 2 Axes>"
      ]
     },
     "metadata": {
      "image/png": {
       "height": 556,
       "width": 1327
      }
     },
     "output_type": "display_data"
    }
   ],
   "source": [
    "# calculating average RFM scores for each segment, 0 to 5\n",
    "rfm_segment_avg = rfm_plus_country.groupby('RFM_Score_Category').agg({'Recency': 'mean', \n",
    "                                                                    'Frequency': 'mean', 'Monetary': 'mean'})\n",
    "# plotting RFM Heatmap\n",
    "plt.figure(figsize=(18, 6))\n",
    "ax = sns.heatmap(rfm_segment_avg, cmap='Blues', annot=True, fmt='.0f', cbar=True)\n",
    "ax.invert_yaxis()\n",
    "plt.xlabel('RFM Dimensions')\n",
    "plt.ylabel('RFM Segment')\n",
    "plt.title('RFM Heatmap')\n",
    "plt.yticks(rotation=360)\n",
    "plt.show()"
   ]
  },
  {
   "cell_type": "code",
   "execution_count": 76,
   "metadata": {
    "cell_id": "05b64605af4c4cc1b8e64dffffb6e928",
    "deepnote_cell_type": "code",
    "deepnote_to_be_reexecuted": false,
    "execution_millis": 4,
    "execution_start": 1687589739572,
    "source_hash": "89a437c1"
   },
   "outputs": [
    {
     "data": {
      "application/vnd.deepnote.dataframe.v3+json": {
       "column_count": 11,
       "columns": [
        {
         "dtype": "float64",
         "name": "CustomerID",
         "stats": {
          "histogram": [
           {
            "bin_end": 13035.9,
            "bin_start": 12501,
            "count": 1
           },
           {
            "bin_end": 13570.8,
            "bin_start": 13035.9,
            "count": 1
           },
           {
            "bin_end": 14105.7,
            "bin_start": 13570.8,
            "count": 0
           },
           {
            "bin_end": 14640.6,
            "bin_start": 14105.7,
            "count": 0
           },
           {
            "bin_end": 15175.5,
            "bin_start": 14640.6,
            "count": 1
           },
           {
            "bin_end": 15710.4,
            "bin_start": 15175.5,
            "count": 0
           },
           {
            "bin_end": 16245.3,
            "bin_start": 15710.4,
            "count": 1
           },
           {
            "bin_end": 16780.2,
            "bin_start": 16245.3,
            "count": 0
           },
           {
            "bin_end": 17315.1,
            "bin_start": 16780.2,
            "count": 0
           },
           {
            "bin_end": 17850,
            "bin_start": 17315.1,
            "count": 1
           }
          ],
          "max": "17850.0",
          "min": "12501.0",
          "nan_count": 0,
          "unique_count": 5
         }
        },
        {
         "dtype": "int64",
         "name": "Recency",
         "stats": {
          "histogram": [
           {
            "bin_end": 254,
            "bin_start": 241,
            "count": 1
           },
           {
            "bin_end": 267,
            "bin_start": 254,
            "count": 0
           },
           {
            "bin_end": 280,
            "bin_start": 267,
            "count": 1
           },
           {
            "bin_end": 293,
            "bin_start": 280,
            "count": 0
           },
           {
            "bin_end": 306,
            "bin_start": 293,
            "count": 1
           },
           {
            "bin_end": 319,
            "bin_start": 306,
            "count": 0
           },
           {
            "bin_end": 332,
            "bin_start": 319,
            "count": 0
           },
           {
            "bin_end": 345,
            "bin_start": 332,
            "count": 1
           },
           {
            "bin_end": 358,
            "bin_start": 345,
            "count": 0
           },
           {
            "bin_end": 371,
            "bin_start": 358,
            "count": 1
           }
          ],
          "max": "371",
          "min": "241",
          "nan_count": 0,
          "unique_count": 5
         }
        },
        {
         "dtype": "int64",
         "name": "Frequency",
         "stats": {
          "histogram": [
           {
            "bin_end": 163.8,
            "bin_start": 149,
            "count": 2
           },
           {
            "bin_end": 178.6,
            "bin_start": 163.8,
            "count": 1
           },
           {
            "bin_end": 193.4,
            "bin_start": 178.6,
            "count": 0
           },
           {
            "bin_end": 208.2,
            "bin_start": 193.4,
            "count": 1
           },
           {
            "bin_end": 223,
            "bin_start": 208.2,
            "count": 0
           },
           {
            "bin_end": 237.8,
            "bin_start": 223,
            "count": 0
           },
           {
            "bin_end": 252.60000000000002,
            "bin_start": 237.8,
            "count": 0
           },
           {
            "bin_end": 267.4,
            "bin_start": 252.60000000000002,
            "count": 0
           },
           {
            "bin_end": 282.20000000000005,
            "bin_start": 267.4,
            "count": 0
           },
           {
            "bin_end": 297,
            "bin_start": 282.20000000000005,
            "count": 1
           }
          ],
          "max": "297",
          "min": "149",
          "nan_count": 0,
          "unique_count": 5
         }
        },
        {
         "dtype": "float64",
         "name": "Monetary",
         "stats": {
          "histogram": [
           {
            "bin_end": 1926.238,
            "bin_start": 1269.9900000000002,
            "count": 1
           },
           {
            "bin_end": 2582.486,
            "bin_start": 1926.238,
            "count": 1
           },
           {
            "bin_end": 3238.7339999999995,
            "bin_start": 2582.486,
            "count": 0
           },
           {
            "bin_end": 3894.9819999999995,
            "bin_start": 3238.7339999999995,
            "count": 1
           },
           {
            "bin_end": 4551.23,
            "bin_start": 3894.9819999999995,
            "count": 0
           },
           {
            "bin_end": 5207.477999999999,
            "bin_start": 4551.23,
            "count": 0
           },
           {
            "bin_end": 5863.725999999999,
            "bin_start": 5207.477999999999,
            "count": 1
           },
           {
            "bin_end": 6519.973999999998,
            "bin_start": 5863.725999999999,
            "count": 0
           },
           {
            "bin_end": 7176.221999999998,
            "bin_start": 6519.973999999998,
            "count": 0
           },
           {
            "bin_end": 7832.469999999998,
            "bin_start": 7176.221999999998,
            "count": 1
           }
          ],
          "max": "7832.469999999998",
          "min": "1269.9900000000002",
          "nan_count": 0,
          "unique_count": 5
         }
        },
        {
         "dtype": "int64",
         "name": "R_Score",
         "stats": {
          "histogram": [
           {
            "bin_end": 6.6,
            "bin_start": 6.5,
            "count": 0
           },
           {
            "bin_end": 6.7,
            "bin_start": 6.6,
            "count": 0
           },
           {
            "bin_end": 6.8,
            "bin_start": 6.7,
            "count": 0
           },
           {
            "bin_end": 6.9,
            "bin_start": 6.8,
            "count": 0
           },
           {
            "bin_end": 7,
            "bin_start": 6.9,
            "count": 0
           },
           {
            "bin_end": 7.1,
            "bin_start": 7,
            "count": 5
           },
           {
            "bin_end": 7.2,
            "bin_start": 7.1,
            "count": 0
           },
           {
            "bin_end": 7.3,
            "bin_start": 7.2,
            "count": 0
           },
           {
            "bin_end": 7.4,
            "bin_start": 7.3,
            "count": 0
           },
           {
            "bin_end": 7.5,
            "bin_start": 7.4,
            "count": 0
           }
          ],
          "max": "7",
          "min": "7",
          "nan_count": 0,
          "unique_count": 1
         }
        },
        {
         "dtype": "int64",
         "name": "F_Score",
         "stats": {
          "histogram": [
           {
            "bin_end": 6.1,
            "bin_start": 6,
            "count": 2
           },
           {
            "bin_end": 6.2,
            "bin_start": 6.1,
            "count": 0
           },
           {
            "bin_end": 6.3,
            "bin_start": 6.2,
            "count": 0
           },
           {
            "bin_end": 6.4,
            "bin_start": 6.3,
            "count": 0
           },
           {
            "bin_end": 6.5,
            "bin_start": 6.4,
            "count": 0
           },
           {
            "bin_end": 6.6,
            "bin_start": 6.5,
            "count": 0
           },
           {
            "bin_end": 6.7,
            "bin_start": 6.6,
            "count": 0
           },
           {
            "bin_end": 6.8,
            "bin_start": 6.7,
            "count": 0
           },
           {
            "bin_end": 6.9,
            "bin_start": 6.8,
            "count": 0
           },
           {
            "bin_end": 7,
            "bin_start": 6.9,
            "count": 3
           }
          ],
          "max": "7",
          "min": "6",
          "nan_count": 0,
          "unique_count": 2
         }
        },
        {
         "dtype": "int64",
         "name": "M_Score",
         "stats": {
          "histogram": [
           {
            "bin_end": 5.2,
            "bin_start": 5,
            "count": 1
           },
           {
            "bin_end": 5.4,
            "bin_start": 5.2,
            "count": 0
           },
           {
            "bin_end": 5.6,
            "bin_start": 5.4,
            "count": 0
           },
           {
            "bin_end": 5.8,
            "bin_start": 5.6,
            "count": 0
           },
           {
            "bin_end": 6,
            "bin_start": 5.8,
            "count": 0
           },
           {
            "bin_end": 6.2,
            "bin_start": 6,
            "count": 1
           },
           {
            "bin_end": 6.4,
            "bin_start": 6.2,
            "count": 0
           },
           {
            "bin_end": 6.6,
            "bin_start": 6.4,
            "count": 0
           },
           {
            "bin_end": 6.8,
            "bin_start": 6.6,
            "count": 0
           },
           {
            "bin_end": 7,
            "bin_start": 6.8,
            "count": 3
           }
          ],
          "max": "7",
          "min": "5",
          "nan_count": 0,
          "unique_count": 3
         }
        },
        {
         "dtype": "object",
         "name": "RFM_Segment",
         "stats": {
          "categories": [
           {
            "count": 2,
            "name": "777"
           },
           {
            "count": 1,
            "name": "775"
           },
           {
            "count": 2,
            "name": "2 others"
           }
          ],
          "nan_count": 0,
          "unique_count": 4
         }
        },
        {
         "dtype": "int64",
         "name": "RFM_Score",
         "stats": {
          "histogram": [
           {
            "bin_end": 19.2,
            "bin_start": 19,
            "count": 2
           },
           {
            "bin_end": 19.4,
            "bin_start": 19.2,
            "count": 0
           },
           {
            "bin_end": 19.6,
            "bin_start": 19.4,
            "count": 0
           },
           {
            "bin_end": 19.8,
            "bin_start": 19.6,
            "count": 0
           },
           {
            "bin_end": 20,
            "bin_start": 19.8,
            "count": 0
           },
           {
            "bin_end": 20.2,
            "bin_start": 20,
            "count": 1
           },
           {
            "bin_end": 20.4,
            "bin_start": 20.2,
            "count": 0
           },
           {
            "bin_end": 20.6,
            "bin_start": 20.4,
            "count": 0
           },
           {
            "bin_end": 20.8,
            "bin_start": 20.6,
            "count": 0
           },
           {
            "bin_end": 21,
            "bin_start": 20.8,
            "count": 2
           }
          ],
          "max": "21",
          "min": "19",
          "nan_count": 0,
          "unique_count": 3
         }
        },
        {
         "dtype": "int64",
         "name": "RFM_Score_Category",
         "stats": {
          "histogram": [
           {
            "bin_end": 5.1,
            "bin_start": 5,
            "count": 2
           },
           {
            "bin_end": 5.2,
            "bin_start": 5.1,
            "count": 0
           },
           {
            "bin_end": 5.3,
            "bin_start": 5.2,
            "count": 0
           },
           {
            "bin_end": 5.4,
            "bin_start": 5.3,
            "count": 0
           },
           {
            "bin_end": 5.5,
            "bin_start": 5.4,
            "count": 0
           },
           {
            "bin_end": 5.6,
            "bin_start": 5.5,
            "count": 0
           },
           {
            "bin_end": 5.7,
            "bin_start": 5.6,
            "count": 0
           },
           {
            "bin_end": 5.8,
            "bin_start": 5.7,
            "count": 0
           },
           {
            "bin_end": 5.9,
            "bin_start": 5.8,
            "count": 0
           },
           {
            "bin_end": 6,
            "bin_start": 5.9,
            "count": 3
           }
          ],
          "max": "6",
          "min": "5",
          "nan_count": 0,
          "unique_count": 2
         }
        },
        {
         "dtype": "object",
         "name": "Country",
         "stats": {
          "categories": [
           {
            "count": 4,
            "name": "united kingdom"
           },
           {
            "count": 1,
            "name": "germany"
           }
          ],
          "nan_count": 0,
          "unique_count": 2
         }
        },
        {
         "dtype": "int64",
         "name": "_deepnote_index_column"
        }
       ],
       "row_count": 5,
       "rows": [
        {
         "Country": "united kingdom",
         "CustomerID": 15808,
         "F_Score": 7,
         "Frequency": 208,
         "M_Score": 7,
         "Monetary": 3734.970000000001,
         "RFM_Score": 21,
         "RFM_Score_Category": 6,
         "RFM_Segment": "777",
         "R_Score": 7,
         "Recency": 305,
         "_deepnote_index_column": 0
        },
        {
         "Country": "united kingdom",
         "CustomerID": 17850,
         "F_Score": 7,
         "Frequency": 297,
         "M_Score": 7,
         "Monetary": 5391.210000000009,
         "RFM_Score": 21,
         "RFM_Score_Category": 6,
         "RFM_Segment": "777",
         "R_Score": 7,
         "Recency": 371,
         "_deepnote_index_column": 1
        },
        {
         "Country": "united kingdom",
         "CustomerID": 14669,
         "F_Score": 7,
         "Frequency": 170,
         "M_Score": 5,
         "Monetary": 1269.9900000000002,
         "RFM_Score": 19,
         "RFM_Score_Category": 5,
         "RFM_Segment": "775",
         "R_Score": 7,
         "Recency": 241,
         "_deepnote_index_column": 2
        },
        {
         "Country": "united kingdom",
         "CustomerID": 13093,
         "F_Score": 6,
         "Frequency": 159,
         "M_Score": 7,
         "Monetary": 7832.469999999998,
         "RFM_Score": 20,
         "RFM_Score_Category": 6,
         "RFM_Segment": "767",
         "R_Score": 7,
         "Recency": 275,
         "_deepnote_index_column": 3
        },
        {
         "Country": "germany",
         "CustomerID": 12501,
         "F_Score": 6,
         "Frequency": 149,
         "M_Score": 6,
         "Monetary": 2169.3899999999994,
         "RFM_Score": 19,
         "RFM_Score_Category": 5,
         "RFM_Segment": "766",
         "R_Score": 7,
         "Recency": 336,
         "_deepnote_index_column": 4
        }
       ]
      },
      "text/html": [
       "<div>\n",
       "<style scoped>\n",
       "    .dataframe tbody tr th:only-of-type {\n",
       "        vertical-align: middle;\n",
       "    }\n",
       "\n",
       "    .dataframe tbody tr th {\n",
       "        vertical-align: top;\n",
       "    }\n",
       "\n",
       "    .dataframe thead th {\n",
       "        text-align: right;\n",
       "    }\n",
       "</style>\n",
       "<table border=\"1\" class=\"dataframe\">\n",
       "  <thead>\n",
       "    <tr style=\"text-align: right;\">\n",
       "      <th></th>\n",
       "      <th>CustomerID</th>\n",
       "      <th>Recency</th>\n",
       "      <th>Frequency</th>\n",
       "      <th>Monetary</th>\n",
       "      <th>R_Score</th>\n",
       "      <th>F_Score</th>\n",
       "      <th>M_Score</th>\n",
       "      <th>RFM_Segment</th>\n",
       "      <th>RFM_Score</th>\n",
       "      <th>RFM_Score_Category</th>\n",
       "      <th>Country</th>\n",
       "    </tr>\n",
       "  </thead>\n",
       "  <tbody>\n",
       "    <tr>\n",
       "      <th>0</th>\n",
       "      <td>15808.0</td>\n",
       "      <td>305</td>\n",
       "      <td>208</td>\n",
       "      <td>3734.97</td>\n",
       "      <td>7</td>\n",
       "      <td>7</td>\n",
       "      <td>7</td>\n",
       "      <td>777</td>\n",
       "      <td>21</td>\n",
       "      <td>6</td>\n",
       "      <td>united kingdom</td>\n",
       "    </tr>\n",
       "    <tr>\n",
       "      <th>1</th>\n",
       "      <td>17850.0</td>\n",
       "      <td>371</td>\n",
       "      <td>297</td>\n",
       "      <td>5391.21</td>\n",
       "      <td>7</td>\n",
       "      <td>7</td>\n",
       "      <td>7</td>\n",
       "      <td>777</td>\n",
       "      <td>21</td>\n",
       "      <td>6</td>\n",
       "      <td>united kingdom</td>\n",
       "    </tr>\n",
       "    <tr>\n",
       "      <th>2</th>\n",
       "      <td>14669.0</td>\n",
       "      <td>241</td>\n",
       "      <td>170</td>\n",
       "      <td>1269.99</td>\n",
       "      <td>7</td>\n",
       "      <td>7</td>\n",
       "      <td>5</td>\n",
       "      <td>775</td>\n",
       "      <td>19</td>\n",
       "      <td>5</td>\n",
       "      <td>united kingdom</td>\n",
       "    </tr>\n",
       "    <tr>\n",
       "      <th>3</th>\n",
       "      <td>13093.0</td>\n",
       "      <td>275</td>\n",
       "      <td>159</td>\n",
       "      <td>7832.47</td>\n",
       "      <td>7</td>\n",
       "      <td>6</td>\n",
       "      <td>7</td>\n",
       "      <td>767</td>\n",
       "      <td>20</td>\n",
       "      <td>6</td>\n",
       "      <td>united kingdom</td>\n",
       "    </tr>\n",
       "    <tr>\n",
       "      <th>4</th>\n",
       "      <td>12501.0</td>\n",
       "      <td>336</td>\n",
       "      <td>149</td>\n",
       "      <td>2169.39</td>\n",
       "      <td>7</td>\n",
       "      <td>6</td>\n",
       "      <td>6</td>\n",
       "      <td>766</td>\n",
       "      <td>19</td>\n",
       "      <td>5</td>\n",
       "      <td>germany</td>\n",
       "    </tr>\n",
       "  </tbody>\n",
       "</table>\n",
       "</div>"
      ],
      "text/plain": [
       "   CustomerID  Recency  Frequency  Monetary  R_Score  F_Score  M_Score  \\\n",
       "0     15808.0      305        208   3734.97        7        7        7   \n",
       "1     17850.0      371        297   5391.21        7        7        7   \n",
       "2     14669.0      241        170   1269.99        7        7        5   \n",
       "3     13093.0      275        159   7832.47        7        6        7   \n",
       "4     12501.0      336        149   2169.39        7        6        6   \n",
       "\n",
       "  RFM_Segment  RFM_Score  RFM_Score_Category         Country  \n",
       "0         777         21                   6  united kingdom  \n",
       "1         777         21                   6  united kingdom  \n",
       "2         775         19                   5  united kingdom  \n",
       "3         767         20                   6  united kingdom  \n",
       "4         766         19                   5         germany  "
      ]
     },
     "execution_count": 76,
     "metadata": {},
     "output_type": "execute_result"
    }
   ],
   "source": [
    "rfm_plus_country.head()"
   ]
  },
  {
   "cell_type": "code",
   "execution_count": 77,
   "metadata": {
    "cell_id": "6c8672ac301b4e2fb5522702a0a3722b",
    "deepnote_cell_type": "code",
    "deepnote_to_be_reexecuted": false,
    "execution_millis": 7,
    "execution_start": 1687589742214,
    "source_hash": "61e8ad06"
   },
   "outputs": [],
   "source": [
    "# function to count the countries in each of the RFM_Score_Category\n",
    "def count_countries_by_segment(data, segment):\n",
    "    segment_data = data[data['RFM_Score_Category'] == segment]\n",
    "    segment_count = segment_data['Country'].nunique()\n",
    "    country_counts = segment_data['Country'].value_counts()\n",
    "    \n",
    "    print(f\"Total Countries in Segment {segment} is: {segment_count}\\n\")\n",
    "    print(\"Country Counts:\\n\")\n",
    "    print(country_counts)"
   ]
  },
  {
   "cell_type": "code",
   "execution_count": 83,
   "metadata": {
    "cell_id": "1651856260424ff6826b6eac031483b9",
    "deepnote_cell_type": "code",
    "deepnote_to_be_reexecuted": false,
    "execution_millis": 10,
    "execution_start": 1687589921617,
    "source_hash": "cf29f000"
   },
   "outputs": [
    {
     "name": "stdout",
     "output_type": "stream",
     "text": [
      "Total Countries in Segment 0 is: 4\n",
      "\n",
      "Country Counts:\n",
      "\n",
      "united kingdom    45\n",
      "denmark            1\n",
      "finland            1\n",
      "spain              1\n",
      "Name: Country, dtype: int64\n",
      "\n",
      "\n",
      "Total Countries in Segment 1 is: 12\n",
      "\n",
      "Country Counts:\n",
      "\n",
      "united kingdom    322\n",
      "germany             4\n",
      "france              4\n",
      "finland             2\n",
      "netherlands         2\n",
      "italy               2\n",
      "spain               1\n",
      "usa                 1\n",
      "poland              1\n",
      "portugal            1\n",
      "japan               1\n",
      "sweden              1\n",
      "Name: Country, dtype: int64\n",
      "\n",
      "\n"
     ]
    }
   ],
   "source": [
    "# check few segments and the countries count\n",
    "count_countries_by_segment(rfm_plus_country, 0)\n",
    "print('\\n')\n",
    "count_countries_by_segment(rfm_plus_country, 1)\n",
    "print('\\n')"
   ]
  },
  {
   "cell_type": "code",
   "execution_count": 84,
   "metadata": {
    "cell_id": "2c65d469315f43839b678f23cb9f1c4d",
    "deepnote_cell_type": "code",
    "deepnote_to_be_reexecuted": false,
    "execution_millis": 8,
    "execution_start": 1687589942224,
    "source_hash": "eb8920cb"
   },
   "outputs": [
    {
     "name": "stdout",
     "output_type": "stream",
     "text": [
      "Total Countries in Segment 5 is: 17\n",
      "\n",
      "Country Counts:\n",
      "\n",
      "united kingdom     258\n",
      "germany             13\n",
      "france               6\n",
      "switzerland          5\n",
      "spain                4\n",
      "channel islands      3\n",
      "cyprus               3\n",
      "australia            2\n",
      "japan                2\n",
      "belgium              2\n",
      "finland              2\n",
      "poland               1\n",
      "singapore            1\n",
      "israel               1\n",
      "italy                1\n",
      "norway               1\n",
      "portugal             1\n",
      "Name: Country, dtype: int64\n",
      "\n",
      "\n",
      "Total Countries in Segment 6 is: 3\n",
      "\n",
      "Country Counts:\n",
      "\n",
      "united kingdom    5\n",
      "eire              1\n",
      "switzerland       1\n",
      "Name: Country, dtype: int64\n"
     ]
    }
   ],
   "source": [
    "count_countries_by_segment(rfm_plus_country, 5)\n",
    "print('\\n')\n",
    "count_countries_by_segment(rfm_plus_country, 6)"
   ]
  },
  {
   "cell_type": "code",
   "execution_count": 85,
   "metadata": {
    "cell_id": "17c46fe281a34eb184619014f0dd1e31",
    "deepnote_cell_type": "code",
    "deepnote_to_be_reexecuted": false,
    "execution_millis": 5,
    "execution_start": 1687589962374,
    "source_hash": "ceb91ed0"
   },
   "outputs": [],
   "source": [
    "def count_countries_by_segment(rfm_plus_country, max_segment):\n",
    "    counts = {}\n",
    "    for segment in range(max_segment + 1):\n",
    "        segment_data = rfm_plus_country[rfm_plus_country['RFM_Score_Category'] == segment]\n",
    "        counts[segment] = segment_data['Country'].nunique()\n",
    "    \n",
    "    # Plotting\n",
    "    segments = list(counts.keys())\n",
    "    country_counts = list(counts.values())\n",
    "    \n",
    "    plt.bar(segments, country_counts)\n",
    "    plt.xlabel('Segment')\n",
    "    plt.ylabel('Country Count')\n",
    "    plt.title('Country Count by Segment')\n",
    "    plt.show()\n",
    "    \n",
    "    return counts"
   ]
  },
  {
   "cell_type": "code",
   "execution_count": 89,
   "metadata": {
    "cell_id": "d1f46e8a971a4a75b9e64160268c205a",
    "deepnote_cell_type": "code",
    "deepnote_to_be_reexecuted": false,
    "execution_millis": 395,
    "execution_start": 1687590031856,
    "source_hash": "a6c78749"
   },
   "outputs": [
    {
     "data": {
      "image/png": "[encoded data removed]",
      "text/plain": [
       "<Figure size 640x480 with 1 Axes>"
      ]
     },
     "metadata": {
      "image/png": {
       "height": 463,
       "width": 572
      }
     },
     "output_type": "display_data"
    },
    {
     "name": "stdout",
     "output_type": "stream",
     "text": [
      "{0: 4, 1: 12, 2: 20, 3: 21, 4: 25, 5: 17, 6: 3}\n"
     ]
    }
   ],
   "source": [
    "# Country counts in each segment\n",
    "counts = count_countries_by_segment(rfm_plus_country, 6)\n",
    "print(counts)"
   ]
  },
  {
   "cell_type": "markdown",
   "metadata": {},
   "source": []
  },
  {
   "cell_type": "markdown",
   "metadata": {},
   "source": []
  },
  {
   "cell_type": "markdown",
   "metadata": {},
   "source": [
    "<h3>Customer RFM Analysis: Observations and Recommendations Based on The Analysis</h3>\n",
    "<br>\n",
    "<br>\n",
    "\n",
    "<table>\n",
    "  <tr>\n",
    "    <th>RFM_Segment</th>\n",
    "    <th>Segment Rating</th>\n",
    "    <th>Segment Name</th>\n",
    "    <th>Advice</th>\n",
    "  </tr>\n",
    "  <tr>\n",
    "    <td>0</td>\n",
    "    <td>Low Recency, Low Frequency, Low Monetary</td>\n",
    "    <td>Least Engaged</td>\n",
    "    <td>Focus on re-engagement strategies and personalized promotions to increase loyalty and spending.</td>\n",
    "  </tr>\n",
    "  <tr>\n",
    "    <td>1</td>\n",
    "    <td>Medium Recency, Low Frequency, Low-Moderate Monetary</td>\n",
    "    <td>Potential Churn</td>\n",
    "    <td>Implement targeted win-back campaigns and special offers to encourage more frequent purchases.</td>\n",
    "  </tr>\n",
    "  <tr>\n",
    "    <td>2</td>\n",
    "    <td>Medium Recency, Medium-High Frequency, Moderate Monetary</td>\n",
    "    <td>Opportunity Target</td>\n",
    "    <td>Focus on upselling and cross-selling to increase the average transaction value.</td>\n",
    "  </tr>\n",
    "  <tr>\n",
    "    <td>3</td>\n",
    "    <td>Medium Recency, High Frequency, High Monetary</td>\n",
    "    <td>Loyal Customers</td>\n",
    "    <td>Prioritize excellent customer service, exclusive rewards, and personalized offerings to retain loyalty.</td>\n",
    "  </tr>\n",
    "  <tr>\n",
    "    <td>4</td>\n",
    "    <td>Medium Recency, Very High Frequency, Very High Monetary</td>\n",
    "    <td>High Potential</td>\n",
    "    <td>Provide VIP treatment, exclusive benefits, and premium offers to maintain loyalty.</td>\n",
    "  </tr>\n",
    "  <tr>\n",
    "    <td>5</td>\n",
    "    <td>Medium Recency, Very High Frequency, Very High Monetary</td>\n",
    "    <td>Best Performers</td>\n",
    "    <td>Continue excellent service, acknowledge loyalty, and offer special rewards for a better customer experience.</td>\n",
    "  </tr>\n",
    "  <tr>\n",
    "    <td>6</td>\n",
    "    <td>High Recency, Very High Frequency, Very High Monetary</td>\n",
    "    <td>Most Promising</td>\n",
    "    <td>Personalize offerings, anticipate needs, and ensure a seamless customer experience to maintain loyalty.</td>\n",
    "  </tr>\n",
    "</table>\n"
   ]
  },
  {
   "cell_type": "markdown",
   "metadata": {},
   "source": []
  }
 ],
 "metadata": {
  "deepnote": {},
  "deepnote_execution_queue": [],
  "deepnote_notebook_id": "4ce8bfb97b144bfeb0f902dbe89b5664",
  "kernelspec": {
   "display_name": "Python 3",
   "language": "python",
   "name": "python3"
  },
  "language_info": {
   "codemirror_mode": {
    "name": "ipython",
    "version": 3
   },
   "file_extension": ".py",
   "mimetype": "text/x-python",
   "name": "python",
   "nbconvert_exporter": "python",
   "pygments_lexer": "ipython3",
   "version": "3.8.5"
  }
 },
 "nbformat": 4,
 "nbformat_minor": 1
}
